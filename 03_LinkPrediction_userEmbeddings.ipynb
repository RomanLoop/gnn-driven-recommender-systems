{
 "cells": [
  {
   "attachments": {},
   "cell_type": "markdown",
   "metadata": {},
   "source": [
    "In this notebook I train a simple NN with torch.Embedding layers to find appropriate user embeddings which then could be used later in the GNN as feature vectors for users. "
   ]
  },
  {
   "cell_type": "code",
   "execution_count": 1,
   "metadata": {},
   "outputs": [],
   "source": [
    "from collections import defaultdict\n",
    "from datetime import datetime\n",
    "import matplotlib.pyplot as plt\n",
    "import numpy as np\n",
    "import pandas as pd\n",
    "import seaborn as sns\n",
    "\n",
    "from neo4j import GraphDatabase\n",
    "from neo4_connection import USER, PWD, URL \n",
    "\n",
    "from sklearn import model_selection, metrics, preprocessing\n",
    "from sklearn.metrics import mean_squared_error\n",
    "from umap import UMAP\n",
    "\n",
    "import torch\n",
    "import torch.nn as nn\n",
    "import torch.nn.functional as F\n",
    "from torch.utils.data import Dataset, DataLoader\n",
    "\n",
    "sns.set_theme(style=\"white\")"
   ]
  },
  {
   "cell_type": "code",
   "execution_count": 2,
   "metadata": {},
   "outputs": [
    {
     "data": {
      "text/plain": [
       "device(type='cpu')"
      ]
     },
     "execution_count": 2,
     "metadata": {},
     "output_type": "execute_result"
    }
   ],
   "source": [
    "device = torch.device('cuda' if torch.cuda.is_available() else 'cpu')\n",
    "device"
   ]
  },
  {
   "attachments": {},
   "cell_type": "markdown",
   "metadata": {},
   "source": [
    "### Read data from CSV"
   ]
  },
  {
   "cell_type": "code",
   "execution_count": 3,
   "metadata": {},
   "outputs": [
    {
     "name": "stdout",
     "output_type": "stream",
     "text": [
      "<class 'pandas.core.frame.DataFrame'>\n",
      "RangeIndex: 100004 entries, 0 to 100003\n",
      "Data columns (total 3 columns):\n",
      " #   Column   Non-Null Count   Dtype  \n",
      "---  ------   --------------   -----  \n",
      " 0   userId   100004 non-null  int64  \n",
      " 1   movieId  100004 non-null  int64  \n",
      " 2   rating   100004 non-null  float64\n",
      "dtypes: float64(1), int64(2)\n",
      "memory usage: 2.3 MB\n"
     ]
    }
   ],
   "source": [
    "df = pd.read_csv('data/movieLens100k_ratings.csv')\n",
    "df.info()"
   ]
  },
  {
   "cell_type": "code",
   "execution_count": 4,
   "metadata": {},
   "outputs": [
    {
     "data": {
      "text/html": [
       "<div>\n",
       "<style scoped>\n",
       "    .dataframe tbody tr th:only-of-type {\n",
       "        vertical-align: middle;\n",
       "    }\n",
       "\n",
       "    .dataframe tbody tr th {\n",
       "        vertical-align: top;\n",
       "    }\n",
       "\n",
       "    .dataframe thead th {\n",
       "        text-align: right;\n",
       "    }\n",
       "</style>\n",
       "<table border=\"1\" class=\"dataframe\">\n",
       "  <thead>\n",
       "    <tr style=\"text-align: right;\">\n",
       "      <th></th>\n",
       "      <th>userId</th>\n",
       "      <th>movieId</th>\n",
       "      <th>rating</th>\n",
       "    </tr>\n",
       "  </thead>\n",
       "  <tbody>\n",
       "    <tr>\n",
       "      <th>0</th>\n",
       "      <td>0</td>\n",
       "      <td>1815</td>\n",
       "      <td>2.0</td>\n",
       "    </tr>\n",
       "    <tr>\n",
       "      <th>1</th>\n",
       "      <td>0</td>\n",
       "      <td>1962</td>\n",
       "      <td>2.5</td>\n",
       "    </tr>\n",
       "    <tr>\n",
       "      <th>2</th>\n",
       "      <td>0</td>\n",
       "      <td>2380</td>\n",
       "      <td>1.0</td>\n",
       "    </tr>\n",
       "    <tr>\n",
       "      <th>3</th>\n",
       "      <td>0</td>\n",
       "      <td>2925</td>\n",
       "      <td>3.0</td>\n",
       "    </tr>\n",
       "    <tr>\n",
       "      <th>4</th>\n",
       "      <td>0</td>\n",
       "      <td>1515</td>\n",
       "      <td>4.0</td>\n",
       "    </tr>\n",
       "  </tbody>\n",
       "</table>\n",
       "</div>"
      ],
      "text/plain": [
       "   userId  movieId  rating\n",
       "0       0     1815     2.0\n",
       "1       0     1962     2.5\n",
       "2       0     2380     1.0\n",
       "3       0     2925     3.0\n",
       "4       0     1515     4.0"
      ]
     },
     "execution_count": 4,
     "metadata": {},
     "output_type": "execute_result"
    }
   ],
   "source": [
    "df.head()"
   ]
  },
  {
   "cell_type": "code",
   "execution_count": 5,
   "metadata": {},
   "outputs": [],
   "source": [
    "assert len(df) == 100_004, 'Query result is wrong!'"
   ]
  },
  {
   "cell_type": "code",
   "execution_count": 6,
   "metadata": {},
   "outputs": [
    {
     "name": "stdout",
     "output_type": "stream",
     "text": [
      "# Users: 671\n",
      "# Movies: 9066\n"
     ]
    }
   ],
   "source": [
    "n_users = df['userId'].nunique()\n",
    "n_movies = df['movieId'].nunique()\n",
    "\n",
    "print(f'# Users: {n_users}\\n# Movies: {n_movies}')"
   ]
  },
  {
   "cell_type": "code",
   "execution_count": 7,
   "metadata": {},
   "outputs": [
    {
     "data": {
      "text/plain": [
       "4.0    28750\n",
       "3.0    20064\n",
       "5.0    15095\n",
       "3.5    10538\n",
       "4.5     7723\n",
       "2.0     7271\n",
       "2.5     4449\n",
       "1.0     3326\n",
       "1.5     1687\n",
       "0.5     1101\n",
       "Name: rating, dtype: int64"
      ]
     },
     "execution_count": 7,
     "metadata": {},
     "output_type": "execute_result"
    }
   ],
   "source": [
    "df['rating'].value_counts()"
   ]
  },
  {
   "cell_type": "code",
   "execution_count": 8,
   "metadata": {},
   "outputs": [
    {
     "data": {
      "image/png": "[encoded data removed]",
      "text/plain": [
       "<Figure size 640x480 with 1 Axes>"
      ]
     },
     "metadata": {},
     "output_type": "display_data"
    }
   ],
   "source": [
    "df['rating'].hist(bins=10)\n",
    "plt.vlines([df['rating'].mean()], ymin=0, ymax=3e4, colors='r', label=f'Mean = {round(df[\"rating\"].mean(), 3)}')\n",
    "plt.title('Rating histogram')\n",
    "plt.legend()\n",
    "plt.show()"
   ]
  },
  {
   "cell_type": "markdown",
   "metadata": {},
   "source": [
    "### Create PyTorch Dataset"
   ]
  },
  {
   "cell_type": "code",
   "execution_count": 9,
   "metadata": {},
   "outputs": [],
   "source": [
    "class MovieDataset:\n",
    "    def __init__(self, users:np.array, movies:np.array, ratings:np.array) -> None:\n",
    "        self.users = users\n",
    "        self.movies = movies\n",
    "        self.ratings = ratings\n",
    "\n",
    "    def __len__(self) -> int:\n",
    "        return len(self.users)\n",
    "\n",
    "    def __getitem__(self, item:int) -> dict:\n",
    "\n",
    "        users = self.users[item]\n",
    "        movies = self.movies[item]\n",
    "        ratings = self.ratings[item]\n",
    "\n",
    "        return {\n",
    "            \"users\": torch.tensor(users), #dtype=torch.long\n",
    "            \"movies\": torch.tensor(movies), #dtype=torch.long\n",
    "            \"ratings\": torch.tensor(ratings) #dtype=torch.long\n",
    "        }"
   ]
  },
  {
   "cell_type": "code",
   "execution_count": 10,
   "metadata": {},
   "outputs": [],
   "source": [
    "# Reset user ID's and movie ID's to starting index 0.\n",
    "# This avoids index errors\n",
    "lbl_user = preprocessing.LabelEncoder()\n",
    "lbl_movie = preprocessing.LabelEncoder()\n",
    "df['userId'] = lbl_user.fit_transform(df['userId'].values)\n",
    "df['movieId'] = lbl_movie.fit_transform(df['movieId'].values)"
   ]
  },
  {
   "attachments": {},
   "cell_type": "markdown",
   "metadata": {},
   "source": [
    "### Train / Test Split"
   ]
  },
  {
   "cell_type": "code",
   "execution_count": 11,
   "metadata": {},
   "outputs": [],
   "source": [
    "df_train, df_val = model_selection.train_test_split(\n",
    "    df, test_size=0.2, random_state=33, stratify=df['rating'].values)\n",
    "\n",
    "df_test, df_val = model_selection.train_test_split(\n",
    "    df_val, test_size=0.5, random_state=33, stratify=df_val['rating'].values)"
   ]
  },
  {
   "cell_type": "code",
   "execution_count": 12,
   "metadata": {},
   "outputs": [
    {
     "name": "stdout",
     "output_type": "stream",
     "text": [
      "Train: 80003\n",
      "Val: 10001\n",
      "Test: 10001\n"
     ]
    }
   ],
   "source": [
    "train_dataset = MovieDataset(\n",
    "    users=df_train['userId'].values,\n",
    "    movies=df_train['movieId'].values,\n",
    "    ratings=df_train['rating'].values)\n",
    "\n",
    "val_dataset = MovieDataset(\n",
    "    users=df_val['userId'].values,\n",
    "    movies=df_val['movieId'].values,\n",
    "    ratings=df_val['rating'].values)\n",
    "\n",
    "test_dataset = MovieDataset(\n",
    "    users=df_val['userId'].values,\n",
    "    movies=df_val['movieId'].values,\n",
    "    ratings=df_val['rating'].values)\n",
    "\n",
    "print(f'Train: {len(train_dataset)}\\nVal: {len(val_dataset)}\\nTest: {len(test_dataset)}')"
   ]
  },
  {
   "cell_type": "code",
   "execution_count": 13,
   "metadata": {},
   "outputs": [
    {
     "data": {
      "text/plain": [
       "{'users': tensor(29),\n",
       " 'movies': tensor(1507),\n",
       " 'ratings': tensor(4., dtype=torch.float64)}"
      ]
     },
     "execution_count": 13,
     "metadata": {},
     "output_type": "execute_result"
    }
   ],
   "source": [
    "train_dataset.__getitem__(0)"
   ]
  },
  {
   "cell_type": "code",
   "execution_count": 14,
   "metadata": {},
   "outputs": [],
   "source": [
    "BATCH_SIZE = 512\n",
    "train_loader = DataLoader(\n",
    "    dataset=train_dataset,\n",
    "    batch_size=BATCH_SIZE,\n",
    "    shuffle=True,\n",
    "    drop_last=True)\n",
    "\n",
    "val_loader = DataLoader(\n",
    "    dataset=val_dataset,\n",
    "    batch_size=BATCH_SIZE,\n",
    "    shuffle=True,\n",
    "    drop_last=True)\n",
    "\n",
    "test_loader = DataLoader(\n",
    "    dataset=test_dataset,\n",
    "    batch_size=BATCH_SIZE,\n",
    "    shuffle=True,\n",
    "    drop_last=True)"
   ]
  },
  {
   "cell_type": "markdown",
   "metadata": {},
   "source": [
    "### Define Model"
   ]
  },
  {
   "cell_type": "code",
   "execution_count": 15,
   "metadata": {},
   "outputs": [],
   "source": [
    "class RecSysModel(nn.Module):\n",
    "    def __init__(self, n_users:int, n_movies:int, embedding_dim:int) -> None:\n",
    "        super().__init__()\n",
    "        self.user_embed = nn.Embedding(num_embeddings=n_users, embedding_dim=embedding_dim)\n",
    "        self.movie_embed = nn.Embedding(num_embeddings=n_movies, embedding_dim=embedding_dim)\n",
    "        self.out = nn.Linear(in_features=embedding_dim*2, out_features=1)\n",
    "\n",
    "    def forward(self, users, movies, ratings=None):\n",
    "        user_embeds = self.user_embed(users)\n",
    "        movie_embeds = self.movie_embed(movies)\n",
    "        embeds_concat = torch.cat([user_embeds, movie_embeds], dim=1)\n",
    "        output = self.out(embeds_concat)\n",
    "\n",
    "        return output, user_embeds"
   ]
  },
  {
   "cell_type": "code",
   "execution_count": 16,
   "metadata": {},
   "outputs": [],
   "source": [
    "EMBEDDING_DIM = 8\n",
    "\n",
    "model = RecSysModel(\n",
    "    n_users=n_users,\n",
    "    n_movies=n_movies,\n",
    "    embedding_dim=EMBEDDING_DIM\n",
    ").to(device)"
   ]
  },
  {
   "cell_type": "markdown",
   "metadata": {},
   "source": [
    "### Train Model"
   ]
  },
  {
   "cell_type": "code",
   "execution_count": 17,
   "metadata": {},
   "outputs": [
    {
     "name": "stdout",
     "output_type": "stream",
     "text": [
      "epoch: 1\ttrain loss: 3.5175\tval loss: 3.29877\n",
      "epoch: 2\ttrain loss: 3.01375\tval loss: 2.67053\n",
      "epoch: 3\ttrain loss: 2.33271\tval loss: 2.02987\n",
      "epoch: 4\ttrain loss: 1.7951\tval loss: 1.60563\n",
      "epoch: 5\ttrain loss: 1.44973\tval loss: 1.3351\n",
      "epoch: 6\ttrain loss: 1.23279\tval loss: 1.17124\n",
      "epoch: 7\ttrain loss: 1.1058\tval loss: 1.08092\n",
      "epoch: 8\ttrain loss: 1.03455\tval loss: 1.02496\n",
      "epoch: 9\ttrain loss: 0.99335\tval loss: 0.9953\n",
      "epoch: 10\ttrain loss: 0.96816\tval loss: 0.97534\n",
      "epoch: 11\ttrain loss: 0.95139\tval loss: 0.9606\n",
      "epoch: 12\ttrain loss: 0.93901\tval loss: 0.95033\n",
      "epoch: 13\ttrain loss: 0.92915\tval loss: 0.94432\n",
      "epoch: 14\ttrain loss: 0.92065\tval loss: 0.93491\n",
      "epoch: 15\ttrain loss: 0.91309\tval loss: 0.93165\n",
      "epoch: 16\ttrain loss: 0.90585\tval loss: 0.92663\n",
      "epoch: 17\ttrain loss: 0.89914\tval loss: 0.92358\n",
      "epoch: 18\ttrain loss: 0.89295\tval loss: 0.92378\n",
      "epoch: 19\ttrain loss: 0.88698\tval loss: 0.91994\n",
      "epoch: 20\ttrain loss: 0.8809\tval loss: 0.9162\n",
      "epoch: 21\ttrain loss: 0.87581\tval loss: 0.911\n",
      "epoch: 22\ttrain loss: 0.87089\tval loss: 0.91278\n",
      "epoch: 23\ttrain loss: 0.86631\tval loss: 0.91093\n",
      "epoch: 24\ttrain loss: 0.86171\tval loss: 0.90958\n",
      "epoch: 25\ttrain loss: 0.85799\tval loss: 0.90873\n",
      "epoch: 26\ttrain loss: 0.85439\tval loss: 0.90526\n",
      "epoch: 27\ttrain loss: 0.85126\tval loss: 0.90773\n",
      "epoch: 28\ttrain loss: 0.84792\tval loss: 0.90607\n",
      "epoch: 29\ttrain loss: 0.84522\tval loss: 0.90703\n",
      "epoch: 30\ttrain loss: 0.84251\tval loss: 0.90634\n"
     ]
    }
   ],
   "source": [
    "EPOCHS = 30\n",
    "\n",
    "optimizer = torch.optim.Adam(model.parameters())\n",
    "# loss_func = nn.MSELoss()\n",
    "\n",
    "print_prec = 5\n",
    "n_batches = len(train_loader)\n",
    "n_batches_val = len(val_loader)\n",
    "size = len(train_loader.dataset)\n",
    "size_val = len(val_loader.dataset)\n",
    "loss_hist, mse_hist, loss_hist_val, mse_hist_val = [], [], [], []\n",
    "user_embeddings, movie_embeddings = [model.user_embed], [model.movie_embed]\n",
    "for epoch in range(EPOCHS):\n",
    "    cost = 0.0\n",
    "    for i, train_data in enumerate(train_loader):\n",
    "        # Train\n",
    "        model.train(True)\n",
    "        output, _ = model(train_data['users'], train_data['movies'])\n",
    "        rating = train_data['ratings'].view(BATCH_SIZE, -1).to(torch.float32)\n",
    "\n",
    "        loss = F.mse_loss(output, rating).sqrt()\n",
    "        cost += loss.sum().item()\n",
    "\n",
    "        optimizer.zero_grad()\n",
    "        loss.backward()\n",
    "        optimizer.step()\n",
    "\n",
    "    batch_loss = cost / n_batches\n",
    "    avg_mse = cost / size\n",
    "\n",
    "    with torch.no_grad():  # no gradients for test data\n",
    "        val_cost = 0.0\n",
    "        for i, val_data in enumerate(val_loader):\n",
    "            output, _ = model(val_data['users'], val_data['movies'])\n",
    "            rating = val_data['ratings'].view(BATCH_SIZE, -1).to(torch.float32)\n",
    "\n",
    "            # val_loss = loss_func(output, rating)\n",
    "            val_loss = F.mse_loss(output, rating).sqrt()\n",
    "            val_cost += val_loss.sum().item()\n",
    "\n",
    "            batch_loss_val = val_cost / n_batches_val\n",
    "            avg_mse_val = val_cost / size_val\n",
    "\n",
    "    loss_hist.append(batch_loss), loss_hist_val.append(batch_loss_val)\n",
    "\n",
    "    print(f'epoch: {epoch+1}\\ttrain loss: {round(batch_loss, print_prec)}\\tval loss: {round(batch_loss_val, print_prec)}')\n"
   ]
  },
  {
   "cell_type": "code",
   "execution_count": 18,
   "metadata": {},
   "outputs": [
    {
     "data": {
      "image/png": "[encoded data removed]",
      "text/plain": [
       "<Figure size 1400x500 with 2 Axes>"
      ]
     },
     "metadata": {},
     "output_type": "display_data"
    }
   ],
   "source": [
    "SKIP_WARM_UP_STEPS = 5\n",
    "\n",
    "_, (ax0, ax1) = plt.subplots(nrows=1, ncols=2, figsize=(14,5))\n",
    "ax0.plot(loss_hist, label='Train')\n",
    "ax0.plot(loss_hist_val, label='Validation')\n",
    "ax0.set_title('Learning curve')\n",
    "ax0.set_xlabel('Epochs')\n",
    "ax0.set_ylabel('Loss')\n",
    "ax0.legend()\n",
    "\n",
    "ax1.plot(range(SKIP_WARM_UP_STEPS, len(loss_hist)), loss_hist[SKIP_WARM_UP_STEPS:], label='Train')\n",
    "ax1.plot(range(SKIP_WARM_UP_STEPS, len(loss_hist_val)), loss_hist_val[SKIP_WARM_UP_STEPS:], label='Validation')\n",
    "ax1.set_title(f'Learning curve (after {SKIP_WARM_UP_STEPS} warm up steps)')\n",
    "ax1.set_xlabel('Epochs')\n",
    "ax1.set_ylabel('Loss')\n",
    "ax1.legend()\n",
    "plt.show()"
   ]
  },
  {
   "attachments": {},
   "cell_type": "markdown",
   "metadata": {},
   "source": [
    "### Store user embeddings"
   ]
  },
  {
   "cell_type": "code",
   "execution_count": 19,
   "metadata": {},
   "outputs": [],
   "source": [
    "do_save = False\n",
    "\n",
    "if do_save:\n",
    "\n",
    "    # torch.Tensor to np.array\n",
    "    user_embeddings = model.user_embed.weight.detach().numpy()\n",
    "    user_embeddings.shape\n",
    "\n",
    "    # saving\n",
    "    safe_date = datetime.now().strftime('%Y%m%d')\n",
    "    np.save(f'./data/np_user_embeddings_{safe_date}.npy', user_embeddings)\n",
    "\n",
    "    print('Embeddings saved!')"
   ]
  },
  {
   "cell_type": "markdown",
   "metadata": {},
   "source": [
    "## Evaluation"
   ]
  },
  {
   "cell_type": "code",
   "execution_count": 20,
   "metadata": {},
   "outputs": [],
   "source": [
    "user_est_true = defaultdict(list)\n",
    "\n",
    "with torch.no_grad():\n",
    "    for i, test_data in enumerate(test_loader):\n",
    "        users = test_data['users']\n",
    "        movies = test_data['movies']\n",
    "        ratings = test_data['ratings']\n",
    "\n",
    "        model_output, _ = model(test_data['users'],\n",
    "                             test_data['movies'])\n",
    "\n",
    "        for i in range(len(users)):\n",
    "            user_id = users[i].item()\n",
    "            movie_id = movies[i].item()\n",
    "            pred_rating = model_output[i][0].item()\n",
    "            true_rating = ratings[i].item()\n",
    "\n",
    "            user_est_true[user_id].append((pred_rating, true_rating))"
   ]
  },
  {
   "cell_type": "code",
   "execution_count": 21,
   "metadata": {},
   "outputs": [],
   "source": [
    "with torch.no_grad():\n",
    "    precisions = dict()\n",
    "    recalls = dict()\n",
    "\n",
    "    k = 20\n",
    "    threshold = 4.0\n",
    "\n",
    "    for uid, user_ratings in user_est_true.items():\n",
    "        user_ratings.sort(key=lambda x: x[0], reverse=True) \n",
    "\n",
    "        n_rel = sum([(true_rating >= threshold) for (_, true_rating) in user_ratings])\n",
    "        n_rec_k = sum([(true_rating >= threshold) for (_, true_rating) in user_ratings[:k]])\n",
    "\n",
    "        n_rel_and_rec_k = sum([((true_r >= threshold) and (est >= threshold)) for (est, true_r) in user_ratings[:k]])\n",
    "        \n",
    "        precisions[uid] = n_rel_and_rec_k / n_rec_k if n_rec_k != 0 else 0\n",
    "        recalls[uid] = n_rel_and_rec_k / n_rel if n_rel != 0 else 0"
   ]
  },
  {
   "cell_type": "code",
   "execution_count": 22,
   "metadata": {},
   "outputs": [
    {
     "name": "stdout",
     "output_type": "stream",
     "text": [
      "precisions @ 20: 0.3851\n",
      "recall @ 20: 0.355\n"
     ]
    }
   ],
   "source": [
    "prec_at_k = sum(prec for prec in precisions.values()) / len(precisions)\n",
    "recall_at_k = sum(rec for rec in recalls.values()) / len(recalls)\n",
    "\n",
    "print(f'precisions @ {k}: {round(prec_at_k, 4)}')\n",
    "print(f'recall @ {k}: {round(recall_at_k, 4)}')"
   ]
  }
 ],
 "metadata": {
  "kernelspec": {
   "display_name": "Python 3.9.0 ('.new_venv': venv)",
   "language": "python",
   "name": "python3"
  },
  "language_info": {
   "codemirror_mode": {
    "name": "ipython",
    "version": 3
   },
   "file_extension": ".py",
   "mimetype": "text/x-python",
   "name": "python",
   "nbconvert_exporter": "python",
   "pygments_lexer": "ipython3",
   "version": "3.9.0"
  },
  "orig_nbformat": 4,
  "vscode": {
   "interpreter": {
    "hash": "b4b86cfc1452e77d9ce278d6e2f06ea7b3cf78c66895cad39e55a1df0fa1f1cb"
   }
  }
 },
 "nbformat": 4,
 "nbformat_minor": 2
}
