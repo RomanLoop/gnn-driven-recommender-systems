{
 "cells": [
  {
   "cell_type": "code",
   "execution_count": 1,
   "metadata": {},
   "outputs": [],
   "source": [
    "from collections import defaultdict\n",
    "from datetime import datetime\n",
    "import numpy as np\n",
    "import pandas as pd\n",
    "from tqdm import tqdm\n",
    "\n",
    "from matplotlib import pyplot as plt\n",
    "import seaborn as sns\n",
    "\n",
    "from neo4j import GraphDatabase\n",
    "from neo4_connection import USER, PWD, URL\n",
    "\n",
    "from sklearn.preprocessing import LabelEncoder, StandardScaler, RobustScaler\n",
    "from umap import UMAP\n",
    "\n",
    "import torch\n",
    "from torch.nn import Linear, MSELoss, Embedding\n",
    "import torch.nn.functional as F\n",
    "\n",
    "from torch_geometric.data import HeteroData\n",
    "from torch_geometric.nn import SAGEConv, to_hetero\n",
    "from torch_geometric.transforms import RandomLinkSplit, ToUndirected, AddSelfLoops, NormalizeFeatures"
   ]
  },
  {
   "cell_type": "code",
   "execution_count": 2,
   "metadata": {},
   "outputs": [
    {
     "data": {
      "text/plain": [
       "'1.13.0+cpu'"
      ]
     },
     "execution_count": 2,
     "metadata": {},
     "output_type": "execute_result"
    }
   ],
   "source": [
    "torch.__version__"
   ]
  },
  {
   "cell_type": "code",
   "execution_count": 3,
   "metadata": {},
   "outputs": [
    {
     "data": {
      "text/plain": [
       "device(type='cpu')"
      ]
     },
     "execution_count": 3,
     "metadata": {},
     "output_type": "execute_result"
    }
   ],
   "source": [
    "device = torch.device('cuda' if torch.cuda.is_available() else 'cpu')\n",
    "device"
   ]
  },
  {
   "cell_type": "markdown",
   "metadata": {},
   "source": [
    "### Get (preprocessed) data"
   ]
  },
  {
   "cell_type": "code",
   "execution_count": 4,
   "metadata": {},
   "outputs": [
    {
     "data": {
      "text/plain": [
       "((671, 1), (9125, 24), (100004, 3))"
      ]
     },
     "execution_count": 4,
     "metadata": {},
     "output_type": "execute_result"
    }
   ],
   "source": [
    "user_path = './datasets/20221108_movieLens100k_users.csv'\n",
    "movie_path = './datasets/20221108_movieLens100k_movies.csv'\n",
    "rating_path = './datasets/20221108_movieLens100k_ratings.csv'\n",
    "\n",
    "user_df, movie_df, rating_df = pd.read_csv(user_path), pd.read_csv(movie_path), pd.read_csv(rating_path)\n",
    "\n",
    "user_df.shape, movie_df.shape, rating_df.shape"
   ]
  },
  {
   "cell_type": "code",
   "execution_count": 5,
   "metadata": {},
   "outputs": [
    {
     "name": "stdout",
     "output_type": "stream",
     "text": [
      "<class 'pandas.core.frame.DataFrame'>\n",
      "RangeIndex: 671 entries, 0 to 670\n",
      "Data columns (total 1 columns):\n",
      " #   Column  Non-Null Count  Dtype\n",
      "---  ------  --------------  -----\n",
      " 0   userId  671 non-null    int64\n",
      "dtypes: int64(1)\n",
      "memory usage: 5.4 KB\n"
     ]
    }
   ],
   "source": [
    "user_df.info()"
   ]
  },
  {
   "cell_type": "code",
   "execution_count": 6,
   "metadata": {},
   "outputs": [
    {
     "name": "stdout",
     "output_type": "stream",
     "text": [
      "<class 'pandas.core.frame.DataFrame'>\n",
      "RangeIndex: 9125 entries, 0 to 9124\n",
      "Data columns (total 24 columns):\n",
      " #   Column       Non-Null Count  Dtype  \n",
      "---  ------       --------------  -----  \n",
      " 0   movieId      9125 non-null   int64  \n",
      " 1   Action       9125 non-null   int64  \n",
      " 2   Adventure    9125 non-null   int64  \n",
      " 3   Animation    9125 non-null   int64  \n",
      " 4   Children     9125 non-null   int64  \n",
      " 5   Comedy       9125 non-null   int64  \n",
      " 6   Crime        9125 non-null   int64  \n",
      " 7   Documentary  9125 non-null   int64  \n",
      " 8   Drama        9125 non-null   int64  \n",
      " 9   Fantasy      9125 non-null   int64  \n",
      " 10  Film-Noir    9125 non-null   int64  \n",
      " 11  Horror       9125 non-null   int64  \n",
      " 12  IMAX         9125 non-null   int64  \n",
      " 13  Musical      9125 non-null   int64  \n",
      " 14  Mystery      9125 non-null   int64  \n",
      " 15  Romance      9125 non-null   int64  \n",
      " 16  Sci-Fi       9125 non-null   int64  \n",
      " 17  Thriller     9125 non-null   int64  \n",
      " 18  War          9125 non-null   int64  \n",
      " 19  Western      9125 non-null   int64  \n",
      " 20  imdbRating   9125 non-null   float64\n",
      " 21  imdbVotes    9125 non-null   float64\n",
      " 22  runtime      9125 non-null   float64\n",
      " 23  year         9125 non-null   float64\n",
      "dtypes: float64(4), int64(20)\n",
      "memory usage: 1.7 MB\n"
     ]
    }
   ],
   "source": [
    "movie_df.info()"
   ]
  },
  {
   "cell_type": "code",
   "execution_count": 7,
   "metadata": {},
   "outputs": [
    {
     "name": "stdout",
     "output_type": "stream",
     "text": [
      "<class 'pandas.core.frame.DataFrame'>\n",
      "RangeIndex: 100004 entries, 0 to 100003\n",
      "Data columns (total 3 columns):\n",
      " #   Column   Non-Null Count   Dtype  \n",
      "---  ------   --------------   -----  \n",
      " 0   userId   100004 non-null  int64  \n",
      " 1   movieId  100004 non-null  int64  \n",
      " 2   rating   100004 non-null  float64\n",
      "dtypes: float64(1), int64(2)\n",
      "memory usage: 2.3 MB\n"
     ]
    }
   ],
   "source": [
    "rating_df.info()"
   ]
  },
  {
   "cell_type": "code",
   "execution_count": 8,
   "metadata": {},
   "outputs": [],
   "source": [
    "assert not user_df.isnull().values.any(), 'Null values in user dataset!'\n",
    "assert not movie_df.isnull().values.any(), 'Null values in movie dataset!'\n",
    "assert not rating_df.isnull().values.any(), 'Null values in rating dataset!'"
   ]
  },
  {
   "cell_type": "markdown",
   "metadata": {},
   "source": [
    "### UMAP - Plot dimension reduction"
   ]
  },
  {
   "cell_type": "code",
   "execution_count": 9,
   "metadata": {},
   "outputs": [
    {
     "data": {
      "text/plain": [
       "(9125, 384)"
      ]
     },
     "execution_count": 9,
     "metadata": {},
     "output_type": "execute_result"
    }
   ],
   "source": [
    "plot_embeddings = np.load('./datasets/20221118_np_plot_embeddings.npy')\n",
    "plot_embeddings.shape"
   ]
  },
  {
   "cell_type": "code",
   "execution_count": 10,
   "metadata": {},
   "outputs": [
    {
     "data": {
      "text/plain": [
       "((9125, 2), (9125, 4))"
      ]
     },
     "execution_count": 10,
     "metadata": {},
     "output_type": "execute_result"
    }
   ],
   "source": [
    "umap_2d = UMAP(n_neighbors=15, n_components=2, init='random', random_state=11)\n",
    "umap_4d = UMAP(n_neighbors=15, n_components=4, init='random', random_state=11)\n",
    "\n",
    "plot_embed_umap_2d = umap_2d.fit_transform(plot_embeddings)\n",
    "plot_embed_umap_4d = umap_4d.fit_transform(plot_embeddings)\n",
    "\n",
    "plot_embed_umap_2d.shape, plot_embed_umap_4d.shape"
   ]
  },
  {
   "cell_type": "code",
   "execution_count": 11,
   "metadata": {},
   "outputs": [
    {
     "data": {
      "image/png": "[encoded data removed]",
      "text/plain": [
       "<Figure size 600x600 with 1 Axes>"
      ]
     },
     "metadata": {},
     "output_type": "display_data"
    }
   ],
   "source": [
    "plt.figure(figsize=(6,6))\n",
    "plt.scatter(x=plot_embed_umap_2d[:,0], y=plot_embed_umap_2d[:,1])\n",
    "plt.show()"
   ]
  },
  {
   "cell_type": "markdown",
   "metadata": {},
   "source": [
    "### Data profiling\n"
   ]
  },
  {
   "cell_type": "code",
   "execution_count": 12,
   "metadata": {},
   "outputs": [
    {
     "name": "stderr",
     "output_type": "stream",
     "text": [
      "C:\\Users\\roman\\AppData\\Local\\Temp\\ipykernel_35464\\1872624327.py:4: UserWarning: To output multiple subplots, the figure containing the passed axes is being cleared.\n",
      "  movie_df[movie_features].hist(bins=30, ax=ax)\n"
     ]
    },
    {
     "data": {
      "image/png": "[encoded data removed]",
      "text/plain": [
       "<Figure size 1000x800 with 4 Axes>"
      ]
     },
     "metadata": {},
     "output_type": "display_data"
    }
   ],
   "source": [
    "_, ax = plt.subplots(figsize=(10,8))\n",
    "\n",
    "movie_features = movie_df.columns[-4:]\n",
    "movie_df[movie_features].hist(bins=30, ax=ax)\n",
    "plt.show()"
   ]
  },
  {
   "cell_type": "code",
   "execution_count": 13,
   "metadata": {},
   "outputs": [
    {
     "data": {
      "image/png": "[encoded data removed]",
      "text/plain": [
       "<Figure size 640x480 with 2 Axes>"
      ]
     },
     "metadata": {},
     "output_type": "display_data"
    }
   ],
   "source": [
    "corr_matrix = movie_df[movie_features].corr()\n",
    "sns.heatmap(corr_matrix, annot=True)\n",
    "plt.show()"
   ]
  },
  {
   "cell_type": "markdown",
   "metadata": {},
   "source": [
    "### Encoding & Scaling data"
   ]
  },
  {
   "cell_type": "code",
   "execution_count": 14,
   "metadata": {},
   "outputs": [],
   "source": [
    "user_encoder, movie_encoder = LabelEncoder(), LabelEncoder()\n",
    "scaler = StandardScaler()"
   ]
  },
  {
   "cell_type": "code",
   "execution_count": 15,
   "metadata": {},
   "outputs": [],
   "source": [
    "user_df['userId'] = user_encoder.fit_transform(user_df['userId'])\n",
    "movie_df['movieId'] = movie_encoder.fit_transform(movie_df['movieId'])\n",
    "\n",
    "rating_df['userId'] = user_encoder.transform(rating_df['userId'])\n",
    "rating_df['movieId'] = movie_encoder.transform(rating_df['movieId'])"
   ]
  },
  {
   "cell_type": "code",
   "execution_count": 16,
   "metadata": {},
   "outputs": [],
   "source": [
    "features_to_scale = ['imdbRating', 'imdbVotes', 'runtime', 'year']\n",
    "scaled_features = scaler.fit_transform(movie_df[features_to_scale])\n",
    "scaled_features_df = pd.DataFrame(scaled_features, columns=features_to_scale)"
   ]
  },
  {
   "cell_type": "code",
   "execution_count": 17,
   "metadata": {},
   "outputs": [
    {
     "data": {
      "text/html": [
       "<div>\n",
       "<style scoped>\n",
       "    .dataframe tbody tr th:only-of-type {\n",
       "        vertical-align: middle;\n",
       "    }\n",
       "\n",
       "    .dataframe tbody tr th {\n",
       "        vertical-align: top;\n",
       "    }\n",
       "\n",
       "    .dataframe thead th {\n",
       "        text-align: right;\n",
       "    }\n",
       "</style>\n",
       "<table border=\"1\" class=\"dataframe\">\n",
       "  <thead>\n",
       "    <tr style=\"text-align: right;\">\n",
       "      <th></th>\n",
       "      <th>movieId</th>\n",
       "      <th>Action</th>\n",
       "      <th>Adventure</th>\n",
       "      <th>Animation</th>\n",
       "      <th>Children</th>\n",
       "      <th>Comedy</th>\n",
       "      <th>Crime</th>\n",
       "      <th>Documentary</th>\n",
       "      <th>Drama</th>\n",
       "      <th>Fantasy</th>\n",
       "      <th>...</th>\n",
       "      <th>Mystery</th>\n",
       "      <th>Romance</th>\n",
       "      <th>Sci-Fi</th>\n",
       "      <th>Thriller</th>\n",
       "      <th>War</th>\n",
       "      <th>Western</th>\n",
       "      <th>imdbRating</th>\n",
       "      <th>imdbVotes</th>\n",
       "      <th>runtime</th>\n",
       "      <th>year</th>\n",
       "    </tr>\n",
       "  </thead>\n",
       "  <tbody>\n",
       "    <tr>\n",
       "      <th>0</th>\n",
       "      <td>0</td>\n",
       "      <td>0</td>\n",
       "      <td>1</td>\n",
       "      <td>1</td>\n",
       "      <td>1</td>\n",
       "      <td>1</td>\n",
       "      <td>0</td>\n",
       "      <td>0</td>\n",
       "      <td>0</td>\n",
       "      <td>1</td>\n",
       "      <td>...</td>\n",
       "      <td>0</td>\n",
       "      <td>0</td>\n",
       "      <td>0</td>\n",
       "      <td>0</td>\n",
       "      <td>0</td>\n",
       "      <td>0</td>\n",
       "      <td>1.528928</td>\n",
       "      <td>5.144229</td>\n",
       "      <td>-0.876122</td>\n",
       "      <td>0.158905</td>\n",
       "    </tr>\n",
       "    <tr>\n",
       "      <th>1</th>\n",
       "      <td>1</td>\n",
       "      <td>0</td>\n",
       "      <td>1</td>\n",
       "      <td>0</td>\n",
       "      <td>1</td>\n",
       "      <td>0</td>\n",
       "      <td>0</td>\n",
       "      <td>0</td>\n",
       "      <td>0</td>\n",
       "      <td>1</td>\n",
       "      <td>...</td>\n",
       "      <td>0</td>\n",
       "      <td>0</td>\n",
       "      <td>0</td>\n",
       "      <td>0</td>\n",
       "      <td>0</td>\n",
       "      <td>0</td>\n",
       "      <td>0.174897</td>\n",
       "      <td>1.394602</td>\n",
       "      <td>-0.058951</td>\n",
       "      <td>0.158905</td>\n",
       "    </tr>\n",
       "    <tr>\n",
       "      <th>2</th>\n",
       "      <td>2</td>\n",
       "      <td>0</td>\n",
       "      <td>0</td>\n",
       "      <td>0</td>\n",
       "      <td>0</td>\n",
       "      <td>1</td>\n",
       "      <td>0</td>\n",
       "      <td>0</td>\n",
       "      <td>0</td>\n",
       "      <td>0</td>\n",
       "      <td>...</td>\n",
       "      <td>0</td>\n",
       "      <td>1</td>\n",
       "      <td>0</td>\n",
       "      <td>0</td>\n",
       "      <td>0</td>\n",
       "      <td>0</td>\n",
       "      <td>-0.115253</td>\n",
       "      <td>-0.318207</td>\n",
       "      <td>-0.165539</td>\n",
       "      <td>0.158905</td>\n",
       "    </tr>\n",
       "    <tr>\n",
       "      <th>3</th>\n",
       "      <td>3</td>\n",
       "      <td>0</td>\n",
       "      <td>0</td>\n",
       "      <td>0</td>\n",
       "      <td>0</td>\n",
       "      <td>1</td>\n",
       "      <td>0</td>\n",
       "      <td>0</td>\n",
       "      <td>1</td>\n",
       "      <td>0</td>\n",
       "      <td>...</td>\n",
       "      <td>0</td>\n",
       "      <td>1</td>\n",
       "      <td>0</td>\n",
       "      <td>0</td>\n",
       "      <td>0</td>\n",
       "      <td>0</td>\n",
       "      <td>-1.082418</td>\n",
       "      <td>-0.426889</td>\n",
       "      <td>0.651632</td>\n",
       "      <td>0.158905</td>\n",
       "    </tr>\n",
       "    <tr>\n",
       "      <th>4</th>\n",
       "      <td>4</td>\n",
       "      <td>0</td>\n",
       "      <td>0</td>\n",
       "      <td>0</td>\n",
       "      <td>0</td>\n",
       "      <td>1</td>\n",
       "      <td>0</td>\n",
       "      <td>0</td>\n",
       "      <td>0</td>\n",
       "      <td>0</td>\n",
       "      <td>...</td>\n",
       "      <td>0</td>\n",
       "      <td>0</td>\n",
       "      <td>0</td>\n",
       "      <td>0</td>\n",
       "      <td>0</td>\n",
       "      <td>0</td>\n",
       "      <td>-0.792268</td>\n",
       "      <td>-0.248423</td>\n",
       "      <td>0.012107</td>\n",
       "      <td>0.158905</td>\n",
       "    </tr>\n",
       "  </tbody>\n",
       "</table>\n",
       "<p>5 rows × 24 columns</p>\n",
       "</div>"
      ],
      "text/plain": [
       "   movieId  Action  Adventure  Animation  Children  Comedy  Crime  \\\n",
       "0        0       0          1          1         1       1      0   \n",
       "1        1       0          1          0         1       0      0   \n",
       "2        2       0          0          0         0       1      0   \n",
       "3        3       0          0          0         0       1      0   \n",
       "4        4       0          0          0         0       1      0   \n",
       "\n",
       "   Documentary  Drama  Fantasy  ...  Mystery  Romance  Sci-Fi  Thriller  War  \\\n",
       "0            0      0        1  ...        0        0       0         0    0   \n",
       "1            0      0        1  ...        0        0       0         0    0   \n",
       "2            0      0        0  ...        0        1       0         0    0   \n",
       "3            0      1        0  ...        0        1       0         0    0   \n",
       "4            0      0        0  ...        0        0       0         0    0   \n",
       "\n",
       "   Western  imdbRating  imdbVotes   runtime      year  \n",
       "0        0    1.528928   5.144229 -0.876122  0.158905  \n",
       "1        0    0.174897   1.394602 -0.058951  0.158905  \n",
       "2        0   -0.115253  -0.318207 -0.165539  0.158905  \n",
       "3        0   -1.082418  -0.426889  0.651632  0.158905  \n",
       "4        0   -0.792268  -0.248423  0.012107  0.158905  \n",
       "\n",
       "[5 rows x 24 columns]"
      ]
     },
     "execution_count": 17,
     "metadata": {},
     "output_type": "execute_result"
    }
   ],
   "source": [
    "movie_df.drop(columns=features_to_scale, axis=1, inplace=True)\n",
    "movie_df = pd.concat([movie_df, scaled_features_df], axis=1)\n",
    "movie_df.head()"
   ]
  },
  {
   "cell_type": "code",
   "execution_count": 18,
   "metadata": {},
   "outputs": [
    {
     "data": {
      "text/html": [
       "<div>\n",
       "<style scoped>\n",
       "    .dataframe tbody tr th:only-of-type {\n",
       "        vertical-align: middle;\n",
       "    }\n",
       "\n",
       "    .dataframe tbody tr th {\n",
       "        vertical-align: top;\n",
       "    }\n",
       "\n",
       "    .dataframe thead th {\n",
       "        text-align: right;\n",
       "    }\n",
       "</style>\n",
       "<table border=\"1\" class=\"dataframe\">\n",
       "  <thead>\n",
       "    <tr style=\"text-align: right;\">\n",
       "      <th></th>\n",
       "      <th>movieId</th>\n",
       "      <th>Action</th>\n",
       "      <th>Adventure</th>\n",
       "      <th>Animation</th>\n",
       "      <th>Children</th>\n",
       "      <th>Comedy</th>\n",
       "      <th>Crime</th>\n",
       "      <th>Documentary</th>\n",
       "      <th>Drama</th>\n",
       "      <th>Fantasy</th>\n",
       "      <th>...</th>\n",
       "      <th>Mystery</th>\n",
       "      <th>Romance</th>\n",
       "      <th>Sci-Fi</th>\n",
       "      <th>Thriller</th>\n",
       "      <th>War</th>\n",
       "      <th>Western</th>\n",
       "      <th>imdbRating</th>\n",
       "      <th>imdbVotes</th>\n",
       "      <th>runtime</th>\n",
       "      <th>year</th>\n",
       "    </tr>\n",
       "  </thead>\n",
       "  <tbody>\n",
       "    <tr>\n",
       "      <th>count</th>\n",
       "      <td>9125.000000</td>\n",
       "      <td>9125.000000</td>\n",
       "      <td>9125.000000</td>\n",
       "      <td>9125.000000</td>\n",
       "      <td>9125.000000</td>\n",
       "      <td>9125.000000</td>\n",
       "      <td>9125.000000</td>\n",
       "      <td>9125.000000</td>\n",
       "      <td>9125.000000</td>\n",
       "      <td>9125.000000</td>\n",
       "      <td>...</td>\n",
       "      <td>9125.000000</td>\n",
       "      <td>9125.000000</td>\n",
       "      <td>9125.000000</td>\n",
       "      <td>9125.000000</td>\n",
       "      <td>9125.000000</td>\n",
       "      <td>9125.000000</td>\n",
       "      <td>9.125000e+03</td>\n",
       "      <td>9.125000e+03</td>\n",
       "      <td>9.125000e+03</td>\n",
       "      <td>9.125000e+03</td>\n",
       "    </tr>\n",
       "    <tr>\n",
       "      <th>mean</th>\n",
       "      <td>4562.000000</td>\n",
       "      <td>0.169315</td>\n",
       "      <td>0.122411</td>\n",
       "      <td>0.048986</td>\n",
       "      <td>0.063890</td>\n",
       "      <td>0.363288</td>\n",
       "      <td>0.120548</td>\n",
       "      <td>0.054247</td>\n",
       "      <td>0.478356</td>\n",
       "      <td>0.071671</td>\n",
       "      <td>...</td>\n",
       "      <td>0.059507</td>\n",
       "      <td>0.169315</td>\n",
       "      <td>0.086795</td>\n",
       "      <td>0.189479</td>\n",
       "      <td>0.040219</td>\n",
       "      <td>0.018411</td>\n",
       "      <td>-2.725369e-17</td>\n",
       "      <td>-1.245883e-17</td>\n",
       "      <td>4.672062e-18</td>\n",
       "      <td>-1.245883e-17</td>\n",
       "    </tr>\n",
       "    <tr>\n",
       "      <th>std</th>\n",
       "      <td>2634.304937</td>\n",
       "      <td>0.375051</td>\n",
       "      <td>0.327778</td>\n",
       "      <td>0.215851</td>\n",
       "      <td>0.244571</td>\n",
       "      <td>0.480973</td>\n",
       "      <td>0.325619</td>\n",
       "      <td>0.226516</td>\n",
       "      <td>0.499559</td>\n",
       "      <td>0.257957</td>\n",
       "      <td>...</td>\n",
       "      <td>0.236584</td>\n",
       "      <td>0.375051</td>\n",
       "      <td>0.281549</td>\n",
       "      <td>0.391910</td>\n",
       "      <td>0.196484</td>\n",
       "      <td>0.134439</td>\n",
       "      <td>1.000055e+00</td>\n",
       "      <td>1.000055e+00</td>\n",
       "      <td>1.000055e+00</td>\n",
       "      <td>1.000055e+00</td>\n",
       "    </tr>\n",
       "    <tr>\n",
       "      <th>min</th>\n",
       "      <td>0.000000</td>\n",
       "      <td>0.000000</td>\n",
       "      <td>0.000000</td>\n",
       "      <td>0.000000</td>\n",
       "      <td>0.000000</td>\n",
       "      <td>0.000000</td>\n",
       "      <td>0.000000</td>\n",
       "      <td>0.000000</td>\n",
       "      <td>0.000000</td>\n",
       "      <td>0.000000</td>\n",
       "      <td>...</td>\n",
       "      <td>0.000000</td>\n",
       "      <td>0.000000</td>\n",
       "      <td>0.000000</td>\n",
       "      <td>0.000000</td>\n",
       "      <td>0.000000</td>\n",
       "      <td>0.000000</td>\n",
       "      <td>-4.951079e+00</td>\n",
       "      <td>-4.954719e-01</td>\n",
       "      <td>-3.682925e+00</td>\n",
       "      <td>-4.650468e+00</td>\n",
       "    </tr>\n",
       "    <tr>\n",
       "      <th>25%</th>\n",
       "      <td>2281.000000</td>\n",
       "      <td>0.000000</td>\n",
       "      <td>0.000000</td>\n",
       "      <td>0.000000</td>\n",
       "      <td>0.000000</td>\n",
       "      <td>0.000000</td>\n",
       "      <td>0.000000</td>\n",
       "      <td>0.000000</td>\n",
       "      <td>0.000000</td>\n",
       "      <td>0.000000</td>\n",
       "      <td>...</td>\n",
       "      <td>0.000000</td>\n",
       "      <td>0.000000</td>\n",
       "      <td>0.000000</td>\n",
       "      <td>0.000000</td>\n",
       "      <td>0.000000</td>\n",
       "      <td>0.000000</td>\n",
       "      <td>-5.988353e-01</td>\n",
       "      <td>-4.503885e-01</td>\n",
       "      <td>-4.497720e-01</td>\n",
       "      <td>-3.582321e-01</td>\n",
       "    </tr>\n",
       "    <tr>\n",
       "      <th>50%</th>\n",
       "      <td>4562.000000</td>\n",
       "      <td>0.000000</td>\n",
       "      <td>0.000000</td>\n",
       "      <td>0.000000</td>\n",
       "      <td>0.000000</td>\n",
       "      <td>0.000000</td>\n",
       "      <td>0.000000</td>\n",
       "      <td>0.000000</td>\n",
       "      <td>0.000000</td>\n",
       "      <td>0.000000</td>\n",
       "      <td>...</td>\n",
       "      <td>0.000000</td>\n",
       "      <td>0.000000</td>\n",
       "      <td>0.000000</td>\n",
       "      <td>0.000000</td>\n",
       "      <td>0.000000</td>\n",
       "      <td>0.000000</td>\n",
       "      <td>7.818045e-02</td>\n",
       "      <td>-3.532937e-01</td>\n",
       "      <td>-1.300096e-01</td>\n",
       "      <td>2.623321e-01</td>\n",
       "    </tr>\n",
       "    <tr>\n",
       "      <th>75%</th>\n",
       "      <td>6843.000000</td>\n",
       "      <td>0.000000</td>\n",
       "      <td>0.000000</td>\n",
       "      <td>0.000000</td>\n",
       "      <td>0.000000</td>\n",
       "      <td>1.000000</td>\n",
       "      <td>0.000000</td>\n",
       "      <td>0.000000</td>\n",
       "      <td>1.000000</td>\n",
       "      <td>0.000000</td>\n",
       "      <td>...</td>\n",
       "      <td>0.000000</td>\n",
       "      <td>0.000000</td>\n",
       "      <td>0.000000</td>\n",
       "      <td>0.000000</td>\n",
       "      <td>0.000000</td>\n",
       "      <td>0.000000</td>\n",
       "      <td>7.551962e-01</td>\n",
       "      <td>-3.114708e-17</td>\n",
       "      <td>3.318695e-01</td>\n",
       "      <td>7.277552e-01</td>\n",
       "    </tr>\n",
       "    <tr>\n",
       "      <th>max</th>\n",
       "      <td>9124.000000</td>\n",
       "      <td>1.000000</td>\n",
       "      <td>1.000000</td>\n",
       "      <td>1.000000</td>\n",
       "      <td>1.000000</td>\n",
       "      <td>1.000000</td>\n",
       "      <td>1.000000</td>\n",
       "      <td>1.000000</td>\n",
       "      <td>1.000000</td>\n",
       "      <td>1.000000</td>\n",
       "      <td>...</td>\n",
       "      <td>1.000000</td>\n",
       "      <td>1.000000</td>\n",
       "      <td>1.000000</td>\n",
       "      <td>1.000000</td>\n",
       "      <td>1.000000</td>\n",
       "      <td>1.000000</td>\n",
       "      <td>2.786243e+00</td>\n",
       "      <td>1.500774e+01</td>\n",
       "      <td>2.857755e+01</td>\n",
       "      <td>1.244892e+00</td>\n",
       "    </tr>\n",
       "  </tbody>\n",
       "</table>\n",
       "<p>8 rows × 24 columns</p>\n",
       "</div>"
      ],
      "text/plain": [
       "           movieId       Action    Adventure    Animation     Children  \\\n",
       "count  9125.000000  9125.000000  9125.000000  9125.000000  9125.000000   \n",
       "mean   4562.000000     0.169315     0.122411     0.048986     0.063890   \n",
       "std    2634.304937     0.375051     0.327778     0.215851     0.244571   \n",
       "min       0.000000     0.000000     0.000000     0.000000     0.000000   \n",
       "25%    2281.000000     0.000000     0.000000     0.000000     0.000000   \n",
       "50%    4562.000000     0.000000     0.000000     0.000000     0.000000   \n",
       "75%    6843.000000     0.000000     0.000000     0.000000     0.000000   \n",
       "max    9124.000000     1.000000     1.000000     1.000000     1.000000   \n",
       "\n",
       "            Comedy        Crime  Documentary        Drama      Fantasy  ...  \\\n",
       "count  9125.000000  9125.000000  9125.000000  9125.000000  9125.000000  ...   \n",
       "mean      0.363288     0.120548     0.054247     0.478356     0.071671  ...   \n",
       "std       0.480973     0.325619     0.226516     0.499559     0.257957  ...   \n",
       "min       0.000000     0.000000     0.000000     0.000000     0.000000  ...   \n",
       "25%       0.000000     0.000000     0.000000     0.000000     0.000000  ...   \n",
       "50%       0.000000     0.000000     0.000000     0.000000     0.000000  ...   \n",
       "75%       1.000000     0.000000     0.000000     1.000000     0.000000  ...   \n",
       "max       1.000000     1.000000     1.000000     1.000000     1.000000  ...   \n",
       "\n",
       "           Mystery      Romance       Sci-Fi     Thriller          War  \\\n",
       "count  9125.000000  9125.000000  9125.000000  9125.000000  9125.000000   \n",
       "mean      0.059507     0.169315     0.086795     0.189479     0.040219   \n",
       "std       0.236584     0.375051     0.281549     0.391910     0.196484   \n",
       "min       0.000000     0.000000     0.000000     0.000000     0.000000   \n",
       "25%       0.000000     0.000000     0.000000     0.000000     0.000000   \n",
       "50%       0.000000     0.000000     0.000000     0.000000     0.000000   \n",
       "75%       0.000000     0.000000     0.000000     0.000000     0.000000   \n",
       "max       1.000000     1.000000     1.000000     1.000000     1.000000   \n",
       "\n",
       "           Western    imdbRating     imdbVotes       runtime          year  \n",
       "count  9125.000000  9.125000e+03  9.125000e+03  9.125000e+03  9.125000e+03  \n",
       "mean      0.018411 -2.725369e-17 -1.245883e-17  4.672062e-18 -1.245883e-17  \n",
       "std       0.134439  1.000055e+00  1.000055e+00  1.000055e+00  1.000055e+00  \n",
       "min       0.000000 -4.951079e+00 -4.954719e-01 -3.682925e+00 -4.650468e+00  \n",
       "25%       0.000000 -5.988353e-01 -4.503885e-01 -4.497720e-01 -3.582321e-01  \n",
       "50%       0.000000  7.818045e-02 -3.532937e-01 -1.300096e-01  2.623321e-01  \n",
       "75%       0.000000  7.551962e-01 -3.114708e-17  3.318695e-01  7.277552e-01  \n",
       "max       1.000000  2.786243e+00  1.500774e+01  2.857755e+01  1.244892e+00  \n",
       "\n",
       "[8 rows x 24 columns]"
      ]
     },
     "execution_count": 18,
     "metadata": {},
     "output_type": "execute_result"
    }
   ],
   "source": [
    "movie_df.describe()"
   ]
  },
  {
   "cell_type": "code",
   "execution_count": 19,
   "metadata": {},
   "outputs": [],
   "source": [
    "# _, ax = plt.subplots(figsize=(10,8))\n",
    "\n",
    "# movie_df[movie_features].hist(bins=30, ax=ax)\n",
    "# plt.show()"
   ]
  },
  {
   "cell_type": "code",
   "execution_count": 20,
   "metadata": {},
   "outputs": [],
   "source": [
    "# safe_date = datetime.now().strftime('%Y%m%d')\n",
    "# user_df.to_csv(f'./datasets/{safe_date}_movieLens100k_users.csv', index=False)\n",
    "# movie_df.to_csv(f'./datasets/{safe_date}_movieLens100k_movies.csv', index=False)\n",
    "# rating_df.to_csv(f'./datasets/{safe_date}_movieLens100k_ratings.csv', index=False)"
   ]
  },
  {
   "cell_type": "code",
   "execution_count": 21,
   "metadata": {},
   "outputs": [
    {
     "data": {
      "text/html": [
       "<div>\n",
       "<style scoped>\n",
       "    .dataframe tbody tr th:only-of-type {\n",
       "        vertical-align: middle;\n",
       "    }\n",
       "\n",
       "    .dataframe tbody tr th {\n",
       "        vertical-align: top;\n",
       "    }\n",
       "\n",
       "    .dataframe thead th {\n",
       "        text-align: right;\n",
       "    }\n",
       "</style>\n",
       "<table border=\"1\" class=\"dataframe\">\n",
       "  <thead>\n",
       "    <tr style=\"text-align: right;\">\n",
       "      <th></th>\n",
       "      <th>userId</th>\n",
       "      <th>movieId</th>\n",
       "      <th>rating</th>\n",
       "    </tr>\n",
       "  </thead>\n",
       "  <tbody>\n",
       "    <tr>\n",
       "      <th>0</th>\n",
       "      <td>0</td>\n",
       "      <td>1087</td>\n",
       "      <td>2.0</td>\n",
       "    </tr>\n",
       "    <tr>\n",
       "      <th>1</th>\n",
       "      <td>0</td>\n",
       "      <td>1083</td>\n",
       "      <td>3.5</td>\n",
       "    </tr>\n",
       "    <tr>\n",
       "      <th>2</th>\n",
       "      <td>0</td>\n",
       "      <td>1140</td>\n",
       "      <td>1.0</td>\n",
       "    </tr>\n",
       "    <tr>\n",
       "      <th>3</th>\n",
       "      <td>0</td>\n",
       "      <td>1111</td>\n",
       "      <td>2.5</td>\n",
       "    </tr>\n",
       "    <tr>\n",
       "      <th>4</th>\n",
       "      <td>0</td>\n",
       "      <td>1017</td>\n",
       "      <td>2.0</td>\n",
       "    </tr>\n",
       "    <tr>\n",
       "      <th>...</th>\n",
       "      <td>...</td>\n",
       "      <td>...</td>\n",
       "      <td>...</td>\n",
       "    </tr>\n",
       "    <tr>\n",
       "      <th>99999</th>\n",
       "      <td>670</td>\n",
       "      <td>3113</td>\n",
       "      <td>2.0</td>\n",
       "    </tr>\n",
       "    <tr>\n",
       "      <th>100000</th>\n",
       "      <td>670</td>\n",
       "      <td>3199</td>\n",
       "      <td>3.5</td>\n",
       "    </tr>\n",
       "    <tr>\n",
       "      <th>100001</th>\n",
       "      <td>670</td>\n",
       "      <td>3213</td>\n",
       "      <td>4.0</td>\n",
       "    </tr>\n",
       "    <tr>\n",
       "      <th>100002</th>\n",
       "      <td>670</td>\n",
       "      <td>3220</td>\n",
       "      <td>3.5</td>\n",
       "    </tr>\n",
       "    <tr>\n",
       "      <th>100003</th>\n",
       "      <td>670</td>\n",
       "      <td>3223</td>\n",
       "      <td>3.5</td>\n",
       "    </tr>\n",
       "  </tbody>\n",
       "</table>\n",
       "<p>100004 rows × 3 columns</p>\n",
       "</div>"
      ],
      "text/plain": [
       "        userId  movieId  rating\n",
       "0            0     1087     2.0\n",
       "1            0     1083     3.5\n",
       "2            0     1140     1.0\n",
       "3            0     1111     2.5\n",
       "4            0     1017     2.0\n",
       "...        ...      ...     ...\n",
       "99999      670     3113     2.0\n",
       "100000     670     3199     3.5\n",
       "100001     670     3213     4.0\n",
       "100002     670     3220     3.5\n",
       "100003     670     3223     3.5\n",
       "\n",
       "[100004 rows x 3 columns]"
      ]
     },
     "execution_count": 21,
     "metadata": {},
     "output_type": "execute_result"
    }
   ],
   "source": [
    "rating_df"
   ]
  },
  {
   "cell_type": "markdown",
   "metadata": {},
   "source": [
    "### Create Pytorch Geometric (heterogenious) Dataset"
   ]
  },
  {
   "cell_type": "code",
   "execution_count": 22,
   "metadata": {},
   "outputs": [
    {
     "data": {
      "text/plain": [
       "torch.Size([671, 671])"
      ]
     },
     "execution_count": 22,
     "metadata": {},
     "output_type": "execute_result"
    }
   ],
   "source": [
    "x_user = torch.eye(len(user_df['userId'].values))\n",
    "x_user.size()"
   ]
  },
  {
   "cell_type": "code",
   "execution_count": 23,
   "metadata": {},
   "outputs": [
    {
     "data": {
      "text/plain": [
       "torch.Size([9125, 27])"
      ]
     },
     "execution_count": 23,
     "metadata": {},
     "output_type": "execute_result"
    }
   ],
   "source": [
    "x_movie = movie_df.drop(columns=['movieId'], axis=1)\n",
    "x_movie = x_movie.values\n",
    "x_movie = np.concatenate((x_movie, plot_embed_umap_4d), axis=1)\n",
    "x_movie = torch.Tensor(x_movie)\n",
    "x_movie.size()"
   ]
  },
  {
   "cell_type": "code",
   "execution_count": 24,
   "metadata": {},
   "outputs": [
    {
     "data": {
      "text/plain": [
       "(torch.Size([2, 100004]),\n",
       " tensor([[   0,    0,    0,  ...,  670,  670,  670],\n",
       "         [1087, 1083, 1140,  ..., 3213, 3220, 3223]]))"
      ]
     },
     "execution_count": 24,
     "metadata": {},
     "output_type": "execute_result"
    }
   ],
   "source": [
    "edge_index = torch.Tensor(rating_df[['userId', 'movieId']].values).swapaxes(1,0).to(torch.long)\n",
    "edge_index.size(), edge_index"
   ]
  },
  {
   "cell_type": "code",
   "execution_count": 25,
   "metadata": {},
   "outputs": [
    {
     "data": {
      "text/plain": [
       "(torch.Size([100004]),\n",
       " tensor([2.0000, 3.5000, 1.0000,  ..., 4.0000, 3.5000, 3.5000]))"
      ]
     },
     "execution_count": 25,
     "metadata": {},
     "output_type": "execute_result"
    }
   ],
   "source": [
    "edge_label = torch.Tensor(rating_df['rating'].values)\n",
    "edge_label.size(), edge_label"
   ]
  },
  {
   "cell_type": "code",
   "execution_count": 26,
   "metadata": {},
   "outputs": [
    {
     "data": {
      "text/plain": [
       "HeteroData(\n",
       "  \u001b[1muser\u001b[0m={ x=[671, 671] },\n",
       "  \u001b[1mmovie\u001b[0m={ x=[9125, 27] },\n",
       "  \u001b[1m(user, rates, movie)\u001b[0m={\n",
       "    edge_index=[2, 100004],\n",
       "    edge_label=[100004]\n",
       "  }\n",
       ")"
      ]
     },
     "execution_count": 26,
     "metadata": {},
     "output_type": "execute_result"
    }
   ],
   "source": [
    "data = HeteroData()\n",
    "data['user'].x = x_user\n",
    "data['movie'].x = x_movie\n",
    "\n",
    "data[('user', 'rates', 'movie')].edge_index = edge_index\n",
    "data[('user', 'rates', 'movie')].edge_label = edge_label\n",
    "\n",
    "data"
   ]
  },
  {
   "cell_type": "code",
   "execution_count": 27,
   "metadata": {},
   "outputs": [
    {
     "data": {
      "text/plain": [
       "HeteroData(\n",
       "  \u001b[1muser\u001b[0m={ x=[671, 671] },\n",
       "  \u001b[1mmovie\u001b[0m={ x=[9125, 27] },\n",
       "  \u001b[1m(user, rates, movie)\u001b[0m={\n",
       "    edge_index=[2, 100004],\n",
       "    edge_label=[100004]\n",
       "  },\n",
       "  \u001b[1m(movie, rev_rates, user)\u001b[0m={ edge_index=[2, 100004] }\n",
       ")"
      ]
     },
     "execution_count": 27,
     "metadata": {},
     "output_type": "execute_result"
    }
   ],
   "source": [
    "data = ToUndirected()(data)\n",
    "# data = AddSelfLoops()(data)\n",
    "# data = NormalizeFeatures()(data)\n",
    "del data[('movie', 'rev_rates', 'user')].edge_label\n",
    "data"
   ]
  },
  {
   "cell_type": "code",
   "execution_count": 28,
   "metadata": {},
   "outputs": [],
   "source": [
    "# data = data.to(device)"
   ]
  },
  {
   "cell_type": "markdown",
   "metadata": {},
   "source": [
    "### Train / Test Split"
   ]
  },
  {
   "cell_type": "code",
   "execution_count": 29,
   "metadata": {},
   "outputs": [],
   "source": [
    "# Perform a link-level split into training, validation, and test edges.\n",
    "train_data, val_data, test_data = RandomLinkSplit(\n",
    "    num_val=0.1,\n",
    "    num_test=0.1,\n",
    "    neg_sampling_ratio=0.0,\n",
    "    edge_types=[('user', 'rates', 'movie')],\n",
    "    rev_edge_types=[('movie', 'rev_rates', 'user')],\n",
    ")(data)"
   ]
  },
  {
   "cell_type": "code",
   "execution_count": 30,
   "metadata": {},
   "outputs": [
    {
     "name": "stdout",
     "output_type": "stream",
     "text": [
      "Train: HeteroData(\n",
      "  \u001b[1muser\u001b[0m={ x=[671, 671] },\n",
      "  \u001b[1mmovie\u001b[0m={ x=[9125, 27] },\n",
      "  \u001b[1m(user, rates, movie)\u001b[0m={\n",
      "    edge_index=[2, 80004],\n",
      "    edge_label=[80004],\n",
      "    edge_label_index=[2, 80004]\n",
      "  },\n",
      "  \u001b[1m(movie, rev_rates, user)\u001b[0m={ edge_index=[2, 80004] }\n",
      ")\n"
     ]
    }
   ],
   "source": [
    "print('Train:', train_data)\n",
    "# print('Val:', val_data)\n",
    "# print('Test:', test_data)"
   ]
  },
  {
   "cell_type": "code",
   "execution_count": 31,
   "metadata": {},
   "outputs": [
    {
     "data": {
      "text/plain": [
       "(torch.Size([2, 80004]),\n",
       " tensor([[ 176,  483,  546,  ...,  284,  247,  294],\n",
       "         [1220,  610, 3873,  ..., 1360, 1669, 2334]]))"
      ]
     },
     "execution_count": 31,
     "metadata": {},
     "output_type": "execute_result"
    }
   ],
   "source": [
    "# Slicing edge label to get the corresponding split (hence this gives train split)\n",
    "train_data['user', 'movie'].edge_label_index.size(), train_data['user', 'movie'].edge_label_index"
   ]
  },
  {
   "cell_type": "code",
   "execution_count": 32,
   "metadata": {},
   "outputs": [
    {
     "data": {
      "text/plain": [
       "(torch.Size([80004]), tensor([3., 4., 4.,  ..., 3., 4., 4.]))"
      ]
     },
     "execution_count": 32,
     "metadata": {},
     "output_type": "execute_result"
    }
   ],
   "source": [
    "train_data['user', 'movie'].edge_label.size(), train_data['user', 'movie'].edge_label"
   ]
  },
  {
   "cell_type": "code",
   "execution_count": 33,
   "metadata": {},
   "outputs": [
    {
     "data": {
      "text/plain": [
       "{'user': tensor([[1., 0., 0.,  ..., 0., 0., 0.],\n",
       "         [0., 1., 0.,  ..., 0., 0., 0.],\n",
       "         [0., 0., 1.,  ..., 0., 0., 0.],\n",
       "         ...,\n",
       "         [0., 0., 0.,  ..., 1., 0., 0.],\n",
       "         [0., 0., 0.,  ..., 0., 1., 0.],\n",
       "         [0., 0., 0.,  ..., 0., 0., 1.]]),\n",
       " 'movie': tensor([[ 0.0000,  1.0000,  1.0000,  ..., -1.4143,  2.3659,  1.5699],\n",
       "         [ 0.0000,  1.0000,  0.0000,  ..., -0.8378,  2.7128,  2.0274],\n",
       "         [ 0.0000,  0.0000,  0.0000,  ..., -0.0355,  3.2111,  2.5577],\n",
       "         ...,\n",
       "         [ 0.0000,  0.0000,  0.0000,  ...,  0.8560,  5.6256,  1.9583],\n",
       "         [ 0.0000,  0.0000,  0.0000,  ...,  0.9886,  2.9998,  1.8537],\n",
       "         [ 0.0000,  0.0000,  0.0000,  ..., -0.9370,  4.8003,  1.2202]])}"
      ]
     },
     "execution_count": 33,
     "metadata": {},
     "output_type": "execute_result"
    }
   ],
   "source": [
    "# fetaure matrix for all the node types\n",
    "data.x_dict"
   ]
  },
  {
   "cell_type": "markdown",
   "metadata": {},
   "source": [
    "### GNN Model"
   ]
  },
  {
   "cell_type": "code",
   "execution_count": 34,
   "metadata": {},
   "outputs": [],
   "source": [
    "class GNNEncoder(torch.nn.Module):\n",
    "    def __init__(self, hidden_channels, out_channels):\n",
    "        super().__init__()\n",
    "        # these convolutions have been replicated to match the number of edge types\n",
    "        self.conv1 = SAGEConv((-1, -1), hidden_channels)\n",
    "        self.conv2 = SAGEConv((-1, -1), out_channels)\n",
    "\n",
    "    def forward(self, x, edge_index):\n",
    "        x = self.conv1(x, edge_index).relu()\n",
    "        x = self.conv2(x, edge_index)\n",
    "        return x\n",
    "\n",
    "\n",
    "class EdgeDecoder(torch.nn.Module):\n",
    "    def __init__(self, hidden_channels):\n",
    "        super().__init__()\n",
    "        self.lin1 = Linear(2 * hidden_channels, hidden_channels)\n",
    "        self.lin_out = Linear(hidden_channels, 1)\n",
    "        \n",
    "    def forward(self, z_dict, edge_label_index):\n",
    "        row, col = edge_label_index\n",
    "        # concat user and movie embeddings\n",
    "        z = torch.cat([z_dict['user'][row], z_dict['movie'][col]], dim=-1)\n",
    "        # concatenated embeddings passed to linear layer\n",
    "        z = self.lin1(z).relu()\n",
    "        z = self.lin_out(z)\n",
    "        return z.view(-1)\n",
    "\n",
    "\n",
    "class Model(torch.nn.Module):\n",
    "    def __init__(self, hidden_channels):\n",
    "        super().__init__()\n",
    "        self.encoder = GNNEncoder(hidden_channels, hidden_channels)\n",
    "        self.encoder = to_hetero(self.encoder, data.metadata(), aggr='sum')\n",
    "        self.decoder = EdgeDecoder(hidden_channels)\n",
    "\n",
    "    def forward(self, x_dict, edge_index_dict, edge_label_index):\n",
    "        # z_dict contains dictionary of movie and user embeddings returned from GraphSage\n",
    "        z_dict = self.encoder(x_dict, edge_index_dict)\n",
    "        return self.decoder(z_dict, edge_label_index)\n",
    "\n",
    "\n",
    "model = Model(hidden_channels=64).to(device)"
   ]
  },
  {
   "cell_type": "code",
   "execution_count": 35,
   "metadata": {},
   "outputs": [],
   "source": [
    "# Due to lazy initialization, we need to run one model step so the number\n",
    "# of parameters can be inferred:\n",
    "with torch.no_grad():\n",
    "    model.encoder(train_data.x_dict, train_data.edge_index_dict)\n",
    "\n",
    "optimizer = torch.optim.Adam(model.parameters())"
   ]
  },
  {
   "cell_type": "code",
   "execution_count": 36,
   "metadata": {},
   "outputs": [],
   "source": [
    "def train():\n",
    "    model.train()\n",
    "    optimizer.zero_grad()\n",
    "    pred = model(train_data.x_dict, train_data.edge_index_dict,\n",
    "                 train_data['user', 'movie'].edge_label_index)\n",
    "    target = train_data['user', 'movie'].edge_label\n",
    "    # loss = weighted_mse_loss(pred, target, weight)\n",
    "    loss = F.mse_loss(pred, target).sqrt()\n",
    "    loss.backward()\n",
    "    optimizer.step()\n",
    "    return float(loss)\n",
    "\n",
    "\n",
    "@torch.no_grad()\n",
    "def test(data):\n",
    "    model.eval()\n",
    "    pred = model(data.x_dict, data.edge_index_dict,\n",
    "                 data['user', 'movie'].edge_label_index)\n",
    "    pred = pred.clamp(min=0, max=5)\n",
    "    target = data['user', 'movie'].edge_label.float()\n",
    "    rmse = F.mse_loss(pred, target).sqrt()\n",
    "    return float(rmse)"
   ]
  },
  {
   "cell_type": "code",
   "execution_count": 37,
   "metadata": {},
   "outputs": [
    {
     "name": "stdout",
     "output_type": "stream",
     "text": [
      "Epoch: 001\tTrain: 3.5342\tVal: 3.2420\tTest: 3.2738\n",
      "Epoch: 002\tTrain: 3.2490\tVal: 2.9519\tTest: 2.9829\n",
      "Epoch: 003\tTrain: 2.9567\tVal: 2.6594\tTest: 2.6893\n",
      "Epoch: 004\tTrain: 2.6627\tVal: 2.3473\tTest: 2.3755\n",
      "Epoch: 005\tTrain: 2.3489\tVal: 2.0120\tTest: 2.0376\n",
      "Epoch: 006\tTrain: 2.0114\tVal: 1.6613\tTest: 1.6824\n",
      "Epoch: 007\tTrain: 1.6580\tVal: 1.3262\tTest: 1.3389\n",
      "Epoch: 008\tTrain: 1.3208\tVal: 1.0910\tTest: 1.0883\n",
      "Epoch: 009\tTrain: 1.0860\tVal: 1.1072\tTest: 1.0855\n",
      "Epoch: 010\tTrain: 1.1077\tVal: 1.3076\tTest: 1.2770\n",
      "Epoch: 011\tTrain: 1.3138\tVal: 1.4434\tTest: 1.4105\n",
      "Epoch: 012\tTrain: 1.4520\tVal: 1.4543\tTest: 1.4213\n",
      "Epoch: 013\tTrain: 1.4629\tVal: 1.3764\tTest: 1.3446\n",
      "Epoch: 014\tTrain: 1.3837\tVal: 1.2526\tTest: 1.2235\n",
      "Epoch: 015\tTrain: 1.2572\tVal: 1.1338\tTest: 1.1098\n",
      "Epoch: 016\tTrain: 1.1352\tVal: 1.0645\tTest: 1.0482\n",
      "Epoch: 017\tTrain: 1.0627\tVal: 1.0604\tTest: 1.0527\n",
      "Epoch: 018\tTrain: 1.0563\tVal: 1.1009\tTest: 1.1003\n",
      "Epoch: 019\tTrain: 1.0957\tVal: 1.1513\tTest: 1.1553\n",
      "Epoch: 020\tTrain: 1.1457\tVal: 1.1870\tTest: 1.1934\n",
      "Epoch: 021\tTrain: 1.1814\tVal: 1.1982\tTest: 1.2053\n",
      "Epoch: 022\tTrain: 1.1926\tVal: 1.1848\tTest: 1.1912\n",
      "Epoch: 023\tTrain: 1.1792\tVal: 1.1526\tTest: 1.1568\n",
      "Epoch: 024\tTrain: 1.1469\tVal: 1.1107\tTest: 1.1116\n",
      "Epoch: 025\tTrain: 1.1051\tVal: 1.0714\tTest: 1.0678\n",
      "Epoch: 026\tTrain: 1.0661\tVal: 1.0467\tTest: 1.0378\n",
      "Epoch: 027\tTrain: 1.0421\tVal: 1.0433\tTest: 1.0292\n",
      "Epoch: 028\tTrain: 1.0398\tVal: 1.0575\tTest: 1.0392\n",
      "Epoch: 029\tTrain: 1.0552\tVal: 1.0772\tTest: 1.0562\n",
      "Epoch: 030\tTrain: 1.0758\tVal: 1.0895\tTest: 1.0672\n",
      "Epoch: 031\tTrain: 1.0885\tVal: 1.0876\tTest: 1.0653\n",
      "Epoch: 032\tTrain: 1.0865\tVal: 1.0731\tTest: 1.0520\n",
      "Epoch: 033\tTrain: 1.0714\tVal: 1.0533\tTest: 1.0344\n",
      "Epoch: 034\tTrain: 1.0506\tVal: 1.0372\tTest: 1.0213\n",
      "Epoch: 035\tTrain: 1.0334\tVal: 1.0304\tTest: 1.0178\n",
      "Epoch: 036\tTrain: 1.0256\tVal: 1.0329\tTest: 1.0235\n",
      "Epoch: 037\tTrain: 1.0274\tVal: 1.0405\tTest: 1.0335\n",
      "Epoch: 038\tTrain: 1.0344\tVal: 1.0474\tTest: 1.0420\n",
      "Epoch: 039\tTrain: 1.0411\tVal: 1.0497\tTest: 1.0449\n",
      "Epoch: 040\tTrain: 1.0433\tVal: 1.0463\tTest: 1.0410\n",
      "Epoch: 041\tTrain: 1.0397\tVal: 1.0383\tTest: 1.0318\n",
      "Epoch: 042\tTrain: 1.0317\tVal: 1.0288\tTest: 1.0204\n",
      "Epoch: 043\tTrain: 1.0224\tVal: 1.0212\tTest: 1.0105\n",
      "Epoch: 044\tTrain: 1.0150\tVal: 1.0178\tTest: 1.0048\n",
      "Epoch: 045\tTrain: 1.0120\tVal: 1.0187\tTest: 1.0036\n",
      "Epoch: 046\tTrain: 1.0132\tVal: 1.0215\tTest: 1.0050\n",
      "Epoch: 047\tTrain: 1.0163\tVal: 1.0232\tTest: 1.0059\n",
      "Epoch: 048\tTrain: 1.0180\tVal: 1.0219\tTest: 1.0046\n",
      "Epoch: 049\tTrain: 1.0166\tVal: 1.0179\tTest: 1.0012\n",
      "Epoch: 050\tTrain: 1.0122\tVal: 1.0130\tTest: 0.9976\n",
      "Epoch: 051\tTrain: 1.0069\tVal: 1.0094\tTest: 0.9955\n",
      "Epoch: 052\tTrain: 1.0029\tVal: 1.0082\tTest: 0.9958\n",
      "Epoch: 053\tTrain: 1.0012\tVal: 1.0087\tTest: 0.9977\n",
      "Epoch: 054\tTrain: 1.0014\tVal: 1.0097\tTest: 0.9995\n",
      "Epoch: 055\tTrain: 1.0022\tVal: 1.0097\tTest: 0.9999\n",
      "Epoch: 056\tTrain: 1.0020\tVal: 1.0080\tTest: 0.9980\n",
      "Epoch: 057\tTrain: 1.0002\tVal: 1.0051\tTest: 0.9944\n",
      "Epoch: 058\tTrain: 0.9973\tVal: 1.0021\tTest: 0.9903\n",
      "Epoch: 059\tTrain: 0.9943\tVal: 0.9999\tTest: 0.9870\n",
      "Epoch: 060\tTrain: 0.9922\tVal: 0.9990\tTest: 0.9850\n",
      "Epoch: 061\tTrain: 0.9914\tVal: 0.9989\tTest: 0.9841\n",
      "Epoch: 062\tTrain: 0.9914\tVal: 0.9987\tTest: 0.9834\n",
      "Epoch: 063\tTrain: 0.9911\tVal: 0.9975\tTest: 0.9823\n",
      "Epoch: 064\tTrain: 0.9899\tVal: 0.9955\tTest: 0.9808\n",
      "Epoch: 065\tTrain: 0.9877\tVal: 0.9935\tTest: 0.9795\n",
      "Epoch: 066\tTrain: 0.9854\tVal: 0.9922\tTest: 0.9791\n",
      "Epoch: 067\tTrain: 0.9839\tVal: 0.9916\tTest: 0.9792\n",
      "Epoch: 068\tTrain: 0.9830\tVal: 0.9911\tTest: 0.9793\n",
      "Epoch: 069\tTrain: 0.9824\tVal: 0.9902\tTest: 0.9786\n",
      "Epoch: 070\tTrain: 0.9814\tVal: 0.9888\tTest: 0.9770\n",
      "Epoch: 071\tTrain: 0.9799\tVal: 0.9871\tTest: 0.9748\n",
      "Epoch: 072\tTrain: 0.9782\tVal: 0.9856\tTest: 0.9727\n",
      "Epoch: 073\tTrain: 0.9767\tVal: 0.9846\tTest: 0.9711\n",
      "Epoch: 074\tTrain: 0.9758\tVal: 0.9839\tTest: 0.9700\n",
      "Epoch: 075\tTrain: 0.9751\tVal: 0.9829\tTest: 0.9690\n",
      "Epoch: 076\tTrain: 0.9741\tVal: 0.9816\tTest: 0.9679\n",
      "Epoch: 077\tTrain: 0.9726\tVal: 0.9802\tTest: 0.9670\n",
      "Epoch: 078\tTrain: 0.9711\tVal: 0.9792\tTest: 0.9666\n",
      "Epoch: 079\tTrain: 0.9699\tVal: 0.9784\tTest: 0.9662\n",
      "Epoch: 080\tTrain: 0.9690\tVal: 0.9776\tTest: 0.9655\n",
      "Epoch: 081\tTrain: 0.9681\tVal: 0.9764\tTest: 0.9642\n",
      "Epoch: 082\tTrain: 0.9668\tVal: 0.9751\tTest: 0.9626\n",
      "Epoch: 083\tTrain: 0.9655\tVal: 0.9739\tTest: 0.9610\n",
      "Epoch: 084\tTrain: 0.9643\tVal: 0.9729\tTest: 0.9597\n",
      "Epoch: 085\tTrain: 0.9633\tVal: 0.9720\tTest: 0.9585\n",
      "Epoch: 086\tTrain: 0.9623\tVal: 0.9710\tTest: 0.9575\n",
      "Epoch: 087\tTrain: 0.9612\tVal: 0.9699\tTest: 0.9566\n",
      "Epoch: 088\tTrain: 0.9599\tVal: 0.9688\tTest: 0.9559\n",
      "Epoch: 089\tTrain: 0.9587\tVal: 0.9680\tTest: 0.9553\n",
      "Epoch: 090\tTrain: 0.9577\tVal: 0.9671\tTest: 0.9545\n",
      "Epoch: 091\tTrain: 0.9567\tVal: 0.9661\tTest: 0.9534\n",
      "Epoch: 092\tTrain: 0.9556\tVal: 0.9651\tTest: 0.9521\n",
      "Epoch: 093\tTrain: 0.9544\tVal: 0.9641\tTest: 0.9508\n",
      "Epoch: 094\tTrain: 0.9532\tVal: 0.9631\tTest: 0.9496\n",
      "Epoch: 095\tTrain: 0.9520\tVal: 0.9620\tTest: 0.9487\n",
      "Epoch: 096\tTrain: 0.9508\tVal: 0.9611\tTest: 0.9480\n",
      "Epoch: 097\tTrain: 0.9497\tVal: 0.9603\tTest: 0.9474\n",
      "Epoch: 098\tTrain: 0.9487\tVal: 0.9594\tTest: 0.9465\n",
      "Epoch: 099\tTrain: 0.9476\tVal: 0.9584\tTest: 0.9454\n",
      "Epoch: 100\tTrain: 0.9464\tVal: 0.9574\tTest: 0.9442\n",
      "Epoch: 101\tTrain: 0.9452\tVal: 0.9564\tTest: 0.9430\n",
      "Epoch: 102\tTrain: 0.9441\tVal: 0.9554\tTest: 0.9421\n",
      "Epoch: 103\tTrain: 0.9429\tVal: 0.9543\tTest: 0.9412\n",
      "Epoch: 104\tTrain: 0.9417\tVal: 0.9533\tTest: 0.9404\n",
      "Epoch: 105\tTrain: 0.9405\tVal: 0.9522\tTest: 0.9394\n",
      "Epoch: 106\tTrain: 0.9393\tVal: 0.9512\tTest: 0.9383\n",
      "Epoch: 107\tTrain: 0.9381\tVal: 0.9502\tTest: 0.9371\n",
      "Epoch: 108\tTrain: 0.9369\tVal: 0.9491\tTest: 0.9361\n",
      "Epoch: 109\tTrain: 0.9357\tVal: 0.9481\tTest: 0.9352\n",
      "Epoch: 110\tTrain: 0.9344\tVal: 0.9470\tTest: 0.9343\n",
      "Epoch: 111\tTrain: 0.9332\tVal: 0.9460\tTest: 0.9334\n",
      "Epoch: 112\tTrain: 0.9320\tVal: 0.9450\tTest: 0.9324\n",
      "Epoch: 113\tTrain: 0.9307\tVal: 0.9439\tTest: 0.9314\n",
      "Epoch: 114\tTrain: 0.9295\tVal: 0.9428\tTest: 0.9303\n",
      "Epoch: 115\tTrain: 0.9282\tVal: 0.9417\tTest: 0.9294\n",
      "Epoch: 116\tTrain: 0.9269\tVal: 0.9406\tTest: 0.9284\n",
      "Epoch: 117\tTrain: 0.9256\tVal: 0.9394\tTest: 0.9273\n",
      "Epoch: 118\tTrain: 0.9243\tVal: 0.9382\tTest: 0.9261\n",
      "Epoch: 119\tTrain: 0.9230\tVal: 0.9371\tTest: 0.9251\n",
      "Epoch: 120\tTrain: 0.9215\tVal: 0.9358\tTest: 0.9243\n",
      "Epoch: 121\tTrain: 0.9200\tVal: 0.9347\tTest: 0.9234\n",
      "Epoch: 122\tTrain: 0.9185\tVal: 0.9334\tTest: 0.9220\n",
      "Epoch: 123\tTrain: 0.9171\tVal: 0.9321\tTest: 0.9206\n",
      "Epoch: 124\tTrain: 0.9156\tVal: 0.9309\tTest: 0.9196\n",
      "Epoch: 125\tTrain: 0.9141\tVal: 0.9295\tTest: 0.9184\n",
      "Epoch: 126\tTrain: 0.9125\tVal: 0.9280\tTest: 0.9167\n",
      "Epoch: 127\tTrain: 0.9109\tVal: 0.9265\tTest: 0.9153\n",
      "Epoch: 128\tTrain: 0.9091\tVal: 0.9251\tTest: 0.9143\n",
      "Epoch: 129\tTrain: 0.9073\tVal: 0.9235\tTest: 0.9123\n",
      "Epoch: 130\tTrain: 0.9054\tVal: 0.9219\tTest: 0.9108\n",
      "Epoch: 131\tTrain: 0.9034\tVal: 0.9203\tTest: 0.9093\n",
      "Epoch: 132\tTrain: 0.9014\tVal: 0.9185\tTest: 0.9069\n",
      "Epoch: 133\tTrain: 0.8994\tVal: 0.9169\tTest: 0.9056\n",
      "Epoch: 134\tTrain: 0.8974\tVal: 0.9150\tTest: 0.9032\n",
      "Epoch: 135\tTrain: 0.8953\tVal: 0.9133\tTest: 0.9017\n",
      "Epoch: 136\tTrain: 0.8932\tVal: 0.9115\tTest: 0.8995\n",
      "Epoch: 137\tTrain: 0.8912\tVal: 0.9098\tTest: 0.8980\n",
      "Epoch: 138\tTrain: 0.8891\tVal: 0.9081\tTest: 0.8957\n",
      "Epoch: 139\tTrain: 0.8871\tVal: 0.9067\tTest: 0.8949\n",
      "Epoch: 140\tTrain: 0.8853\tVal: 0.9054\tTest: 0.8922\n",
      "Epoch: 141\tTrain: 0.8840\tVal: 0.9047\tTest: 0.8935\n",
      "Epoch: 142\tTrain: 0.8827\tVal: 0.9024\tTest: 0.8895\n",
      "Epoch: 143\tTrain: 0.8804\tVal: 0.9011\tTest: 0.8883\n",
      "Epoch: 144\tTrain: 0.8788\tVal: 0.9008\tTest: 0.8894\n",
      "Epoch: 145\tTrain: 0.8780\tVal: 0.8990\tTest: 0.8860\n",
      "Epoch: 146\tTrain: 0.8762\tVal: 0.8978\tTest: 0.8851\n",
      "Epoch: 147\tTrain: 0.8749\tVal: 0.8975\tTest: 0.8860\n",
      "Epoch: 148\tTrain: 0.8742\tVal: 0.8960\tTest: 0.8830\n",
      "Epoch: 149\tTrain: 0.8727\tVal: 0.8950\tTest: 0.8823\n",
      "Epoch: 150\tTrain: 0.8716\tVal: 0.8947\tTest: 0.8831\n",
      "Epoch: 151\tTrain: 0.8710\tVal: 0.8933\tTest: 0.8805\n",
      "Epoch: 152\tTrain: 0.8698\tVal: 0.8924\tTest: 0.8800\n",
      "Epoch: 153\tTrain: 0.8688\tVal: 0.8921\tTest: 0.8805\n",
      "Epoch: 154\tTrain: 0.8683\tVal: 0.8910\tTest: 0.8782\n",
      "Epoch: 155\tTrain: 0.8674\tVal: 0.8902\tTest: 0.8780\n",
      "Epoch: 156\tTrain: 0.8664\tVal: 0.8898\tTest: 0.8782\n",
      "Epoch: 157\tTrain: 0.8659\tVal: 0.8890\tTest: 0.8763\n",
      "Epoch: 158\tTrain: 0.8653\tVal: 0.8883\tTest: 0.8762\n",
      "Epoch: 159\tTrain: 0.8644\tVal: 0.8880\tTest: 0.8763\n",
      "Epoch: 160\tTrain: 0.8640\tVal: 0.8874\tTest: 0.8747\n",
      "Epoch: 161\tTrain: 0.8634\tVal: 0.8868\tTest: 0.8749\n",
      "Epoch: 162\tTrain: 0.8627\tVal: 0.8865\tTest: 0.8747\n",
      "Epoch: 163\tTrain: 0.8623\tVal: 0.8861\tTest: 0.8733\n",
      "Epoch: 164\tTrain: 0.8619\tVal: 0.8857\tTest: 0.8737\n",
      "Epoch: 165\tTrain: 0.8613\tVal: 0.8854\tTest: 0.8734\n",
      "Epoch: 166\tTrain: 0.8608\tVal: 0.8850\tTest: 0.8722\n",
      "Epoch: 167\tTrain: 0.8605\tVal: 0.8848\tTest: 0.8728\n",
      "Epoch: 168\tTrain: 0.8601\tVal: 0.8844\tTest: 0.8721\n",
      "Epoch: 169\tTrain: 0.8596\tVal: 0.8841\tTest: 0.8714\n",
      "Epoch: 170\tTrain: 0.8593\tVal: 0.8840\tTest: 0.8720\n",
      "Epoch: 171\tTrain: 0.8590\tVal: 0.8836\tTest: 0.8709\n",
      "Epoch: 172\tTrain: 0.8587\tVal: 0.8833\tTest: 0.8708\n",
      "Epoch: 173\tTrain: 0.8583\tVal: 0.8832\tTest: 0.8710\n",
      "Epoch: 174\tTrain: 0.8581\tVal: 0.8829\tTest: 0.8699\n",
      "Epoch: 175\tTrain: 0.8579\tVal: 0.8828\tTest: 0.8704\n",
      "Epoch: 176\tTrain: 0.8576\tVal: 0.8825\tTest: 0.8697\n",
      "Epoch: 177\tTrain: 0.8573\tVal: 0.8823\tTest: 0.8693\n",
      "Epoch: 178\tTrain: 0.8571\tVal: 0.8823\tTest: 0.8698\n",
      "Epoch: 179\tTrain: 0.8569\tVal: 0.8819\tTest: 0.8688\n",
      "Epoch: 180\tTrain: 0.8567\tVal: 0.8819\tTest: 0.8692\n",
      "Epoch: 181\tTrain: 0.8564\tVal: 0.8816\tTest: 0.8688\n",
      "Epoch: 182\tTrain: 0.8562\tVal: 0.8815\tTest: 0.8684\n",
      "Epoch: 183\tTrain: 0.8560\tVal: 0.8814\tTest: 0.8688\n",
      "Epoch: 184\tTrain: 0.8559\tVal: 0.8812\tTest: 0.8679\n",
      "Epoch: 185\tTrain: 0.8557\tVal: 0.8812\tTest: 0.8685\n",
      "Epoch: 186\tTrain: 0.8555\tVal: 0.8809\tTest: 0.8677\n",
      "Epoch: 187\tTrain: 0.8553\tVal: 0.8808\tTest: 0.8679\n",
      "Epoch: 188\tTrain: 0.8552\tVal: 0.8806\tTest: 0.8677\n",
      "Epoch: 189\tTrain: 0.8550\tVal: 0.8805\tTest: 0.8673\n",
      "Epoch: 190\tTrain: 0.8549\tVal: 0.8805\tTest: 0.8677\n",
      "Epoch: 191\tTrain: 0.8547\tVal: 0.8802\tTest: 0.8669\n",
      "Epoch: 192\tTrain: 0.8546\tVal: 0.8803\tTest: 0.8675\n",
      "Epoch: 193\tTrain: 0.8545\tVal: 0.8800\tTest: 0.8667\n",
      "Epoch: 194\tTrain: 0.8543\tVal: 0.8800\tTest: 0.8672\n",
      "Epoch: 195\tTrain: 0.8542\tVal: 0.8798\tTest: 0.8665\n",
      "Epoch: 196\tTrain: 0.8541\tVal: 0.8798\tTest: 0.8668\n",
      "Epoch: 197\tTrain: 0.8539\tVal: 0.8796\tTest: 0.8664\n",
      "Epoch: 198\tTrain: 0.8538\tVal: 0.8795\tTest: 0.8665\n",
      "Epoch: 199\tTrain: 0.8537\tVal: 0.8794\tTest: 0.8662\n",
      "Epoch: 200\tTrain: 0.8536\tVal: 0.8793\tTest: 0.8662\n",
      "Epoch: 201\tTrain: 0.8534\tVal: 0.8792\tTest: 0.8660\n",
      "Epoch: 202\tTrain: 0.8533\tVal: 0.8792\tTest: 0.8661\n",
      "Epoch: 203\tTrain: 0.8532\tVal: 0.8791\tTest: 0.8658\n",
      "Epoch: 204\tTrain: 0.8531\tVal: 0.8791\tTest: 0.8660\n",
      "Epoch: 205\tTrain: 0.8530\tVal: 0.8789\tTest: 0.8654\n",
      "Epoch: 206\tTrain: 0.8530\tVal: 0.8791\tTest: 0.8664\n",
      "Epoch: 207\tTrain: 0.8529\tVal: 0.8789\tTest: 0.8649\n",
      "Epoch: 208\tTrain: 0.8531\tVal: 0.8798\tTest: 0.8677\n",
      "Epoch: 209\tTrain: 0.8534\tVal: 0.8796\tTest: 0.8648\n",
      "Epoch: 210\tTrain: 0.8541\tVal: 0.8802\tTest: 0.8685\n",
      "Epoch: 211\tTrain: 0.8538\tVal: 0.8788\tTest: 0.8645\n",
      "Epoch: 212\tTrain: 0.8530\tVal: 0.8784\tTest: 0.8652\n",
      "Epoch: 213\tTrain: 0.8523\tVal: 0.8791\tTest: 0.8667\n",
      "Epoch: 214\tTrain: 0.8527\tVal: 0.8789\tTest: 0.8643\n",
      "Epoch: 215\tTrain: 0.8531\tVal: 0.8788\tTest: 0.8664\n",
      "Epoch: 216\tTrain: 0.8524\tVal: 0.8782\tTest: 0.8650\n",
      "Epoch: 217\tTrain: 0.8519\tVal: 0.8783\tTest: 0.8642\n",
      "Epoch: 218\tTrain: 0.8522\tVal: 0.8789\tTest: 0.8666\n",
      "Epoch: 219\tTrain: 0.8523\tVal: 0.8781\tTest: 0.8642\n",
      "Epoch: 220\tTrain: 0.8519\tVal: 0.8780\tTest: 0.8646\n",
      "Epoch: 221\tTrain: 0.8516\tVal: 0.8784\tTest: 0.8658\n",
      "Epoch: 222\tTrain: 0.8518\tVal: 0.8781\tTest: 0.8639\n",
      "Epoch: 223\tTrain: 0.8519\tVal: 0.8781\tTest: 0.8652\n",
      "Epoch: 224\tTrain: 0.8515\tVal: 0.8779\tTest: 0.8647\n",
      "Epoch: 225\tTrain: 0.8513\tVal: 0.8778\tTest: 0.8638\n",
      "Epoch: 226\tTrain: 0.8514\tVal: 0.8781\tTest: 0.8654\n",
      "Epoch: 227\tTrain: 0.8514\tVal: 0.8776\tTest: 0.8640\n",
      "Epoch: 228\tTrain: 0.8511\tVal: 0.8776\tTest: 0.8640\n",
      "Epoch: 229\tTrain: 0.8510\tVal: 0.8779\tTest: 0.8651\n",
      "Epoch: 230\tTrain: 0.8511\tVal: 0.8776\tTest: 0.8637\n",
      "Epoch: 231\tTrain: 0.8510\tVal: 0.8777\tTest: 0.8645\n",
      "Epoch: 232\tTrain: 0.8508\tVal: 0.8776\tTest: 0.8644\n",
      "Epoch: 233\tTrain: 0.8507\tVal: 0.8775\tTest: 0.8637\n",
      "Epoch: 234\tTrain: 0.8507\tVal: 0.8777\tTest: 0.8648\n",
      "Epoch: 235\tTrain: 0.8506\tVal: 0.8774\tTest: 0.8638\n",
      "Epoch: 236\tTrain: 0.8505\tVal: 0.8774\tTest: 0.8639\n",
      "Epoch: 237\tTrain: 0.8504\tVal: 0.8775\tTest: 0.8644\n",
      "Epoch: 238\tTrain: 0.8503\tVal: 0.8773\tTest: 0.8635\n",
      "Epoch: 239\tTrain: 0.8503\tVal: 0.8775\tTest: 0.8643\n",
      "Epoch: 240\tTrain: 0.8502\tVal: 0.8773\tTest: 0.8638\n",
      "Epoch: 241\tTrain: 0.8501\tVal: 0.8772\tTest: 0.8636\n",
      "Epoch: 242\tTrain: 0.8500\tVal: 0.8774\tTest: 0.8643\n",
      "Epoch: 243\tTrain: 0.8500\tVal: 0.8772\tTest: 0.8634\n",
      "Epoch: 244\tTrain: 0.8499\tVal: 0.8773\tTest: 0.8641\n",
      "Epoch: 245\tTrain: 0.8498\tVal: 0.8772\tTest: 0.8637\n",
      "Epoch: 246\tTrain: 0.8497\tVal: 0.8771\tTest: 0.8636\n",
      "Epoch: 247\tTrain: 0.8496\tVal: 0.8773\tTest: 0.8640\n",
      "Epoch: 248\tTrain: 0.8496\tVal: 0.8771\tTest: 0.8634\n",
      "Epoch: 249\tTrain: 0.8495\tVal: 0.8772\tTest: 0.8639\n",
      "Epoch: 250\tTrain: 0.8494\tVal: 0.8771\tTest: 0.8635\n",
      "Epoch: 251\tTrain: 0.8493\tVal: 0.8771\tTest: 0.8636\n",
      "Epoch: 252\tTrain: 0.8493\tVal: 0.8771\tTest: 0.8637\n",
      "Epoch: 253\tTrain: 0.8492\tVal: 0.8770\tTest: 0.8633\n",
      "Epoch: 254\tTrain: 0.8491\tVal: 0.8772\tTest: 0.8639\n",
      "Epoch: 255\tTrain: 0.8491\tVal: 0.8770\tTest: 0.8632\n",
      "Epoch: 256\tTrain: 0.8490\tVal: 0.8771\tTest: 0.8637\n",
      "Epoch: 257\tTrain: 0.8489\tVal: 0.8770\tTest: 0.8633\n",
      "Epoch: 258\tTrain: 0.8488\tVal: 0.8771\tTest: 0.8635\n",
      "Epoch: 259\tTrain: 0.8487\tVal: 0.8770\tTest: 0.8634\n",
      "Epoch: 260\tTrain: 0.8487\tVal: 0.8770\tTest: 0.8633\n",
      "Epoch: 261\tTrain: 0.8486\tVal: 0.8771\tTest: 0.8635\n",
      "Epoch: 262\tTrain: 0.8485\tVal: 0.8770\tTest: 0.8632\n",
      "Epoch: 263\tTrain: 0.8484\tVal: 0.8771\tTest: 0.8635\n",
      "Epoch: 264\tTrain: 0.8484\tVal: 0.8770\tTest: 0.8630\n",
      "Epoch: 265\tTrain: 0.8483\tVal: 0.8771\tTest: 0.8637\n",
      "Epoch: 266\tTrain: 0.8483\tVal: 0.8770\tTest: 0.8629\n",
      "Epoch: 267\tTrain: 0.8482\tVal: 0.8773\tTest: 0.8639\n",
      "Epoch: 268\tTrain: 0.8482\tVal: 0.8770\tTest: 0.8627\n",
      "Epoch: 269\tTrain: 0.8482\tVal: 0.8776\tTest: 0.8644\n",
      "Epoch: 270\tTrain: 0.8482\tVal: 0.8772\tTest: 0.8625\n",
      "Epoch: 271\tTrain: 0.8484\tVal: 0.8780\tTest: 0.8652\n",
      "Epoch: 272\tTrain: 0.8485\tVal: 0.8774\tTest: 0.8624\n",
      "Epoch: 273\tTrain: 0.8486\tVal: 0.8781\tTest: 0.8652\n",
      "Epoch: 274\tTrain: 0.8484\tVal: 0.8771\tTest: 0.8623\n",
      "Epoch: 275\tTrain: 0.8481\tVal: 0.8773\tTest: 0.8639\n",
      "Epoch: 276\tTrain: 0.8477\tVal: 0.8770\tTest: 0.8630\n",
      "Epoch: 277\tTrain: 0.8474\tVal: 0.8769\tTest: 0.8627\n",
      "Epoch: 278\tTrain: 0.8474\tVal: 0.8775\tTest: 0.8641\n",
      "Epoch: 279\tTrain: 0.8475\tVal: 0.8772\tTest: 0.8624\n",
      "Epoch: 280\tTrain: 0.8476\tVal: 0.8778\tTest: 0.8646\n",
      "Epoch: 281\tTrain: 0.8476\tVal: 0.8771\tTest: 0.8624\n",
      "Epoch: 282\tTrain: 0.8475\tVal: 0.8775\tTest: 0.8640\n",
      "Epoch: 283\tTrain: 0.8472\tVal: 0.8770\tTest: 0.8626\n",
      "Epoch: 284\tTrain: 0.8470\tVal: 0.8770\tTest: 0.8630\n",
      "Epoch: 285\tTrain: 0.8469\tVal: 0.8771\tTest: 0.8633\n",
      "Epoch: 286\tTrain: 0.8468\tVal: 0.8770\tTest: 0.8625\n",
      "Epoch: 287\tTrain: 0.8469\tVal: 0.8775\tTest: 0.8639\n",
      "Epoch: 288\tTrain: 0.8469\tVal: 0.8770\tTest: 0.8623\n",
      "Epoch: 289\tTrain: 0.8469\tVal: 0.8775\tTest: 0.8640\n",
      "Epoch: 290\tTrain: 0.8468\tVal: 0.8770\tTest: 0.8624\n",
      "Epoch: 291\tTrain: 0.8466\tVal: 0.8773\tTest: 0.8636\n",
      "Epoch: 292\tTrain: 0.8465\tVal: 0.8770\tTest: 0.8626\n",
      "Epoch: 293\tTrain: 0.8463\tVal: 0.8771\tTest: 0.8631\n",
      "Epoch: 294\tTrain: 0.8462\tVal: 0.8771\tTest: 0.8630\n",
      "Epoch: 295\tTrain: 0.8462\tVal: 0.8771\tTest: 0.8627\n",
      "Epoch: 296\tTrain: 0.8461\tVal: 0.8773\tTest: 0.8634\n",
      "Epoch: 297\tTrain: 0.8461\tVal: 0.8771\tTest: 0.8624\n",
      "Epoch: 298\tTrain: 0.8461\tVal: 0.8775\tTest: 0.8638\n",
      "Epoch: 299\tTrain: 0.8460\tVal: 0.8771\tTest: 0.8623\n",
      "Epoch: 300\tTrain: 0.8461\tVal: 0.8777\tTest: 0.8641\n"
     ]
    }
   ],
   "source": [
    "EPOCHS = 300\n",
    "train_losses, val_losses, test_losses = [], [], []\n",
    "for epoch in range(1, EPOCHS+1):\n",
    "    train_loss = train()\n",
    "    # train_rmse = test(train_data)\n",
    "    val_rmse = test(val_data)\n",
    "    test_rmse = test(test_data)\n",
    "    \n",
    "    train_losses.append(train_loss), val_losses.append(val_rmse), test_losses.append(test_rmse)\n",
    "    \n",
    "    print(f'Epoch: {epoch:03d}\\tTrain: {train_loss:.4f}\\t'\n",
    "          f'Val: {val_rmse:.4f}\\tTest: {test_rmse:.4f}')\n",
    "    # break"
   ]
  },
  {
   "cell_type": "code",
   "execution_count": 38,
   "metadata": {},
   "outputs": [
    {
     "data": {
      "image/png": "[encoded data removed]",
      "text/plain": [
       "<Figure size 1400x500 with 2 Axes>"
      ]
     },
     "metadata": {},
     "output_type": "display_data"
    }
   ],
   "source": [
    "SKIP_WARM_UP_STEPS = 60\n",
    "\n",
    "_, (ax0, ax1) = plt.subplots(nrows=1, ncols=2, figsize=(14,5))\n",
    "ax0.plot(train_losses, label='Train')\n",
    "ax0.plot(val_losses, label='Validation')\n",
    "ax0.set_title('Learning curve')\n",
    "ax0.set_xlabel('Epochs')\n",
    "ax0.set_ylabel('Loss')\n",
    "ax0.legend()\n",
    "\n",
    "ax1.plot(range(SKIP_WARM_UP_STEPS, len(train_losses)), train_losses[SKIP_WARM_UP_STEPS:], label='Train')\n",
    "ax1.plot(range(SKIP_WARM_UP_STEPS, len(train_losses)), val_losses[SKIP_WARM_UP_STEPS:], label='Validation')\n",
    "ax1.set_title(f'Learning curve (after {SKIP_WARM_UP_STEPS} warm up steps)')\n",
    "ax1.set_xlabel('Epochs')\n",
    "ax1.set_ylabel('Loss')\n",
    "ax1.legend()\n",
    "plt.show()"
   ]
  },
  {
   "cell_type": "markdown",
   "metadata": {},
   "source": [
    "### Inspect test results"
   ]
  },
  {
   "cell_type": "code",
   "execution_count": 39,
   "metadata": {},
   "outputs": [],
   "source": [
    "model.eval()\n",
    "pred = model(test_data.x_dict, test_data.edge_index_dict,\n",
    "                test_data['user', 'movie'].edge_label_index)\n",
    "pred = pred.clamp(min=0, max=5)\n",
    "target = test_data['user', 'movie'].edge_label.float()\n",
    "rmse = F.mse_loss(pred, target).sqrt()"
   ]
  },
  {
   "cell_type": "code",
   "execution_count": 40,
   "metadata": {},
   "outputs": [
    {
     "data": {
      "text/plain": [
       "(tensor([3.0905, 3.5806, 2.8922, 3.6335, 3.6143, 3.9650, 3.4395, 3.7681, 3.7759,\n",
       "         3.6506, 2.9432, 2.6136, 2.8993, 4.0106, 2.9193, 4.2495, 4.4955, 2.4207,\n",
       "         3.6813, 3.8915], grad_fn=<SliceBackward0>),\n",
       " tensor([2.5000, 2.0000, 2.0000, 4.0000, 3.0000, 5.0000, 4.0000, 4.5000, 4.0000,\n",
       "         4.5000, 3.0000, 4.0000, 3.0000, 3.5000, 1.0000, 5.0000, 5.0000, 4.0000,\n",
       "         3.5000, 3.0000]))"
      ]
     },
     "execution_count": 40,
     "metadata": {},
     "output_type": "execute_result"
    }
   ],
   "source": [
    "pred[:20], target[:20]"
   ]
  },
  {
   "cell_type": "markdown",
   "metadata": {},
   "source": [
    "#### Evaluation\n",
    "\n",
    "Mean squared Error (MSE) can be used as loss function. However, it is not a well suited metric to evaluate the model's recommendations. `Recall@k` fits better for evaluating the recommendations done by the model.  "
   ]
  },
  {
   "cell_type": "code",
   "execution_count": 41,
   "metadata": {},
   "outputs": [
    {
     "name": "stderr",
     "output_type": "stream",
     "text": [
      "100%|██████████| 654/654 [03:05<00:00,  3.52it/s]\n"
     ]
    }
   ],
   "source": [
    "def create_rec_dict_per_user() -> dict:\n",
    "    \"\"\" Return a dictionnairy, with link predictions for each user.\n",
    "    \n",
    "        The dict keys are userId's and values a list of tuples. The\n",
    "        first tuple value is the predicted rating and the second one\n",
    "        the ground truth (rating). \"\"\"\n",
    "\n",
    "    user_rec_dict = defaultdict(list)\n",
    "    test_users_unique = test_data['user', 'movie'].edge_label_index[0].unique()\n",
    "\n",
    "    with torch.no_grad():\n",
    "        for user_id in tqdm(test_users_unique):\n",
    "            user_id = user_id.item()\n",
    "\n",
    "            idxs = (test_data['user', 'movie'].edge_label_index[0] == user_id).nonzero().squeeze()\n",
    "            edge_idxs = test_data['user', 'movie'].edge_label_index[:,idxs]\n",
    "            \n",
    "            true_ratings = test_data['user', 'movie'].edge_label[idxs]\n",
    "            if true_ratings.ndimension() == 0:\n",
    "                true_ratings = test_data['user', 'movie'].edge_label[idxs].unsqueeze(dim=0)\n",
    "\n",
    "            pred_ratings = model(test_data.x_dict, test_data.edge_index_dict, edge_idxs)\n",
    "\n",
    "            ratings = [(pred.item(), gt.item()) for gt, pred in zip(true_ratings, pred_ratings)] \n",
    "            user_rec_dict[user_id] = ratings\n",
    "        \n",
    "        return user_rec_dict\n",
    "\n",
    "\n",
    "def recall_at_k(user_rec_dict:dict, k:int, threshold:float) -> dict:\n",
    "    \"\"\"\" \"\"\"\n",
    "    with torch.no_grad():\n",
    "        # precisions = dict()\n",
    "        recalls = dict()\n",
    "\n",
    "        # k = 20\n",
    "        # threshold = 4.0\n",
    "\n",
    "        for uid, user_ratings in user_rec_dict.items():\n",
    "            \n",
    "            user_ratings.sort(key=lambda x: x[0], reverse=True) \n",
    "             \n",
    "            n_rel = sum([(true_rating >= threshold) for (_, true_rating) in user_ratings])\n",
    "            # n_rec_k = sum([(true_rating >= threshold) for (_, true_rating) in user_ratings[:k]])\n",
    "            # print(f'n_rel: {n_rel}, n_rec_k: {n_rec_k}')\n",
    "\n",
    "            n_rel_and_rec_k = sum([((true_r >= threshold) and (est >= threshold)) for (est, true_r) in user_ratings[:k]])\n",
    "            # print(n_rel_and_rec_k)\n",
    "            \n",
    "            # print(f'uid: {uid}, n_rel: {n_rel}, n_rec_k: {n_rec_k}, n_rel_and_rec_k: {n_rel_and_rec_k}')\n",
    "            \n",
    "            # precisions[uid] = n_rel_and_rec_k / n_rec_k if n_rec_k != 0 else 0\n",
    "            recalls[uid] = n_rel_and_rec_k / n_rel if n_rel != 0 else 0\n",
    "        \n",
    "        return recalls\n",
    "\n",
    "user_rec_dict = create_rec_dict_per_user()"
   ]
  },
  {
   "cell_type": "code",
   "execution_count": 42,
   "metadata": {},
   "outputs": [
    {
     "name": "stdout",
     "output_type": "stream",
     "text": [
      "Recall@20 (Threshold=4.0): 0.3466\n",
      "Recall@20 (Threshold=3.5): 0.6812\n"
     ]
    }
   ],
   "source": [
    "k = 20\n",
    "threshold = 4.0\n",
    "recalls = recall_at_k(user_rec_dict, k, threshold)\n",
    "rcl_at_k = sum(recalls.values()) / len(recalls.values())\n",
    "print(f'Recall@{k} (Threshold={threshold}):', round(rcl_at_k, 4))\n",
    "\n",
    "threshold = 3.5\n",
    "recalls = recall_at_k(user_rec_dict, k=k, threshold=threshold)\n",
    "rcl_at_k = sum(recalls.values()) / len(recalls.values())\n",
    "print(f'Recall@{k} (Threshold={threshold}):', round(rcl_at_k, 4))"
   ]
  },
  {
   "cell_type": "code",
   "execution_count": null,
   "metadata": {},
   "outputs": [],
   "source": []
  }
 ],
 "metadata": {
  "kernelspec": {
   "display_name": "Python 3.9.0 ('.new_venv': venv)",
   "language": "python",
   "name": "python3"
  },
  "language_info": {
   "codemirror_mode": {
    "name": "ipython",
    "version": 3
   },
   "file_extension": ".py",
   "mimetype": "text/x-python",
   "name": "python",
   "nbconvert_exporter": "python",
   "pygments_lexer": "ipython3",
   "version": "3.9.0"
  },
  "orig_nbformat": 4,
  "vscode": {
   "interpreter": {
    "hash": "b4b86cfc1452e77d9ce278d6e2f06ea7b3cf78c66895cad39e55a1df0fa1f1cb"
   }
  }
 },
 "nbformat": 4,
 "nbformat_minor": 2
}
