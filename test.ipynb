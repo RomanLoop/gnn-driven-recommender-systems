{
 "cells": [
  {
   "cell_type": "code",
   "execution_count": 1,
   "metadata": {},
   "outputs": [],
   "source": [
    "from collections import defaultdict\n",
    "from datetime import datetime\n",
    "import json\n",
    "import pickle\n",
    "import numpy as np\n",
    "import pandas as pd\n",
    "from tqdm import tqdm\n",
    "\n",
    "from matplotlib import pyplot as plt\n",
    "import seaborn as sns\n",
    "\n",
    "import torch\n",
    "from torch.nn import Linear, MSELoss\n",
    "import torch.nn.functional as F\n",
    "\n",
    "from torch_geometric.data import HeteroData\n",
    "from torch_geometric.nn import SAGEConv, to_hetero\n",
    "from torch_geometric.transforms import RandomLinkSplit, ToUndirected, AddSelfLoops, NormalizeFeatures\n",
    "\n",
    "sns.set_theme(style=\"white\")"
   ]
  },
  {
   "cell_type": "code",
   "execution_count": 2,
   "metadata": {},
   "outputs": [],
   "source": [
    "def train_test_split(data:dict, num_val:float=0.1, num_test:float=0.1):\n",
    "    train_data, val_data, test_data = RandomLinkSplit(\n",
    "        num_val=num_val,\n",
    "        num_test=num_test,\n",
    "        neg_sampling_ratio=0.0,\n",
    "        edge_types=[('user', 'rates', 'movie')],\n",
    "        rev_edge_types=[('movie', 'rev_rates', 'user')],\n",
    "    )(data)\n",
    "    return train_data, val_data, test_data"
   ]
  },
  {
   "cell_type": "code",
   "execution_count": null,
   "metadata": {},
   "outputs": [],
   "source": [
    "train_data, val_data, test_data = train_test_split(dataset_umap4)"
   ]
  },
  {
   "cell_type": "code",
   "execution_count": null,
   "metadata": {},
   "outputs": [],
   "source": [
    "# Load best model\n",
    "model = torch.load('models/sage_model_20230108')\n",
    "test_loss = test(model=model, data=test_data)\n",
    "print(test_loss)\n"
   ]
  }
 ],
 "metadata": {
  "kernelspec": {
   "display_name": ".new_venv",
   "language": "python",
   "name": "python3"
  },
  "language_info": {
   "codemirror_mode": {
    "name": "ipython",
    "version": 3
   },
   "file_extension": ".py",
   "mimetype": "text/x-python",
   "name": "python",
   "nbconvert_exporter": "python",
   "pygments_lexer": "ipython3",
   "version": "3.9.0"
  },
  "orig_nbformat": 4,
  "vscode": {
   "interpreter": {
    "hash": "b4b86cfc1452e77d9ce278d6e2f06ea7b3cf78c66895cad39e55a1df0fa1f1cb"
   }
  }
 },
 "nbformat": 4,
 "nbformat_minor": 2
}
