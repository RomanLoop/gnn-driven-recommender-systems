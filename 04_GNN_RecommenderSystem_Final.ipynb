{
 "cells": [
  {
   "cell_type": "code",
   "execution_count": 1,
   "metadata": {},
   "outputs": [],
   "source": [
    "from collections import defaultdict\n",
    "from datetime import datetime\n",
    "import json\n",
    "import pickle\n",
    "import numpy as np\n",
    "import pandas as pd\n",
    "from tqdm import tqdm\n",
    "\n",
    "from matplotlib import pyplot as plt\n",
    "import seaborn as sns\n",
    "\n",
    "import torch\n",
    "from torch.nn import Linear, MSELoss\n",
    "import torch.nn.functional as F\n",
    "\n",
    "from torch_geometric.data import HeteroData\n",
    "from torch_geometric.nn import SAGEConv, to_hetero\n",
    "from torch_geometric.transforms import RandomLinkSplit, ToUndirected, AddSelfLoops, NormalizeFeatures\n",
    "\n",
    "sns.set_theme(style=\"white\")"
   ]
  },
  {
   "cell_type": "code",
   "execution_count": 2,
   "metadata": {},
   "outputs": [
    {
     "data": {
      "text/plain": [
       "'1.13.0+cpu'"
      ]
     },
     "execution_count": 2,
     "metadata": {},
     "output_type": "execute_result"
    }
   ],
   "source": [
    "torch.__version__"
   ]
  },
  {
   "cell_type": "code",
   "execution_count": 3,
   "metadata": {},
   "outputs": [
    {
     "data": {
      "text/plain": [
       "device(type='cpu')"
      ]
     },
     "execution_count": 3,
     "metadata": {},
     "output_type": "execute_result"
    }
   ],
   "source": [
    "device = torch.device('cuda' if torch.cuda.is_available() else 'cpu')\n",
    "device"
   ]
  },
  {
   "attachments": {},
   "cell_type": "markdown",
   "metadata": {},
   "source": [
    "### Load data"
   ]
  },
  {
   "cell_type": "code",
   "execution_count": 4,
   "metadata": {},
   "outputs": [
    {
     "name": "stdout",
     "output_type": "stream",
     "text": [
      "(671, 1)\n"
     ]
    },
    {
     "data": {
      "text/html": [
       "<div>\n",
       "<style scoped>\n",
       "    .dataframe tbody tr th:only-of-type {\n",
       "        vertical-align: middle;\n",
       "    }\n",
       "\n",
       "    .dataframe tbody tr th {\n",
       "        vertical-align: top;\n",
       "    }\n",
       "\n",
       "    .dataframe thead th {\n",
       "        text-align: right;\n",
       "    }\n",
       "</style>\n",
       "<table border=\"1\" class=\"dataframe\">\n",
       "  <thead>\n",
       "    <tr style=\"text-align: right;\">\n",
       "      <th></th>\n",
       "      <th>userId</th>\n",
       "    </tr>\n",
       "  </thead>\n",
       "  <tbody>\n",
       "    <tr>\n",
       "      <th>0</th>\n",
       "      <td>0</td>\n",
       "    </tr>\n",
       "    <tr>\n",
       "      <th>1</th>\n",
       "      <td>1</td>\n",
       "    </tr>\n",
       "    <tr>\n",
       "      <th>2</th>\n",
       "      <td>2</td>\n",
       "    </tr>\n",
       "    <tr>\n",
       "      <th>3</th>\n",
       "      <td>3</td>\n",
       "    </tr>\n",
       "    <tr>\n",
       "      <th>4</th>\n",
       "      <td>4</td>\n",
       "    </tr>\n",
       "  </tbody>\n",
       "</table>\n",
       "</div>"
      ],
      "text/plain": [
       "   userId\n",
       "0       0\n",
       "1       1\n",
       "2       2\n",
       "3       3\n",
       "4       4"
      ]
     },
     "execution_count": 4,
     "metadata": {},
     "output_type": "execute_result"
    }
   ],
   "source": [
    "user_df = pd.read_csv('data/movieLens100k_users.csv')\n",
    "\n",
    "print(user_df.shape)\n",
    "user_df.head()"
   ]
  },
  {
   "cell_type": "code",
   "execution_count": 5,
   "metadata": {},
   "outputs": [
    {
     "name": "stdout",
     "output_type": "stream",
     "text": [
      "(9125, 26)\n"
     ]
    },
    {
     "data": {
      "text/html": [
       "<div>\n",
       "<style scoped>\n",
       "    .dataframe tbody tr th:only-of-type {\n",
       "        vertical-align: middle;\n",
       "    }\n",
       "\n",
       "    .dataframe tbody tr th {\n",
       "        vertical-align: top;\n",
       "    }\n",
       "\n",
       "    .dataframe thead th {\n",
       "        text-align: right;\n",
       "    }\n",
       "</style>\n",
       "<table border=\"1\" class=\"dataframe\">\n",
       "  <thead>\n",
       "    <tr style=\"text-align: right;\">\n",
       "      <th></th>\n",
       "      <th>movieId</th>\n",
       "      <th>Action</th>\n",
       "      <th>Adventure</th>\n",
       "      <th>Animation</th>\n",
       "      <th>Children</th>\n",
       "      <th>Comedy</th>\n",
       "      <th>Crime</th>\n",
       "      <th>Documentary</th>\n",
       "      <th>Drama</th>\n",
       "      <th>Fantasy</th>\n",
       "      <th>...</th>\n",
       "      <th>Sci-Fi</th>\n",
       "      <th>Thriller</th>\n",
       "      <th>War</th>\n",
       "      <th>Western</th>\n",
       "      <th>imdbRating</th>\n",
       "      <th>imdbVotes</th>\n",
       "      <th>runtime</th>\n",
       "      <th>year</th>\n",
       "      <th>num_popular_actors</th>\n",
       "      <th>num_popular_directors</th>\n",
       "    </tr>\n",
       "  </thead>\n",
       "  <tbody>\n",
       "    <tr>\n",
       "      <th>0</th>\n",
       "      <td>0</td>\n",
       "      <td>0</td>\n",
       "      <td>1</td>\n",
       "      <td>1</td>\n",
       "      <td>1</td>\n",
       "      <td>1</td>\n",
       "      <td>0</td>\n",
       "      <td>0</td>\n",
       "      <td>0</td>\n",
       "      <td>1</td>\n",
       "      <td>...</td>\n",
       "      <td>0</td>\n",
       "      <td>0</td>\n",
       "      <td>0</td>\n",
       "      <td>0</td>\n",
       "      <td>1.528928</td>\n",
       "      <td>5.144229</td>\n",
       "      <td>-0.876122</td>\n",
       "      <td>0.158905</td>\n",
       "      <td>2.943417</td>\n",
       "      <td>4.502288</td>\n",
       "    </tr>\n",
       "    <tr>\n",
       "      <th>1</th>\n",
       "      <td>1</td>\n",
       "      <td>0</td>\n",
       "      <td>1</td>\n",
       "      <td>0</td>\n",
       "      <td>1</td>\n",
       "      <td>0</td>\n",
       "      <td>0</td>\n",
       "      <td>0</td>\n",
       "      <td>0</td>\n",
       "      <td>1</td>\n",
       "      <td>...</td>\n",
       "      <td>0</td>\n",
       "      <td>0</td>\n",
       "      <td>0</td>\n",
       "      <td>0</td>\n",
       "      <td>0.174897</td>\n",
       "      <td>1.394602</td>\n",
       "      <td>-0.058951</td>\n",
       "      <td>0.158905</td>\n",
       "      <td>1.228413</td>\n",
       "      <td>-0.218854</td>\n",
       "    </tr>\n",
       "    <tr>\n",
       "      <th>2</th>\n",
       "      <td>2</td>\n",
       "      <td>0</td>\n",
       "      <td>0</td>\n",
       "      <td>0</td>\n",
       "      <td>0</td>\n",
       "      <td>1</td>\n",
       "      <td>0</td>\n",
       "      <td>0</td>\n",
       "      <td>0</td>\n",
       "      <td>0</td>\n",
       "      <td>...</td>\n",
       "      <td>0</td>\n",
       "      <td>0</td>\n",
       "      <td>0</td>\n",
       "      <td>0</td>\n",
       "      <td>-0.115253</td>\n",
       "      <td>-0.318207</td>\n",
       "      <td>-0.165539</td>\n",
       "      <td>0.158905</td>\n",
       "      <td>-0.486591</td>\n",
       "      <td>-0.218854</td>\n",
       "    </tr>\n",
       "    <tr>\n",
       "      <th>3</th>\n",
       "      <td>3</td>\n",
       "      <td>0</td>\n",
       "      <td>0</td>\n",
       "      <td>0</td>\n",
       "      <td>0</td>\n",
       "      <td>1</td>\n",
       "      <td>0</td>\n",
       "      <td>0</td>\n",
       "      <td>1</td>\n",
       "      <td>0</td>\n",
       "      <td>...</td>\n",
       "      <td>0</td>\n",
       "      <td>0</td>\n",
       "      <td>0</td>\n",
       "      <td>0</td>\n",
       "      <td>-1.082418</td>\n",
       "      <td>-0.426889</td>\n",
       "      <td>0.651632</td>\n",
       "      <td>0.158905</td>\n",
       "      <td>-0.486591</td>\n",
       "      <td>-0.218854</td>\n",
       "    </tr>\n",
       "    <tr>\n",
       "      <th>4</th>\n",
       "      <td>4</td>\n",
       "      <td>0</td>\n",
       "      <td>0</td>\n",
       "      <td>0</td>\n",
       "      <td>0</td>\n",
       "      <td>1</td>\n",
       "      <td>0</td>\n",
       "      <td>0</td>\n",
       "      <td>0</td>\n",
       "      <td>0</td>\n",
       "      <td>...</td>\n",
       "      <td>0</td>\n",
       "      <td>0</td>\n",
       "      <td>0</td>\n",
       "      <td>0</td>\n",
       "      <td>-0.792268</td>\n",
       "      <td>-0.248423</td>\n",
       "      <td>0.012107</td>\n",
       "      <td>0.158905</td>\n",
       "      <td>1.228413</td>\n",
       "      <td>-0.218854</td>\n",
       "    </tr>\n",
       "  </tbody>\n",
       "</table>\n",
       "<p>5 rows × 26 columns</p>\n",
       "</div>"
      ],
      "text/plain": [
       "   movieId  Action  Adventure  Animation  Children  Comedy  Crime  \\\n",
       "0        0       0          1          1         1       1      0   \n",
       "1        1       0          1          0         1       0      0   \n",
       "2        2       0          0          0         0       1      0   \n",
       "3        3       0          0          0         0       1      0   \n",
       "4        4       0          0          0         0       1      0   \n",
       "\n",
       "   Documentary  Drama  Fantasy  ...  Sci-Fi  Thriller  War  Western  \\\n",
       "0            0      0        1  ...       0         0    0        0   \n",
       "1            0      0        1  ...       0         0    0        0   \n",
       "2            0      0        0  ...       0         0    0        0   \n",
       "3            0      1        0  ...       0         0    0        0   \n",
       "4            0      0        0  ...       0         0    0        0   \n",
       "\n",
       "   imdbRating  imdbVotes   runtime      year  num_popular_actors  \\\n",
       "0    1.528928   5.144229 -0.876122  0.158905            2.943417   \n",
       "1    0.174897   1.394602 -0.058951  0.158905            1.228413   \n",
       "2   -0.115253  -0.318207 -0.165539  0.158905           -0.486591   \n",
       "3   -1.082418  -0.426889  0.651632  0.158905           -0.486591   \n",
       "4   -0.792268  -0.248423  0.012107  0.158905            1.228413   \n",
       "\n",
       "   num_popular_directors  \n",
       "0               4.502288  \n",
       "1              -0.218854  \n",
       "2              -0.218854  \n",
       "3              -0.218854  \n",
       "4              -0.218854  \n",
       "\n",
       "[5 rows x 26 columns]"
      ]
     },
     "execution_count": 5,
     "metadata": {},
     "output_type": "execute_result"
    }
   ],
   "source": [
    "movie_df = pd.read_csv('data/movieLens100k_movies.csv')\n",
    "movie_df.drop(columns=['plot', 'title'], axis=1, inplace=True)\n",
    "\n",
    "print(movie_df.shape)\n",
    "movie_df.head()"
   ]
  },
  {
   "cell_type": "code",
   "execution_count": 6,
   "metadata": {},
   "outputs": [
    {
     "name": "stdout",
     "output_type": "stream",
     "text": [
      "<class 'pandas.core.frame.DataFrame'>\n",
      "RangeIndex: 9125 entries, 0 to 9124\n",
      "Data columns (total 26 columns):\n",
      " #   Column                 Non-Null Count  Dtype  \n",
      "---  ------                 --------------  -----  \n",
      " 0   movieId                9125 non-null   int64  \n",
      " 1   Action                 9125 non-null   int64  \n",
      " 2   Adventure              9125 non-null   int64  \n",
      " 3   Animation              9125 non-null   int64  \n",
      " 4   Children               9125 non-null   int64  \n",
      " 5   Comedy                 9125 non-null   int64  \n",
      " 6   Crime                  9125 non-null   int64  \n",
      " 7   Documentary            9125 non-null   int64  \n",
      " 8   Drama                  9125 non-null   int64  \n",
      " 9   Fantasy                9125 non-null   int64  \n",
      " 10  Film-Noir              9125 non-null   int64  \n",
      " 11  Horror                 9125 non-null   int64  \n",
      " 12  IMAX                   9125 non-null   int64  \n",
      " 13  Musical                9125 non-null   int64  \n",
      " 14  Mystery                9125 non-null   int64  \n",
      " 15  Romance                9125 non-null   int64  \n",
      " 16  Sci-Fi                 9125 non-null   int64  \n",
      " 17  Thriller               9125 non-null   int64  \n",
      " 18  War                    9125 non-null   int64  \n",
      " 19  Western                9125 non-null   int64  \n",
      " 20  imdbRating             9125 non-null   float64\n",
      " 21  imdbVotes              9125 non-null   float64\n",
      " 22  runtime                9125 non-null   float64\n",
      " 23  year                   9125 non-null   float64\n",
      " 24  num_popular_actors     9125 non-null   float64\n",
      " 25  num_popular_directors  9125 non-null   float64\n",
      "dtypes: float64(6), int64(20)\n",
      "memory usage: 1.8 MB\n"
     ]
    }
   ],
   "source": [
    "movie_df.info()"
   ]
  },
  {
   "cell_type": "code",
   "execution_count": 7,
   "metadata": {},
   "outputs": [
    {
     "name": "stdout",
     "output_type": "stream",
     "text": [
      "(100004, 3)\n"
     ]
    },
    {
     "data": {
      "text/html": [
       "<div>\n",
       "<style scoped>\n",
       "    .dataframe tbody tr th:only-of-type {\n",
       "        vertical-align: middle;\n",
       "    }\n",
       "\n",
       "    .dataframe tbody tr th {\n",
       "        vertical-align: top;\n",
       "    }\n",
       "\n",
       "    .dataframe thead th {\n",
       "        text-align: right;\n",
       "    }\n",
       "</style>\n",
       "<table border=\"1\" class=\"dataframe\">\n",
       "  <thead>\n",
       "    <tr style=\"text-align: right;\">\n",
       "      <th></th>\n",
       "      <th>userId</th>\n",
       "      <th>movieId</th>\n",
       "      <th>rating</th>\n",
       "    </tr>\n",
       "  </thead>\n",
       "  <tbody>\n",
       "    <tr>\n",
       "      <th>0</th>\n",
       "      <td>0</td>\n",
       "      <td>1815</td>\n",
       "      <td>2.0</td>\n",
       "    </tr>\n",
       "    <tr>\n",
       "      <th>1</th>\n",
       "      <td>0</td>\n",
       "      <td>1962</td>\n",
       "      <td>2.5</td>\n",
       "    </tr>\n",
       "    <tr>\n",
       "      <th>2</th>\n",
       "      <td>0</td>\n",
       "      <td>2380</td>\n",
       "      <td>1.0</td>\n",
       "    </tr>\n",
       "    <tr>\n",
       "      <th>3</th>\n",
       "      <td>0</td>\n",
       "      <td>2925</td>\n",
       "      <td>3.0</td>\n",
       "    </tr>\n",
       "    <tr>\n",
       "      <th>4</th>\n",
       "      <td>0</td>\n",
       "      <td>1515</td>\n",
       "      <td>4.0</td>\n",
       "    </tr>\n",
       "  </tbody>\n",
       "</table>\n",
       "</div>"
      ],
      "text/plain": [
       "   userId  movieId  rating\n",
       "0       0     1815     2.0\n",
       "1       0     1962     2.5\n",
       "2       0     2380     1.0\n",
       "3       0     2925     3.0\n",
       "4       0     1515     4.0"
      ]
     },
     "execution_count": 7,
     "metadata": {},
     "output_type": "execute_result"
    }
   ],
   "source": [
    "rating_df = pd.read_csv('data/movieLens100k_ratings.csv')\n",
    "\n",
    "print(rating_df.shape)\n",
    "rating_df.head()"
   ]
  },
  {
   "cell_type": "code",
   "execution_count": 8,
   "metadata": {},
   "outputs": [],
   "source": [
    "assert not movie_df.isnull().values.any(), 'Null values in dataset!'"
   ]
  },
  {
   "attachments": {},
   "cell_type": "markdown",
   "metadata": {},
   "source": [
    "### Load pretrained user-embeddings\n",
    "\n",
    "The user embeddings are calculated in the notebook `03_LinkPrediction_userEmbeddings.ipynb`. The final embeddings are stored as `.npy` and just loaded here. Also the plot embeddings and their reduced forms are loaded here."
   ]
  },
  {
   "cell_type": "code",
   "execution_count": 9,
   "metadata": {},
   "outputs": [
    {
     "name": "stdout",
     "output_type": "stream",
     "text": [
      "User embedding shape: (671, 8)\n",
      "Plot embedding shape (UMAP-4): (9125, 4)\n",
      "Plot embedding shape (t-SENE-2): (9125, 2)\n"
     ]
    }
   ],
   "source": [
    "user_embeddings = np.load('./data/np_user_embeddings_20221125.npy')\n",
    "# user_embeddings = np.load('./data/np_user_embeddings_20221223.npy')\n",
    "\n",
    "plot_embeddings_umap4 = np.load('./data/np_plot_embeddings_umap_4d.npy')\n",
    "plot_embeddings_tsne2 = np.load('./data/np_plot_embeddings_tsne_2d.npy')\n",
    "\n",
    "print('User embedding shape:', user_embeddings.shape)\n",
    "print('Plot embedding shape (UMAP-4):', plot_embeddings_umap4.shape)\n",
    "print('Plot embedding shape (t-SENE-2):', plot_embeddings_tsne2.shape)\n"
   ]
  },
  {
   "cell_type": "code",
   "execution_count": 10,
   "metadata": {},
   "outputs": [
    {
     "name": "stdout",
     "output_type": "stream",
     "text": [
      "# Users: 671\n",
      "# Movies: 9125\n"
     ]
    }
   ],
   "source": [
    "assert len(user_embeddings) == 671, 'User shape not as expected'\n",
    "assert len(user_df) == 671, 'User shape not as expected'\n",
    "assert len(movie_df) == 9125, 'Movie shape not as expected'\n",
    "assert len(rating_df) == 100_004, 'Rating shape not as expected'\n",
    "\n",
    "n_users = len(user_df)\n",
    "n_movies = len(movie_df)\n",
    "\n",
    "print(f'# Users: {n_users}\\n# Movies: {n_movies}')"
   ]
  },
  {
   "cell_type": "code",
   "execution_count": 12,
   "metadata": {},
   "outputs": [
    {
     "data": {
      "text/plain": [
       "(9125, 26)"
      ]
     },
     "execution_count": 12,
     "metadata": {},
     "output_type": "execute_result"
    }
   ],
   "source": [
    "movie_df.shape"
   ]
  },
  {
   "cell_type": "markdown",
   "metadata": {},
   "source": [
    "### Create Pytorch Geometric (heterogenious) Dataset"
   ]
  },
  {
   "cell_type": "code",
   "execution_count": 18,
   "metadata": {},
   "outputs": [],
   "source": [
    "# pd.concat([movie_df, pd.DataFrame(plot_embeddings_tsne2)], axis=1)"
   ]
  },
  {
   "cell_type": "code",
   "execution_count": 23,
   "metadata": {},
   "outputs": [
    {
     "name": "stdout",
     "output_type": "stream",
     "text": [
      "dataset_no_plot: (9125, 26)\n",
      "dataset_tsne2: (9125, 28)\n",
      "dataset_umap4: (9125, 30)\n"
     ]
    }
   ],
   "source": [
    "def create_movie_df(df:pd.DataFrame, kind:str) -> pd.DataFrame:\n",
    "    \"\"\" \"\"\"\n",
    "    if kind == 'no_plot_embedding':\n",
    "        movie_df = df\n",
    "    elif kind == 'umap4':\n",
    "        movie_df = pd.concat([df, pd.DataFrame(plot_embeddings_umap4)], axis=1)\n",
    "    elif kind == 'tsne2':\n",
    "        movie_df = pd.concat([df, pd.DataFrame(plot_embeddings_tsne2)], axis=1)\n",
    "    else:\n",
    "        raise ValueError('kind must be either \"no_plot_embedding\", \"umap4\", or \"tsne2\"')\n",
    "\n",
    "    return movie_df\n",
    "\n",
    "movie_df_no_plot = create_movie_df(movie_df, kind='no_plot_embedding')\n",
    "movie_df_tsne2 = create_movie_df(movie_df, kind='tsne2')\n",
    "movie_df_umap4 = create_movie_df(movie_df, kind='umap4')\n",
    "\n",
    "print('dataset_no_plot:', movie_df_no_plot.shape)\n",
    "print('dataset_tsne2:', movie_df_tsne2.shape)\n",
    "print('dataset_umap4:', movie_df_umap4.shape)"
   ]
  },
  {
   "cell_type": "code",
   "execution_count": 24,
   "metadata": {},
   "outputs": [
    {
     "name": "stdout",
     "output_type": "stream",
     "text": [
      "dataset_no_plot: HeteroData(\n",
      "  \u001b[1muser\u001b[0m={ x=[671, 8] },\n",
      "  \u001b[1mmovie\u001b[0m={ x=[9125, 25] },\n",
      "  \u001b[1m(user, rates, movie)\u001b[0m={\n",
      "    edge_index=[2, 100004],\n",
      "    edge_label=[100004]\n",
      "  },\n",
      "  \u001b[1m(movie, rev_rates, user)\u001b[0m={ edge_index=[2, 100004] }\n",
      ")\n",
      "dataset_tsne2: HeteroData(\n",
      "  \u001b[1muser\u001b[0m={ x=[671, 8] },\n",
      "  \u001b[1mmovie\u001b[0m={ x=[9125, 27] },\n",
      "  \u001b[1m(user, rates, movie)\u001b[0m={\n",
      "    edge_index=[2, 100004],\n",
      "    edge_label=[100004]\n",
      "  },\n",
      "  \u001b[1m(movie, rev_rates, user)\u001b[0m={ edge_index=[2, 100004] }\n",
      ")\n",
      "dataset_umap4: HeteroData(\n",
      "  \u001b[1muser\u001b[0m={ x=[671, 8] },\n",
      "  \u001b[1mmovie\u001b[0m={ x=[9125, 29] },\n",
      "  \u001b[1m(user, rates, movie)\u001b[0m={\n",
      "    edge_index=[2, 100004],\n",
      "    edge_label=[100004]\n",
      "  },\n",
      "  \u001b[1m(movie, rev_rates, user)\u001b[0m={ edge_index=[2, 100004] }\n",
      ")\n"
     ]
    }
   ],
   "source": [
    "def create_dataset(movie_df:pd.DataFrame) -> dict:\n",
    "    \"\"\" Creates a PyG HeteroData object.\"\"\"\n",
    "\n",
    "    x_user = torch.Tensor(user_embeddings)\n",
    "\n",
    "    x_movie = movie_df.drop(columns=['movieId'], axis=1)\n",
    "    x_movie = torch.Tensor(x_movie.values)\n",
    "\n",
    "    edge_index = torch.Tensor(rating_df[['userId', 'movieId']].values).swapaxes(1,0).to(torch.long)\n",
    "    edge_label = torch.Tensor(rating_df['rating'].values)\n",
    "\n",
    "    data = HeteroData()\n",
    "    data['user'].x = x_user\n",
    "    data['movie'].x = x_movie\n",
    "\n",
    "    data[('user', 'rates', 'movie')].edge_index = edge_index\n",
    "    data[('user', 'rates', 'movie')].edge_label = edge_label\n",
    "\n",
    "    data = ToUndirected()(data)\n",
    "    del data[('movie', 'rev_rates', 'user')].edge_label\n",
    "\n",
    "    return data\n",
    "\n",
    "dataset_no_plot = create_dataset(movie_df_no_plot)\n",
    "dataset_tsne2 = create_dataset(movie_df_tsne2)\n",
    "dataset_umap4 = create_dataset(movie_df_umap4)\n",
    "\n",
    "\n",
    "print('dataset_no_plot:', dataset_no_plot)\n",
    "print('dataset_tsne2:', dataset_tsne2)\n",
    "print('dataset_umap4:', dataset_umap4)\n",
    "\n"
   ]
  },
  {
   "cell_type": "markdown",
   "metadata": {},
   "source": [
    "### Train / Test Split"
   ]
  },
  {
   "cell_type": "code",
   "execution_count": 54,
   "metadata": {},
   "outputs": [],
   "source": [
    "def train_test_split(data:dict, num_val:float=0.1, num_test:float=0.1):\n",
    "    train_data, val_data, test_data = RandomLinkSplit(\n",
    "        num_val=num_val,\n",
    "        num_test=num_test,\n",
    "        neg_sampling_ratio=0.0,\n",
    "        edge_types=[('user', 'rates', 'movie')],\n",
    "        rev_edge_types=[('movie', 'rev_rates', 'user')],\n",
    "    )(data)\n",
    "    return train_data, val_data, test_data"
   ]
  },
  {
   "cell_type": "markdown",
   "metadata": {},
   "source": [
    "### GNN Model"
   ]
  },
  {
   "cell_type": "code",
   "execution_count": 26,
   "metadata": {},
   "outputs": [],
   "source": [
    "class GNNEncoder(torch.nn.Module):\n",
    "    def __init__(self, hidden_channels, out_channels):\n",
    "        super().__init__()\n",
    "        # these convolutions have been replicated to match the number of edge types\n",
    "        self.conv1 = SAGEConv((-1, -1), hidden_channels)\n",
    "        self.conv2 = SAGEConv((-1, -1), out_channels)\n",
    "\n",
    "    def forward(self, x, edge_index):\n",
    "        x = self.conv1(x, edge_index).relu()\n",
    "        x = self.conv2(x, edge_index)\n",
    "        # x = self.norm2(x)\n",
    "        return x\n",
    "\n",
    "\n",
    "class EdgeDecoder(torch.nn.Module):\n",
    "    def __init__(self, hidden_channels):\n",
    "        super().__init__()\n",
    "        self.lin1 = Linear(2 * hidden_channels, hidden_channels)\n",
    "        self.dropout = torch.nn.Dropout(0.00)\n",
    "        self.lin_out = Linear(hidden_channels, 1)\n",
    "        \n",
    "    def forward(self, z_dict, edge_label_index):\n",
    "        row, col = edge_label_index\n",
    "        # concat user and movie embeddings\n",
    "        z = torch.cat([z_dict['user'][row], z_dict['movie'][col]], dim=-1)\n",
    "        # concatenated embeddings passed to linear layer\n",
    "        z = self.lin1(z).relu()\n",
    "        z = self.dropout(z)\n",
    "        z = self.lin_out(z)\n",
    "        return z.view(-1)\n",
    "\n",
    "\n",
    "class Model(torch.nn.Module):\n",
    "    def __init__(self, hidden_channels, out_channels):\n",
    "        super().__init__()\n",
    "        self.encoder = GNNEncoder(hidden_channels, hidden_channels)\n",
    "        self.encoder = to_hetero(self.encoder, data.metadata(), aggr='sum')\n",
    "        self.decoder = EdgeDecoder(hidden_channels)\n",
    "\n",
    "    def forward(self, x_dict, edge_index_dict, edge_label_index):\n",
    "        # z_dict contains dictionary of movie and user embeddings returned from GraphSage\n",
    "        z_dict = self.encoder(x_dict, edge_index_dict)\n",
    "        return self.decoder(z_dict, edge_label_index)\n",
    "\n",
    "\n",
    "# model = Model(hidden_channels=32, out_channels=32).to(device)"
   ]
  },
  {
   "cell_type": "code",
   "execution_count": 27,
   "metadata": {},
   "outputs": [],
   "source": [
    "# Due to lazy initialization, we need to run one model step so the number\n",
    "# of parameters can be inferred:\n",
    "def lazy_init(model, data):\n",
    "    \"\"\" Due to lazy initialization, we need to run one model step \n",
    "        so the number of parameters can be inferred.\"\"\"\n",
    "    with torch.no_grad():\n",
    "        model.encoder(data.x_dict, data.edge_index_dict)"
   ]
  },
  {
   "cell_type": "code",
   "execution_count": 28,
   "metadata": {},
   "outputs": [],
   "source": [
    "# optimizer = torch.optim.Adam(model.parameters())\n"
   ]
  },
  {
   "cell_type": "code",
   "execution_count": 29,
   "metadata": {},
   "outputs": [],
   "source": [
    "def train(model, data, optimizer):\n",
    "    model.train()\n",
    "    optimizer.zero_grad()\n",
    "    pred = model(data.x_dict, data.edge_index_dict,\n",
    "                 data['user', 'movie'].edge_label_index)\n",
    "    target = data['user', 'movie'].edge_label\n",
    "    # loss = weighted_mse_loss(pred, target, weight)\n",
    "    loss = F.mse_loss(pred, target).sqrt()\n",
    "    loss.backward()\n",
    "    optimizer.step()\n",
    "    return float(loss)\n",
    "\n",
    "\n",
    "@torch.no_grad()\n",
    "def test(model, data):\n",
    "    model.eval()\n",
    "    pred = model(data.x_dict, data.edge_index_dict,\n",
    "                 data['user', 'movie'].edge_label_index)\n",
    "    pred = pred.clamp(min=0, max=5)\n",
    "    target = data['user', 'movie'].edge_label.float()\n",
    "    rmse = F.mse_loss(pred, target).sqrt()\n",
    "    return float(rmse)"
   ]
  },
  {
   "cell_type": "code",
   "execution_count": 65,
   "metadata": {},
   "outputs": [
    {
     "name": "stdout",
     "output_type": "stream",
     "text": [
      "HeteroData(\n",
      "  \u001b[1muser\u001b[0m={ x=[671, 8] },\n",
      "  \u001b[1mmovie\u001b[0m={ x=[9125, 25] },\n",
      "  \u001b[1m(user, rates, movie)\u001b[0m={\n",
      "    edge_index=[2, 100004],\n",
      "    edge_label=[100004]\n",
      "  },\n",
      "  \u001b[1m(movie, rev_rates, user)\u001b[0m={ edge_index=[2, 100004] }\n",
      ")\n",
      "\tTraining CV #1\tepoch # 100\ttrain_loss: 0.969\tval_loss: 0.994\ttest_loss: 0.995\n",
      "\tTraining CV #1\tepoch # 200\ttrain_loss: 0.916\tval_loss: 0.947\ttest_loss: 0.949\n",
      "\tTraining CV #1\tepoch # 300\ttrain_loss: 0.869\tval_loss: 0.890\ttest_loss: 0.899\n",
      "\tTraining CV #1\tepoch # 400\ttrain_loss: 0.863\tval_loss: 0.879\ttest_loss: 0.890\n",
      "\tTraining CV #1\tepoch # 500\ttrain_loss: 0.860\tval_loss: 0.876\ttest_loss: 0.886\n",
      "\tTraining CV #1\tepoch # 600\ttrain_loss: 0.859\tval_loss: 0.875\ttest_loss: 0.884\n",
      "\tTraining CV #1\tepoch # 700\ttrain_loss: 0.858\tval_loss: 0.874\ttest_loss: 0.882\n",
      "\tTraining CV #1\tepoch # 800\ttrain_loss: 0.858\tval_loss: 0.873\ttest_loss: 0.882\n",
      "\tTraining CV #1\tepoch # 900\ttrain_loss: 0.857\tval_loss: 0.872\ttest_loss: 0.881\n",
      "\tTraining CV #1\tepoch # 1000\ttrain_loss: 0.856\tval_loss: 0.872\ttest_loss: 0.881\n",
      "\tTraining CV #2\tepoch # 100\ttrain_loss: 0.960\tval_loss: 0.996\ttest_loss: 1.003\n",
      "\tTraining CV #2\tepoch # 200\ttrain_loss: 0.895\tval_loss: 0.943\ttest_loss: 0.944\n",
      "\tTraining CV #2\tepoch # 300\ttrain_loss: 0.861\tval_loss: 0.895\ttest_loss: 0.893\n",
      "\tTraining CV #2\tepoch # 400\ttrain_loss: 0.858\tval_loss: 0.895\ttest_loss: 0.891\n",
      "\tTraining CV #2\tepoch # 500\ttrain_loss: 0.856\tval_loss: 0.898\ttest_loss: 0.894\n",
      "\tTraining CV #2\tepoch # 600\ttrain_loss: 0.852\tval_loss: 0.897\ttest_loss: 0.892\n",
      "\tTraining CV #2\tepoch # 700\ttrain_loss: 0.850\tval_loss: 0.894\ttest_loss: 0.888\n",
      "\tTraining CV #2\tepoch # 800\ttrain_loss: 0.847\tval_loss: 0.893\ttest_loss: 0.887\n",
      "\tTraining CV #2\tepoch # 900\ttrain_loss: 0.844\tval_loss: 0.896\ttest_loss: 0.888\n",
      "\tTraining CV #2\tepoch # 1000\ttrain_loss: 0.842\tval_loss: 0.897\ttest_loss: 0.889\n",
      "\tTraining CV #3\tepoch # 100\ttrain_loss: 0.966\tval_loss: 0.987\ttest_loss: 0.974\n",
      "\tTraining CV #3\tepoch # 200\ttrain_loss: 0.903\tval_loss: 0.929\ttest_loss: 0.914\n",
      "\tTraining CV #3\tepoch # 300\ttrain_loss: 0.863\tval_loss: 0.874\ttest_loss: 0.862\n",
      "\tTraining CV #3\tepoch # 400\ttrain_loss: 0.858\tval_loss: 0.869\ttest_loss: 0.856\n",
      "\tTraining CV #3\tepoch # 500\ttrain_loss: 0.854\tval_loss: 0.866\ttest_loss: 0.852\n",
      "\tTraining CV #3\tepoch # 600\ttrain_loss: 0.851\tval_loss: 0.865\ttest_loss: 0.851\n",
      "\tTraining CV #3\tepoch # 700\ttrain_loss: 0.848\tval_loss: 0.864\ttest_loss: 0.850\n",
      "\tTraining CV #3\tepoch # 800\ttrain_loss: 0.847\tval_loss: 0.865\ttest_loss: 0.851\n",
      "\tTraining CV #3\tepoch # 900\ttrain_loss: 0.845\tval_loss: 0.866\ttest_loss: 0.852\n",
      "\tTraining CV #3\tepoch # 1000\ttrain_loss: 0.843\tval_loss: 0.866\ttest_loss: 0.852\n",
      "HeteroData(\n",
      "  \u001b[1muser\u001b[0m={ x=[671, 8] },\n",
      "  \u001b[1mmovie\u001b[0m={ x=[9125, 27] },\n",
      "  \u001b[1m(user, rates, movie)\u001b[0m={\n",
      "    edge_index=[2, 100004],\n",
      "    edge_label=[100004]\n",
      "  },\n",
      "  \u001b[1m(movie, rev_rates, user)\u001b[0m={ edge_index=[2, 100004] }\n",
      ")\n",
      "\tTraining CV #1\tepoch # 100\ttrain_loss: 0.997\tval_loss: 0.999\ttest_loss: 1.004\n",
      "\tTraining CV #1\tepoch # 200\ttrain_loss: 0.915\tval_loss: 0.924\ttest_loss: 0.933\n",
      "\tTraining CV #1\tepoch # 300\ttrain_loss: 0.865\tval_loss: 0.877\ttest_loss: 0.889\n",
      "\tTraining CV #1\tepoch # 400\ttrain_loss: 0.859\tval_loss: 0.873\ttest_loss: 0.884\n",
      "\tTraining CV #1\tepoch # 500\ttrain_loss: 0.857\tval_loss: 0.869\ttest_loss: 0.881\n",
      "\tTraining CV #1\tepoch # 600\ttrain_loss: 0.855\tval_loss: 0.868\ttest_loss: 0.880\n",
      "\tTraining CV #1\tepoch # 700\ttrain_loss: 0.854\tval_loss: 0.867\ttest_loss: 0.878\n",
      "\tTraining CV #1\tepoch # 800\ttrain_loss: 0.852\tval_loss: 0.866\ttest_loss: 0.877\n",
      "\tTraining CV #1\tepoch # 900\ttrain_loss: 0.851\tval_loss: 0.865\ttest_loss: 0.876\n",
      "\tTraining CV #1\tepoch # 1000\ttrain_loss: 0.850\tval_loss: 0.865\ttest_loss: 0.876\n",
      "\tTraining CV #2\tepoch # 100\ttrain_loss: 1.002\tval_loss: 1.003\ttest_loss: 0.995\n",
      "\tTraining CV #2\tepoch # 200\ttrain_loss: 0.925\tval_loss: 0.930\ttest_loss: 0.923\n",
      "\tTraining CV #2\tepoch # 300\ttrain_loss: 0.875\tval_loss: 0.883\ttest_loss: 0.873\n",
      "\tTraining CV #2\tepoch # 400\ttrain_loss: 0.863\tval_loss: 0.872\ttest_loss: 0.863\n",
      "\tTraining CV #2\tepoch # 500\ttrain_loss: 0.859\tval_loss: 0.866\ttest_loss: 0.858\n",
      "\tTraining CV #2\tepoch # 600\ttrain_loss: 0.857\tval_loss: 0.864\ttest_loss: 0.856\n",
      "\tTraining CV #2\tepoch # 700\ttrain_loss: 0.856\tval_loss: 0.863\ttest_loss: 0.856\n",
      "\tTraining CV #2\tepoch # 800\ttrain_loss: 0.854\tval_loss: 0.862\ttest_loss: 0.854\n",
      "\tTraining CV #2\tepoch # 900\ttrain_loss: 0.853\tval_loss: 0.863\ttest_loss: 0.854\n",
      "\tTraining CV #2\tepoch # 1000\ttrain_loss: 0.851\tval_loss: 0.861\ttest_loss: 0.853\n",
      "\tTraining CV #3\tepoch # 100\ttrain_loss: 1.009\tval_loss: 1.014\ttest_loss: 1.020\n",
      "\tTraining CV #3\tepoch # 200\ttrain_loss: 0.935\tval_loss: 0.945\ttest_loss: 0.954\n",
      "\tTraining CV #3\tepoch # 300\ttrain_loss: 0.872\tval_loss: 0.879\ttest_loss: 0.887\n",
      "\tTraining CV #3\tepoch # 400\ttrain_loss: 0.862\tval_loss: 0.872\ttest_loss: 0.880\n",
      "\tTraining CV #3\tepoch # 500\ttrain_loss: 0.859\tval_loss: 0.869\ttest_loss: 0.877\n",
      "\tTraining CV #3\tepoch # 600\ttrain_loss: 0.857\tval_loss: 0.868\ttest_loss: 0.876\n",
      "\tTraining CV #3\tepoch # 700\ttrain_loss: 0.855\tval_loss: 0.867\ttest_loss: 0.875\n",
      "\tTraining CV #3\tepoch # 800\ttrain_loss: 0.854\tval_loss: 0.866\ttest_loss: 0.875\n",
      "\tTraining CV #3\tepoch # 900\ttrain_loss: 0.853\tval_loss: 0.865\ttest_loss: 0.874\n",
      "\tTraining CV #3\tepoch # 1000\ttrain_loss: 0.852\tval_loss: 0.865\ttest_loss: 0.874\n",
      "HeteroData(\n",
      "  \u001b[1muser\u001b[0m={ x=[671, 8] },\n",
      "  \u001b[1mmovie\u001b[0m={ x=[9125, 29] },\n",
      "  \u001b[1m(user, rates, movie)\u001b[0m={\n",
      "    edge_index=[2, 100004],\n",
      "    edge_label=[100004]\n",
      "  },\n",
      "  \u001b[1m(movie, rev_rates, user)\u001b[0m={ edge_index=[2, 100004] }\n",
      ")\n",
      "\tTraining CV #1\tepoch # 100\ttrain_loss: 0.973\tval_loss: 0.983\ttest_loss: 0.983\n",
      "\tTraining CV #1\tepoch # 200\ttrain_loss: 0.900\tval_loss: 0.919\ttest_loss: 0.920\n",
      "\tTraining CV #1\tepoch # 300\ttrain_loss: 0.863\tval_loss: 0.883\ttest_loss: 0.882\n",
      "\tTraining CV #1\tepoch # 400\ttrain_loss: 0.861\tval_loss: 0.881\ttest_loss: 0.880\n",
      "\tTraining CV #1\tepoch # 500\ttrain_loss: 0.860\tval_loss: 0.881\ttest_loss: 0.880\n",
      "\tTraining CV #1\tepoch # 600\ttrain_loss: 0.858\tval_loss: 0.881\ttest_loss: 0.880\n",
      "\tTraining CV #1\tepoch # 700\ttrain_loss: 0.856\tval_loss: 0.884\ttest_loss: 0.882\n",
      "\tTraining CV #1\tepoch # 800\ttrain_loss: 0.855\tval_loss: 0.888\ttest_loss: 0.885\n",
      "\tTraining CV #1\tepoch # 900\ttrain_loss: 0.853\tval_loss: 0.890\ttest_loss: 0.888\n",
      "\tTraining CV #1\tepoch # 1000\ttrain_loss: 0.850\tval_loss: 0.893\ttest_loss: 0.888\n",
      "\tTraining CV #2\tepoch # 100\ttrain_loss: 0.982\tval_loss: 0.999\ttest_loss: 0.992\n",
      "\tTraining CV #2\tepoch # 200\ttrain_loss: 0.905\tval_loss: 0.952\ttest_loss: 0.942\n",
      "\tTraining CV #2\tepoch # 300\ttrain_loss: 0.863\tval_loss: 0.877\ttest_loss: 0.875\n",
      "\tTraining CV #2\tepoch # 400\ttrain_loss: 0.860\tval_loss: 0.877\ttest_loss: 0.874\n",
      "\tTraining CV #2\tepoch # 500\ttrain_loss: 0.858\tval_loss: 0.882\ttest_loss: 0.878\n",
      "\tTraining CV #2\tepoch # 600\ttrain_loss: 0.857\tval_loss: 0.887\ttest_loss: 0.884\n",
      "\tTraining CV #2\tepoch # 700\ttrain_loss: 0.854\tval_loss: 0.891\ttest_loss: 0.887\n",
      "\tTraining CV #2\tepoch # 800\ttrain_loss: 0.852\tval_loss: 0.898\ttest_loss: 0.892\n",
      "\tTraining CV #2\tepoch # 900\ttrain_loss: 0.850\tval_loss: 0.904\ttest_loss: 0.896\n",
      "\tTraining CV #2\tepoch # 1000\ttrain_loss: 0.849\tval_loss: 0.908\ttest_loss: 0.899\n",
      "\tTraining CV #3\tepoch # 100\ttrain_loss: 0.974\tval_loss: 1.016\ttest_loss: 0.999\n",
      "\tTraining CV #3\tepoch # 200\ttrain_loss: 0.882\tval_loss: 0.938\ttest_loss: 0.923\n",
      "\tTraining CV #3\tepoch # 300\ttrain_loss: 0.860\tval_loss: 0.903\ttest_loss: 0.888\n",
      "\tTraining CV #3\tepoch # 400\ttrain_loss: 0.858\tval_loss: 0.896\ttest_loss: 0.882\n",
      "\tTraining CV #3\tepoch # 500\ttrain_loss: 0.857\tval_loss: 0.893\ttest_loss: 0.880\n",
      "\tTraining CV #3\tepoch # 600\ttrain_loss: 0.856\tval_loss: 0.892\ttest_loss: 0.878\n",
      "\tTraining CV #3\tepoch # 700\ttrain_loss: 0.855\tval_loss: 0.891\ttest_loss: 0.877\n",
      "\tTraining CV #3\tepoch # 800\ttrain_loss: 0.854\tval_loss: 0.890\ttest_loss: 0.876\n",
      "\tTraining CV #3\tepoch # 900\ttrain_loss: 0.854\tval_loss: 0.889\ttest_loss: 0.875\n",
      "\tTraining CV #3\tepoch # 1000\ttrain_loss: 0.853\tval_loss: 0.889\ttest_loss: 0.875\n"
     ]
    }
   ],
   "source": [
    "do_cv = False\n",
    "\n",
    "if do_cv:\n",
    "    EPOCHS = 1000\n",
    "    best_test_loss = 100\n",
    "    save_date = datetime.today().strftime('%Y%m%d')\n",
    "    train_losses, val_losses, test_losses = [], [], []\n",
    "    results = {}\n",
    "    for dataset, name in zip([dataset_no_plot, dataset_tsne2, dataset_umap4],\n",
    "                            ['NoPlotEmbed', 'tSENE2', 'UMAP4']):\n",
    "        print(dataset)\n",
    "        data = dataset\n",
    "\n",
    "        results[name] = {}\n",
    "        results[name]['train_losses'] = []\n",
    "        results[name]['val_losses'] = []\n",
    "        results[name]['test_losses'] = []\n",
    "        results[name]['time_elapsed'] = []\n",
    "        \n",
    "        # Cross validation\n",
    "        for cv in range(1, 4):\n",
    "\n",
    "            train_data, val_data, test_data = train_test_split(data)\n",
    "            model = Model(hidden_channels=32, out_channels=32).to(device)\n",
    "            optimizer = torch.optim.Adam(model.parameters())\n",
    "            lazy_init(model=model, data=train_data)\n",
    "            \n",
    "            train_losses, val_losses, test_losses = [], [], []\n",
    "            for epoch in range(1, EPOCHS+1):\n",
    "                train_loss = train(model=model, data=train_data, optimizer=optimizer)\n",
    "                val_loss = test(model=model, data=val_data)\n",
    "                test_loss = test(model=model, data=test_data)\n",
    "\n",
    "                train_losses.append(train_loss), val_losses.append(val_loss), test_losses.append(test_loss)\n",
    "\n",
    "                if epoch % 100 == 0:\n",
    "                    print(f'\\tTraining CV #{cv}\\tepoch # {epoch}\\ttrain_loss: {train_loss:.3f}' \\\n",
    "                        f'\\tval_loss: {val_loss:.3f}\\ttest_loss: {test_loss:.3f}')\n",
    "\n",
    "            results[name]['train_losses'].append(train_losses)\n",
    "            results[name]['val_losses'].append(val_losses)\n",
    "            results[name]['test_losses'].append(test_losses)"
   ]
  },
  {
   "cell_type": "code",
   "execution_count": 67,
   "metadata": {},
   "outputs": [
    {
     "data": {
      "image/png": "[encoded data removed]",
      "text/plain": [
       "<Figure size 1400x500 with 2 Axes>"
      ]
     },
     "metadata": {},
     "output_type": "display_data"
    }
   ],
   "source": [
    "OFFSET = 300\n",
    "_, (ax0, ax1) = plt.subplots(nrows=1, ncols=2, figsize=(14,5))\n",
    "color_list = ['royalblue', 'orchid', 'orange'] #limegreen, 'yellow', 'cyan'\n",
    "assert len(results) == len(color_list)\n",
    "\n",
    "for model, color in zip(results.keys(), color_list):\n",
    "    # print(model)\n",
    "    train_losses = results[model]['train_losses']\n",
    "    test_losses = results[model]['test_losses']\n",
    "    for i, test_loss in enumerate(test_losses):\n",
    "        # print(i)\n",
    "        if i == 0:\n",
    "            ax0.plot(test_loss, label=model, c=color, alpha=0.5)\n",
    "            ax1.plot(range(OFFSET, len(test_loss)), test_loss[OFFSET:], label=model, c=color, alpha=0.5)\n",
    "        else:\n",
    "            ax0.plot(test_loss, c=color, alpha=0.5)\n",
    "            ax1.plot(range(OFFSET, len(test_loss)), test_loss[OFFSET:], c=color, alpha=0.5)\n",
    "\n",
    "ax0.legend()\n",
    "ax1.legend()\n",
    "plt.show()"
   ]
  },
  {
   "cell_type": "code",
   "execution_count": 68,
   "metadata": {},
   "outputs": [
    {
     "name": "stdout",
     "output_type": "stream",
     "text": [
      "\tEpoch # 100\ttrain_loss: 0.990\tval_loss: 1.004\ttest_loss: 0.991\n",
      "\tEpoch # 200\ttrain_loss: 0.909\tval_loss: 0.931\ttest_loss: 0.914\n",
      "\tEpoch # 300\ttrain_loss: 0.859\tval_loss: 0.886\ttest_loss: 0.863\n",
      "\tEpoch # 400\ttrain_loss: 0.855\tval_loss: 0.881\ttest_loss: 0.858\n",
      "\tEpoch # 500\ttrain_loss: 0.853\tval_loss: 0.879\ttest_loss: 0.858\n",
      "\tEpoch # 600\ttrain_loss: 0.851\tval_loss: 0.878\ttest_loss: 0.858\n"
     ]
    }
   ],
   "source": [
    "do_train = False\n",
    "\n",
    "if do_train:\n",
    "    EPOCHS = 600\n",
    "    best_test_loss = 100\n",
    "    save_date = datetime.today().strftime('%Y%m%d')\n",
    "    train_losses, val_losses, test_losses = [], [], []\n",
    "    cv_results = {}\n",
    "    cv_results['train_losses'] = []\n",
    "    cv_results['val_losses'] = []\n",
    "    cv_results['test_losses'] = []\n",
    "\n",
    "    # train_data, val_data, test_data = train_test_split(dataset_umap4)\n",
    "    # train_data, val_data, test_data = train_test_split(dataset_tsne2)\n",
    "    train_data, val_data, test_data = train_test_split(dataset_no_plot)\n",
    "    model = Model(hidden_channels=24, out_channels=24).to(device)\n",
    "    optimizer = torch.optim.Adam(model.parameters())\n",
    "    lazy_init(model=model, data=train_data)\n",
    "\n",
    "    train_losses, val_losses, test_losses = [], [], []\n",
    "    for epoch in range(1, EPOCHS+1):\n",
    "        train_loss = train(model=model, data=train_data, optimizer=optimizer)\n",
    "        val_loss = test(model=model, data=val_data)\n",
    "        test_loss = test(model=model, data=test_data)\n",
    "\n",
    "        train_losses.append(train_loss)\n",
    "        val_losses.append(val_loss)\n",
    "        test_losses.append(test_loss)\n",
    "\n",
    "        # print to console\n",
    "        if epoch % 100 == 0:\n",
    "            print(f'\\tEpoch # {epoch}\\ttrain_loss: {train_loss:.3f}\\tval_loss: {val_loss:.3f}\\ttest_loss: {test_loss:.3f}')\n",
    "\n",
    "            # safe best model\n",
    "            if test_loss < best_test_loss:\n",
    "                torch.save(model, f'./models/sage_model_{save_date}')\n",
    "                best_test_loss = test_loss\n",
    "\n",
    "    cv_results['train_losses'].append(train_losses)\n",
    "    cv_results['test_losses'].append(test_losses)\n",
    "\n",
    "    # save results as json\n",
    "    cv_results_json = json.dumps(cv_results, indent=4)\n",
    "    with open(f'models/sage_model_{save_date}_results.json', 'w') as f:\n",
    "        f.write(cv_results_json)"
   ]
  },
  {
   "cell_type": "code",
   "execution_count": 79,
   "metadata": {},
   "outputs": [
    {
     "name": "stdout",
     "output_type": "stream",
     "text": [
      "0.8576915264129639\n"
     ]
    }
   ],
   "source": [
    "# Load best model\n",
    "model = torch.load('models/sage_model_20230108')\n",
    "test_loss = test(model=model, data=test_data)\n",
    "print(test_loss)\n",
    "\n",
    "# Load model results\n",
    "with open('models/sage_model_20230108_results.json') as json_file:\n",
    "    model_results = json.load(json_file)"
   ]
  },
  {
   "cell_type": "code",
   "execution_count": 85,
   "metadata": {},
   "outputs": [
    {
     "data": {
      "image/png": "[encoded data removed]",
      "text/plain": [
       "<Figure size 1400x500 with 2 Axes>"
      ]
     },
     "metadata": {},
     "output_type": "display_data"
    }
   ],
   "source": [
    "SKIP_WARM_UP_STEPS = 200\n",
    "\n",
    "train_losses = model_results['train_losses'][0]\n",
    "test_losses = model_results['test_losses'][0]\n",
    "\n",
    "_, (ax0, ax1) = plt.subplots(nrows=1, ncols=2, figsize=(14,5))\n",
    "ax0.plot(train_losses, label='Train')\n",
    "ax0.plot(test_losses, label='Test')\n",
    "ax0.set_title('Learning curve')\n",
    "ax0.set_xlabel('Epochs (x10)')\n",
    "ax0.set_ylabel('Loss (RMSE)')\n",
    "ax0.legend()\n",
    "\n",
    "ax1.plot(range(SKIP_WARM_UP_STEPS, len(train_losses)), train_losses[SKIP_WARM_UP_STEPS:], label='Train')\n",
    "ax1.plot(range(SKIP_WARM_UP_STEPS, len(test_losses)), test_losses[SKIP_WARM_UP_STEPS:], label='Test')\n",
    "ax1.set_title(f'Learning curve (after {SKIP_WARM_UP_STEPS} warm up steps)')\n",
    "ax1.set_xlabel('Epochs (x10)')\n",
    "ax1.set_ylabel('Loss (RMSE)')\n",
    "ax1.legend()\n",
    "plt.show()"
   ]
  },
  {
   "cell_type": "markdown",
   "metadata": {},
   "source": [
    "### Inspect test results"
   ]
  },
  {
   "cell_type": "code",
   "execution_count": 86,
   "metadata": {},
   "outputs": [],
   "source": [
    "model.eval()\n",
    "pred = model(test_data.x_dict, test_data.edge_index_dict,\n",
    "                test_data['user', 'movie'].edge_label_index)\n",
    "pred = pred.clamp(min=0, max=5)\n",
    "target = test_data['user', 'movie'].edge_label.float()\n",
    "rmse = F.mse_loss(pred, target).sqrt()"
   ]
  },
  {
   "cell_type": "code",
   "execution_count": 87,
   "metadata": {},
   "outputs": [
    {
     "data": {
      "text/plain": [
       "(tensor([2.9724, 3.9992, 3.6889, 3.5172, 3.2797, 3.5268, 4.4963, 3.5764, 3.3550,\n",
       "         4.0056, 4.0984, 3.8702, 4.0096, 2.5478, 3.1185, 2.8566, 2.9420, 3.0568,\n",
       "         3.4057, 2.8790], grad_fn=<SliceBackward0>),\n",
       " tensor([5.0000, 3.0000, 4.5000, 3.0000, 2.5000, 4.0000, 5.0000, 3.0000, 3.0000,\n",
       "         4.0000, 4.5000, 4.0000, 5.0000, 3.0000, 3.5000, 2.0000, 3.0000, 4.0000,\n",
       "         3.5000, 3.5000]))"
      ]
     },
     "execution_count": 87,
     "metadata": {},
     "output_type": "execute_result"
    }
   ],
   "source": [
    "pred[:20], target[:20]"
   ]
  },
  {
   "cell_type": "markdown",
   "metadata": {},
   "source": [
    "#### Evaluation\n",
    "\n",
    "Mean squared Error (MSE) can be used as loss function. However, it is not a well suited metric to evaluate the model's recommendations. `Recall@k` fits better for evaluating the recommendations done by the model.  "
   ]
  },
  {
   "cell_type": "code",
   "execution_count": 92,
   "metadata": {},
   "outputs": [
    {
     "name": "stderr",
     "output_type": "stream",
     "text": [
      "100%|██████████| 651/651 [00:30<00:00, 21.09it/s]\n"
     ]
    }
   ],
   "source": [
    "def create_rec_dict_per_user() -> dict:\n",
    "    \"\"\" Return a dictionnairy, with link predictions for each user.\n",
    "    \n",
    "        The dict keys are userId's and values a list of tuples. The\n",
    "        first tuple value is the predicted rating and the second one\n",
    "        the ground truth (rating). \"\"\"\n",
    "\n",
    "    user_rec_dict = defaultdict(list)\n",
    "    test_users_unique = test_data['user', 'movie'].edge_label_index[0].unique()\n",
    "\n",
    "    with torch.no_grad():\n",
    "        for user_id in tqdm(test_users_unique):\n",
    "            user_id = user_id.item()\n",
    "\n",
    "            idxs = (test_data['user', 'movie'].edge_label_index[0] == user_id).nonzero().squeeze()\n",
    "            edge_idxs = test_data['user', 'movie'].edge_label_index[:,idxs]\n",
    "            \n",
    "            true_ratings = test_data['user', 'movie'].edge_label[idxs]\n",
    "            if true_ratings.ndimension() == 0:\n",
    "                true_ratings = test_data['user', 'movie'].edge_label[idxs].unsqueeze(dim=0)\n",
    "\n",
    "            pred_ratings = model(test_data.x_dict, test_data.edge_index_dict, edge_idxs)\n",
    "\n",
    "            ratings = [(pred.item(), gt.item()) for gt, pred in zip(true_ratings, pred_ratings)] \n",
    "            user_rec_dict[user_id] = ratings\n",
    "        \n",
    "        return user_rec_dict\n",
    "\n",
    "\n",
    "def recall_precision_at_k(user_rec_dict:dict, k:int, threshold:float) -> dict:\n",
    "    \"\"\"\" \"\"\"\n",
    "    with torch.no_grad():\n",
    "        precisions = dict()\n",
    "        recalls = dict()\n",
    "\n",
    "\n",
    "        for uid, user_ratings in user_rec_dict.items():\n",
    "            \n",
    "            user_ratings.sort(key=lambda x: x[0], reverse=True) \n",
    "             \n",
    "            n_rel = sum([(true_rating >= threshold) for (_, true_rating) in user_ratings])\n",
    "            n_rec_k = sum([(true_rating >= threshold) for (_, true_rating) in user_ratings[:k]])\n",
    "            n_rel_and_rec_k = sum([((true_r >= threshold) and (est >= threshold)) for (est, true_r) in user_ratings[:k]])\n",
    "            \n",
    "            precisions[uid] = n_rel_and_rec_k / n_rec_k if n_rec_k != 0 else 0\n",
    "            recalls[uid] = n_rel_and_rec_k / n_rel if n_rel != 0 else 0\n",
    "        \n",
    "        return recalls, precisions\n",
    "\n",
    "user_rec_dict = create_rec_dict_per_user()"
   ]
  },
  {
   "cell_type": "code",
   "execution_count": 93,
   "metadata": {},
   "outputs": [
    {
     "name": "stdout",
     "output_type": "stream",
     "text": [
      "Recall@20 (Threshold=4.0): 0.3486\n",
      "Precision@20 (Threshold=4.0): 0.3782\n",
      "\n",
      "Recall@20 (Threshold=3.5): 0.6644\n",
      "Precision@20 (Threshold=3.5): 0.7238\n"
     ]
    }
   ],
   "source": [
    "# k = 20\n",
    "# threshold = 4.0\n",
    "# recalls = recall_at_k(user_rec_dict, k, threshold)\n",
    "# rcl_at_k = sum(recalls.values()) / len(recalls.values())\n",
    "# print(f'Recall@{k} (Threshold={threshold}):', round(rcl_at_k, 4))\n",
    "\n",
    "# threshold = 3.5\n",
    "# recalls = recall_at_k(user_rec_dict, k=k, threshold=threshold)\n",
    "# rcl_at_k = sum(recalls.values()) / len(recalls.values())\n",
    "# print(f'Recall@{k} (Threshold={threshold}):', round(rcl_at_k, 4))\n",
    "\n",
    "k = 20\n",
    "threshold = 4.0\n",
    "recalls, precisions = recall_precision_at_k(user_rec_dict, k, threshold)\n",
    "rcl_at_k = sum(recalls.values()) / len(recalls.values())\n",
    "prc_at_k = sum(precisions.values()) / len(precisions.values())\n",
    "\n",
    "print(f'Recall@{k} (Threshold={threshold}):', round(rcl_at_k, 4))\n",
    "print(f'Precision@{k} (Threshold={threshold}):', round(prc_at_k, 4))\n",
    "\n",
    "threshold = 3.5\n",
    "recalls, precisions = recall_precision_at_k(user_rec_dict, k=k, threshold=threshold)\n",
    "rcl_at_k = sum(recalls.values()) / len(recalls.values())\n",
    "prc_at_k = sum(precisions.values()) / len(precisions.values())\n",
    "\n",
    "print(f'\\nRecall@{k} (Threshold={threshold}):', round(rcl_at_k, 4))\n",
    "print(f'Precision@{k} (Threshold={threshold}):', round(prc_at_k, 4))"
   ]
  },
  {
   "attachments": {},
   "cell_type": "markdown",
   "metadata": {},
   "source": [
    "### Get new recommendations\n",
    "\n",
    "Get the top recommendended movies for each user and create new relationships `(m:Movie)-[:RECOMMENDED_TO]-> (u:User)` in Neo4j"
   ]
  },
  {
   "cell_type": "code",
   "execution_count": 95,
   "metadata": {},
   "outputs": [
    {
     "name": "stderr",
     "output_type": "stream",
     "text": [
      "100%|██████████| 671/671 [00:30<00:00, 22.00it/s]\n"
     ]
    }
   ],
   "source": [
    "K = 20\n",
    "movie_recs = []\n",
    "with open('data/encoder_user.pkl', 'rb') as pkl:\n",
    "    user_encoder = pickle.load(pkl)\n",
    "\n",
    "with open('data/encoder_movie.pkl', 'rb') as pkl:  \n",
    "    movie_encoder = pickle.load(pkl)\n",
    "\n",
    "with torch.no_grad():\n",
    "    for user_id in tqdm(range(0, n_users)):\n",
    "        user_row = torch.tensor([user_id] * n_movies)\n",
    "        # break\n",
    "        all_movie_ids = torch.arange(n_movies)\n",
    "        edge_label_index = torch.stack([user_row, all_movie_ids], dim=0)\n",
    "        pred = model(data.x_dict, data.edge_index_dict,\n",
    "                edge_label_index)\n",
    "        pred = pred.clamp(min=0, max=5)\n",
    "        \n",
    "        pred_top_k, pred_top_k_idxs = torch.topk(pred, k=K)\n",
    "        \n",
    "        movie_recs.append({\n",
    "            'user': user_id,\n",
    "            'user_id_neo4j': user_encoder.inverse_transform([user_id])[0],\n",
    "            'rec_movie_ids': pred_top_k_idxs.tolist(), \n",
    "            'rec_movie_ids_neo4j': movie_encoder.inverse_transform(pred_top_k_idxs).tolist(),\n",
    "            'pred_rating': pred_top_k.tolist()})\n",
    "\n",
    "# safe recommendation dictionnariy\n",
    "with open(f'./data/movie_recommendations_{save_date}', 'wb') as fp:   #Pickling\n",
    "    pickle.dump(movie_recs, fp)"
   ]
  },
  {
   "cell_type": "code",
   "execution_count": 50,
   "metadata": {},
   "outputs": [],
   "source": [
    "def create_recommendedTo_relationships(movie_recommendations:list) -> None:\n",
    "    \"\"\" Creates relationships :RECOMMENDED_TO between movies and users.\n",
    "        movie_recommendations (list): List of dicts with keys:\n",
    "            user (int)\n",
    "            user_id_neo4j (int)\n",
    "            rec_movie_ids (list)\n",
    "            rec_movie_ids_neo4j (list)\n",
    "            pred_rating (list). \n",
    "    \"\"\"\n",
    "    with driver.session() as session:\n",
    "        for rec in tqdm(movie_recs):\n",
    "\n",
    "            user_id = rec['user_id_neo4j']\n",
    "            rec_movie_ids = rec['rec_movie_ids_neo4j']\n",
    "            query = f\"\"\"\n",
    "            MATCH (u:User) \n",
    "            MATCH (m:Movie)\n",
    "            WHERE u.userId = {user_id}\n",
    "            AND m.movieId IN {rec_movie_ids}\n",
    "            MERGE (m) -[:RECOMMENDED_TO]-> (u)\n",
    "            ;\n",
    "            \"\"\"\n",
    "\n",
    "            result = session.run(query)"
   ]
  },
  {
   "cell_type": "code",
   "execution_count": 105,
   "metadata": {},
   "outputs": [
    {
     "name": "stderr",
     "output_type": "stream",
     "text": [
      "100%|██████████| 671/671 [01:26<00:00,  7.80it/s]\n"
     ]
    }
   ],
   "source": [
    "with open('./data/movie_recommendations', 'rb') as fp:   # Unpickling\n",
    "    movie_recs = pickle.load(fp)\n",
    "\n",
    "create_recommendedTo_relationships(movie_recs)"
   ]
  }
 ],
 "metadata": {
  "kernelspec": {
   "display_name": "Python 3.9.0 ('.new_venv': venv)",
   "language": "python",
   "name": "python3"
  },
  "language_info": {
   "codemirror_mode": {
    "name": "ipython",
    "version": 3
   },
   "file_extension": ".py",
   "mimetype": "text/x-python",
   "name": "python",
   "nbconvert_exporter": "python",
   "pygments_lexer": "ipython3",
   "version": "3.9.0 (tags/v3.9.0:9cf6752, Oct  5 2020, 15:34:40) [MSC v.1927 64 bit (AMD64)]"
  },
  "orig_nbformat": 4,
  "vscode": {
   "interpreter": {
    "hash": "b4b86cfc1452e77d9ce278d6e2f06ea7b3cf78c66895cad39e55a1df0fa1f1cb"
   }
  }
 },
 "nbformat": 4,
 "nbformat_minor": 2
}
