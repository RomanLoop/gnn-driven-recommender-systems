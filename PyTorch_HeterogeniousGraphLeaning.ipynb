{
 "cells": [
  {
   "cell_type": "code",
   "execution_count": 1,
   "metadata": {},
   "outputs": [],
   "source": [
    "import random\n",
    "import numpy as np\n",
    "import torch \n",
    "from torch_geometric.data import HeteroData\n",
    "from torch_geometric.datasets import OGB_MAG\n",
    "from torch_geometric.nn import MetaPath2Vec\n",
    "\n",
    "from sklearn.preprocessing import LabelEncoder\n",
    "from sklearn.manifold import TSNE\n",
    "\n",
    "from tqdm.notebook import tqdm"
   ]
  },
  {
   "cell_type": "code",
   "execution_count": 2,
   "metadata": {},
   "outputs": [
    {
     "data": {
      "text/plain": [
       "HeteroData(\n",
       "  \u001b[1mpaper\u001b[0m={\n",
       "    x=[736389, 128],\n",
       "    year=[736389],\n",
       "    y=[736389],\n",
       "    train_mask=[736389],\n",
       "    val_mask=[736389],\n",
       "    test_mask=[736389]\n",
       "  },\n",
       "  \u001b[1mauthor\u001b[0m={ x=[1134649, 128] },\n",
       "  \u001b[1minstitution\u001b[0m={ x=[8740, 128] },\n",
       "  \u001b[1mfield_of_study\u001b[0m={ x=[59965, 128] },\n",
       "  \u001b[1m(author, affiliated_with, institution)\u001b[0m={ edge_index=[2, 1043998] },\n",
       "  \u001b[1m(author, writes, paper)\u001b[0m={ edge_index=[2, 7145660] },\n",
       "  \u001b[1m(paper, cites, paper)\u001b[0m={ edge_index=[2, 5416271] },\n",
       "  \u001b[1m(paper, has_topic, field_of_study)\u001b[0m={ edge_index=[2, 7505078] }\n",
       ")"
      ]
     },
     "execution_count": 2,
     "metadata": {},
     "output_type": "execute_result"
    }
   ],
   "source": [
    "dataset = OGB_MAG(root='./data', preprocess='metapath2vec')\n",
    "data = dataset[0]\n",
    "data"
   ]
  },
  {
   "cell_type": "code",
   "execution_count": 3,
   "metadata": {},
   "outputs": [
    {
     "data": {
      "text/plain": [
       "(torch.Size([736389, 128]),\n",
       " tensor([[-0.0954,  0.0408, -0.2109,  ...,  0.0616, -0.0277, -0.1338],\n",
       "         [-0.1510, -0.1073, -0.2220,  ...,  0.3458, -0.0277, -0.2185],\n",
       "         [-0.1148, -0.1760, -0.2606,  ...,  0.1731, -0.1564, -0.2780],\n",
       "         ...,\n",
       "         [ 0.0228, -0.0865,  0.0981,  ..., -0.0547, -0.2077, -0.2305],\n",
       "         [-0.2891, -0.2029, -0.1525,  ...,  0.1042,  0.2041, -0.3528],\n",
       "         [-0.0890, -0.0348, -0.2642,  ...,  0.2601, -0.0875, -0.5171]]))"
      ]
     },
     "execution_count": 3,
     "metadata": {},
     "output_type": "execute_result"
    }
   ],
   "source": [
    "data['paper'].x.size(), data['paper'].x"
   ]
  },
  {
   "cell_type": "code",
   "execution_count": 4,
   "metadata": {},
   "outputs": [
    {
     "data": {
      "text/plain": [
       "736389"
      ]
     },
     "execution_count": 4,
     "metadata": {},
     "output_type": "execute_result"
    }
   ],
   "source": [
    "len(data['paper'].x)"
   ]
  },
  {
   "cell_type": "code",
   "execution_count": 5,
   "metadata": {},
   "outputs": [],
   "source": [
    "# for _ in range(10_000):\n",
    "#     random_idx = random.randint(0, len(data['paper'].x)-1)\n",
    "#     print(random_idx)\n",
    "#     break"
   ]
  },
  {
   "cell_type": "code",
   "execution_count": 6,
   "metadata": {},
   "outputs": [],
   "source": [
    "# x = data['paper'].x\n",
    "# x = x[:10000]"
   ]
  },
  {
   "cell_type": "markdown",
   "metadata": {},
   "source": [
    "### Embedding for MovieLens Dataset"
   ]
  },
  {
   "cell_type": "code",
   "execution_count": 7,
   "metadata": {},
   "outputs": [],
   "source": [
    "from neo4_connection import USER, URL, PWD\n",
    "from neo4j import GraphDatabase\n",
    "import pandas as pd"
   ]
  },
  {
   "cell_type": "code",
   "execution_count": 8,
   "metadata": {},
   "outputs": [],
   "source": [
    "driver = GraphDatabase.driver(uri=URL, auth=(USER, PWD))\n",
    "\n",
    "def fetch_data(query):\n",
    "  with driver.session() as session:\n",
    "    result = session.run(query)\n",
    "    return pd.DataFrame([r.values() for r in result], columns=result.keys())"
   ]
  },
  {
   "cell_type": "markdown",
   "metadata": {},
   "source": [
    "### Encode all nodes"
   ]
  },
  {
   "cell_type": "code",
   "execution_count": 9,
   "metadata": {},
   "outputs": [
    {
     "name": "stdout",
     "output_type": "stream",
     "text": [
      "User: 671 Movies: 9125 Persons: 19047 Genres: 40\n"
     ]
    },
    {
     "data": {
      "text/html": [
       "<style>#sk-container-id-1 {color: black;background-color: white;}#sk-container-id-1 pre{padding: 0;}#sk-container-id-1 div.sk-toggleable {background-color: white;}#sk-container-id-1 label.sk-toggleable__label {cursor: pointer;display: block;width: 100%;margin-bottom: 0;padding: 0.3em;box-sizing: border-box;text-align: center;}#sk-container-id-1 label.sk-toggleable__label-arrow:before {content: \"▸\";float: left;margin-right: 0.25em;color: #696969;}#sk-container-id-1 label.sk-toggleable__label-arrow:hover:before {color: black;}#sk-container-id-1 div.sk-estimator:hover label.sk-toggleable__label-arrow:before {color: black;}#sk-container-id-1 div.sk-toggleable__content {max-height: 0;max-width: 0;overflow: hidden;text-align: left;background-color: #f0f8ff;}#sk-container-id-1 div.sk-toggleable__content pre {margin: 0.2em;color: black;border-radius: 0.25em;background-color: #f0f8ff;}#sk-container-id-1 input.sk-toggleable__control:checked~div.sk-toggleable__content {max-height: 200px;max-width: 100%;overflow: auto;}#sk-container-id-1 input.sk-toggleable__control:checked~label.sk-toggleable__label-arrow:before {content: \"▾\";}#sk-container-id-1 div.sk-estimator input.sk-toggleable__control:checked~label.sk-toggleable__label {background-color: #d4ebff;}#sk-container-id-1 div.sk-label input.sk-toggleable__control:checked~label.sk-toggleable__label {background-color: #d4ebff;}#sk-container-id-1 input.sk-hidden--visually {border: 0;clip: rect(1px 1px 1px 1px);clip: rect(1px, 1px, 1px, 1px);height: 1px;margin: -1px;overflow: hidden;padding: 0;position: absolute;width: 1px;}#sk-container-id-1 div.sk-estimator {font-family: monospace;background-color: #f0f8ff;border: 1px dotted black;border-radius: 0.25em;box-sizing: border-box;margin-bottom: 0.5em;}#sk-container-id-1 div.sk-estimator:hover {background-color: #d4ebff;}#sk-container-id-1 div.sk-parallel-item::after {content: \"\";width: 100%;border-bottom: 1px solid gray;flex-grow: 1;}#sk-container-id-1 div.sk-label:hover label.sk-toggleable__label {background-color: #d4ebff;}#sk-container-id-1 div.sk-serial::before {content: \"\";position: absolute;border-left: 1px solid gray;box-sizing: border-box;top: 0;bottom: 0;left: 50%;z-index: 0;}#sk-container-id-1 div.sk-serial {display: flex;flex-direction: column;align-items: center;background-color: white;padding-right: 0.2em;padding-left: 0.2em;position: relative;}#sk-container-id-1 div.sk-item {position: relative;z-index: 1;}#sk-container-id-1 div.sk-parallel {display: flex;align-items: stretch;justify-content: center;background-color: white;position: relative;}#sk-container-id-1 div.sk-item::before, #sk-container-id-1 div.sk-parallel-item::before {content: \"\";position: absolute;border-left: 1px solid gray;box-sizing: border-box;top: 0;bottom: 0;left: 50%;z-index: -1;}#sk-container-id-1 div.sk-parallel-item {display: flex;flex-direction: column;z-index: 1;position: relative;background-color: white;}#sk-container-id-1 div.sk-parallel-item:first-child::after {align-self: flex-end;width: 50%;}#sk-container-id-1 div.sk-parallel-item:last-child::after {align-self: flex-start;width: 50%;}#sk-container-id-1 div.sk-parallel-item:only-child::after {width: 0;}#sk-container-id-1 div.sk-dashed-wrapped {border: 1px dashed gray;margin: 0 0.4em 0.5em 0.4em;box-sizing: border-box;padding-bottom: 0.4em;background-color: white;}#sk-container-id-1 div.sk-label label {font-family: monospace;font-weight: bold;display: inline-block;line-height: 1.2em;}#sk-container-id-1 div.sk-label-container {text-align: center;}#sk-container-id-1 div.sk-container {/* jupyter's `normalize.less` sets `[hidden] { display: none; }` but bootstrap.min.css set `[hidden] { display: none !important; }` so we also need the `!important` here to be able to override the default hidden behavior on the sphinx rendered scikit-learn.org. See: https://github.com/scikit-learn/scikit-learn/issues/21755 */display: inline-block !important;position: relative;}#sk-container-id-1 div.sk-text-repr-fallback {display: none;}</style><div id=\"sk-container-id-1\" class=\"sk-top-container\"><div class=\"sk-text-repr-fallback\"><pre>LabelEncoder()</pre><b>In a Jupyter environment, please rerun this cell to show the HTML representation or trust the notebook. <br />On GitHub, the HTML representation is unable to render, please try loading this page with nbviewer.org.</b></div><div class=\"sk-container\" hidden><div class=\"sk-item\"><div class=\"sk-estimator sk-toggleable\"><input class=\"sk-toggleable__control sk-hidden--visually\" id=\"sk-estimator-id-1\" type=\"checkbox\" checked><label for=\"sk-estimator-id-1\" class=\"sk-toggleable__label sk-toggleable__label-arrow\">LabelEncoder</label><div class=\"sk-toggleable__content\"><pre>LabelEncoder()</pre></div></div></div></div></div>"
      ],
      "text/plain": [
       "LabelEncoder()"
      ]
     },
     "execution_count": 9,
     "metadata": {},
     "output_type": "execute_result"
    }
   ],
   "source": [
    "u_query = \"\"\"\n",
    "MATCH (u:User)\n",
    "RETURN u.userId AS userId\n",
    "\"\"\"\n",
    "\n",
    "m_query = \"\"\"\n",
    "MATCH (m:Movie)\n",
    "RETURN m.movieId AS movieId\n",
    "\"\"\"\n",
    "\n",
    "p_query = \"\"\"\n",
    "MATCH (p:Person)\n",
    "RETURN p.name AS person\n",
    "\"\"\"\n",
    "\n",
    "g_query = \"\"\"\n",
    "MATCH (g:Genre)\n",
    "RETURN g.name as genre\n",
    "\"\"\"\n",
    "\n",
    "user = fetch_data(u_query)\n",
    "movie = fetch_data(m_query)\n",
    "person = fetch_data(p_query)\n",
    "genre = fetch_data(g_query)\n",
    "\n",
    "print('User:', len(user), 'Movies:', len(movie), 'Persons:', len(person), 'Genres:', len(g_query))\n",
    "\n",
    "u_encoder, m_encoder, p_encoder, g_encoder = LabelEncoder(), LabelEncoder(), LabelEncoder(), LabelEncoder()\n",
    "\n",
    "u_encoder.fit(user['userId'])\n",
    "m_encoder.fit(movie['movieId'])\n",
    "p_encoder.fit(person['person'])\n",
    "g_encoder.fit(genre['genre'])\n"
   ]
  },
  {
   "cell_type": "markdown",
   "metadata": {},
   "source": [
    "### Create edge dataframes"
   ]
  },
  {
   "cell_type": "code",
   "execution_count": 10,
   "metadata": {},
   "outputs": [
    {
     "name": "stdout",
     "output_type": "stream",
     "text": [
      "DF length: 20340\n"
     ]
    },
    {
     "data": {
      "text/html": [
       "<div>\n",
       "<style scoped>\n",
       "    .dataframe tbody tr th:only-of-type {\n",
       "        vertical-align: middle;\n",
       "    }\n",
       "\n",
       "    .dataframe tbody tr th {\n",
       "        vertical-align: top;\n",
       "    }\n",
       "\n",
       "    .dataframe thead th {\n",
       "        text-align: right;\n",
       "    }\n",
       "</style>\n",
       "<table border=\"1\" class=\"dataframe\">\n",
       "  <thead>\n",
       "    <tr style=\"text-align: right;\">\n",
       "      <th></th>\n",
       "      <th>movieId</th>\n",
       "      <th>genre</th>\n",
       "    </tr>\n",
       "  </thead>\n",
       "  <tbody>\n",
       "    <tr>\n",
       "      <th>0</th>\n",
       "      <td>8676</td>\n",
       "      <td>2</td>\n",
       "    </tr>\n",
       "    <tr>\n",
       "      <th>1</th>\n",
       "      <td>8703</td>\n",
       "      <td>2</td>\n",
       "    </tr>\n",
       "    <tr>\n",
       "      <th>2</th>\n",
       "      <td>8650</td>\n",
       "      <td>2</td>\n",
       "    </tr>\n",
       "    <tr>\n",
       "      <th>3</th>\n",
       "      <td>8649</td>\n",
       "      <td>2</td>\n",
       "    </tr>\n",
       "    <tr>\n",
       "      <th>4</th>\n",
       "      <td>8618</td>\n",
       "      <td>2</td>\n",
       "    </tr>\n",
       "  </tbody>\n",
       "</table>\n",
       "</div>"
      ],
      "text/plain": [
       "   movieId  genre\n",
       "0     8676      2\n",
       "1     8703      2\n",
       "2     8650      2\n",
       "3     8649      2\n",
       "4     8618      2"
      ]
     },
     "execution_count": 10,
     "metadata": {},
     "output_type": "execute_result"
    }
   ],
   "source": [
    "movie_in_genre_query = \"\"\"\n",
    "MATCH (m:Movie) -[:IN_GENRE]-> (g:Genre)\n",
    "RETURN m.movieId as movieId, g.name AS genre\n",
    "\"\"\"\n",
    "\n",
    "movie_in_genre_df = fetch_data(movie_in_genre_query)\n",
    "movie_in_genre_df['movieId'] = m_encoder.transform(movie_in_genre_df['movieId'])\n",
    "movie_in_genre_df['genre'] = g_encoder.transform(movie_in_genre_df['genre'])\n",
    "\n",
    "print('DF length:', len(movie_in_genre_df))\n",
    "movie_in_genre_df.head()"
   ]
  },
  {
   "cell_type": "code",
   "execution_count": 11,
   "metadata": {},
   "outputs": [
    {
     "name": "stdout",
     "output_type": "stream",
     "text": [
      "DF length: 51568\n"
     ]
    },
    {
     "data": {
      "text/html": [
       "<div>\n",
       "<style scoped>\n",
       "    .dataframe tbody tr th:only-of-type {\n",
       "        vertical-align: middle;\n",
       "    }\n",
       "\n",
       "    .dataframe tbody tr th {\n",
       "        vertical-align: top;\n",
       "    }\n",
       "\n",
       "    .dataframe thead th {\n",
       "        text-align: right;\n",
       "    }\n",
       "</style>\n",
       "<table border=\"1\" class=\"dataframe\">\n",
       "  <thead>\n",
       "    <tr style=\"text-align: right;\">\n",
       "      <th></th>\n",
       "      <th>userId</th>\n",
       "      <th>movieId</th>\n",
       "    </tr>\n",
       "  </thead>\n",
       "  <tbody>\n",
       "    <tr>\n",
       "      <th>0</th>\n",
       "      <td>0</td>\n",
       "      <td>1515</td>\n",
       "    </tr>\n",
       "    <tr>\n",
       "      <th>1</th>\n",
       "      <td>0</td>\n",
       "      <td>1665</td>\n",
       "    </tr>\n",
       "    <tr>\n",
       "      <th>2</th>\n",
       "      <td>0</td>\n",
       "      <td>931</td>\n",
       "    </tr>\n",
       "    <tr>\n",
       "      <th>3</th>\n",
       "      <td>1</td>\n",
       "      <td>233</td>\n",
       "    </tr>\n",
       "    <tr>\n",
       "      <th>4</th>\n",
       "      <td>1</td>\n",
       "      <td>225</td>\n",
       "    </tr>\n",
       "  </tbody>\n",
       "</table>\n",
       "</div>"
      ],
      "text/plain": [
       "   userId  movieId\n",
       "0       0     1515\n",
       "1       0     1665\n",
       "2       0      931\n",
       "3       1      233\n",
       "4       1      225"
      ]
     },
     "execution_count": 11,
     "metadata": {},
     "output_type": "execute_result"
    }
   ],
   "source": [
    "user_likes_movie_query = \"\"\"\n",
    "MATCH (u:User) -[r:RATED]-> (m:Movie)\n",
    "WHERE r.rating >= 4 \n",
    "RETURN u.userId AS userId, m.movieId AS movieId\n",
    "\"\"\"\n",
    "\n",
    "user_likes_movie_df = fetch_data(user_likes_movie_query)\n",
    "user_likes_movie_df['userId'] = u_encoder.transform(user_likes_movie_df['userId'])\n",
    "user_likes_movie_df['movieId'] = m_encoder.transform(user_likes_movie_df['movieId'])\n",
    "\n",
    "print('DF length:', len(user_likes_movie_df))\n",
    "user_likes_movie_df.head()"
   ]
  },
  {
   "cell_type": "code",
   "execution_count": 12,
   "metadata": {},
   "outputs": [
    {
     "name": "stdout",
     "output_type": "stream",
     "text": [
      "DF length: 45917\n"
     ]
    },
    {
     "data": {
      "text/html": [
       "<div>\n",
       "<style scoped>\n",
       "    .dataframe tbody tr th:only-of-type {\n",
       "        vertical-align: middle;\n",
       "    }\n",
       "\n",
       "    .dataframe tbody tr th {\n",
       "        vertical-align: top;\n",
       "    }\n",
       "\n",
       "    .dataframe thead th {\n",
       "        text-align: right;\n",
       "    }\n",
       "</style>\n",
       "<table border=\"1\" class=\"dataframe\">\n",
       "  <thead>\n",
       "    <tr style=\"text-align: right;\">\n",
       "      <th></th>\n",
       "      <th>person</th>\n",
       "      <th>movieId</th>\n",
       "    </tr>\n",
       "  </thead>\n",
       "  <tbody>\n",
       "    <tr>\n",
       "      <th>0</th>\n",
       "      <td>5994</td>\n",
       "      <td>6119</td>\n",
       "    </tr>\n",
       "    <tr>\n",
       "      <th>1</th>\n",
       "      <td>9699</td>\n",
       "      <td>6119</td>\n",
       "    </tr>\n",
       "    <tr>\n",
       "      <th>2</th>\n",
       "      <td>11114</td>\n",
       "      <td>4934</td>\n",
       "    </tr>\n",
       "    <tr>\n",
       "      <th>3</th>\n",
       "      <td>11114</td>\n",
       "      <td>5102</td>\n",
       "    </tr>\n",
       "    <tr>\n",
       "      <th>4</th>\n",
       "      <td>11114</td>\n",
       "      <td>5073</td>\n",
       "    </tr>\n",
       "  </tbody>\n",
       "</table>\n",
       "</div>"
      ],
      "text/plain": [
       "   person  movieId\n",
       "0    5994     6119\n",
       "1    9699     6119\n",
       "2   11114     4934\n",
       "3   11114     5102\n",
       "4   11114     5073"
      ]
     },
     "execution_count": 12,
     "metadata": {},
     "output_type": "execute_result"
    }
   ],
   "source": [
    "person_involvedIn_movie_query = \"\"\"\n",
    "MATCH (p:Person) -[]-> (m:Movie)\n",
    "RETURN p.name AS person, m.movieId AS movieId\n",
    "\"\"\"\n",
    "\n",
    "person_involvedIn_movie_df = fetch_data(person_involvedIn_movie_query)\n",
    "person_involvedIn_movie_df['person'] = p_encoder.transform(person_involvedIn_movie_df['person'])\n",
    "person_involvedIn_movie_df['movieId'] = m_encoder.transform(person_involvedIn_movie_df['movieId'])\n",
    "\n",
    "print('DF length:', len(person_involvedIn_movie_df))\n",
    "person_involvedIn_movie_df.head()"
   ]
  },
  {
   "cell_type": "markdown",
   "metadata": {},
   "source": [
    "### Create edge indecies"
   ]
  },
  {
   "cell_type": "code",
   "execution_count": 13,
   "metadata": {},
   "outputs": [
    {
     "data": {
      "text/plain": [
       "(torch.Size([2, 20340]), torch.Size([2, 51568]), torch.Size([2, 45917]))"
      ]
     },
     "execution_count": 13,
     "metadata": {},
     "output_type": "execute_result"
    }
   ],
   "source": [
    "movie_in_genre_edges = torch.Tensor(movie_in_genre_df.values).to(torch.long).swapaxes(1, 0)\n",
    "user_likes_movie_edges = torch.Tensor(user_likes_movie_df.values).to(torch.long).swapaxes(1, 0)\n",
    "person_involvedIn_movie_edges = torch.Tensor(person_involvedIn_movie_df.values).to(torch.long).swapaxes(1, 0)\n",
    "\n",
    "movie_in_genre_edges.size(), user_likes_movie_edges.size(), person_involvedIn_movie_edges.size()"
   ]
  },
  {
   "cell_type": "code",
   "execution_count": 14,
   "metadata": {},
   "outputs": [],
   "source": [
    "def revert_edges(edges:torch.Tensor) -> torch.Tensor:\n",
    "    \"\"\" \"\"\"\n",
    "    assert edges.size(0) == 2\n",
    "    return torch.Tensor(np.array([edges[1].numpy(), edges[0].numpy()])).to(torch.long)\n",
    "\n",
    "genre_belongsTo_movie_edges = revert_edges(movie_in_genre_edges)\n",
    "movie_likedBy_user_edges = revert_edges(user_likes_movie_edges)"
   ]
  },
  {
   "cell_type": "code",
   "execution_count": 15,
   "metadata": {},
   "outputs": [
    {
     "data": {
      "text/plain": [
       "(torch.Size([2, 20340]),\n",
       " tensor([[8676, 8703, 8650,  ..., 8784, 8732, 7724],\n",
       "         [   2,    2,    2,  ...,    0,    0,    0]]))"
      ]
     },
     "execution_count": 15,
     "metadata": {},
     "output_type": "execute_result"
    }
   ],
   "source": [
    "movie_in_genre_edges.size(), movie_in_genre_edges"
   ]
  },
  {
   "cell_type": "code",
   "execution_count": 16,
   "metadata": {},
   "outputs": [
    {
     "data": {
      "text/plain": [
       "(torch.Size([2, 20340]),\n",
       " tensor([[   2,    2,    2,  ...,    0,    0,    0],\n",
       "         [8676, 8703, 8650,  ..., 8784, 8732, 7724]]))"
      ]
     },
     "execution_count": 16,
     "metadata": {},
     "output_type": "execute_result"
    }
   ],
   "source": [
    "genre_belongsTo_movie_edges.size(), genre_belongsTo_movie_edges"
   ]
  },
  {
   "cell_type": "code",
   "execution_count": 34,
   "metadata": {},
   "outputs": [
    {
     "data": {
      "text/plain": [
       "{('movie',\n",
       "  'in_genre',\n",
       "  'genre'): tensor([[8676, 8703, 8650,  ..., 8784, 8732, 7724],\n",
       "         [   2,    2,    2,  ...,    0,    0,    0]]),\n",
       " ('user',\n",
       "  'liked',\n",
       "  'movie'): tensor([[   0,    0,    0,  ...,  670,  670,  670],\n",
       "         [1515, 1665,  931,  ..., 3812, 3000, 3213]]),\n",
       " ('genre',\n",
       "  'belongs_to',\n",
       "  'movie'): tensor([[   2,    2,    2,  ...,    0,    0,    0],\n",
       "         [8676, 8703, 8650,  ..., 8784, 8732, 7724]]),\n",
       " ('movie',\n",
       "  'liked_by',\n",
       "  'user'): tensor([[1515, 1665,  931,  ..., 3812, 3000, 3213],\n",
       "         [   0,    0,    0,  ...,  670,  670,  670]])}"
      ]
     },
     "execution_count": 34,
     "metadata": {},
     "output_type": "execute_result"
    }
   ],
   "source": [
    "metapath = [\n",
    "    ('movie', 'in_genre', 'genre'),\n",
    "    ('user', 'liked', 'movie'),\n",
    "    ('genre', 'belongs_to', 'movie'),\n",
    "    ('movie', 'liked_by', 'user')\n",
    "    # ('person', 'involved_in', 'movie')\n",
    "]\n",
    "\n",
    "edge_index_dict = {\n",
    "    ('movie', 'in_genre', 'genre'): movie_in_genre_edges,\n",
    "    ('user', 'liked', 'movie'): user_likes_movie_edges,\n",
    "    ('genre', 'belongs_to', 'movie'): genre_belongsTo_movie_edges,\n",
    "    ('movie', 'liked_by', 'user'): movie_likedBy_user_edges\n",
    "}\n",
    "edge_index_dict"
   ]
  },
  {
   "cell_type": "code",
   "execution_count": 18,
   "metadata": {},
   "outputs": [],
   "source": [
    "# edge_index_dict = {\n",
    "#     ('movie', 'in_genre', 'genre'): utils.to_undirected(movie_in_genre_edges),\n",
    "#     ('user', 'liked', 'movie'): utils.to_undirected(user_likes_movie_edges)\n",
    "#     # ('person', 'involved_in', 'movie'): utils.to_undirected(person_involvedIn_movie_edges)\n",
    "# }\n",
    "# edge_index_dict"
   ]
  },
  {
   "cell_type": "code",
   "execution_count": 35,
   "metadata": {},
   "outputs": [],
   "source": [
    "model = MetaPath2Vec(\n",
    "    edge_index_dict=edge_index_dict,\n",
    "    embedding_dim=128,\n",
    "    metapath=metapath,\n",
    "    walk_length=4,\n",
    "    context_size=4,\n",
    "    walks_per_node=1,\n",
    "    num_negative_samples=4,\n",
    "    sparse=True\n",
    ")"
   ]
  },
  {
   "cell_type": "code",
   "execution_count": 36,
   "metadata": {},
   "outputs": [],
   "source": [
    "loader = model.loader(batch_size=128, shuffle=True, num_workers=8)\n",
    "optimizer = torch.optim.SparseAdam(list(model.parameters()), lr=0.025)"
   ]
  },
  {
   "cell_type": "code",
   "execution_count": 37,
   "metadata": {},
   "outputs": [
    {
     "ename": "IndexError",
     "evalue": "Caught IndexError in DataLoader worker process 0.\nOriginal Traceback (most recent call last):\n  File \"c:\\Users\\roman\\OneDrive - OST\\2022_HS\\VP_1_RecommenderSystem\\.venv\\lib\\site-packages\\torch\\utils\\data\\_utils\\worker.py\", line 302, in _worker_loop\n    data = fetcher.fetch(index)\n  File \"c:\\Users\\roman\\OneDrive - OST\\2022_HS\\VP_1_RecommenderSystem\\.venv\\lib\\site-packages\\torch\\utils\\data\\_utils\\fetch.py\", line 52, in fetch\n    return self.collate_fn(data)\n  File \"c:\\Users\\roman\\OneDrive - OST\\2022_HS\\VP_1_RecommenderSystem\\.venv\\lib\\site-packages\\torch_geometric\\nn\\models\\metapath2vec.py\", line 186, in _sample\n    return self._pos_sample(batch), self._neg_sample(batch)\n  File \"c:\\Users\\roman\\OneDrive - OST\\2022_HS\\VP_1_RecommenderSystem\\.venv\\lib\\site-packages\\torch_geometric\\nn\\models\\metapath2vec.py\", line 150, in _pos_sample\n    batch = sample(adj, batch, num_neighbors=1,\n  File \"c:\\Users\\roman\\OneDrive - OST\\2022_HS\\VP_1_RecommenderSystem\\.venv\\lib\\site-packages\\torch_geometric\\nn\\models\\metapath2vec.py\", line 239, in sample\n    rowcount[mask] = src.storage.rowcount()[subset[mask]]\nIndexError: index 1004 is out of bounds for dimension 0 with size 20\n",
     "output_type": "error",
     "traceback": [
      "\u001b[1;31m---------------------------------------------------------------------------\u001b[0m",
      "\u001b[1;31mIndexError\u001b[0m                                Traceback (most recent call last)",
      "Cell \u001b[1;32mIn [37], line 1\u001b[0m\n\u001b[1;32m----> 1\u001b[0m \u001b[39mfor\u001b[39;00m i, (pos_rw, neg_rw) \u001b[39min\u001b[39;00m \u001b[39menumerate\u001b[39m(loader):\n\u001b[0;32m      2\u001b[0m     \u001b[39mif\u001b[39;00m i \u001b[39m==\u001b[39m \u001b[39m10\u001b[39m: \u001b[39mbreak\u001b[39;00m\n\u001b[0;32m      3\u001b[0m     \u001b[39mprint\u001b[39m(i, pos_rw\u001b[39m.\u001b[39mshape, neg_rw\u001b[39m.\u001b[39mshape)\n",
      "File \u001b[1;32mc:\\Users\\roman\\OneDrive - OST\\2022_HS\\VP_1_RecommenderSystem\\.venv\\lib\\site-packages\\torch\\utils\\data\\dataloader.py:681\u001b[0m, in \u001b[0;36m_BaseDataLoaderIter.__next__\u001b[1;34m(self)\u001b[0m\n\u001b[0;32m    678\u001b[0m \u001b[39mif\u001b[39;00m \u001b[39mself\u001b[39m\u001b[39m.\u001b[39m_sampler_iter \u001b[39mis\u001b[39;00m \u001b[39mNone\u001b[39;00m:\n\u001b[0;32m    679\u001b[0m     \u001b[39m# TODO(https://github.com/pytorch/pytorch/issues/76750)\u001b[39;00m\n\u001b[0;32m    680\u001b[0m     \u001b[39mself\u001b[39m\u001b[39m.\u001b[39m_reset()  \u001b[39m# type: ignore[call-arg]\u001b[39;00m\n\u001b[1;32m--> 681\u001b[0m data \u001b[39m=\u001b[39m \u001b[39mself\u001b[39;49m\u001b[39m.\u001b[39;49m_next_data()\n\u001b[0;32m    682\u001b[0m \u001b[39mself\u001b[39m\u001b[39m.\u001b[39m_num_yielded \u001b[39m+\u001b[39m\u001b[39m=\u001b[39m \u001b[39m1\u001b[39m\n\u001b[0;32m    683\u001b[0m \u001b[39mif\u001b[39;00m \u001b[39mself\u001b[39m\u001b[39m.\u001b[39m_dataset_kind \u001b[39m==\u001b[39m _DatasetKind\u001b[39m.\u001b[39mIterable \u001b[39mand\u001b[39;00m \\\n\u001b[0;32m    684\u001b[0m         \u001b[39mself\u001b[39m\u001b[39m.\u001b[39m_IterableDataset_len_called \u001b[39mis\u001b[39;00m \u001b[39mnot\u001b[39;00m \u001b[39mNone\u001b[39;00m \u001b[39mand\u001b[39;00m \\\n\u001b[0;32m    685\u001b[0m         \u001b[39mself\u001b[39m\u001b[39m.\u001b[39m_num_yielded \u001b[39m>\u001b[39m \u001b[39mself\u001b[39m\u001b[39m.\u001b[39m_IterableDataset_len_called:\n",
      "File \u001b[1;32mc:\\Users\\roman\\OneDrive - OST\\2022_HS\\VP_1_RecommenderSystem\\.venv\\lib\\site-packages\\torch\\utils\\data\\dataloader.py:1376\u001b[0m, in \u001b[0;36m_MultiProcessingDataLoaderIter._next_data\u001b[1;34m(self)\u001b[0m\n\u001b[0;32m   1374\u001b[0m \u001b[39melse\u001b[39;00m:\n\u001b[0;32m   1375\u001b[0m     \u001b[39mdel\u001b[39;00m \u001b[39mself\u001b[39m\u001b[39m.\u001b[39m_task_info[idx]\n\u001b[1;32m-> 1376\u001b[0m     \u001b[39mreturn\u001b[39;00m \u001b[39mself\u001b[39;49m\u001b[39m.\u001b[39;49m_process_data(data)\n",
      "File \u001b[1;32mc:\\Users\\roman\\OneDrive - OST\\2022_HS\\VP_1_RecommenderSystem\\.venv\\lib\\site-packages\\torch\\utils\\data\\dataloader.py:1402\u001b[0m, in \u001b[0;36m_MultiProcessingDataLoaderIter._process_data\u001b[1;34m(self, data)\u001b[0m\n\u001b[0;32m   1400\u001b[0m \u001b[39mself\u001b[39m\u001b[39m.\u001b[39m_try_put_index()\n\u001b[0;32m   1401\u001b[0m \u001b[39mif\u001b[39;00m \u001b[39misinstance\u001b[39m(data, ExceptionWrapper):\n\u001b[1;32m-> 1402\u001b[0m     data\u001b[39m.\u001b[39;49mreraise()\n\u001b[0;32m   1403\u001b[0m \u001b[39mreturn\u001b[39;00m data\n",
      "File \u001b[1;32mc:\\Users\\roman\\OneDrive - OST\\2022_HS\\VP_1_RecommenderSystem\\.venv\\lib\\site-packages\\torch\\_utils.py:461\u001b[0m, in \u001b[0;36mExceptionWrapper.reraise\u001b[1;34m(self)\u001b[0m\n\u001b[0;32m    457\u001b[0m \u001b[39mexcept\u001b[39;00m \u001b[39mTypeError\u001b[39;00m:\n\u001b[0;32m    458\u001b[0m     \u001b[39m# If the exception takes multiple arguments, don't try to\u001b[39;00m\n\u001b[0;32m    459\u001b[0m     \u001b[39m# instantiate since we don't know how to\u001b[39;00m\n\u001b[0;32m    460\u001b[0m     \u001b[39mraise\u001b[39;00m \u001b[39mRuntimeError\u001b[39;00m(msg) \u001b[39mfrom\u001b[39;00m \u001b[39mNone\u001b[39m\n\u001b[1;32m--> 461\u001b[0m \u001b[39mraise\u001b[39;00m exception\n",
      "\u001b[1;31mIndexError\u001b[0m: Caught IndexError in DataLoader worker process 0.\nOriginal Traceback (most recent call last):\n  File \"c:\\Users\\roman\\OneDrive - OST\\2022_HS\\VP_1_RecommenderSystem\\.venv\\lib\\site-packages\\torch\\utils\\data\\_utils\\worker.py\", line 302, in _worker_loop\n    data = fetcher.fetch(index)\n  File \"c:\\Users\\roman\\OneDrive - OST\\2022_HS\\VP_1_RecommenderSystem\\.venv\\lib\\site-packages\\torch\\utils\\data\\_utils\\fetch.py\", line 52, in fetch\n    return self.collate_fn(data)\n  File \"c:\\Users\\roman\\OneDrive - OST\\2022_HS\\VP_1_RecommenderSystem\\.venv\\lib\\site-packages\\torch_geometric\\nn\\models\\metapath2vec.py\", line 186, in _sample\n    return self._pos_sample(batch), self._neg_sample(batch)\n  File \"c:\\Users\\roman\\OneDrive - OST\\2022_HS\\VP_1_RecommenderSystem\\.venv\\lib\\site-packages\\torch_geometric\\nn\\models\\metapath2vec.py\", line 150, in _pos_sample\n    batch = sample(adj, batch, num_neighbors=1,\n  File \"c:\\Users\\roman\\OneDrive - OST\\2022_HS\\VP_1_RecommenderSystem\\.venv\\lib\\site-packages\\torch_geometric\\nn\\models\\metapath2vec.py\", line 239, in sample\n    rowcount[mask] = src.storage.rowcount()[subset[mask]]\nIndexError: index 1004 is out of bounds for dimension 0 with size 20\n"
     ]
    }
   ],
   "source": [
    "for i, (pos_rw, neg_rw) in enumerate(loader):\n",
    "    if i == 10: break\n",
    "    print(i, pos_rw.shape, neg_rw.shape)"
   ]
  },
  {
   "cell_type": "code",
   "execution_count": null,
   "metadata": {},
   "outputs": [
    {
     "name": "stdout",
     "output_type": "stream",
     "text": [
      "tensor([11318,     5, 11631,     3, 10259,     5, 10138,     8, 11187,     1]) tensor([11318,  3747, 13711,  8148,  9722,   434, 12770,  6066, 15680,  4422])\n"
     ]
    }
   ],
   "source": [
    "print(pos_rw[0], neg_rw[0])"
   ]
  },
  {
   "cell_type": "code",
   "execution_count": null,
   "metadata": {},
   "outputs": [],
   "source": [
    "def train(model, epoch, log_steps=100, eval_steps=2000):\n",
    "    model.train()\n",
    "    global loss\n",
    "    total_loss = 0\n",
    "    for i, (pos_rw, neg_rw) in tqdm(enumerate(loader)):\n",
    "      optimizer.zero_grad()\n",
    "      loss = model.loss(pos_rw, neg_rw)\n",
    "      loss.backward()\n",
    "      optimizer.step()\n",
    "      total_loss += loss.item()"
   ]
  },
  {
   "cell_type": "code",
   "execution_count": null,
   "metadata": {},
   "outputs": [
    {
     "data": {
      "application/vnd.jupyter.widget-view+json": {
       "model_id": "386cebf3ea074bedae9ff6731e862fb9",
       "version_major": 2,
       "version_minor": 0
      },
      "text/plain": [
       "0it [00:00, ?it/s]"
      ]
     },
     "metadata": {},
     "output_type": "display_data"
    },
    {
     "name": "stdout",
     "output_type": "stream",
     "text": [
      "epoch: 1, loss: 1.0597676038742065\n"
     ]
    },
    {
     "data": {
      "application/vnd.jupyter.widget-view+json": {
       "model_id": "63038b41866947d8bc3426faeecc742b",
       "version_major": 2,
       "version_minor": 0
      },
      "text/plain": [
       "0it [00:00, ?it/s]"
      ]
     },
     "metadata": {},
     "output_type": "display_data"
    },
    {
     "name": "stdout",
     "output_type": "stream",
     "text": [
      "epoch: 2, loss: 0.7792677879333496\n"
     ]
    },
    {
     "data": {
      "application/vnd.jupyter.widget-view+json": {
       "model_id": "66470569e40b4b978552ed3a8183148a",
       "version_major": 2,
       "version_minor": 0
      },
      "text/plain": [
       "0it [00:00, ?it/s]"
      ]
     },
     "metadata": {},
     "output_type": "display_data"
    },
    {
     "name": "stdout",
     "output_type": "stream",
     "text": [
      "epoch: 3, loss: 0.7412306070327759\n"
     ]
    },
    {
     "data": {
      "application/vnd.jupyter.widget-view+json": {
       "model_id": "3f22c212737043789c1c7c57be82b433",
       "version_major": 2,
       "version_minor": 0
      },
      "text/plain": [
       "0it [00:00, ?it/s]"
      ]
     },
     "metadata": {},
     "output_type": "display_data"
    },
    {
     "name": "stdout",
     "output_type": "stream",
     "text": [
      "epoch: 4, loss: 0.7266536355018616\n"
     ]
    },
    {
     "data": {
      "application/vnd.jupyter.widget-view+json": {
       "model_id": "4f32f2a38d624bf5b2c42d115b573307",
       "version_major": 2,
       "version_minor": 0
      },
      "text/plain": [
       "0it [00:00, ?it/s]"
      ]
     },
     "metadata": {},
     "output_type": "display_data"
    },
    {
     "name": "stdout",
     "output_type": "stream",
     "text": [
      "epoch: 5, loss: 0.729417622089386\n"
     ]
    },
    {
     "data": {
      "application/vnd.jupyter.widget-view+json": {
       "model_id": "976f970057ae48098a28b01a20277c79",
       "version_major": 2,
       "version_minor": 0
      },
      "text/plain": [
       "0it [00:00, ?it/s]"
      ]
     },
     "metadata": {},
     "output_type": "display_data"
    },
    {
     "ename": "IndexError",
     "evalue": "Caught IndexError in DataLoader worker process 7.\nOriginal Traceback (most recent call last):\n  File \"c:\\Users\\roman\\OneDrive - OST\\2022_HS\\VP_1_RecommenderSystem\\.venv\\lib\\site-packages\\torch\\utils\\data\\_utils\\worker.py\", line 302, in _worker_loop\n    data = fetcher.fetch(index)\n  File \"c:\\Users\\roman\\OneDrive - OST\\2022_HS\\VP_1_RecommenderSystem\\.venv\\lib\\site-packages\\torch\\utils\\data\\_utils\\fetch.py\", line 52, in fetch\n    return self.collate_fn(data)\n  File \"c:\\Users\\roman\\OneDrive - OST\\2022_HS\\VP_1_RecommenderSystem\\.venv\\lib\\site-packages\\torch_geometric\\nn\\models\\metapath2vec.py\", line 186, in _sample\n    return self._pos_sample(batch), self._neg_sample(batch)\n  File \"c:\\Users\\roman\\OneDrive - OST\\2022_HS\\VP_1_RecommenderSystem\\.venv\\lib\\site-packages\\torch_geometric\\nn\\models\\metapath2vec.py\", line 150, in _pos_sample\n    batch = sample(adj, batch, num_neighbors=1,\n  File \"c:\\Users\\roman\\OneDrive - OST\\2022_HS\\VP_1_RecommenderSystem\\.venv\\lib\\site-packages\\torch_geometric\\nn\\models\\metapath2vec.py\", line 239, in sample\n    rowcount[mask] = src.storage.rowcount()[subset[mask]]\nIndexError: index 9123 is out of bounds for dimension 0 with size 9123\n",
     "output_type": "error",
     "traceback": [
      "\u001b[1;31m---------------------------------------------------------------------------\u001b[0m",
      "\u001b[1;31mIndexError\u001b[0m                                Traceback (most recent call last)",
      "Cell \u001b[1;32mIn [96], line 3\u001b[0m\n\u001b[0;32m      1\u001b[0m epoch_loss \u001b[39m=\u001b[39m []\n\u001b[0;32m      2\u001b[0m \u001b[39mfor\u001b[39;00m epoch \u001b[39min\u001b[39;00m \u001b[39mrange\u001b[39m(\u001b[39m1\u001b[39m, \u001b[39m11\u001b[39m):\n\u001b[1;32m----> 3\u001b[0m     train(model,epoch)\n\u001b[0;32m      4\u001b[0m     \u001b[39mprint\u001b[39m(\u001b[39mf\u001b[39m\u001b[39m\"\u001b[39m\u001b[39mepoch: \u001b[39m\u001b[39m{\u001b[39;00mepoch\u001b[39m}\u001b[39;00m\u001b[39m, loss: \u001b[39m\u001b[39m{\u001b[39;00mloss\u001b[39m}\u001b[39;00m\u001b[39m\"\u001b[39m)\n\u001b[0;32m      5\u001b[0m     epoch_loss\u001b[39m.\u001b[39mappend(loss)\n",
      "Cell \u001b[1;32mIn [95], line 5\u001b[0m, in \u001b[0;36mtrain\u001b[1;34m(model, epoch, log_steps, eval_steps)\u001b[0m\n\u001b[0;32m      3\u001b[0m \u001b[39mglobal\u001b[39;00m loss\n\u001b[0;32m      4\u001b[0m total_loss \u001b[39m=\u001b[39m \u001b[39m0\u001b[39m\n\u001b[1;32m----> 5\u001b[0m \u001b[39mfor\u001b[39;00m i, (pos_rw, neg_rw) \u001b[39min\u001b[39;00m tqdm(\u001b[39menumerate\u001b[39m(loader)):\n\u001b[0;32m      6\u001b[0m   optimizer\u001b[39m.\u001b[39mzero_grad()\n\u001b[0;32m      7\u001b[0m   loss \u001b[39m=\u001b[39m model\u001b[39m.\u001b[39mloss(pos_rw, neg_rw)\n",
      "File \u001b[1;32mc:\\Users\\roman\\OneDrive - OST\\2022_HS\\VP_1_RecommenderSystem\\.venv\\lib\\site-packages\\tqdm\\notebook.py:259\u001b[0m, in \u001b[0;36mtqdm_notebook.__iter__\u001b[1;34m(self)\u001b[0m\n\u001b[0;32m    257\u001b[0m \u001b[39mtry\u001b[39;00m:\n\u001b[0;32m    258\u001b[0m     it \u001b[39m=\u001b[39m \u001b[39msuper\u001b[39m(tqdm_notebook, \u001b[39mself\u001b[39m)\u001b[39m.\u001b[39m\u001b[39m__iter__\u001b[39m()\n\u001b[1;32m--> 259\u001b[0m     \u001b[39mfor\u001b[39;00m obj \u001b[39min\u001b[39;00m it:\n\u001b[0;32m    260\u001b[0m         \u001b[39m# return super(tqdm...) will not catch exception\u001b[39;00m\n\u001b[0;32m    261\u001b[0m         \u001b[39myield\u001b[39;00m obj\n\u001b[0;32m    262\u001b[0m \u001b[39m# NB: except ... [ as ...] breaks IPython async KeyboardInterrupt\u001b[39;00m\n",
      "File \u001b[1;32mc:\\Users\\roman\\OneDrive - OST\\2022_HS\\VP_1_RecommenderSystem\\.venv\\lib\\site-packages\\tqdm\\std.py:1195\u001b[0m, in \u001b[0;36mtqdm.__iter__\u001b[1;34m(self)\u001b[0m\n\u001b[0;32m   1192\u001b[0m time \u001b[39m=\u001b[39m \u001b[39mself\u001b[39m\u001b[39m.\u001b[39m_time\n\u001b[0;32m   1194\u001b[0m \u001b[39mtry\u001b[39;00m:\n\u001b[1;32m-> 1195\u001b[0m     \u001b[39mfor\u001b[39;00m obj \u001b[39min\u001b[39;00m iterable:\n\u001b[0;32m   1196\u001b[0m         \u001b[39myield\u001b[39;00m obj\n\u001b[0;32m   1197\u001b[0m         \u001b[39m# Update and possibly print the progressbar.\u001b[39;00m\n\u001b[0;32m   1198\u001b[0m         \u001b[39m# Note: does not call self.update(1) for speed optimisation.\u001b[39;00m\n",
      "File \u001b[1;32mc:\\Users\\roman\\OneDrive - OST\\2022_HS\\VP_1_RecommenderSystem\\.venv\\lib\\site-packages\\torch\\utils\\data\\dataloader.py:681\u001b[0m, in \u001b[0;36m_BaseDataLoaderIter.__next__\u001b[1;34m(self)\u001b[0m\n\u001b[0;32m    678\u001b[0m \u001b[39mif\u001b[39;00m \u001b[39mself\u001b[39m\u001b[39m.\u001b[39m_sampler_iter \u001b[39mis\u001b[39;00m \u001b[39mNone\u001b[39;00m:\n\u001b[0;32m    679\u001b[0m     \u001b[39m# TODO(https://github.com/pytorch/pytorch/issues/76750)\u001b[39;00m\n\u001b[0;32m    680\u001b[0m     \u001b[39mself\u001b[39m\u001b[39m.\u001b[39m_reset()  \u001b[39m# type: ignore[call-arg]\u001b[39;00m\n\u001b[1;32m--> 681\u001b[0m data \u001b[39m=\u001b[39m \u001b[39mself\u001b[39;49m\u001b[39m.\u001b[39;49m_next_data()\n\u001b[0;32m    682\u001b[0m \u001b[39mself\u001b[39m\u001b[39m.\u001b[39m_num_yielded \u001b[39m+\u001b[39m\u001b[39m=\u001b[39m \u001b[39m1\u001b[39m\n\u001b[0;32m    683\u001b[0m \u001b[39mif\u001b[39;00m \u001b[39mself\u001b[39m\u001b[39m.\u001b[39m_dataset_kind \u001b[39m==\u001b[39m _DatasetKind\u001b[39m.\u001b[39mIterable \u001b[39mand\u001b[39;00m \\\n\u001b[0;32m    684\u001b[0m         \u001b[39mself\u001b[39m\u001b[39m.\u001b[39m_IterableDataset_len_called \u001b[39mis\u001b[39;00m \u001b[39mnot\u001b[39;00m \u001b[39mNone\u001b[39;00m \u001b[39mand\u001b[39;00m \\\n\u001b[0;32m    685\u001b[0m         \u001b[39mself\u001b[39m\u001b[39m.\u001b[39m_num_yielded \u001b[39m>\u001b[39m \u001b[39mself\u001b[39m\u001b[39m.\u001b[39m_IterableDataset_len_called:\n",
      "File \u001b[1;32mc:\\Users\\roman\\OneDrive - OST\\2022_HS\\VP_1_RecommenderSystem\\.venv\\lib\\site-packages\\torch\\utils\\data\\dataloader.py:1376\u001b[0m, in \u001b[0;36m_MultiProcessingDataLoaderIter._next_data\u001b[1;34m(self)\u001b[0m\n\u001b[0;32m   1374\u001b[0m \u001b[39melse\u001b[39;00m:\n\u001b[0;32m   1375\u001b[0m     \u001b[39mdel\u001b[39;00m \u001b[39mself\u001b[39m\u001b[39m.\u001b[39m_task_info[idx]\n\u001b[1;32m-> 1376\u001b[0m     \u001b[39mreturn\u001b[39;00m \u001b[39mself\u001b[39;49m\u001b[39m.\u001b[39;49m_process_data(data)\n",
      "File \u001b[1;32mc:\\Users\\roman\\OneDrive - OST\\2022_HS\\VP_1_RecommenderSystem\\.venv\\lib\\site-packages\\torch\\utils\\data\\dataloader.py:1402\u001b[0m, in \u001b[0;36m_MultiProcessingDataLoaderIter._process_data\u001b[1;34m(self, data)\u001b[0m\n\u001b[0;32m   1400\u001b[0m \u001b[39mself\u001b[39m\u001b[39m.\u001b[39m_try_put_index()\n\u001b[0;32m   1401\u001b[0m \u001b[39mif\u001b[39;00m \u001b[39misinstance\u001b[39m(data, ExceptionWrapper):\n\u001b[1;32m-> 1402\u001b[0m     data\u001b[39m.\u001b[39;49mreraise()\n\u001b[0;32m   1403\u001b[0m \u001b[39mreturn\u001b[39;00m data\n",
      "File \u001b[1;32mc:\\Users\\roman\\OneDrive - OST\\2022_HS\\VP_1_RecommenderSystem\\.venv\\lib\\site-packages\\torch\\_utils.py:461\u001b[0m, in \u001b[0;36mExceptionWrapper.reraise\u001b[1;34m(self)\u001b[0m\n\u001b[0;32m    457\u001b[0m \u001b[39mexcept\u001b[39;00m \u001b[39mTypeError\u001b[39;00m:\n\u001b[0;32m    458\u001b[0m     \u001b[39m# If the exception takes multiple arguments, don't try to\u001b[39;00m\n\u001b[0;32m    459\u001b[0m     \u001b[39m# instantiate since we don't know how to\u001b[39;00m\n\u001b[0;32m    460\u001b[0m     \u001b[39mraise\u001b[39;00m \u001b[39mRuntimeError\u001b[39;00m(msg) \u001b[39mfrom\u001b[39;00m \u001b[39mNone\u001b[39m\n\u001b[1;32m--> 461\u001b[0m \u001b[39mraise\u001b[39;00m exception\n",
      "\u001b[1;31mIndexError\u001b[0m: Caught IndexError in DataLoader worker process 7.\nOriginal Traceback (most recent call last):\n  File \"c:\\Users\\roman\\OneDrive - OST\\2022_HS\\VP_1_RecommenderSystem\\.venv\\lib\\site-packages\\torch\\utils\\data\\_utils\\worker.py\", line 302, in _worker_loop\n    data = fetcher.fetch(index)\n  File \"c:\\Users\\roman\\OneDrive - OST\\2022_HS\\VP_1_RecommenderSystem\\.venv\\lib\\site-packages\\torch\\utils\\data\\_utils\\fetch.py\", line 52, in fetch\n    return self.collate_fn(data)\n  File \"c:\\Users\\roman\\OneDrive - OST\\2022_HS\\VP_1_RecommenderSystem\\.venv\\lib\\site-packages\\torch_geometric\\nn\\models\\metapath2vec.py\", line 186, in _sample\n    return self._pos_sample(batch), self._neg_sample(batch)\n  File \"c:\\Users\\roman\\OneDrive - OST\\2022_HS\\VP_1_RecommenderSystem\\.venv\\lib\\site-packages\\torch_geometric\\nn\\models\\metapath2vec.py\", line 150, in _pos_sample\n    batch = sample(adj, batch, num_neighbors=1,\n  File \"c:\\Users\\roman\\OneDrive - OST\\2022_HS\\VP_1_RecommenderSystem\\.venv\\lib\\site-packages\\torch_geometric\\nn\\models\\metapath2vec.py\", line 239, in sample\n    rowcount[mask] = src.storage.rowcount()[subset[mask]]\nIndexError: index 9123 is out of bounds for dimension 0 with size 9123\n"
     ]
    }
   ],
   "source": [
    "epoch_loss = []\n",
    "for epoch in range(1, 11):\n",
    "    train(model,epoch)\n",
    "    print(f\"epoch: {epoch}, loss: {loss}\")\n",
    "    epoch_loss.append(loss)"
   ]
  },
  {
   "cell_type": "code",
   "execution_count": null,
   "metadata": {},
   "outputs": [
    {
     "data": {
      "image/png": "[encoded data removed]",
      "text/plain": [
       "<Figure size 400x400 with 1 Axes>"
      ]
     },
     "metadata": {},
     "output_type": "display_data"
    }
   ],
   "source": [
    "from matplotlib import pyplot as plt\n",
    "\n",
    "plt.figure(figsize=(4,4))\n",
    "plt.plot([loss.item() for loss in epoch_loss])\n",
    "plt.show()"
   ]
  },
  {
   "cell_type": "code",
   "execution_count": null,
   "metadata": {},
   "outputs": [
    {
     "data": {
      "text/plain": [
       "(torch.Size([9125, 64]),\n",
       " torch.Size([671, 64]),\n",
       " torch.Size([20, 64]),\n",
       " torch.Size([19014, 64]))"
      ]
     },
     "execution_count": 60,
     "metadata": {},
     "output_type": "execute_result"
    }
   ],
   "source": [
    "model.eval()\n",
    "z_movie = model('movie')\n",
    "z_user = model('user')\n",
    "z_genre = model('genre')\n",
    "z_person = model('person')\n",
    "\n",
    "z_movie.size(), z_user.size(), z_genre.size(), z_person.size(),"
   ]
  },
  {
   "cell_type": "code",
   "execution_count": null,
   "metadata": {},
   "outputs": [
    {
     "data": {
      "text/plain": [
       "(numpy.ndarray, (37284, 64))"
      ]
     },
     "execution_count": 71,
     "metadata": {},
     "output_type": "execute_result"
    }
   ],
   "source": [
    "z_all = torch.concat([z_genre, z_movie, z_movie, z_person], dim=0).detach().numpy()\n",
    "type(z_all), z_all.shape"
   ]
  },
  {
   "cell_type": "code",
   "execution_count": null,
   "metadata": {},
   "outputs": [
    {
     "data": {
      "text/plain": [
       "(9125, 2)"
      ]
     },
     "execution_count": 76,
     "metadata": {},
     "output_type": "execute_result"
    }
   ],
   "source": [
    "z_all_reduced = TSNE(n_components=2, init='random', learning_rate='auto').fit_transform(z_movie.detach().numpy())\n",
    "z_all_reduced.shape"
   ]
  },
  {
   "cell_type": "code",
   "execution_count": null,
   "metadata": {},
   "outputs": [
    {
     "data": {
      "image/png": "[encoded data removed]",
      "text/plain": [
       "<Figure size 640x480 with 1 Axes>"
      ]
     },
     "metadata": {},
     "output_type": "display_data"
    }
   ],
   "source": [
    "plt.scatter(x=z_all_reduced[:,0], y=z_all_reduced[:,1])\n",
    "plt.show()"
   ]
  },
  {
   "cell_type": "code",
   "execution_count": null,
   "metadata": {},
   "outputs": [],
   "source": [
    "plt.figure(figsize=(4,4))\n",
    "plt.scatter(z_user_reduced, c='r', label='User')\n",
    "plt.scatter(z_user_reduced, c='g', label='Movies')\n",
    "plt.scatter(z_genre_reduced, c='b', label='Genre')\n",
    "plt.scatter(z_person_reduced, c='y', label='Person')\n"
   ]
  },
  {
   "cell_type": "code",
   "execution_count": null,
   "metadata": {},
   "outputs": [
    {
     "data": {
      "text/plain": [
       "torch.Size([671, 64])"
      ]
     },
     "execution_count": 57,
     "metadata": {},
     "output_type": "execute_result"
    }
   ],
   "source": [
    "model.eval()\n",
    "z = model('user')\n",
    "z.size()"
   ]
  },
  {
   "cell_type": "code",
   "execution_count": null,
   "metadata": {},
   "outputs": [],
   "source": [
    "device = 'cpu'\n",
    "\n",
    "def train(epoch, log_steps=100, eval_steps=2000):\n",
    "    model.train()\n",
    "\n",
    "    total_loss = 0\n",
    "    for i, (pos_rw, neg_rw) in enumerate(loader):\n",
    "        optimizer.zero_grad()\n",
    "        loss = model.loss(pos_rw.to(device), neg_rw.to(device))\n",
    "        loss.backward()\n",
    "        optimizer.step()\n",
    "\n",
    "        total_loss += loss.item()\n",
    "        if (i + 1) % log_steps == 0:\n",
    "            print((f'Epoch: {epoch}, Step: {i + 1:05d}/{len(loader)}, '\n",
    "                   f'Loss: {total_loss / log_steps:.4f}'))\n",
    "            total_loss = 0\n",
    "\n",
    "        if (i + 1) % eval_steps == 0:\n",
    "            acc = test()\n",
    "            print((f'Epoch: {epoch}, Step: {i + 1:05d}/{len(loader)}, '\n",
    "                   f'Acc: {acc:.4f}'))\n",
    "\n",
    "\n",
    "@torch.no_grad()\n",
    "def test(train_ratio=0.1):\n",
    "    model.eval()\n",
    "\n",
    "    z = model('author', batch=data['author'].y_index.to(device))\n",
    "    y = data['author'].y\n",
    "\n",
    "    perm = torch.randperm(z.size(0))\n",
    "    train_perm = perm[:int(z.size(0) * train_ratio)]\n",
    "    test_perm = perm[int(z.size(0) * train_ratio):]\n",
    "\n",
    "    return model.test(z[train_perm], y[train_perm], z[test_perm], y[test_perm],\n",
    "                      max_iter=150)\n",
    "\n",
    "\n",
    "for epoch in range(1, 6):\n",
    "    train(epoch)\n",
    "    acc = test()\n",
    "    print(f'Epoch: {epoch}, Accuracy: {acc:.4f}')"
   ]
  },
  {
   "cell_type": "code",
   "execution_count": null,
   "metadata": {},
   "outputs": [
    {
     "name": "stdout",
     "output_type": "stream",
     "text": [
      "torch.Size([2, 20270]) torch.Size([2, 20270])\n",
      "torch.Size([2, 35909]) torch.Size([2, 35909])\n"
     ]
    }
   ],
   "source": [
    "movie_in_genre = np.unique(df[['movieId', 'genre']].values, axis=0)\n",
    "movie_in_genre = torch.Tensor(movie_in_genre).to(torch.long).swapaxes(1, 0)\n",
    "\n",
    "# genre_belongsTo_movie = np.unique(df[['genre', 'movieId']].values, axis=0)\n",
    "genre_belongsTo_movie = torch.Tensor(np.array([movie_in_genre[1].numpy(), movie_in_genre[0].numpy()])).to(torch.long)\n",
    "\n",
    "\n",
    "actor_actedIn_movie = np.unique(df[['movieId', 'actor']].values, axis=0, )\n",
    "actor_actedIn_movie = torch.Tensor(actor_actedIn_movie).to(torch.long).swapaxes(1, 0)\n",
    "\n",
    "# movie_hosted_actor = np.unique(df[['actor', 'movieId']].values, axis=0)\n",
    "movie_hosted_actor = torch.Tensor(np.array([actor_actedIn_movie[1].numpy(), actor_actedIn_movie[0].numpy()])).to(torch.long)\n",
    "\n",
    "\n",
    "print(movie_in_genre.size(), genre_belongsTo_movie.size())\n",
    "print(actor_actedIn_movie.size(), movie_hosted_actor.size())"
   ]
  },
  {
   "cell_type": "code",
   "execution_count": null,
   "metadata": {},
   "outputs": [
    {
     "data": {
      "text/plain": [
       "array([[   2,    3,    4, ...,   16,    7,    5],\n",
       "       [   0,    0,    0, ..., 9081, 9082, 9083]], dtype=int64)"
      ]
     },
     "execution_count": 51,
     "metadata": {},
     "output_type": "execute_result"
    }
   ],
   "source": [
    "# np.array([movie_in_genre[1].numpy(), movie_in_genre[0].numpy()])"
   ]
  },
  {
   "cell_type": "code",
   "execution_count": null,
   "metadata": {},
   "outputs": [],
   "source": [
    "metapath = [\n",
    "    ('movie', 'in_genre', 'genre'),\n",
    "    ('genre', 'belongs_to', 'movie'),\n",
    "    ('actor', 'acted_in', 'movie'),\n",
    "    ('movie', 'hosted', 'actor')\n",
    "]"
   ]
  },
  {
   "cell_type": "code",
   "execution_count": null,
   "metadata": {},
   "outputs": [
    {
     "data": {
      "text/plain": [
       "{('movie',\n",
       "  'in_genre',\n",
       "  'genre'): tensor([[   0,    0,    0,  ..., 9081, 9082, 9083],\n",
       "         [   2,    3,    4,  ...,   16,    7,    5]]),\n",
       " ('genre',\n",
       "  'belongs_to',\n",
       "  'movie'): tensor([[   2,    3,    4,  ...,   16,    7,    5],\n",
       "         [   0,    0,    0,  ..., 9081, 9082, 9083]]),\n",
       " ('actor',\n",
       "  'acted_in',\n",
       "  'movie'): tensor([[    0,     0,     0,  ...,  9083,  9083,  9083],\n",
       "         [ 3744,  6943, 14286,  ...,  5861,  8765, 11072]]),\n",
       " ('movie',\n",
       "  'hosted',\n",
       "  'actor'): tensor([[ 3744,  6943, 14286,  ...,  5861,  8765, 11072],\n",
       "         [    0,     0,     0,  ...,  9083,  9083,  9083]])}"
      ]
     },
     "execution_count": 61,
     "metadata": {},
     "output_type": "execute_result"
    }
   ],
   "source": [
    "edge_index_dict = {\n",
    "    ('movie', 'in_genre', 'genre'): movie_in_genre,\n",
    "    ('genre', 'belongs_to', 'movie'): genre_belongsTo_movie,\n",
    "    ('actor', 'acted_in', 'movie'): actor_actedIn_movie,\n",
    "    ('movie', 'hosted', 'actor'): movie_hosted_actor}\n",
    "edge_index_dict"
   ]
  },
  {
   "cell_type": "code",
   "execution_count": null,
   "metadata": {},
   "outputs": [],
   "source": [
    "from torch_geometric.nn import MetaPath2Vec"
   ]
  },
  {
   "cell_type": "code",
   "execution_count": null,
   "metadata": {},
   "outputs": [
    {
     "ename": "AttributeError",
     "evalue": "The 'walk_length' is longer than the given 'metapath', but the 'metapath' does not denote a cycle",
     "output_type": "error",
     "traceback": [
      "\u001b[1;31m---------------------------------------------------------------------------\u001b[0m",
      "\u001b[1;31mAttributeError\u001b[0m                            Traceback (most recent call last)",
      "Cell \u001b[1;32mIn [71], line 1\u001b[0m\n\u001b[1;32m----> 1\u001b[0m model \u001b[39m=\u001b[39m MetaPath2Vec(\n\u001b[0;32m      2\u001b[0m     edge_index_dict\u001b[39m=\u001b[39medge_index_dict,\n\u001b[0;32m      3\u001b[0m     embedding_dim\u001b[39m=\u001b[39m\u001b[39m64\u001b[39m,\n\u001b[0;32m      4\u001b[0m     metapath\u001b[39m=\u001b[39mmetapath,\n\u001b[0;32m      5\u001b[0m     walk_length\u001b[39m=\u001b[39m\u001b[39m5\u001b[39m,\n\u001b[0;32m      6\u001b[0m     context_size\u001b[39m=\u001b[39m\u001b[39m5\u001b[39m,\n\u001b[0;32m      7\u001b[0m     walks_per_node\u001b[39m=\u001b[39m\u001b[39m1\u001b[39m,\n\u001b[0;32m      8\u001b[0m     num_negative_samples\u001b[39m=\u001b[39m\u001b[39m5\u001b[39m,\n\u001b[0;32m      9\u001b[0m     sparse\u001b[39m=\u001b[39m\u001b[39mTrue\u001b[39;00m\n\u001b[0;32m     10\u001b[0m )\n",
      "File \u001b[1;32mc:\\Users\\roman\\OneDrive - OST\\2022_HS\\VP_1_RecommenderSystem\\.venv\\lib\\site-packages\\torch_geometric\\nn\\models\\metapath2vec.py:85\u001b[0m, in \u001b[0;36mMetaPath2Vec.__init__\u001b[1;34m(self, edge_index_dict, embedding_dim, metapath, walk_length, context_size, walks_per_node, num_negative_samples, num_nodes_dict, sparse)\u001b[0m\n\u001b[0;32m     83\u001b[0m \u001b[39massert\u001b[39;00m walk_length \u001b[39m+\u001b[39m \u001b[39m1\u001b[39m \u001b[39m>\u001b[39m\u001b[39m=\u001b[39m context_size\n\u001b[0;32m     84\u001b[0m \u001b[39mif\u001b[39;00m walk_length \u001b[39m>\u001b[39m \u001b[39mlen\u001b[39m(metapath) \u001b[39mand\u001b[39;00m metapath[\u001b[39m0\u001b[39m][\u001b[39m0\u001b[39m] \u001b[39m!=\u001b[39m metapath[\u001b[39m-\u001b[39m\u001b[39m1\u001b[39m][\u001b[39m-\u001b[39m\u001b[39m1\u001b[39m]:\n\u001b[1;32m---> 85\u001b[0m     \u001b[39mraise\u001b[39;00m \u001b[39mAttributeError\u001b[39;00m(\n\u001b[0;32m     86\u001b[0m         \u001b[39m\"\u001b[39m\u001b[39mThe \u001b[39m\u001b[39m'\u001b[39m\u001b[39mwalk_length\u001b[39m\u001b[39m'\u001b[39m\u001b[39m is longer than the given \u001b[39m\u001b[39m'\u001b[39m\u001b[39mmetapath\u001b[39m\u001b[39m'\u001b[39m\u001b[39m, but \u001b[39m\u001b[39m\"\u001b[39m\n\u001b[0;32m     87\u001b[0m         \u001b[39m\"\u001b[39m\u001b[39mthe \u001b[39m\u001b[39m'\u001b[39m\u001b[39mmetapath\u001b[39m\u001b[39m'\u001b[39m\u001b[39m does not denote a cycle\u001b[39m\u001b[39m\"\u001b[39m)\n\u001b[0;32m     89\u001b[0m \u001b[39mself\u001b[39m\u001b[39m.\u001b[39madj_dict \u001b[39m=\u001b[39m adj_dict\n\u001b[0;32m     90\u001b[0m \u001b[39mself\u001b[39m\u001b[39m.\u001b[39membedding_dim \u001b[39m=\u001b[39m embedding_dim\n",
      "\u001b[1;31mAttributeError\u001b[0m: The 'walk_length' is longer than the given 'metapath', but the 'metapath' does not denote a cycle"
     ]
    }
   ],
   "source": [
    "model = MetaPath2Vec(\n",
    "    edge_index_dict=edge_index_dict,\n",
    "    embedding_dim=64,\n",
    "    metapath=metapath,\n",
    "    walk_length=5,\n",
    "    context_size=5,\n",
    "    walks_per_node=1,\n",
    "    num_negative_samples=5,\n",
    "    sparse=True\n",
    ")"
   ]
  },
  {
   "cell_type": "code",
   "execution_count": null,
   "metadata": {},
   "outputs": [],
   "source": [
    "# model = MetaPath2Vec(edge_index_dict=edge_index_dict, \n",
    "#     embedding_dim=128,\n",
    "#     metapath=metapath,\n",
    "#     walk_length=100, \n",
    "#     context_size=10, walks_per_node=1, num_negative_samples=5, sparse=True).to('cpu')"
   ]
  },
  {
   "cell_type": "code",
   "execution_count": null,
   "metadata": {},
   "outputs": [],
   "source": [
    "loader = model.loader(batch_size=128, shuffle=True)"
   ]
  },
  {
   "cell_type": "code",
   "execution_count": null,
   "metadata": {},
   "outputs": [
    {
     "name": "stdout",
     "output_type": "stream",
     "text": [
      "0 torch.Size([2560, 4]) torch.Size([10240, 4])\n",
      "1 torch.Size([2560, 4]) torch.Size([10240, 4])\n",
      "2 torch.Size([2560, 4]) torch.Size([10240, 4])\n",
      "3 torch.Size([2560, 4]) torch.Size([10240, 4])\n",
      "4 torch.Size([2560, 4]) torch.Size([10240, 4])\n",
      "5 torch.Size([2560, 4]) torch.Size([10240, 4])\n",
      "6 torch.Size([2560, 4]) torch.Size([10240, 4])\n",
      "7 torch.Size([2560, 4]) torch.Size([10240, 4])\n",
      "8 torch.Size([2560, 4]) torch.Size([10240, 4])\n",
      "9 torch.Size([2560, 4]) torch.Size([10240, 4])\n"
     ]
    }
   ],
   "source": [
    "for i, (pos_rw, neg_rw) in enumerate(loader):\n",
    "    if i == 10: break\n",
    "    print(i, pos_rw.shape, neg_rw.shape)"
   ]
  },
  {
   "cell_type": "code",
   "execution_count": null,
   "metadata": {},
   "outputs": [
    {
     "name": "stdout",
     "output_type": "stream",
     "text": [
      "tensor([14955,  9100, 15944, 22912]) tensor([14955,  9092, 18249, 11829])\n"
     ]
    }
   ],
   "source": [
    "print(pos_rw[0], neg_rw[0])"
   ]
  },
  {
   "cell_type": "code",
   "execution_count": null,
   "metadata": {},
   "outputs": [
    {
     "data": {
      "text/plain": [
       "array(['Lou Rawls'], dtype=object)"
      ]
     },
     "execution_count": 113,
     "metadata": {},
     "output_type": "execute_result"
    }
   ],
   "source": [
    "actor_encoder.inverse_transform([9092])"
   ]
  },
  {
   "cell_type": "code",
   "execution_count": null,
   "metadata": {},
   "outputs": [
    {
     "data": {
      "text/plain": [
       "(15439, 9083, 19)"
      ]
     },
     "execution_count": 116,
     "metadata": {},
     "output_type": "execute_result"
    }
   ],
   "source": [
    "df['actor'].max(), df['movieId'].max(), df['genre'].max(),"
   ]
  },
  {
   "cell_type": "code",
   "execution_count": null,
   "metadata": {},
   "outputs": [
    {
     "data": {
      "text/plain": [
       "tensor(9083)"
      ]
     },
     "execution_count": 121,
     "metadata": {},
     "output_type": "execute_result"
    }
   ],
   "source": [
    "edge_index_dict[('movie',\n",
    "  'in_genre',\n",
    "  'genre')][0].max()"
   ]
  },
  {
   "cell_type": "code",
   "execution_count": null,
   "metadata": {},
   "outputs": [],
   "source": []
  }
 ],
 "metadata": {
  "kernelspec": {
   "display_name": "Python 3.9.0 ('.venv': venv)",
   "language": "python",
   "name": "python3"
  },
  "language_info": {
   "codemirror_mode": {
    "name": "ipython",
    "version": 3
   },
   "file_extension": ".py",
   "mimetype": "text/x-python",
   "name": "python",
   "nbconvert_exporter": "python",
   "pygments_lexer": "ipython3",
   "version": "3.9.0"
  },
  "orig_nbformat": 4,
  "vscode": {
   "interpreter": {
    "hash": "b3386fb75ff758a604bfbb17392d8340573eadc781334269853111502905a2bf"
   }
  }
 },
 "nbformat": 4,
 "nbformat_minor": 2
}
