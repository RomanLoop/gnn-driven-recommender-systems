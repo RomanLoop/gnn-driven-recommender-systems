{
 "cells": [
  {
   "attachments": {},
   "cell_type": "markdown",
   "metadata": {},
   "source": [
    "In this notebook I train a benchmark model. This means the users are one-hot encoded the pre-trained user embeddings are not used to train this model. The movie features do not consider NLP embeddings from the plot and title. The main goal is create a working pipeline for training a PyG model. And it can be used later to compare results from optimized models."
   ]
  },
  {
   "cell_type": "code",
   "execution_count": 1,
   "metadata": {},
   "outputs": [],
   "source": [
    "from collections import defaultdict\n",
    "from datetime import datetime\n",
    "import numpy as np\n",
    "import pandas as pd\n",
    "from tqdm import tqdm\n",
    "\n",
    "from matplotlib import pyplot as plt\n",
    "\n",
    "import torch\n",
    "from torch.nn import Linear, MSELoss\n",
    "import torch.nn.functional as F\n",
    "\n",
    "from torch_geometric.data import HeteroData\n",
    "from torch_geometric.nn import SAGEConv, to_hetero\n",
    "from torch_geometric.transforms import RandomLinkSplit, ToUndirected, AddSelfLoops, NormalizeFeatures"
   ]
  },
  {
   "cell_type": "code",
   "execution_count": 2,
   "metadata": {},
   "outputs": [
    {
     "data": {
      "text/plain": [
       "'1.13.0+cpu'"
      ]
     },
     "execution_count": 2,
     "metadata": {},
     "output_type": "execute_result"
    }
   ],
   "source": [
    "torch.__version__"
   ]
  },
  {
   "cell_type": "code",
   "execution_count": 3,
   "metadata": {},
   "outputs": [
    {
     "data": {
      "text/plain": [
       "device(type='cpu')"
      ]
     },
     "execution_count": 3,
     "metadata": {},
     "output_type": "execute_result"
    }
   ],
   "source": [
    "device = torch.device('cuda' if torch.cuda.is_available() else 'cpu')\n",
    "device"
   ]
  },
  {
   "attachments": {},
   "cell_type": "markdown",
   "metadata": {},
   "source": [
    "### Load data"
   ]
  },
  {
   "cell_type": "code",
   "execution_count": 4,
   "metadata": {},
   "outputs": [
    {
     "name": "stdout",
     "output_type": "stream",
     "text": [
      "(671, 1)\n"
     ]
    },
    {
     "data": {
      "text/html": [
       "<div>\n",
       "<style scoped>\n",
       "    .dataframe tbody tr th:only-of-type {\n",
       "        vertical-align: middle;\n",
       "    }\n",
       "\n",
       "    .dataframe tbody tr th {\n",
       "        vertical-align: top;\n",
       "    }\n",
       "\n",
       "    .dataframe thead th {\n",
       "        text-align: right;\n",
       "    }\n",
       "</style>\n",
       "<table border=\"1\" class=\"dataframe\">\n",
       "  <thead>\n",
       "    <tr style=\"text-align: right;\">\n",
       "      <th></th>\n",
       "      <th>userId</th>\n",
       "    </tr>\n",
       "  </thead>\n",
       "  <tbody>\n",
       "    <tr>\n",
       "      <th>0</th>\n",
       "      <td>0</td>\n",
       "    </tr>\n",
       "    <tr>\n",
       "      <th>1</th>\n",
       "      <td>1</td>\n",
       "    </tr>\n",
       "    <tr>\n",
       "      <th>2</th>\n",
       "      <td>2</td>\n",
       "    </tr>\n",
       "    <tr>\n",
       "      <th>3</th>\n",
       "      <td>3</td>\n",
       "    </tr>\n",
       "    <tr>\n",
       "      <th>4</th>\n",
       "      <td>4</td>\n",
       "    </tr>\n",
       "  </tbody>\n",
       "</table>\n",
       "</div>"
      ],
      "text/plain": [
       "   userId\n",
       "0       0\n",
       "1       1\n",
       "2       2\n",
       "3       3\n",
       "4       4"
      ]
     },
     "execution_count": 4,
     "metadata": {},
     "output_type": "execute_result"
    }
   ],
   "source": [
    "user_df = pd.read_csv('data/movieLens100k_users.csv')\n",
    "\n",
    "print(user_df.shape)\n",
    "user_df.head()"
   ]
  },
  {
   "cell_type": "code",
   "execution_count": 5,
   "metadata": {},
   "outputs": [
    {
     "name": "stdout",
     "output_type": "stream",
     "text": [
      "(9125, 26)\n"
     ]
    },
    {
     "data": {
      "text/html": [
       "<div>\n",
       "<style scoped>\n",
       "    .dataframe tbody tr th:only-of-type {\n",
       "        vertical-align: middle;\n",
       "    }\n",
       "\n",
       "    .dataframe tbody tr th {\n",
       "        vertical-align: top;\n",
       "    }\n",
       "\n",
       "    .dataframe thead th {\n",
       "        text-align: right;\n",
       "    }\n",
       "</style>\n",
       "<table border=\"1\" class=\"dataframe\">\n",
       "  <thead>\n",
       "    <tr style=\"text-align: right;\">\n",
       "      <th></th>\n",
       "      <th>movieId</th>\n",
       "      <th>Action</th>\n",
       "      <th>Adventure</th>\n",
       "      <th>Animation</th>\n",
       "      <th>Children</th>\n",
       "      <th>Comedy</th>\n",
       "      <th>Crime</th>\n",
       "      <th>Documentary</th>\n",
       "      <th>Drama</th>\n",
       "      <th>Fantasy</th>\n",
       "      <th>...</th>\n",
       "      <th>Sci-Fi</th>\n",
       "      <th>Thriller</th>\n",
       "      <th>War</th>\n",
       "      <th>Western</th>\n",
       "      <th>imdbRating</th>\n",
       "      <th>imdbVotes</th>\n",
       "      <th>runtime</th>\n",
       "      <th>year</th>\n",
       "      <th>num_popular_actors</th>\n",
       "      <th>num_popular_directors</th>\n",
       "    </tr>\n",
       "  </thead>\n",
       "  <tbody>\n",
       "    <tr>\n",
       "      <th>0</th>\n",
       "      <td>0</td>\n",
       "      <td>0</td>\n",
       "      <td>1</td>\n",
       "      <td>1</td>\n",
       "      <td>1</td>\n",
       "      <td>1</td>\n",
       "      <td>0</td>\n",
       "      <td>0</td>\n",
       "      <td>0</td>\n",
       "      <td>1</td>\n",
       "      <td>...</td>\n",
       "      <td>0</td>\n",
       "      <td>0</td>\n",
       "      <td>0</td>\n",
       "      <td>0</td>\n",
       "      <td>1.528928</td>\n",
       "      <td>5.144229</td>\n",
       "      <td>-0.876122</td>\n",
       "      <td>0.158905</td>\n",
       "      <td>2.943417</td>\n",
       "      <td>4.502288</td>\n",
       "    </tr>\n",
       "    <tr>\n",
       "      <th>1</th>\n",
       "      <td>1</td>\n",
       "      <td>0</td>\n",
       "      <td>1</td>\n",
       "      <td>0</td>\n",
       "      <td>1</td>\n",
       "      <td>0</td>\n",
       "      <td>0</td>\n",
       "      <td>0</td>\n",
       "      <td>0</td>\n",
       "      <td>1</td>\n",
       "      <td>...</td>\n",
       "      <td>0</td>\n",
       "      <td>0</td>\n",
       "      <td>0</td>\n",
       "      <td>0</td>\n",
       "      <td>0.174897</td>\n",
       "      <td>1.394602</td>\n",
       "      <td>-0.058951</td>\n",
       "      <td>0.158905</td>\n",
       "      <td>1.228413</td>\n",
       "      <td>-0.218854</td>\n",
       "    </tr>\n",
       "    <tr>\n",
       "      <th>2</th>\n",
       "      <td>2</td>\n",
       "      <td>0</td>\n",
       "      <td>0</td>\n",
       "      <td>0</td>\n",
       "      <td>0</td>\n",
       "      <td>1</td>\n",
       "      <td>0</td>\n",
       "      <td>0</td>\n",
       "      <td>0</td>\n",
       "      <td>0</td>\n",
       "      <td>...</td>\n",
       "      <td>0</td>\n",
       "      <td>0</td>\n",
       "      <td>0</td>\n",
       "      <td>0</td>\n",
       "      <td>-0.115253</td>\n",
       "      <td>-0.318207</td>\n",
       "      <td>-0.165539</td>\n",
       "      <td>0.158905</td>\n",
       "      <td>-0.486591</td>\n",
       "      <td>-0.218854</td>\n",
       "    </tr>\n",
       "    <tr>\n",
       "      <th>3</th>\n",
       "      <td>3</td>\n",
       "      <td>0</td>\n",
       "      <td>0</td>\n",
       "      <td>0</td>\n",
       "      <td>0</td>\n",
       "      <td>1</td>\n",
       "      <td>0</td>\n",
       "      <td>0</td>\n",
       "      <td>1</td>\n",
       "      <td>0</td>\n",
       "      <td>...</td>\n",
       "      <td>0</td>\n",
       "      <td>0</td>\n",
       "      <td>0</td>\n",
       "      <td>0</td>\n",
       "      <td>-1.082418</td>\n",
       "      <td>-0.426889</td>\n",
       "      <td>0.651632</td>\n",
       "      <td>0.158905</td>\n",
       "      <td>-0.486591</td>\n",
       "      <td>-0.218854</td>\n",
       "    </tr>\n",
       "    <tr>\n",
       "      <th>4</th>\n",
       "      <td>4</td>\n",
       "      <td>0</td>\n",
       "      <td>0</td>\n",
       "      <td>0</td>\n",
       "      <td>0</td>\n",
       "      <td>1</td>\n",
       "      <td>0</td>\n",
       "      <td>0</td>\n",
       "      <td>0</td>\n",
       "      <td>0</td>\n",
       "      <td>...</td>\n",
       "      <td>0</td>\n",
       "      <td>0</td>\n",
       "      <td>0</td>\n",
       "      <td>0</td>\n",
       "      <td>-0.792268</td>\n",
       "      <td>-0.248423</td>\n",
       "      <td>0.012107</td>\n",
       "      <td>0.158905</td>\n",
       "      <td>1.228413</td>\n",
       "      <td>-0.218854</td>\n",
       "    </tr>\n",
       "  </tbody>\n",
       "</table>\n",
       "<p>5 rows × 26 columns</p>\n",
       "</div>"
      ],
      "text/plain": [
       "   movieId  Action  Adventure  Animation  Children  Comedy  Crime  \\\n",
       "0        0       0          1          1         1       1      0   \n",
       "1        1       0          1          0         1       0      0   \n",
       "2        2       0          0          0         0       1      0   \n",
       "3        3       0          0          0         0       1      0   \n",
       "4        4       0          0          0         0       1      0   \n",
       "\n",
       "   Documentary  Drama  Fantasy  ...  Sci-Fi  Thriller  War  Western  \\\n",
       "0            0      0        1  ...       0         0    0        0   \n",
       "1            0      0        1  ...       0         0    0        0   \n",
       "2            0      0        0  ...       0         0    0        0   \n",
       "3            0      1        0  ...       0         0    0        0   \n",
       "4            0      0        0  ...       0         0    0        0   \n",
       "\n",
       "   imdbRating  imdbVotes   runtime      year  num_popular_actors  \\\n",
       "0    1.528928   5.144229 -0.876122  0.158905            2.943417   \n",
       "1    0.174897   1.394602 -0.058951  0.158905            1.228413   \n",
       "2   -0.115253  -0.318207 -0.165539  0.158905           -0.486591   \n",
       "3   -1.082418  -0.426889  0.651632  0.158905           -0.486591   \n",
       "4   -0.792268  -0.248423  0.012107  0.158905            1.228413   \n",
       "\n",
       "   num_popular_directors  \n",
       "0               4.502288  \n",
       "1              -0.218854  \n",
       "2              -0.218854  \n",
       "3              -0.218854  \n",
       "4              -0.218854  \n",
       "\n",
       "[5 rows x 26 columns]"
      ]
     },
     "execution_count": 5,
     "metadata": {},
     "output_type": "execute_result"
    }
   ],
   "source": [
    "movie_df = pd.read_csv('data/movieLens100k_movies.csv')\n",
    "movie_df.drop(columns=['plot', 'title'], axis=1, inplace=True)\n",
    "\n",
    "print(movie_df.shape)\n",
    "movie_df.head()"
   ]
  },
  {
   "cell_type": "code",
   "execution_count": 6,
   "metadata": {},
   "outputs": [
    {
     "name": "stdout",
     "output_type": "stream",
     "text": [
      "<class 'pandas.core.frame.DataFrame'>\n",
      "RangeIndex: 9125 entries, 0 to 9124\n",
      "Data columns (total 26 columns):\n",
      " #   Column                 Non-Null Count  Dtype  \n",
      "---  ------                 --------------  -----  \n",
      " 0   movieId                9125 non-null   int64  \n",
      " 1   Action                 9125 non-null   int64  \n",
      " 2   Adventure              9125 non-null   int64  \n",
      " 3   Animation              9125 non-null   int64  \n",
      " 4   Children               9125 non-null   int64  \n",
      " 5   Comedy                 9125 non-null   int64  \n",
      " 6   Crime                  9125 non-null   int64  \n",
      " 7   Documentary            9125 non-null   int64  \n",
      " 8   Drama                  9125 non-null   int64  \n",
      " 9   Fantasy                9125 non-null   int64  \n",
      " 10  Film-Noir              9125 non-null   int64  \n",
      " 11  Horror                 9125 non-null   int64  \n",
      " 12  IMAX                   9125 non-null   int64  \n",
      " 13  Musical                9125 non-null   int64  \n",
      " 14  Mystery                9125 non-null   int64  \n",
      " 15  Romance                9125 non-null   int64  \n",
      " 16  Sci-Fi                 9125 non-null   int64  \n",
      " 17  Thriller               9125 non-null   int64  \n",
      " 18  War                    9125 non-null   int64  \n",
      " 19  Western                9125 non-null   int64  \n",
      " 20  imdbRating             9125 non-null   float64\n",
      " 21  imdbVotes              9125 non-null   float64\n",
      " 22  runtime                9125 non-null   float64\n",
      " 23  year                   9125 non-null   float64\n",
      " 24  num_popular_actors     9125 non-null   float64\n",
      " 25  num_popular_directors  9125 non-null   float64\n",
      "dtypes: float64(6), int64(20)\n",
      "memory usage: 1.8 MB\n"
     ]
    }
   ],
   "source": [
    "movie_df.info()"
   ]
  },
  {
   "cell_type": "code",
   "execution_count": 7,
   "metadata": {},
   "outputs": [
    {
     "name": "stdout",
     "output_type": "stream",
     "text": [
      "(100004, 3)\n"
     ]
    },
    {
     "data": {
      "text/html": [
       "<div>\n",
       "<style scoped>\n",
       "    .dataframe tbody tr th:only-of-type {\n",
       "        vertical-align: middle;\n",
       "    }\n",
       "\n",
       "    .dataframe tbody tr th {\n",
       "        vertical-align: top;\n",
       "    }\n",
       "\n",
       "    .dataframe thead th {\n",
       "        text-align: right;\n",
       "    }\n",
       "</style>\n",
       "<table border=\"1\" class=\"dataframe\">\n",
       "  <thead>\n",
       "    <tr style=\"text-align: right;\">\n",
       "      <th></th>\n",
       "      <th>userId</th>\n",
       "      <th>movieId</th>\n",
       "      <th>rating</th>\n",
       "    </tr>\n",
       "  </thead>\n",
       "  <tbody>\n",
       "    <tr>\n",
       "      <th>0</th>\n",
       "      <td>0</td>\n",
       "      <td>1815</td>\n",
       "      <td>2.0</td>\n",
       "    </tr>\n",
       "    <tr>\n",
       "      <th>1</th>\n",
       "      <td>0</td>\n",
       "      <td>1962</td>\n",
       "      <td>2.5</td>\n",
       "    </tr>\n",
       "    <tr>\n",
       "      <th>2</th>\n",
       "      <td>0</td>\n",
       "      <td>2380</td>\n",
       "      <td>1.0</td>\n",
       "    </tr>\n",
       "    <tr>\n",
       "      <th>3</th>\n",
       "      <td>0</td>\n",
       "      <td>2925</td>\n",
       "      <td>3.0</td>\n",
       "    </tr>\n",
       "    <tr>\n",
       "      <th>4</th>\n",
       "      <td>0</td>\n",
       "      <td>1515</td>\n",
       "      <td>4.0</td>\n",
       "    </tr>\n",
       "  </tbody>\n",
       "</table>\n",
       "</div>"
      ],
      "text/plain": [
       "   userId  movieId  rating\n",
       "0       0     1815     2.0\n",
       "1       0     1962     2.5\n",
       "2       0     2380     1.0\n",
       "3       0     2925     3.0\n",
       "4       0     1515     4.0"
      ]
     },
     "execution_count": 7,
     "metadata": {},
     "output_type": "execute_result"
    }
   ],
   "source": [
    "rating_df = pd.read_csv('data/movieLens100k_ratings.csv')\n",
    "\n",
    "print(rating_df.shape)\n",
    "rating_df.head()"
   ]
  },
  {
   "cell_type": "code",
   "execution_count": 8,
   "metadata": {},
   "outputs": [
    {
     "name": "stdout",
     "output_type": "stream",
     "text": [
      "<class 'pandas.core.frame.DataFrame'>\n",
      "RangeIndex: 9125 entries, 0 to 9124\n",
      "Data columns (total 26 columns):\n",
      " #   Column                 Non-Null Count  Dtype  \n",
      "---  ------                 --------------  -----  \n",
      " 0   movieId                9125 non-null   int64  \n",
      " 1   Action                 9125 non-null   int64  \n",
      " 2   Adventure              9125 non-null   int64  \n",
      " 3   Animation              9125 non-null   int64  \n",
      " 4   Children               9125 non-null   int64  \n",
      " 5   Comedy                 9125 non-null   int64  \n",
      " 6   Crime                  9125 non-null   int64  \n",
      " 7   Documentary            9125 non-null   int64  \n",
      " 8   Drama                  9125 non-null   int64  \n",
      " 9   Fantasy                9125 non-null   int64  \n",
      " 10  Film-Noir              9125 non-null   int64  \n",
      " 11  Horror                 9125 non-null   int64  \n",
      " 12  IMAX                   9125 non-null   int64  \n",
      " 13  Musical                9125 non-null   int64  \n",
      " 14  Mystery                9125 non-null   int64  \n",
      " 15  Romance                9125 non-null   int64  \n",
      " 16  Sci-Fi                 9125 non-null   int64  \n",
      " 17  Thriller               9125 non-null   int64  \n",
      " 18  War                    9125 non-null   int64  \n",
      " 19  Western                9125 non-null   int64  \n",
      " 20  imdbRating             9125 non-null   float64\n",
      " 21  imdbVotes              9125 non-null   float64\n",
      " 22  runtime                9125 non-null   float64\n",
      " 23  year                   9125 non-null   float64\n",
      " 24  num_popular_actors     9125 non-null   float64\n",
      " 25  num_popular_directors  9125 non-null   float64\n",
      "dtypes: float64(6), int64(20)\n",
      "memory usage: 1.8 MB\n"
     ]
    }
   ],
   "source": [
    "movie_df.info()"
   ]
  },
  {
   "cell_type": "code",
   "execution_count": 9,
   "metadata": {},
   "outputs": [],
   "source": [
    "assert not movie_df.isnull().values.any(), 'Null values in dataset!'"
   ]
  },
  {
   "cell_type": "markdown",
   "metadata": {},
   "source": [
    "### Create Pytorch Geometric (heterogenious) Dataset"
   ]
  },
  {
   "cell_type": "code",
   "execution_count": 10,
   "metadata": {},
   "outputs": [
    {
     "data": {
      "text/plain": [
       "torch.Size([671, 671])"
      ]
     },
     "execution_count": 10,
     "metadata": {},
     "output_type": "execute_result"
    }
   ],
   "source": [
    "x_user = torch.eye(len(user_df['userId'].values))\n",
    "x_user.size()"
   ]
  },
  {
   "cell_type": "code",
   "execution_count": 11,
   "metadata": {},
   "outputs": [
    {
     "data": {
      "text/plain": [
       "torch.Size([9125, 25])"
      ]
     },
     "execution_count": 11,
     "metadata": {},
     "output_type": "execute_result"
    }
   ],
   "source": [
    "x_movie = movie_df.drop(columns=['movieId'], axis=1)\n",
    "x_movie = torch.Tensor(x_movie.values)\n",
    "x_movie.size()"
   ]
  },
  {
   "cell_type": "code",
   "execution_count": 12,
   "metadata": {},
   "outputs": [
    {
     "data": {
      "text/plain": [
       "(torch.Size([2, 100004]),\n",
       " tensor([[   0,    0,    0,  ...,  670,  670,  670],\n",
       "         [1815, 1962, 2380,  ..., 3213, 3220, 3223]]))"
      ]
     },
     "execution_count": 12,
     "metadata": {},
     "output_type": "execute_result"
    }
   ],
   "source": [
    "edge_index = torch.Tensor(rating_df[['userId', 'movieId']].values).swapaxes(1,0).to(torch.long)\n",
    "edge_index.size(), edge_index"
   ]
  },
  {
   "cell_type": "code",
   "execution_count": 13,
   "metadata": {},
   "outputs": [
    {
     "data": {
      "text/plain": [
       "(torch.Size([100004]),\n",
       " tensor([2.0000, 2.5000, 1.0000,  ..., 4.0000, 3.5000, 3.5000]))"
      ]
     },
     "execution_count": 13,
     "metadata": {},
     "output_type": "execute_result"
    }
   ],
   "source": [
    "edge_label = torch.Tensor(rating_df['rating'].values)\n",
    "edge_label.size(), edge_label"
   ]
  },
  {
   "cell_type": "code",
   "execution_count": 14,
   "metadata": {},
   "outputs": [
    {
     "data": {
      "text/plain": [
       "HeteroData(\n",
       "  \u001b[1muser\u001b[0m={ x=[671, 671] },\n",
       "  \u001b[1mmovie\u001b[0m={ x=[9125, 25] },\n",
       "  \u001b[1m(user, rates, movie)\u001b[0m={\n",
       "    edge_index=[2, 100004],\n",
       "    edge_label=[100004]\n",
       "  }\n",
       ")"
      ]
     },
     "execution_count": 14,
     "metadata": {},
     "output_type": "execute_result"
    }
   ],
   "source": [
    "data = HeteroData()\n",
    "data['user'].x = x_user\n",
    "data['movie'].x = x_movie\n",
    "\n",
    "data[('user', 'rates', 'movie')].edge_index = edge_index\n",
    "data[('user', 'rates', 'movie')].edge_label = edge_label\n",
    "\n",
    "data"
   ]
  },
  {
   "cell_type": "code",
   "execution_count": 15,
   "metadata": {},
   "outputs": [
    {
     "data": {
      "text/plain": [
       "HeteroData(\n",
       "  \u001b[1muser\u001b[0m={ x=[671, 671] },\n",
       "  \u001b[1mmovie\u001b[0m={ x=[9125, 25] },\n",
       "  \u001b[1m(user, rates, movie)\u001b[0m={\n",
       "    edge_index=[2, 100004],\n",
       "    edge_label=[100004]\n",
       "  },\n",
       "  \u001b[1m(movie, rev_rates, user)\u001b[0m={ edge_index=[2, 100004] }\n",
       ")"
      ]
     },
     "execution_count": 15,
     "metadata": {},
     "output_type": "execute_result"
    }
   ],
   "source": [
    "data = ToUndirected()(data)\n",
    "del data[('movie', 'rev_rates', 'user')].edge_label\n",
    "data"
   ]
  },
  {
   "cell_type": "markdown",
   "metadata": {},
   "source": [
    "### Train / Test Split"
   ]
  },
  {
   "cell_type": "code",
   "execution_count": 16,
   "metadata": {},
   "outputs": [],
   "source": [
    "# Perform a link-level split into training, validation, and test edges.\n",
    "train_data, val_data, test_data = RandomLinkSplit(\n",
    "    num_val=0.1,\n",
    "    num_test=0.1,\n",
    "    neg_sampling_ratio=0.0,\n",
    "    edge_types=[('user', 'rates', 'movie')],\n",
    "    rev_edge_types=[('movie', 'rev_rates', 'user')],\n",
    ")(data)"
   ]
  },
  {
   "cell_type": "code",
   "execution_count": 17,
   "metadata": {},
   "outputs": [
    {
     "name": "stdout",
     "output_type": "stream",
     "text": [
      "Train: HeteroData(\n",
      "  \u001b[1muser\u001b[0m={ x=[671, 671] },\n",
      "  \u001b[1mmovie\u001b[0m={ x=[9125, 25] },\n",
      "  \u001b[1m(user, rates, movie)\u001b[0m={\n",
      "    edge_index=[2, 80004],\n",
      "    edge_label=[80004],\n",
      "    edge_label_index=[2, 80004]\n",
      "  },\n",
      "  \u001b[1m(movie, rev_rates, user)\u001b[0m={ edge_index=[2, 80004] }\n",
      ")\n"
     ]
    }
   ],
   "source": [
    "print('Train:', train_data)"
   ]
  },
  {
   "cell_type": "code",
   "execution_count": 18,
   "metadata": {},
   "outputs": [
    {
     "data": {
      "text/plain": [
       "(torch.Size([2, 80004]),\n",
       " tensor([[ 212,  474,  600,  ...,  508,  147,   14],\n",
       "         [5404, 5131, 5127,  ...,  691, 1042, 2612]]))"
      ]
     },
     "execution_count": 18,
     "metadata": {},
     "output_type": "execute_result"
    }
   ],
   "source": [
    "train_data['user', 'movie'].edge_label_index.size(), train_data['user', 'movie'].edge_label_index"
   ]
  },
  {
   "cell_type": "code",
   "execution_count": 19,
   "metadata": {},
   "outputs": [
    {
     "data": {
      "text/plain": [
       "(torch.Size([80004]),\n",
       " tensor([1.5000, 0.5000, 5.0000,  ..., 3.0000, 4.5000, 2.0000]))"
      ]
     },
     "execution_count": 19,
     "metadata": {},
     "output_type": "execute_result"
    }
   ],
   "source": [
    "train_data['user', 'movie'].edge_label.size(), train_data['user', 'movie'].edge_label"
   ]
  },
  {
   "cell_type": "code",
   "execution_count": 20,
   "metadata": {},
   "outputs": [
    {
     "data": {
      "text/plain": [
       "{'user': tensor([[1., 0., 0.,  ..., 0., 0., 0.],\n",
       "         [0., 1., 0.,  ..., 0., 0., 0.],\n",
       "         [0., 0., 1.,  ..., 0., 0., 0.],\n",
       "         ...,\n",
       "         [0., 0., 0.,  ..., 1., 0., 0.],\n",
       "         [0., 0., 0.,  ..., 0., 1., 0.],\n",
       "         [0., 0., 0.,  ..., 0., 0., 1.]]),\n",
       " 'movie': tensor([[ 0.0000,  1.0000,  1.0000,  ...,  0.1589,  2.9434,  4.5023],\n",
       "         [ 0.0000,  1.0000,  0.0000,  ...,  0.1589,  1.2284, -0.2189],\n",
       "         [ 0.0000,  0.0000,  0.0000,  ...,  0.1589, -0.4866, -0.2189],\n",
       "         ...,\n",
       "         [ 0.0000,  0.0000,  0.0000,  ...,  1.1932, -0.4866,  4.5023],\n",
       "         [ 0.0000,  0.0000,  0.0000,  ..., -2.8922, -0.4866, -0.2189],\n",
       "         [ 0.0000,  0.0000,  0.0000,  ...,  1.1415, -0.4866, -0.2189]])}"
      ]
     },
     "execution_count": 20,
     "metadata": {},
     "output_type": "execute_result"
    }
   ],
   "source": [
    "data.x_dict"
   ]
  },
  {
   "cell_type": "markdown",
   "metadata": {},
   "source": [
    "### GNN Model"
   ]
  },
  {
   "cell_type": "code",
   "execution_count": 21,
   "metadata": {},
   "outputs": [],
   "source": [
    "class GNNEncoder(torch.nn.Module):\n",
    "    def __init__(self, hidden_channels, out_channels):\n",
    "        super().__init__()\n",
    "        # these convolutions have been replicated to match the number of edge types\n",
    "        self.conv1 = SAGEConv((-1, -1), hidden_channels)\n",
    "        self.conv2 = SAGEConv((-1, -1), out_channels)\n",
    "\n",
    "    def forward(self, x, edge_index):\n",
    "        x = self.conv1(x, edge_index).relu()\n",
    "        x = self.conv2(x, edge_index)\n",
    "        return x\n",
    "\n",
    "\n",
    "class EdgeDecoder(torch.nn.Module):\n",
    "    def __init__(self, hidden_channels):\n",
    "        super().__init__()\n",
    "        self.lin1 = Linear(2 * hidden_channels, hidden_channels)\n",
    "        self.lin_out = Linear(hidden_channels, 1)\n",
    "        \n",
    "    def forward(self, z_dict, edge_label_index):\n",
    "        row, col = edge_label_index\n",
    "        # concat user and movie embeddings\n",
    "        z = torch.cat([z_dict['user'][row], z_dict['movie'][col]], dim=-1)\n",
    "        # concatenated embeddings passed to linear layer\n",
    "        z = self.lin1(z).relu()\n",
    "        z = self.lin_out(z)\n",
    "        return z.view(-1)\n",
    "\n",
    "\n",
    "class Model(torch.nn.Module):\n",
    "    def __init__(self, hidden_channels):\n",
    "        super().__init__()\n",
    "        self.encoder = GNNEncoder(hidden_channels, hidden_channels)\n",
    "        self.encoder = to_hetero(self.encoder, data.metadata(), aggr='sum')\n",
    "        self.decoder = EdgeDecoder(hidden_channels)\n",
    "\n",
    "    def forward(self, x_dict, edge_index_dict, edge_label_index):\n",
    "        # z_dict contains dictionary of movie and user embeddings returned from GraphSage\n",
    "        z_dict = self.encoder(x_dict, edge_index_dict)\n",
    "        return self.decoder(z_dict, edge_label_index)\n",
    "\n",
    "\n",
    "model = Model(hidden_channels=64).to(device)"
   ]
  },
  {
   "cell_type": "code",
   "execution_count": 22,
   "metadata": {},
   "outputs": [],
   "source": [
    "# Due to lazy initialization, we need to run one model step so the number\n",
    "# of parameters can be inferred:\n",
    "with torch.no_grad():\n",
    "    model.encoder(train_data.x_dict, train_data.edge_index_dict)\n",
    "\n",
    "optimizer = torch.optim.Adam(model.parameters())"
   ]
  },
  {
   "cell_type": "code",
   "execution_count": 23,
   "metadata": {},
   "outputs": [],
   "source": [
    "def train():\n",
    "    model.train()\n",
    "    optimizer.zero_grad()\n",
    "    pred = model(train_data.x_dict, train_data.edge_index_dict,\n",
    "                 train_data['user', 'movie'].edge_label_index)\n",
    "    target = train_data['user', 'movie'].edge_label\n",
    "    loss = F.mse_loss(pred, target).sqrt()\n",
    "    loss.backward()\n",
    "    optimizer.step()\n",
    "    return float(loss)\n",
    "\n",
    "\n",
    "@torch.no_grad()\n",
    "def test(data):\n",
    "    model.eval()\n",
    "    pred = model(data.x_dict, data.edge_index_dict,\n",
    "                 data['user', 'movie'].edge_label_index)\n",
    "    pred = pred.clamp(min=0, max=5)\n",
    "    target = data['user', 'movie'].edge_label.float()\n",
    "    rmse = F.mse_loss(pred, target).sqrt()\n",
    "    return float(rmse)"
   ]
  },
  {
   "cell_type": "code",
   "execution_count": 24,
   "metadata": {},
   "outputs": [
    {
     "name": "stdout",
     "output_type": "stream",
     "text": [
      "Epoch: 001\tTrain: 3.7295\tVal: 3.6131\tTest: 3.6454\n",
      "Epoch: 002\tTrain: 3.6372\tVal: 3.5180\tTest: 3.5499\n",
      "Epoch: 003\tTrain: 3.5414\tVal: 3.4164\tTest: 3.4476\n",
      "Epoch: 004\tTrain: 3.4391\tVal: 3.3074\tTest: 3.3380\n",
      "Epoch: 005\tTrain: 3.3295\tVal: 3.1907\tTest: 3.2206\n",
      "Epoch: 006\tTrain: 3.2121\tVal: 3.0624\tTest: 3.0915\n",
      "Epoch: 007\tTrain: 3.0829\tVal: 2.9192\tTest: 2.9473\n",
      "Epoch: 008\tTrain: 2.9386\tVal: 2.7593\tTest: 2.7863\n",
      "Epoch: 009\tTrain: 2.7774\tVal: 2.5817\tTest: 2.6073\n",
      "Epoch: 010\tTrain: 2.5981\tVal: 2.3855\tTest: 2.4094\n",
      "Epoch: 011\tTrain: 2.3999\tVal: 2.1709\tTest: 2.1924\n",
      "Epoch: 012\tTrain: 2.1825\tVal: 1.9404\tTest: 1.9588\n",
      "Epoch: 013\tTrain: 1.9484\tVal: 1.7015\tTest: 1.7157\n",
      "Epoch: 014\tTrain: 1.7047\tVal: 1.4715\tTest: 1.4798\n",
      "Epoch: 015\tTrain: 1.4694\tVal: 1.2812\tTest: 1.2815\n",
      "Epoch: 016\tTrain: 1.2812\tVal: 1.1738\tTest: 1.1644\n",
      "Epoch: 017\tTrain: 1.2043\tVal: 1.1733\tTest: 1.1539\n",
      "Epoch: 018\tTrain: 1.2740\tVal: 1.2286\tTest: 1.2031\n",
      "Epoch: 019\tTrain: 1.4120\tVal: 1.2756\tTest: 1.2477\n",
      "Epoch: 020\tTrain: 1.5119\tVal: 1.2899\tTest: 1.2617\n",
      "Epoch: 021\tTrain: 1.5325\tVal: 1.2713\tTest: 1.2443\n",
      "Epoch: 022\tTrain: 1.4808\tVal: 1.2281\tTest: 1.2032\n",
      "Epoch: 023\tTrain: 1.3825\tVal: 1.1736\tTest: 1.1522\n",
      "Epoch: 024\tTrain: 1.2689\tVal: 1.1251\tTest: 1.1080\n",
      "Epoch: 025\tTrain: 1.1716\tVal: 1.0996\tTest: 1.0878\n",
      "Epoch: 026\tTrain: 1.1136\tVal: 1.1041\tTest: 1.0971\n",
      "Epoch: 027\tTrain: 1.1008\tVal: 1.1296\tTest: 1.1263\n",
      "Epoch: 028\tTrain: 1.1194\tVal: 1.1599\tTest: 1.1598\n",
      "Epoch: 029\tTrain: 1.1484\tVal: 1.1823\tTest: 1.1843\n",
      "Epoch: 030\tTrain: 1.1709\tVal: 1.1892\tTest: 1.1924\n",
      "Epoch: 031\tTrain: 1.1780\tVal: 1.1789\tTest: 1.1822\n",
      "Epoch: 032\tTrain: 1.1674\tVal: 1.1534\tTest: 1.1560\n",
      "Epoch: 033\tTrain: 1.1412\tVal: 1.1177\tTest: 1.1188\n",
      "Epoch: 034\tTrain: 1.1046\tVal: 1.0795\tTest: 1.0783\n",
      "Epoch: 035\tTrain: 1.0656\tVal: 1.0475\tTest: 1.0435\n",
      "Epoch: 036\tTrain: 1.0334\tVal: 1.0292\tTest: 1.0225\n",
      "Epoch: 037\tTrain: 1.0163\tVal: 1.0275\tTest: 1.0183\n",
      "Epoch: 038\tTrain: 1.0170\tVal: 1.0376\tTest: 1.0267\n",
      "Epoch: 039\tTrain: 1.0303\tVal: 1.0502\tTest: 1.0384\n",
      "Epoch: 040\tTrain: 1.0454\tVal: 1.0561\tTest: 1.0442\n",
      "Epoch: 041\tTrain: 1.0523\tVal: 1.0514\tTest: 1.0399\n",
      "Epoch: 042\tTrain: 1.0466\tVal: 1.0381\tTest: 1.0276\n",
      "Epoch: 043\tTrain: 1.0310\tVal: 1.0219\tTest: 1.0130\n",
      "Epoch: 044\tTrain: 1.0124\tVal: 1.0093\tTest: 1.0025\n",
      "Epoch: 045\tTrain: 0.9979\tVal: 1.0042\tTest: 0.9997\n",
      "Epoch: 046\tTrain: 0.9916\tVal: 1.0065\tTest: 1.0040\n",
      "Epoch: 047\tTrain: 0.9933\tVal: 1.0125\tTest: 1.0115\n",
      "Epoch: 048\tTrain: 0.9990\tVal: 1.0178\tTest: 1.0179\n",
      "Epoch: 049\tTrain: 1.0042\tVal: 1.0193\tTest: 1.0199\n",
      "Epoch: 050\tTrain: 1.0056\tVal: 1.0161\tTest: 1.0165\n",
      "Epoch: 051\tTrain: 1.0023\tVal: 1.0090\tTest: 1.0089\n",
      "Epoch: 052\tTrain: 0.9953\tVal: 1.0007\tTest: 0.9996\n",
      "Epoch: 053\tTrain: 0.9871\tVal: 0.9939\tTest: 0.9915\n",
      "Epoch: 054\tTrain: 0.9804\tVal: 0.9902\tTest: 0.9866\n",
      "Epoch: 055\tTrain: 0.9772\tVal: 0.9899\tTest: 0.9852\n",
      "Epoch: 056\tTrain: 0.9774\tVal: 0.9914\tTest: 0.9857\n",
      "Epoch: 057\tTrain: 0.9792\tVal: 0.9923\tTest: 0.9861\n",
      "Epoch: 058\tTrain: 0.9802\tVal: 0.9912\tTest: 0.9848\n",
      "Epoch: 059\tTrain: 0.9789\tVal: 0.9879\tTest: 0.9818\n",
      "Epoch: 060\tTrain: 0.9751\tVal: 0.9837\tTest: 0.9781\n",
      "Epoch: 061\tTrain: 0.9701\tVal: 0.9801\tTest: 0.9751\n",
      "Epoch: 062\tTrain: 0.9656\tVal: 0.9781\tTest: 0.9739\n",
      "Epoch: 063\tTrain: 0.9629\tVal: 0.9777\tTest: 0.9741\n",
      "Epoch: 064\tTrain: 0.9618\tVal: 0.9780\tTest: 0.9748\n",
      "Epoch: 065\tTrain: 0.9615\tVal: 0.9778\tTest: 0.9749\n",
      "Epoch: 066\tTrain: 0.9609\tVal: 0.9766\tTest: 0.9735\n",
      "Epoch: 067\tTrain: 0.9593\tVal: 0.9742\tTest: 0.9708\n",
      "Epoch: 068\tTrain: 0.9567\tVal: 0.9712\tTest: 0.9672\n",
      "Epoch: 069\tTrain: 0.9535\tVal: 0.9685\tTest: 0.9637\n",
      "Epoch: 070\tTrain: 0.9506\tVal: 0.9665\tTest: 0.9609\n",
      "Epoch: 071\tTrain: 0.9484\tVal: 0.9653\tTest: 0.9590\n",
      "Epoch: 072\tTrain: 0.9472\tVal: 0.9645\tTest: 0.9576\n",
      "Epoch: 073\tTrain: 0.9463\tVal: 0.9635\tTest: 0.9563\n",
      "Epoch: 074\tTrain: 0.9451\tVal: 0.9620\tTest: 0.9547\n",
      "Epoch: 075\tTrain: 0.9432\tVal: 0.9599\tTest: 0.9528\n",
      "Epoch: 076\tTrain: 0.9407\tVal: 0.9578\tTest: 0.9511\n",
      "Epoch: 077\tTrain: 0.9382\tVal: 0.9562\tTest: 0.9499\n",
      "Epoch: 078\tTrain: 0.9363\tVal: 0.9552\tTest: 0.9493\n",
      "Epoch: 079\tTrain: 0.9349\tVal: 0.9543\tTest: 0.9486\n",
      "Epoch: 080\tTrain: 0.9338\tVal: 0.9530\tTest: 0.9472\n",
      "Epoch: 081\tTrain: 0.9322\tVal: 0.9512\tTest: 0.9452\n",
      "Epoch: 082\tTrain: 0.9302\tVal: 0.9492\tTest: 0.9427\n",
      "Epoch: 083\tTrain: 0.9280\tVal: 0.9474\tTest: 0.9404\n",
      "Epoch: 084\tTrain: 0.9261\tVal: 0.9460\tTest: 0.9385\n",
      "Epoch: 085\tTrain: 0.9245\tVal: 0.9447\tTest: 0.9369\n",
      "Epoch: 086\tTrain: 0.9231\tVal: 0.9433\tTest: 0.9353\n",
      "Epoch: 087\tTrain: 0.9215\tVal: 0.9416\tTest: 0.9336\n",
      "Epoch: 088\tTrain: 0.9197\tVal: 0.9399\tTest: 0.9321\n",
      "Epoch: 089\tTrain: 0.9177\tVal: 0.9384\tTest: 0.9309\n",
      "Epoch: 090\tTrain: 0.9160\tVal: 0.9370\tTest: 0.9298\n",
      "Epoch: 091\tTrain: 0.9145\tVal: 0.9357\tTest: 0.9286\n",
      "Epoch: 092\tTrain: 0.9130\tVal: 0.9342\tTest: 0.9270\n",
      "Epoch: 093\tTrain: 0.9113\tVal: 0.9326\tTest: 0.9251\n",
      "Epoch: 094\tTrain: 0.9096\tVal: 0.9309\tTest: 0.9232\n",
      "Epoch: 095\tTrain: 0.9078\tVal: 0.9294\tTest: 0.9215\n",
      "Epoch: 096\tTrain: 0.9063\tVal: 0.9281\tTest: 0.9200\n",
      "Epoch: 097\tTrain: 0.9048\tVal: 0.9266\tTest: 0.9185\n",
      "Epoch: 098\tTrain: 0.9033\tVal: 0.9251\tTest: 0.9171\n",
      "Epoch: 099\tTrain: 0.9017\tVal: 0.9237\tTest: 0.9159\n",
      "Epoch: 100\tTrain: 0.9001\tVal: 0.9224\tTest: 0.9147\n",
      "Epoch: 101\tTrain: 0.8986\tVal: 0.9211\tTest: 0.9136\n",
      "Epoch: 102\tTrain: 0.8972\tVal: 0.9198\tTest: 0.9123\n",
      "Epoch: 103\tTrain: 0.8958\tVal: 0.9184\tTest: 0.9108\n",
      "Epoch: 104\tTrain: 0.8943\tVal: 0.9170\tTest: 0.9093\n",
      "Epoch: 105\tTrain: 0.8929\tVal: 0.9157\tTest: 0.9079\n",
      "Epoch: 106\tTrain: 0.8915\tVal: 0.9145\tTest: 0.9066\n",
      "Epoch: 107\tTrain: 0.8902\tVal: 0.9133\tTest: 0.9054\n",
      "Epoch: 108\tTrain: 0.8889\tVal: 0.9120\tTest: 0.9043\n",
      "Epoch: 109\tTrain: 0.8876\tVal: 0.9109\tTest: 0.9033\n",
      "Epoch: 110\tTrain: 0.8864\tVal: 0.9097\tTest: 0.9023\n",
      "Epoch: 111\tTrain: 0.8852\tVal: 0.9086\tTest: 0.9012\n",
      "Epoch: 112\tTrain: 0.8840\tVal: 0.9074\tTest: 0.9000\n",
      "Epoch: 113\tTrain: 0.8828\tVal: 0.9063\tTest: 0.8989\n",
      "Epoch: 114\tTrain: 0.8817\tVal: 0.9052\tTest: 0.8977\n",
      "Epoch: 115\tTrain: 0.8807\tVal: 0.9042\tTest: 0.8967\n",
      "Epoch: 116\tTrain: 0.8796\tVal: 0.9032\tTest: 0.8958\n",
      "Epoch: 117\tTrain: 0.8786\tVal: 0.9022\tTest: 0.8950\n",
      "Epoch: 118\tTrain: 0.8777\tVal: 0.9013\tTest: 0.8942\n",
      "Epoch: 119\tTrain: 0.8767\tVal: 0.9004\tTest: 0.8934\n",
      "Epoch: 120\tTrain: 0.8759\tVal: 0.8995\tTest: 0.8926\n",
      "Epoch: 121\tTrain: 0.8750\tVal: 0.8986\tTest: 0.8918\n",
      "Epoch: 122\tTrain: 0.8742\tVal: 0.8978\tTest: 0.8910\n",
      "Epoch: 123\tTrain: 0.8734\tVal: 0.8970\tTest: 0.8902\n",
      "Epoch: 124\tTrain: 0.8727\tVal: 0.8962\tTest: 0.8896\n",
      "Epoch: 125\tTrain: 0.8720\tVal: 0.8954\tTest: 0.8890\n",
      "Epoch: 126\tTrain: 0.8713\tVal: 0.8947\tTest: 0.8884\n",
      "Epoch: 127\tTrain: 0.8706\tVal: 0.8940\tTest: 0.8878\n",
      "Epoch: 128\tTrain: 0.8700\tVal: 0.8933\tTest: 0.8872\n",
      "Epoch: 129\tTrain: 0.8694\tVal: 0.8927\tTest: 0.8866\n",
      "Epoch: 130\tTrain: 0.8689\tVal: 0.8921\tTest: 0.8861\n",
      "Epoch: 131\tTrain: 0.8683\tVal: 0.8915\tTest: 0.8856\n",
      "Epoch: 132\tTrain: 0.8678\tVal: 0.8909\tTest: 0.8852\n",
      "Epoch: 133\tTrain: 0.8673\tVal: 0.8904\tTest: 0.8848\n",
      "Epoch: 134\tTrain: 0.8669\tVal: 0.8899\tTest: 0.8844\n",
      "Epoch: 135\tTrain: 0.8664\tVal: 0.8894\tTest: 0.8839\n",
      "Epoch: 136\tTrain: 0.8660\tVal: 0.8890\tTest: 0.8835\n",
      "Epoch: 137\tTrain: 0.8656\tVal: 0.8885\tTest: 0.8832\n",
      "Epoch: 138\tTrain: 0.8652\tVal: 0.8881\tTest: 0.8828\n",
      "Epoch: 139\tTrain: 0.8649\tVal: 0.8877\tTest: 0.8825\n",
      "Epoch: 140\tTrain: 0.8645\tVal: 0.8873\tTest: 0.8822\n",
      "Epoch: 141\tTrain: 0.8642\tVal: 0.8869\tTest: 0.8818\n",
      "Epoch: 142\tTrain: 0.8638\tVal: 0.8866\tTest: 0.8815\n",
      "Epoch: 143\tTrain: 0.8635\tVal: 0.8862\tTest: 0.8812\n",
      "Epoch: 144\tTrain: 0.8632\tVal: 0.8859\tTest: 0.8810\n",
      "Epoch: 145\tTrain: 0.8629\tVal: 0.8855\tTest: 0.8807\n",
      "Epoch: 146\tTrain: 0.8627\tVal: 0.8852\tTest: 0.8805\n",
      "Epoch: 147\tTrain: 0.8624\tVal: 0.8849\tTest: 0.8802\n",
      "Epoch: 148\tTrain: 0.8622\tVal: 0.8846\tTest: 0.8800\n",
      "Epoch: 149\tTrain: 0.8619\tVal: 0.8843\tTest: 0.8798\n",
      "Epoch: 150\tTrain: 0.8617\tVal: 0.8841\tTest: 0.8796\n",
      "Epoch: 151\tTrain: 0.8615\tVal: 0.8839\tTest: 0.8794\n",
      "Epoch: 152\tTrain: 0.8612\tVal: 0.8836\tTest: 0.8792\n",
      "Epoch: 153\tTrain: 0.8610\tVal: 0.8834\tTest: 0.8790\n",
      "Epoch: 154\tTrain: 0.8608\tVal: 0.8832\tTest: 0.8789\n",
      "Epoch: 155\tTrain: 0.8606\tVal: 0.8830\tTest: 0.8787\n",
      "Epoch: 156\tTrain: 0.8604\tVal: 0.8828\tTest: 0.8786\n",
      "Epoch: 157\tTrain: 0.8603\tVal: 0.8826\tTest: 0.8784\n",
      "Epoch: 158\tTrain: 0.8601\tVal: 0.8824\tTest: 0.8783\n",
      "Epoch: 159\tTrain: 0.8599\tVal: 0.8822\tTest: 0.8781\n",
      "Epoch: 160\tTrain: 0.8597\tVal: 0.8821\tTest: 0.8780\n",
      "Epoch: 161\tTrain: 0.8596\tVal: 0.8819\tTest: 0.8779\n",
      "Epoch: 162\tTrain: 0.8594\tVal: 0.8818\tTest: 0.8778\n",
      "Epoch: 163\tTrain: 0.8592\tVal: 0.8816\tTest: 0.8777\n",
      "Epoch: 164\tTrain: 0.8591\tVal: 0.8815\tTest: 0.8776\n",
      "Epoch: 165\tTrain: 0.8589\tVal: 0.8813\tTest: 0.8774\n",
      "Epoch: 166\tTrain: 0.8588\tVal: 0.8812\tTest: 0.8773\n",
      "Epoch: 167\tTrain: 0.8586\tVal: 0.8810\tTest: 0.8772\n",
      "Epoch: 168\tTrain: 0.8585\tVal: 0.8809\tTest: 0.8771\n",
      "Epoch: 169\tTrain: 0.8583\tVal: 0.8808\tTest: 0.8770\n",
      "Epoch: 170\tTrain: 0.8582\tVal: 0.8807\tTest: 0.8769\n",
      "Epoch: 171\tTrain: 0.8581\tVal: 0.8806\tTest: 0.8768\n",
      "Epoch: 172\tTrain: 0.8579\tVal: 0.8805\tTest: 0.8767\n",
      "Epoch: 173\tTrain: 0.8578\tVal: 0.8803\tTest: 0.8767\n",
      "Epoch: 174\tTrain: 0.8577\tVal: 0.8802\tTest: 0.8766\n",
      "Epoch: 175\tTrain: 0.8575\tVal: 0.8802\tTest: 0.8765\n",
      "Epoch: 176\tTrain: 0.8574\tVal: 0.8801\tTest: 0.8764\n",
      "Epoch: 177\tTrain: 0.8573\tVal: 0.8800\tTest: 0.8764\n",
      "Epoch: 178\tTrain: 0.8572\tVal: 0.8799\tTest: 0.8763\n",
      "Epoch: 179\tTrain: 0.8570\tVal: 0.8798\tTest: 0.8762\n",
      "Epoch: 180\tTrain: 0.8569\tVal: 0.8798\tTest: 0.8762\n",
      "Epoch: 181\tTrain: 0.8568\tVal: 0.8797\tTest: 0.8761\n",
      "Epoch: 182\tTrain: 0.8567\tVal: 0.8797\tTest: 0.8761\n",
      "Epoch: 183\tTrain: 0.8565\tVal: 0.8796\tTest: 0.8760\n",
      "Epoch: 184\tTrain: 0.8564\tVal: 0.8796\tTest: 0.8760\n",
      "Epoch: 185\tTrain: 0.8563\tVal: 0.8795\tTest: 0.8759\n",
      "Epoch: 186\tTrain: 0.8562\tVal: 0.8795\tTest: 0.8759\n",
      "Epoch: 187\tTrain: 0.8561\tVal: 0.8794\tTest: 0.8758\n",
      "Epoch: 188\tTrain: 0.8559\tVal: 0.8794\tTest: 0.8757\n",
      "Epoch: 189\tTrain: 0.8558\tVal: 0.8793\tTest: 0.8757\n",
      "Epoch: 190\tTrain: 0.8557\tVal: 0.8792\tTest: 0.8756\n",
      "Epoch: 191\tTrain: 0.8556\tVal: 0.8792\tTest: 0.8755\n",
      "Epoch: 192\tTrain: 0.8555\tVal: 0.8791\tTest: 0.8754\n",
      "Epoch: 193\tTrain: 0.8554\tVal: 0.8791\tTest: 0.8754\n",
      "Epoch: 194\tTrain: 0.8552\tVal: 0.8790\tTest: 0.8753\n",
      "Epoch: 195\tTrain: 0.8551\tVal: 0.8790\tTest: 0.8752\n",
      "Epoch: 196\tTrain: 0.8550\tVal: 0.8790\tTest: 0.8752\n",
      "Epoch: 197\tTrain: 0.8549\tVal: 0.8789\tTest: 0.8751\n",
      "Epoch: 198\tTrain: 0.8548\tVal: 0.8789\tTest: 0.8751\n",
      "Epoch: 199\tTrain: 0.8547\tVal: 0.8788\tTest: 0.8750\n",
      "Epoch: 200\tTrain: 0.8545\tVal: 0.8788\tTest: 0.8750\n"
     ]
    }
   ],
   "source": [
    "EPOCHS = 200\n",
    "train_losses, val_losses, test_losses = [], [], []\n",
    "for epoch in range(1, EPOCHS+1):\n",
    "    train_loss = train()\n",
    "    # train_rmse = test(train_data)\n",
    "    val_rmse = test(val_data)\n",
    "    test_rmse = test(test_data)\n",
    "    \n",
    "    train_losses.append(train_loss), val_losses.append(val_rmse), test_losses.append(test_rmse)\n",
    "    \n",
    "    print(f'Epoch: {epoch:03d}\\tTrain: {train_loss:.4f}\\t'\n",
    "          f'Val: {val_rmse:.4f}\\tTest: {test_rmse:.4f}')\n",
    "    # break"
   ]
  },
  {
   "cell_type": "code",
   "execution_count": 25,
   "metadata": {},
   "outputs": [
    {
     "data": {
      "image/png": "[encoded data removed]",
      "text/plain": [
       "<Figure size 1400x500 with 2 Axes>"
      ]
     },
     "metadata": {},
     "output_type": "display_data"
    }
   ],
   "source": [
    "SKIP_WARM_UP_STEPS = 60\n",
    "\n",
    "_, (ax0, ax1) = plt.subplots(nrows=1, ncols=2, figsize=(14,5))\n",
    "ax0.plot(train_losses, label='Train')\n",
    "ax0.plot(val_losses, label='Validation')\n",
    "ax0.set_title('Learning curve')\n",
    "ax0.set_xlabel('Epochs')\n",
    "ax0.set_ylabel('Loss')\n",
    "ax0.legend()\n",
    "\n",
    "ax1.plot(range(SKIP_WARM_UP_STEPS, len(train_losses)), train_losses[SKIP_WARM_UP_STEPS:], label='Train')\n",
    "ax1.plot(range(SKIP_WARM_UP_STEPS, len(train_losses)), val_losses[SKIP_WARM_UP_STEPS:], label=f'Validation {round(val_losses[-1], 3)}')\n",
    "ax1.hlines([val_losses[-1]], xmin=SKIP_WARM_UP_STEPS, xmax=EPOCHS, colors='C1', linestyles='--')\n",
    "ax1.set_title(f'Learning curve (after {SKIP_WARM_UP_STEPS} warm up steps)')\n",
    "ax1.set_xlabel('Epochs')\n",
    "ax1.set_ylabel('Loss')\n",
    "ax1.legend()\n",
    "plt.show()"
   ]
  },
  {
   "cell_type": "markdown",
   "metadata": {},
   "source": [
    "### Inspect test results"
   ]
  },
  {
   "cell_type": "code",
   "execution_count": 26,
   "metadata": {},
   "outputs": [],
   "source": [
    "model.eval()\n",
    "pred = model(test_data.x_dict, test_data.edge_index_dict,\n",
    "                test_data['user', 'movie'].edge_label_index)\n",
    "pred = pred.clamp(min=0, max=5)\n",
    "target = test_data['user', 'movie'].edge_label.float()\n",
    "rmse = F.mse_loss(pred, target).sqrt()"
   ]
  },
  {
   "cell_type": "code",
   "execution_count": 27,
   "metadata": {},
   "outputs": [
    {
     "data": {
      "text/plain": [
       "(tensor([3.2415, 2.8440, 3.2105, 4.3942, 2.8451, 3.1798, 3.7587, 4.2948, 3.7038,\n",
       "         3.7805, 3.7363, 3.8277, 3.5471, 3.6803, 2.7197, 3.8085, 3.8041, 3.5356,\n",
       "         4.3891, 3.8320], grad_fn=<SliceBackward0>),\n",
       " tensor([4.0000, 1.5000, 3.0000, 5.0000, 4.0000, 5.0000, 4.0000, 5.0000, 5.0000,\n",
       "         4.5000, 4.0000, 4.5000, 4.0000, 4.0000, 1.5000, 4.0000, 3.0000, 3.0000,\n",
       "         4.0000, 3.5000]))"
      ]
     },
     "execution_count": 27,
     "metadata": {},
     "output_type": "execute_result"
    }
   ],
   "source": [
    "pred[:20], target[:20]"
   ]
  },
  {
   "cell_type": "markdown",
   "metadata": {},
   "source": [
    "#### Evaluation\n",
    "\n",
    "Mean squared Error (MSE) can be used as loss function. However, it is not a well suited metric to evaluate the model's recommendations. `Recall@k` fits better for evaluating the recommendations done by the model.  "
   ]
  },
  {
   "cell_type": "code",
   "execution_count": 28,
   "metadata": {},
   "outputs": [
    {
     "name": "stderr",
     "output_type": "stream",
     "text": [
      "100%|██████████| 656/656 [03:23<00:00,  3.23it/s]\n"
     ]
    }
   ],
   "source": [
    "def create_rec_dict_per_user() -> dict:\n",
    "    \"\"\" Return a dictionnairy, with link predictions for each user.\n",
    "    \n",
    "        The dict keys are userId's and values a list of tuples. The\n",
    "        first tuple value is the predicted rating and the second one\n",
    "        the ground truth (rating). \"\"\"\n",
    "\n",
    "    user_rec_dict = defaultdict(list)\n",
    "    test_users_unique = test_data['user', 'movie'].edge_label_index[0].unique()\n",
    "\n",
    "    with torch.no_grad():\n",
    "        for user_id in tqdm(test_users_unique):\n",
    "            user_id = user_id.item()\n",
    "\n",
    "            idxs = (test_data['user', 'movie'].edge_label_index[0] == user_id).nonzero().squeeze()\n",
    "            edge_idxs = test_data['user', 'movie'].edge_label_index[:,idxs]\n",
    "            \n",
    "            true_ratings = test_data['user', 'movie'].edge_label[idxs]\n",
    "            if true_ratings.ndimension() == 0:\n",
    "                true_ratings = test_data['user', 'movie'].edge_label[idxs].unsqueeze(dim=0)\n",
    "\n",
    "            pred_ratings = model(test_data.x_dict, test_data.edge_index_dict, edge_idxs)\n",
    "\n",
    "            ratings = [(pred.item(), gt.item()) for gt, pred in zip(true_ratings, pred_ratings)] \n",
    "            user_rec_dict[user_id] = ratings\n",
    "        \n",
    "        return user_rec_dict\n",
    "\n",
    "\n",
    "def recall_precision_at_k(user_rec_dict:dict, k:int, threshold:float) -> dict:\n",
    "    \"\"\"\" \"\"\"\n",
    "    with torch.no_grad():\n",
    "        precisions = dict()\n",
    "        recalls = dict()\n",
    "\n",
    "        for uid, user_ratings in user_rec_dict.items():\n",
    "            \n",
    "            user_ratings.sort(key=lambda x: x[0], reverse=True) \n",
    "             \n",
    "            n_rel = sum([(true_rating >= threshold) for (_, true_rating) in user_ratings])\n",
    "            n_rec_k = sum([(true_rating >= threshold) for (_, true_rating) in user_ratings[:k]])\n",
    "\n",
    "            n_rel_and_rec_k = sum([((true_r >= threshold) and (est >= threshold)) for (est, true_r) in user_ratings[:k]])\n",
    "            \n",
    "            precisions[uid] = n_rel_and_rec_k / n_rec_k if n_rec_k != 0 else 0\n",
    "            recalls[uid] = n_rel_and_rec_k / n_rel if n_rel != 0 else 0\n",
    "        \n",
    "        return recalls, precisions\n",
    "\n",
    "user_rec_dict = create_rec_dict_per_user()"
   ]
  },
  {
   "cell_type": "code",
   "execution_count": 29,
   "metadata": {},
   "outputs": [
    {
     "name": "stdout",
     "output_type": "stream",
     "text": [
      "Recall@20 (Threshold=4.0): 0.363\n",
      "Precision@20 (Threshold=4.0): 0.3902\n",
      "\n",
      "Recall@20 (Threshold=3.5): 0.6732\n",
      "Precision@20 (Threshold=3.5): 0.7311\n"
     ]
    }
   ],
   "source": [
    "k = 20\n",
    "threshold = 4.0\n",
    "recalls, precisions = recall_precision_at_k(user_rec_dict, k, threshold)\n",
    "rcl_at_k = sum(recalls.values()) / len(recalls.values())\n",
    "prc_at_k = sum(precisions.values()) / len(precisions.values())\n",
    "\n",
    "print(f'Recall@{k} (Threshold={threshold}):', round(rcl_at_k, 4))\n",
    "print(f'Precision@{k} (Threshold={threshold}):', round(prc_at_k, 4))\n",
    "\n",
    "threshold = 3.5\n",
    "recalls, precisions = recall_precision_at_k(user_rec_dict, k=k, threshold=threshold)\n",
    "rcl_at_k = sum(recalls.values()) / len(recalls.values())\n",
    "prc_at_k = sum(precisions.values()) / len(precisions.values())\n",
    "\n",
    "print(f'\\nRecall@{k} (Threshold={threshold}):', round(rcl_at_k, 4))\n",
    "print(f'Precision@{k} (Threshold={threshold}):', round(prc_at_k, 4))\n"
   ]
  },
  {
   "cell_type": "code",
   "execution_count": null,
   "metadata": {},
   "outputs": [],
   "source": []
  }
 ],
 "metadata": {
  "kernelspec": {
   "display_name": "Python 3.9.0 ('.new_venv': venv)",
   "language": "python",
   "name": "python3"
  },
  "language_info": {
   "codemirror_mode": {
    "name": "ipython",
    "version": 3
   },
   "file_extension": ".py",
   "mimetype": "text/x-python",
   "name": "python",
   "nbconvert_exporter": "python",
   "pygments_lexer": "ipython3",
   "version": "3.9.0"
  },
  "orig_nbformat": 4,
  "vscode": {
   "interpreter": {
    "hash": "b4b86cfc1452e77d9ce278d6e2f06ea7b3cf78c66895cad39e55a1df0fa1f1cb"
   }
  }
 },
 "nbformat": 4,
 "nbformat_minor": 2
}
