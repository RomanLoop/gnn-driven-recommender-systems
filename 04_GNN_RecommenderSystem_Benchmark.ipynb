{
 "cells": [
  {
   "cell_type": "code",
   "execution_count": 1,
   "metadata": {},
   "outputs": [],
   "source": [
    "from collections import defaultdict\n",
    "from datetime import datetime\n",
    "import numpy as np\n",
    "import pandas as pd\n",
    "from tqdm import tqdm\n",
    "\n",
    "from matplotlib import pyplot as plt\n",
    "import seaborn as sns\n",
    "\n",
    "from neo4j import GraphDatabase\n",
    "from neo4_connection import USER, PWD, URL\n",
    "\n",
    "from sklearn.preprocessing import LabelEncoder, StandardScaler, RobustScaler\n",
    "\n",
    "import torch\n",
    "from torch.nn import Linear, MSELoss\n",
    "import torch.nn.functional as F\n",
    "\n",
    "from torch_geometric.data import HeteroData\n",
    "from torch_geometric.nn import SAGEConv, to_hetero\n",
    "from torch_geometric.transforms import RandomLinkSplit, ToUndirected, AddSelfLoops, NormalizeFeatures"
   ]
  },
  {
   "cell_type": "code",
   "execution_count": 2,
   "metadata": {},
   "outputs": [
    {
     "data": {
      "text/plain": [
       "'1.13.0+cpu'"
      ]
     },
     "execution_count": 2,
     "metadata": {},
     "output_type": "execute_result"
    }
   ],
   "source": [
    "torch.__version__"
   ]
  },
  {
   "cell_type": "code",
   "execution_count": 3,
   "metadata": {},
   "outputs": [
    {
     "data": {
      "text/plain": [
       "device(type='cpu')"
      ]
     },
     "execution_count": 3,
     "metadata": {},
     "output_type": "execute_result"
    }
   ],
   "source": [
    "device = torch.device('cuda' if torch.cuda.is_available() else 'cpu')\n",
    "device"
   ]
  },
  {
   "cell_type": "code",
   "execution_count": 4,
   "metadata": {},
   "outputs": [],
   "source": [
    "driver = GraphDatabase.driver(uri=URL, auth=(USER, PWD))\n",
    "\n",
    "def fetch_data(query):\n",
    "  with driver.session() as session:\n",
    "    result = session.run(query)\n",
    "    return pd.DataFrame([r.values() for r in result], columns=result.keys())"
   ]
  },
  {
   "cell_type": "markdown",
   "metadata": {},
   "source": [
    "### Preporcess neo4j database"
   ]
  },
  {
   "cell_type": "code",
   "execution_count": 5,
   "metadata": {},
   "outputs": [
    {
     "name": "stdout",
     "output_type": "stream",
     "text": [
      "<neo4j._sync.work.result.Result object at 0x0000012B21BA1E80>\n",
      "<neo4j._sync.work.result.Result object at 0x0000012B6ADBD4F0>\n",
      "<neo4j._sync.work.result.Result object at 0x0000012B21BA1E80>\n",
      "<neo4j._sync.work.result.Result object at 0x0000012B6ADBD820>\n",
      "<neo4j._sync.work.result.Result object at 0x0000012B21BA1E80>\n",
      "<neo4j._sync.work.result.Result object at 0x0000012B6ADBDC40>\n",
      "<neo4j._sync.work.result.Result object at 0x0000012B6ADA2EB0>\n",
      "<neo4j._sync.work.result.Result object at 0x0000012B6ADBDFD0>\n",
      "<neo4j._sync.work.result.Result object at 0x0000012B21BA1E80>\n"
     ]
    }
   ],
   "source": [
    "def preprocess_neo4j_db(file_path:str) -> None:\n",
    "    \"\"\"Execute some type casts and data preprocessing steps on neo4j.\"\"\"\n",
    "\n",
    "    with open(file_path, mode='r', encoding='utf-8') as f:\n",
    "        query = f.read()\n",
    "\n",
    "    queries = [query for query in query.split(';')[:-1]] \n",
    "\n",
    "    with driver.session() as session:\n",
    "        for query in queries:\n",
    "            result = session.run(query)\n",
    "            print(result)\n",
    "\n",
    "\n",
    "preprocess_neo4j_db(file_path='./neo4j_cypher_queries/01_db_preprocessing.txt')"
   ]
  },
  {
   "cell_type": "markdown",
   "metadata": {},
   "source": [
    "### Get data from neo4j"
   ]
  },
  {
   "cell_type": "code",
   "execution_count": 6,
   "metadata": {},
   "outputs": [
    {
     "name": "stdout",
     "output_type": "stream",
     "text": [
      "(671, 1)\n"
     ]
    },
    {
     "data": {
      "text/html": [
       "<div>\n",
       "<style scoped>\n",
       "    .dataframe tbody tr th:only-of-type {\n",
       "        vertical-align: middle;\n",
       "    }\n",
       "\n",
       "    .dataframe tbody tr th {\n",
       "        vertical-align: top;\n",
       "    }\n",
       "\n",
       "    .dataframe thead th {\n",
       "        text-align: right;\n",
       "    }\n",
       "</style>\n",
       "<table border=\"1\" class=\"dataframe\">\n",
       "  <thead>\n",
       "    <tr style=\"text-align: right;\">\n",
       "      <th></th>\n",
       "      <th>userId</th>\n",
       "    </tr>\n",
       "  </thead>\n",
       "  <tbody>\n",
       "    <tr>\n",
       "      <th>0</th>\n",
       "      <td>1</td>\n",
       "    </tr>\n",
       "    <tr>\n",
       "      <th>1</th>\n",
       "      <td>2</td>\n",
       "    </tr>\n",
       "    <tr>\n",
       "      <th>2</th>\n",
       "      <td>3</td>\n",
       "    </tr>\n",
       "    <tr>\n",
       "      <th>3</th>\n",
       "      <td>4</td>\n",
       "    </tr>\n",
       "    <tr>\n",
       "      <th>4</th>\n",
       "      <td>5</td>\n",
       "    </tr>\n",
       "  </tbody>\n",
       "</table>\n",
       "</div>"
      ],
      "text/plain": [
       "   userId\n",
       "0       1\n",
       "1       2\n",
       "2       3\n",
       "3       4\n",
       "4       5"
      ]
     },
     "execution_count": 6,
     "metadata": {},
     "output_type": "execute_result"
    }
   ],
   "source": [
    "user_query = \"\"\"\n",
    "MATCH (u:User)\n",
    "RETURN u.userId AS userId\n",
    "\"\"\"\n",
    "\n",
    "user_df = fetch_data(user_query)\n",
    "print(user_df.shape)\n",
    "user_df.head()"
   ]
  },
  {
   "cell_type": "code",
   "execution_count": 7,
   "metadata": {},
   "outputs": [
    {
     "name": "stdout",
     "output_type": "stream",
     "text": [
      "(9125, 8)\n"
     ]
    },
    {
     "data": {
      "text/html": [
       "<div>\n",
       "<style scoped>\n",
       "    .dataframe tbody tr th:only-of-type {\n",
       "        vertical-align: middle;\n",
       "    }\n",
       "\n",
       "    .dataframe tbody tr th {\n",
       "        vertical-align: top;\n",
       "    }\n",
       "\n",
       "    .dataframe thead th {\n",
       "        text-align: right;\n",
       "    }\n",
       "</style>\n",
       "<table border=\"1\" class=\"dataframe\">\n",
       "  <thead>\n",
       "    <tr style=\"text-align: right;\">\n",
       "      <th></th>\n",
       "      <th>movieId</th>\n",
       "      <th>imdbRating</th>\n",
       "      <th>imdbVotes</th>\n",
       "      <th>runtime</th>\n",
       "      <th>year</th>\n",
       "      <th>genreEmbedding</th>\n",
       "      <th>title</th>\n",
       "      <th>plot</th>\n",
       "    </tr>\n",
       "  </thead>\n",
       "  <tbody>\n",
       "    <tr>\n",
       "      <th>0</th>\n",
       "      <td>1</td>\n",
       "      <td>8.3</td>\n",
       "      <td>591836.0</td>\n",
       "      <td>81.0</td>\n",
       "      <td>1995.0</td>\n",
       "      <td>[0, 0, 1, 1, 1, 1, 0, 0, 0, 1, 0, 0, 0, 0, 0, ...</td>\n",
       "      <td>Toy Story</td>\n",
       "      <td>A cowboy doll is profoundly threatened and jea...</td>\n",
       "    </tr>\n",
       "    <tr>\n",
       "      <th>1</th>\n",
       "      <td>2</td>\n",
       "      <td>6.9</td>\n",
       "      <td>198355.0</td>\n",
       "      <td>104.0</td>\n",
       "      <td>1995.0</td>\n",
       "      <td>[0, 0, 1, 0, 1, 0, 0, 0, 0, 1, 0, 0, 0, 0, 0, ...</td>\n",
       "      <td>Jumanji</td>\n",
       "      <td>When two kids find and play a magical board ga...</td>\n",
       "    </tr>\n",
       "    <tr>\n",
       "      <th>2</th>\n",
       "      <td>3</td>\n",
       "      <td>6.6</td>\n",
       "      <td>18615.0</td>\n",
       "      <td>101.0</td>\n",
       "      <td>1995.0</td>\n",
       "      <td>[0, 0, 0, 0, 0, 1, 0, 0, 0, 0, 0, 0, 0, 0, 0, ...</td>\n",
       "      <td>Grumpier Old Men</td>\n",
       "      <td>John and Max resolve to save their beloved bai...</td>\n",
       "    </tr>\n",
       "    <tr>\n",
       "      <th>3</th>\n",
       "      <td>4</td>\n",
       "      <td>5.6</td>\n",
       "      <td>7210.0</td>\n",
       "      <td>124.0</td>\n",
       "      <td>1995.0</td>\n",
       "      <td>[0, 0, 0, 0, 0, 1, 0, 0, 1, 0, 0, 0, 0, 0, 0, ...</td>\n",
       "      <td>Waiting to Exhale</td>\n",
       "      <td>Based on Terry McMillan's novel, this film fol...</td>\n",
       "    </tr>\n",
       "    <tr>\n",
       "      <th>4</th>\n",
       "      <td>5</td>\n",
       "      <td>5.9</td>\n",
       "      <td>25938.0</td>\n",
       "      <td>106.0</td>\n",
       "      <td>1995.0</td>\n",
       "      <td>[0, 0, 0, 0, 0, 1, 0, 0, 0, 0, 0, 0, 0, 0, 0, ...</td>\n",
       "      <td>Father of the Bride Part II</td>\n",
       "      <td>In this sequel, George Banks deals not only wi...</td>\n",
       "    </tr>\n",
       "  </tbody>\n",
       "</table>\n",
       "</div>"
      ],
      "text/plain": [
       "   movieId  imdbRating  imdbVotes  runtime    year  \\\n",
       "0        1         8.3   591836.0     81.0  1995.0   \n",
       "1        2         6.9   198355.0    104.0  1995.0   \n",
       "2        3         6.6    18615.0    101.0  1995.0   \n",
       "3        4         5.6     7210.0    124.0  1995.0   \n",
       "4        5         5.9    25938.0    106.0  1995.0   \n",
       "\n",
       "                                      genreEmbedding  \\\n",
       "0  [0, 0, 1, 1, 1, 1, 0, 0, 0, 1, 0, 0, 0, 0, 0, ...   \n",
       "1  [0, 0, 1, 0, 1, 0, 0, 0, 0, 1, 0, 0, 0, 0, 0, ...   \n",
       "2  [0, 0, 0, 0, 0, 1, 0, 0, 0, 0, 0, 0, 0, 0, 0, ...   \n",
       "3  [0, 0, 0, 0, 0, 1, 0, 0, 1, 0, 0, 0, 0, 0, 0, ...   \n",
       "4  [0, 0, 0, 0, 0, 1, 0, 0, 0, 0, 0, 0, 0, 0, 0, ...   \n",
       "\n",
       "                         title  \\\n",
       "0                    Toy Story   \n",
       "1                      Jumanji   \n",
       "2             Grumpier Old Men   \n",
       "3            Waiting to Exhale   \n",
       "4  Father of the Bride Part II   \n",
       "\n",
       "                                                plot  \n",
       "0  A cowboy doll is profoundly threatened and jea...  \n",
       "1  When two kids find and play a magical board ga...  \n",
       "2  John and Max resolve to save their beloved bai...  \n",
       "3  Based on Terry McMillan's novel, this film fol...  \n",
       "4  In this sequel, George Banks deals not only wi...  "
      ]
     },
     "execution_count": 7,
     "metadata": {},
     "output_type": "execute_result"
    }
   ],
   "source": [
    "# Unforunately there are too many null values in revenue and budged. Hence I do not use them as features.\n",
    "movie_query = \"\"\"\n",
    "MATCH (m:Movie)\n",
    "RETURN m.movieId AS movieId,\n",
    "    m.imdbRating AS imdbRating,\n",
    "    m.imdbVotes AS imdbVotes,\n",
    "    m.runtime AS runtime,\n",
    "    m.year AS year,\n",
    "    m.genreEmbedding AS genreEmbedding,\n",
    "    m.title AS title,\n",
    "    m.plot AS plot\n",
    "\"\"\"\n",
    "\n",
    "movie_df = fetch_data(movie_query)\n",
    "print(movie_df.shape)\n",
    "movie_df.head()"
   ]
  },
  {
   "cell_type": "code",
   "execution_count": 8,
   "metadata": {},
   "outputs": [
    {
     "name": "stdout",
     "output_type": "stream",
     "text": [
      "<class 'pandas.core.frame.DataFrame'>\n",
      "RangeIndex: 9125 entries, 0 to 9124\n",
      "Data columns (total 8 columns):\n",
      " #   Column          Non-Null Count  Dtype  \n",
      "---  ------          --------------  -----  \n",
      " 0   movieId         9125 non-null   int64  \n",
      " 1   imdbRating      9058 non-null   float64\n",
      " 2   imdbVotes       9055 non-null   float64\n",
      " 3   runtime         9062 non-null   float64\n",
      " 4   year            9096 non-null   float64\n",
      " 5   genreEmbedding  9125 non-null   object \n",
      " 6   title           9125 non-null   object \n",
      " 7   plot            9083 non-null   object \n",
      "dtypes: float64(4), int64(1), object(3)\n",
      "memory usage: 570.4+ KB\n"
     ]
    }
   ],
   "source": [
    "movie_df.info()"
   ]
  },
  {
   "cell_type": "code",
   "execution_count": 9,
   "metadata": {},
   "outputs": [
    {
     "name": "stdout",
     "output_type": "stream",
     "text": [
      "(100004, 3)\n"
     ]
    },
    {
     "data": {
      "text/html": [
       "<div>\n",
       "<style scoped>\n",
       "    .dataframe tbody tr th:only-of-type {\n",
       "        vertical-align: middle;\n",
       "    }\n",
       "\n",
       "    .dataframe tbody tr th {\n",
       "        vertical-align: top;\n",
       "    }\n",
       "\n",
       "    .dataframe thead th {\n",
       "        text-align: right;\n",
       "    }\n",
       "</style>\n",
       "<table border=\"1\" class=\"dataframe\">\n",
       "  <thead>\n",
       "    <tr style=\"text-align: right;\">\n",
       "      <th></th>\n",
       "      <th>userId</th>\n",
       "      <th>movieId</th>\n",
       "      <th>rating</th>\n",
       "    </tr>\n",
       "  </thead>\n",
       "  <tbody>\n",
       "    <tr>\n",
       "      <th>0</th>\n",
       "      <td>1</td>\n",
       "      <td>1343</td>\n",
       "      <td>2.0</td>\n",
       "    </tr>\n",
       "    <tr>\n",
       "      <th>1</th>\n",
       "      <td>1</td>\n",
       "      <td>1339</td>\n",
       "      <td>3.5</td>\n",
       "    </tr>\n",
       "    <tr>\n",
       "      <th>2</th>\n",
       "      <td>1</td>\n",
       "      <td>1405</td>\n",
       "      <td>1.0</td>\n",
       "    </tr>\n",
       "    <tr>\n",
       "      <th>3</th>\n",
       "      <td>1</td>\n",
       "      <td>1371</td>\n",
       "      <td>2.5</td>\n",
       "    </tr>\n",
       "    <tr>\n",
       "      <th>4</th>\n",
       "      <td>1</td>\n",
       "      <td>1263</td>\n",
       "      <td>2.0</td>\n",
       "    </tr>\n",
       "  </tbody>\n",
       "</table>\n",
       "</div>"
      ],
      "text/plain": [
       "   userId  movieId  rating\n",
       "0       1     1343     2.0\n",
       "1       1     1339     3.5\n",
       "2       1     1405     1.0\n",
       "3       1     1371     2.5\n",
       "4       1     1263     2.0"
      ]
     },
     "execution_count": 9,
     "metadata": {},
     "output_type": "execute_result"
    }
   ],
   "source": [
    "rating_query = \"\"\"\n",
    "MATCH (u:User) -[r:RATED]-> (m:Movie)\n",
    "RETURN u.userId AS userId,\n",
    "    m.movieId AS movieId,\n",
    "    r.rating AS rating\n",
    "\"\"\"\n",
    "\n",
    "rating_df = fetch_data(rating_query)\n",
    "print(rating_df.shape)\n",
    "rating_df.head()"
   ]
  },
  {
   "cell_type": "markdown",
   "metadata": {},
   "source": [
    "### Data cleansing\n",
    "\n",
    "The genreEmbeddings must be converted from a list into a proper columns."
   ]
  },
  {
   "cell_type": "code",
   "execution_count": 10,
   "metadata": {},
   "outputs": [],
   "source": [
    "query = \"\"\"\n",
    "MATCH(g:Genre)\n",
    "WITH g ORDER BY g.name\n",
    "RETURN g.name AS header\n",
    "\"\"\"\n",
    "\n",
    "header_df = fetch_data(query)\n",
    "genre_headers = header_df['header'].to_list()"
   ]
  },
  {
   "cell_type": "code",
   "execution_count": 11,
   "metadata": {},
   "outputs": [
    {
     "data": {
      "text/plain": [
       "(9125, 20)"
      ]
     },
     "execution_count": 11,
     "metadata": {},
     "output_type": "execute_result"
    }
   ],
   "source": [
    "genre_embed = np.array(movie_df['genreEmbedding'].values.tolist())\n",
    "genre_embed.shape"
   ]
  },
  {
   "cell_type": "code",
   "execution_count": 12,
   "metadata": {},
   "outputs": [
    {
     "data": {
      "text/plain": [
       "(9125, 20)"
      ]
     },
     "execution_count": 12,
     "metadata": {},
     "output_type": "execute_result"
    }
   ],
   "source": [
    "genre_df = pd.DataFrame(genre_embed, columns=genre_headers)\n",
    "genre_df.shape"
   ]
  },
  {
   "cell_type": "code",
   "execution_count": 13,
   "metadata": {},
   "outputs": [
    {
     "data": {
      "text/plain": [
       "(9125, 28)"
      ]
     },
     "execution_count": 13,
     "metadata": {},
     "output_type": "execute_result"
    }
   ],
   "source": [
    "movie_df = pd.concat([movie_df, genre_df], axis=1)\n",
    "movie_df.shape"
   ]
  },
  {
   "cell_type": "code",
   "execution_count": 14,
   "metadata": {},
   "outputs": [
    {
     "name": "stdout",
     "output_type": "stream",
     "text": [
      "(9125, 24)\n"
     ]
    }
   ],
   "source": [
    "movie_df.drop(columns=['genreEmbedding', 'plot', 'title', '(no genres listed)'], axis=1, inplace=True)\n",
    "print(movie_df.shape)\n",
    "# movie_df.head(20)"
   ]
  },
  {
   "cell_type": "code",
   "execution_count": 15,
   "metadata": {},
   "outputs": [
    {
     "name": "stdout",
     "output_type": "stream",
     "text": [
      "<class 'pandas.core.frame.DataFrame'>\n",
      "RangeIndex: 9125 entries, 0 to 9124\n",
      "Data columns (total 24 columns):\n",
      " #   Column       Non-Null Count  Dtype  \n",
      "---  ------       --------------  -----  \n",
      " 0   movieId      9125 non-null   int64  \n",
      " 1   imdbRating   9058 non-null   float64\n",
      " 2   imdbVotes    9055 non-null   float64\n",
      " 3   runtime      9062 non-null   float64\n",
      " 4   year         9096 non-null   float64\n",
      " 5   Action       9125 non-null   int32  \n",
      " 6   Adventure    9125 non-null   int32  \n",
      " 7   Animation    9125 non-null   int32  \n",
      " 8   Children     9125 non-null   int32  \n",
      " 9   Comedy       9125 non-null   int32  \n",
      " 10  Crime        9125 non-null   int32  \n",
      " 11  Documentary  9125 non-null   int32  \n",
      " 12  Drama        9125 non-null   int32  \n",
      " 13  Fantasy      9125 non-null   int32  \n",
      " 14  Film-Noir    9125 non-null   int32  \n",
      " 15  Horror       9125 non-null   int32  \n",
      " 16  IMAX         9125 non-null   int32  \n",
      " 17  Musical      9125 non-null   int32  \n",
      " 18  Mystery      9125 non-null   int32  \n",
      " 19  Romance      9125 non-null   int32  \n",
      " 20  Sci-Fi       9125 non-null   int32  \n",
      " 21  Thriller     9125 non-null   int32  \n",
      " 22  War          9125 non-null   int32  \n",
      " 23  Western      9125 non-null   int32  \n",
      "dtypes: float64(4), int32(19), int64(1)\n",
      "memory usage: 1.0 MB\n"
     ]
    }
   ],
   "source": [
    "movie_df.info()"
   ]
  },
  {
   "cell_type": "code",
   "execution_count": 16,
   "metadata": {},
   "outputs": [],
   "source": [
    "movie_df['imdbRating'].fillna(movie_df['imdbRating'].mean(), inplace=True)\n",
    "movie_df['imdbVotes'].fillna(movie_df['imdbVotes'].mean(), inplace=True)\n",
    "movie_df['runtime'].fillna(movie_df['runtime'].mean(), inplace=True)\n",
    "movie_df['year'].fillna(movie_df['year'].mean(), inplace=True)\n",
    "\n",
    "assert not movie_df.isnull().values.any(), 'Null values in dataset!'"
   ]
  },
  {
   "cell_type": "markdown",
   "metadata": {},
   "source": [
    "### Data profiling\n"
   ]
  },
  {
   "cell_type": "code",
   "execution_count": 17,
   "metadata": {},
   "outputs": [
    {
     "name": "stderr",
     "output_type": "stream",
     "text": [
      "C:\\Users\\roman\\AppData\\Local\\Temp\\ipykernel_16168\\3178207162.py:4: UserWarning: To output multiple subplots, the figure containing the passed axes is being cleared.\n",
      "  movie_df[movie_features].hist(bins=30, ax=ax)\n"
     ]
    },
    {
     "data": {
      "image/png": "[encoded data removed]",
      "text/plain": [
       "<Figure size 1000x800 with 4 Axes>"
      ]
     },
     "metadata": {},
     "output_type": "display_data"
    }
   ],
   "source": [
    "_, ax = plt.subplots(figsize=(10,8))\n",
    "\n",
    "movie_features = movie_df.columns[1:5]\n",
    "movie_df[movie_features].hist(bins=30, ax=ax)\n",
    "plt.show()"
   ]
  },
  {
   "cell_type": "code",
   "execution_count": 18,
   "metadata": {},
   "outputs": [
    {
     "data": {
      "image/png": "[encoded data removed]",
      "text/plain": [
       "<Figure size 640x480 with 2 Axes>"
      ]
     },
     "metadata": {},
     "output_type": "display_data"
    }
   ],
   "source": [
    "corr_matrix = movie_df[movie_features].corr()\n",
    "sns.heatmap(corr_matrix, annot=True)\n",
    "plt.show()"
   ]
  },
  {
   "cell_type": "markdown",
   "metadata": {},
   "source": [
    "### Encoding & Scaling data"
   ]
  },
  {
   "cell_type": "code",
   "execution_count": 19,
   "metadata": {},
   "outputs": [],
   "source": [
    "user_encoder, movie_encoder = LabelEncoder(), LabelEncoder()\n",
    "scaler = StandardScaler()"
   ]
  },
  {
   "cell_type": "code",
   "execution_count": 20,
   "metadata": {},
   "outputs": [],
   "source": [
    "user_df['userId'] = user_encoder.fit_transform(user_df['userId'])\n",
    "movie_df['movieId'] = movie_encoder.fit_transform(movie_df['movieId'])\n",
    "\n",
    "rating_df['userId'] = user_encoder.transform(rating_df['userId'])\n",
    "rating_df['movieId'] = movie_encoder.transform(rating_df['movieId'])"
   ]
  },
  {
   "cell_type": "code",
   "execution_count": 21,
   "metadata": {},
   "outputs": [],
   "source": [
    "features_to_scale = ['imdbRating', 'imdbVotes', 'runtime', 'year']\n",
    "scaled_features = scaler.fit_transform(movie_df[features_to_scale])\n",
    "scaled_features_df = pd.DataFrame(scaled_features, columns=features_to_scale)"
   ]
  },
  {
   "cell_type": "code",
   "execution_count": 22,
   "metadata": {},
   "outputs": [
    {
     "data": {
      "text/html": [
       "<div>\n",
       "<style scoped>\n",
       "    .dataframe tbody tr th:only-of-type {\n",
       "        vertical-align: middle;\n",
       "    }\n",
       "\n",
       "    .dataframe tbody tr th {\n",
       "        vertical-align: top;\n",
       "    }\n",
       "\n",
       "    .dataframe thead th {\n",
       "        text-align: right;\n",
       "    }\n",
       "</style>\n",
       "<table border=\"1\" class=\"dataframe\">\n",
       "  <thead>\n",
       "    <tr style=\"text-align: right;\">\n",
       "      <th></th>\n",
       "      <th>movieId</th>\n",
       "      <th>Action</th>\n",
       "      <th>Adventure</th>\n",
       "      <th>Animation</th>\n",
       "      <th>Children</th>\n",
       "      <th>Comedy</th>\n",
       "      <th>Crime</th>\n",
       "      <th>Documentary</th>\n",
       "      <th>Drama</th>\n",
       "      <th>Fantasy</th>\n",
       "      <th>...</th>\n",
       "      <th>Mystery</th>\n",
       "      <th>Romance</th>\n",
       "      <th>Sci-Fi</th>\n",
       "      <th>Thriller</th>\n",
       "      <th>War</th>\n",
       "      <th>Western</th>\n",
       "      <th>imdbRating</th>\n",
       "      <th>imdbVotes</th>\n",
       "      <th>runtime</th>\n",
       "      <th>year</th>\n",
       "    </tr>\n",
       "  </thead>\n",
       "  <tbody>\n",
       "    <tr>\n",
       "      <th>0</th>\n",
       "      <td>0</td>\n",
       "      <td>0</td>\n",
       "      <td>1</td>\n",
       "      <td>1</td>\n",
       "      <td>1</td>\n",
       "      <td>1</td>\n",
       "      <td>0</td>\n",
       "      <td>0</td>\n",
       "      <td>0</td>\n",
       "      <td>1</td>\n",
       "      <td>...</td>\n",
       "      <td>0</td>\n",
       "      <td>0</td>\n",
       "      <td>0</td>\n",
       "      <td>0</td>\n",
       "      <td>0</td>\n",
       "      <td>0</td>\n",
       "      <td>1.528928</td>\n",
       "      <td>5.144229</td>\n",
       "      <td>-0.876122</td>\n",
       "      <td>0.158905</td>\n",
       "    </tr>\n",
       "    <tr>\n",
       "      <th>1</th>\n",
       "      <td>1</td>\n",
       "      <td>0</td>\n",
       "      <td>1</td>\n",
       "      <td>0</td>\n",
       "      <td>1</td>\n",
       "      <td>0</td>\n",
       "      <td>0</td>\n",
       "      <td>0</td>\n",
       "      <td>0</td>\n",
       "      <td>1</td>\n",
       "      <td>...</td>\n",
       "      <td>0</td>\n",
       "      <td>0</td>\n",
       "      <td>0</td>\n",
       "      <td>0</td>\n",
       "      <td>0</td>\n",
       "      <td>0</td>\n",
       "      <td>0.174897</td>\n",
       "      <td>1.394602</td>\n",
       "      <td>-0.058951</td>\n",
       "      <td>0.158905</td>\n",
       "    </tr>\n",
       "    <tr>\n",
       "      <th>2</th>\n",
       "      <td>2</td>\n",
       "      <td>0</td>\n",
       "      <td>0</td>\n",
       "      <td>0</td>\n",
       "      <td>0</td>\n",
       "      <td>1</td>\n",
       "      <td>0</td>\n",
       "      <td>0</td>\n",
       "      <td>0</td>\n",
       "      <td>0</td>\n",
       "      <td>...</td>\n",
       "      <td>0</td>\n",
       "      <td>1</td>\n",
       "      <td>0</td>\n",
       "      <td>0</td>\n",
       "      <td>0</td>\n",
       "      <td>0</td>\n",
       "      <td>-0.115253</td>\n",
       "      <td>-0.318207</td>\n",
       "      <td>-0.165539</td>\n",
       "      <td>0.158905</td>\n",
       "    </tr>\n",
       "    <tr>\n",
       "      <th>3</th>\n",
       "      <td>3</td>\n",
       "      <td>0</td>\n",
       "      <td>0</td>\n",
       "      <td>0</td>\n",
       "      <td>0</td>\n",
       "      <td>1</td>\n",
       "      <td>0</td>\n",
       "      <td>0</td>\n",
       "      <td>1</td>\n",
       "      <td>0</td>\n",
       "      <td>...</td>\n",
       "      <td>0</td>\n",
       "      <td>1</td>\n",
       "      <td>0</td>\n",
       "      <td>0</td>\n",
       "      <td>0</td>\n",
       "      <td>0</td>\n",
       "      <td>-1.082418</td>\n",
       "      <td>-0.426889</td>\n",
       "      <td>0.651632</td>\n",
       "      <td>0.158905</td>\n",
       "    </tr>\n",
       "    <tr>\n",
       "      <th>4</th>\n",
       "      <td>4</td>\n",
       "      <td>0</td>\n",
       "      <td>0</td>\n",
       "      <td>0</td>\n",
       "      <td>0</td>\n",
       "      <td>1</td>\n",
       "      <td>0</td>\n",
       "      <td>0</td>\n",
       "      <td>0</td>\n",
       "      <td>0</td>\n",
       "      <td>...</td>\n",
       "      <td>0</td>\n",
       "      <td>0</td>\n",
       "      <td>0</td>\n",
       "      <td>0</td>\n",
       "      <td>0</td>\n",
       "      <td>0</td>\n",
       "      <td>-0.792268</td>\n",
       "      <td>-0.248423</td>\n",
       "      <td>0.012107</td>\n",
       "      <td>0.158905</td>\n",
       "    </tr>\n",
       "  </tbody>\n",
       "</table>\n",
       "<p>5 rows × 24 columns</p>\n",
       "</div>"
      ],
      "text/plain": [
       "   movieId  Action  Adventure  Animation  Children  Comedy  Crime  \\\n",
       "0        0       0          1          1         1       1      0   \n",
       "1        1       0          1          0         1       0      0   \n",
       "2        2       0          0          0         0       1      0   \n",
       "3        3       0          0          0         0       1      0   \n",
       "4        4       0          0          0         0       1      0   \n",
       "\n",
       "   Documentary  Drama  Fantasy  ...  Mystery  Romance  Sci-Fi  Thriller  War  \\\n",
       "0            0      0        1  ...        0        0       0         0    0   \n",
       "1            0      0        1  ...        0        0       0         0    0   \n",
       "2            0      0        0  ...        0        1       0         0    0   \n",
       "3            0      1        0  ...        0        1       0         0    0   \n",
       "4            0      0        0  ...        0        0       0         0    0   \n",
       "\n",
       "   Western  imdbRating  imdbVotes   runtime      year  \n",
       "0        0    1.528928   5.144229 -0.876122  0.158905  \n",
       "1        0    0.174897   1.394602 -0.058951  0.158905  \n",
       "2        0   -0.115253  -0.318207 -0.165539  0.158905  \n",
       "3        0   -1.082418  -0.426889  0.651632  0.158905  \n",
       "4        0   -0.792268  -0.248423  0.012107  0.158905  \n",
       "\n",
       "[5 rows x 24 columns]"
      ]
     },
     "execution_count": 22,
     "metadata": {},
     "output_type": "execute_result"
    }
   ],
   "source": [
    "movie_df.drop(columns=features_to_scale, axis=1, inplace=True)\n",
    "movie_df = pd.concat([movie_df, scaled_features_df], axis=1)\n",
    "movie_df.head()"
   ]
  },
  {
   "cell_type": "code",
   "execution_count": 23,
   "metadata": {},
   "outputs": [
    {
     "data": {
      "text/html": [
       "<div>\n",
       "<style scoped>\n",
       "    .dataframe tbody tr th:only-of-type {\n",
       "        vertical-align: middle;\n",
       "    }\n",
       "\n",
       "    .dataframe tbody tr th {\n",
       "        vertical-align: top;\n",
       "    }\n",
       "\n",
       "    .dataframe thead th {\n",
       "        text-align: right;\n",
       "    }\n",
       "</style>\n",
       "<table border=\"1\" class=\"dataframe\">\n",
       "  <thead>\n",
       "    <tr style=\"text-align: right;\">\n",
       "      <th></th>\n",
       "      <th>movieId</th>\n",
       "      <th>Action</th>\n",
       "      <th>Adventure</th>\n",
       "      <th>Animation</th>\n",
       "      <th>Children</th>\n",
       "      <th>Comedy</th>\n",
       "      <th>Crime</th>\n",
       "      <th>Documentary</th>\n",
       "      <th>Drama</th>\n",
       "      <th>Fantasy</th>\n",
       "      <th>...</th>\n",
       "      <th>Mystery</th>\n",
       "      <th>Romance</th>\n",
       "      <th>Sci-Fi</th>\n",
       "      <th>Thriller</th>\n",
       "      <th>War</th>\n",
       "      <th>Western</th>\n",
       "      <th>imdbRating</th>\n",
       "      <th>imdbVotes</th>\n",
       "      <th>runtime</th>\n",
       "      <th>year</th>\n",
       "    </tr>\n",
       "  </thead>\n",
       "  <tbody>\n",
       "    <tr>\n",
       "      <th>count</th>\n",
       "      <td>9125.000000</td>\n",
       "      <td>9125.000000</td>\n",
       "      <td>9125.000000</td>\n",
       "      <td>9125.000000</td>\n",
       "      <td>9125.000000</td>\n",
       "      <td>9125.000000</td>\n",
       "      <td>9125.000000</td>\n",
       "      <td>9125.000000</td>\n",
       "      <td>9125.000000</td>\n",
       "      <td>9125.000000</td>\n",
       "      <td>...</td>\n",
       "      <td>9125.000000</td>\n",
       "      <td>9125.000000</td>\n",
       "      <td>9125.000000</td>\n",
       "      <td>9125.000000</td>\n",
       "      <td>9125.000000</td>\n",
       "      <td>9125.000000</td>\n",
       "      <td>9.125000e+03</td>\n",
       "      <td>9.125000e+03</td>\n",
       "      <td>9.125000e+03</td>\n",
       "      <td>9.125000e+03</td>\n",
       "    </tr>\n",
       "    <tr>\n",
       "      <th>mean</th>\n",
       "      <td>4562.000000</td>\n",
       "      <td>0.169315</td>\n",
       "      <td>0.122411</td>\n",
       "      <td>0.048986</td>\n",
       "      <td>0.063890</td>\n",
       "      <td>0.363288</td>\n",
       "      <td>0.120548</td>\n",
       "      <td>0.054247</td>\n",
       "      <td>0.478356</td>\n",
       "      <td>0.071671</td>\n",
       "      <td>...</td>\n",
       "      <td>0.059507</td>\n",
       "      <td>0.169315</td>\n",
       "      <td>0.086795</td>\n",
       "      <td>0.189479</td>\n",
       "      <td>0.040219</td>\n",
       "      <td>0.018411</td>\n",
       "      <td>7.697222e-16</td>\n",
       "      <td>3.114708e-18</td>\n",
       "      <td>-1.993413e-16</td>\n",
       "      <td>-5.095662e-15</td>\n",
       "    </tr>\n",
       "    <tr>\n",
       "      <th>std</th>\n",
       "      <td>2634.304937</td>\n",
       "      <td>0.375051</td>\n",
       "      <td>0.327778</td>\n",
       "      <td>0.215851</td>\n",
       "      <td>0.244571</td>\n",
       "      <td>0.480973</td>\n",
       "      <td>0.325619</td>\n",
       "      <td>0.226516</td>\n",
       "      <td>0.499559</td>\n",
       "      <td>0.257957</td>\n",
       "      <td>...</td>\n",
       "      <td>0.236584</td>\n",
       "      <td>0.375051</td>\n",
       "      <td>0.281549</td>\n",
       "      <td>0.391910</td>\n",
       "      <td>0.196484</td>\n",
       "      <td>0.134439</td>\n",
       "      <td>1.000055e+00</td>\n",
       "      <td>1.000055e+00</td>\n",
       "      <td>1.000055e+00</td>\n",
       "      <td>1.000055e+00</td>\n",
       "    </tr>\n",
       "    <tr>\n",
       "      <th>min</th>\n",
       "      <td>0.000000</td>\n",
       "      <td>0.000000</td>\n",
       "      <td>0.000000</td>\n",
       "      <td>0.000000</td>\n",
       "      <td>0.000000</td>\n",
       "      <td>0.000000</td>\n",
       "      <td>0.000000</td>\n",
       "      <td>0.000000</td>\n",
       "      <td>0.000000</td>\n",
       "      <td>0.000000</td>\n",
       "      <td>...</td>\n",
       "      <td>0.000000</td>\n",
       "      <td>0.000000</td>\n",
       "      <td>0.000000</td>\n",
       "      <td>0.000000</td>\n",
       "      <td>0.000000</td>\n",
       "      <td>0.000000</td>\n",
       "      <td>-4.951079e+00</td>\n",
       "      <td>-4.954719e-01</td>\n",
       "      <td>-3.682925e+00</td>\n",
       "      <td>-4.650468e+00</td>\n",
       "    </tr>\n",
       "    <tr>\n",
       "      <th>25%</th>\n",
       "      <td>2281.000000</td>\n",
       "      <td>0.000000</td>\n",
       "      <td>0.000000</td>\n",
       "      <td>0.000000</td>\n",
       "      <td>0.000000</td>\n",
       "      <td>0.000000</td>\n",
       "      <td>0.000000</td>\n",
       "      <td>0.000000</td>\n",
       "      <td>0.000000</td>\n",
       "      <td>0.000000</td>\n",
       "      <td>...</td>\n",
       "      <td>0.000000</td>\n",
       "      <td>0.000000</td>\n",
       "      <td>0.000000</td>\n",
       "      <td>0.000000</td>\n",
       "      <td>0.000000</td>\n",
       "      <td>0.000000</td>\n",
       "      <td>-5.988353e-01</td>\n",
       "      <td>-4.503885e-01</td>\n",
       "      <td>-4.497720e-01</td>\n",
       "      <td>-3.582321e-01</td>\n",
       "    </tr>\n",
       "    <tr>\n",
       "      <th>50%</th>\n",
       "      <td>4562.000000</td>\n",
       "      <td>0.000000</td>\n",
       "      <td>0.000000</td>\n",
       "      <td>0.000000</td>\n",
       "      <td>0.000000</td>\n",
       "      <td>0.000000</td>\n",
       "      <td>0.000000</td>\n",
       "      <td>0.000000</td>\n",
       "      <td>0.000000</td>\n",
       "      <td>0.000000</td>\n",
       "      <td>...</td>\n",
       "      <td>0.000000</td>\n",
       "      <td>0.000000</td>\n",
       "      <td>0.000000</td>\n",
       "      <td>0.000000</td>\n",
       "      <td>0.000000</td>\n",
       "      <td>0.000000</td>\n",
       "      <td>7.818045e-02</td>\n",
       "      <td>-3.532937e-01</td>\n",
       "      <td>-1.300096e-01</td>\n",
       "      <td>2.623321e-01</td>\n",
       "    </tr>\n",
       "    <tr>\n",
       "      <th>75%</th>\n",
       "      <td>6843.000000</td>\n",
       "      <td>0.000000</td>\n",
       "      <td>0.000000</td>\n",
       "      <td>0.000000</td>\n",
       "      <td>0.000000</td>\n",
       "      <td>1.000000</td>\n",
       "      <td>0.000000</td>\n",
       "      <td>0.000000</td>\n",
       "      <td>1.000000</td>\n",
       "      <td>0.000000</td>\n",
       "      <td>...</td>\n",
       "      <td>0.000000</td>\n",
       "      <td>0.000000</td>\n",
       "      <td>0.000000</td>\n",
       "      <td>0.000000</td>\n",
       "      <td>0.000000</td>\n",
       "      <td>0.000000</td>\n",
       "      <td>7.551962e-01</td>\n",
       "      <td>0.000000e+00</td>\n",
       "      <td>3.318695e-01</td>\n",
       "      <td>7.277552e-01</td>\n",
       "    </tr>\n",
       "    <tr>\n",
       "      <th>max</th>\n",
       "      <td>9124.000000</td>\n",
       "      <td>1.000000</td>\n",
       "      <td>1.000000</td>\n",
       "      <td>1.000000</td>\n",
       "      <td>1.000000</td>\n",
       "      <td>1.000000</td>\n",
       "      <td>1.000000</td>\n",
       "      <td>1.000000</td>\n",
       "      <td>1.000000</td>\n",
       "      <td>1.000000</td>\n",
       "      <td>...</td>\n",
       "      <td>1.000000</td>\n",
       "      <td>1.000000</td>\n",
       "      <td>1.000000</td>\n",
       "      <td>1.000000</td>\n",
       "      <td>1.000000</td>\n",
       "      <td>1.000000</td>\n",
       "      <td>2.786243e+00</td>\n",
       "      <td>1.500774e+01</td>\n",
       "      <td>2.857755e+01</td>\n",
       "      <td>1.244892e+00</td>\n",
       "    </tr>\n",
       "  </tbody>\n",
       "</table>\n",
       "<p>8 rows × 24 columns</p>\n",
       "</div>"
      ],
      "text/plain": [
       "           movieId       Action    Adventure    Animation     Children  \\\n",
       "count  9125.000000  9125.000000  9125.000000  9125.000000  9125.000000   \n",
       "mean   4562.000000     0.169315     0.122411     0.048986     0.063890   \n",
       "std    2634.304937     0.375051     0.327778     0.215851     0.244571   \n",
       "min       0.000000     0.000000     0.000000     0.000000     0.000000   \n",
       "25%    2281.000000     0.000000     0.000000     0.000000     0.000000   \n",
       "50%    4562.000000     0.000000     0.000000     0.000000     0.000000   \n",
       "75%    6843.000000     0.000000     0.000000     0.000000     0.000000   \n",
       "max    9124.000000     1.000000     1.000000     1.000000     1.000000   \n",
       "\n",
       "            Comedy        Crime  Documentary        Drama      Fantasy  ...  \\\n",
       "count  9125.000000  9125.000000  9125.000000  9125.000000  9125.000000  ...   \n",
       "mean      0.363288     0.120548     0.054247     0.478356     0.071671  ...   \n",
       "std       0.480973     0.325619     0.226516     0.499559     0.257957  ...   \n",
       "min       0.000000     0.000000     0.000000     0.000000     0.000000  ...   \n",
       "25%       0.000000     0.000000     0.000000     0.000000     0.000000  ...   \n",
       "50%       0.000000     0.000000     0.000000     0.000000     0.000000  ...   \n",
       "75%       1.000000     0.000000     0.000000     1.000000     0.000000  ...   \n",
       "max       1.000000     1.000000     1.000000     1.000000     1.000000  ...   \n",
       "\n",
       "           Mystery      Romance       Sci-Fi     Thriller          War  \\\n",
       "count  9125.000000  9125.000000  9125.000000  9125.000000  9125.000000   \n",
       "mean      0.059507     0.169315     0.086795     0.189479     0.040219   \n",
       "std       0.236584     0.375051     0.281549     0.391910     0.196484   \n",
       "min       0.000000     0.000000     0.000000     0.000000     0.000000   \n",
       "25%       0.000000     0.000000     0.000000     0.000000     0.000000   \n",
       "50%       0.000000     0.000000     0.000000     0.000000     0.000000   \n",
       "75%       0.000000     0.000000     0.000000     0.000000     0.000000   \n",
       "max       1.000000     1.000000     1.000000     1.000000     1.000000   \n",
       "\n",
       "           Western    imdbRating     imdbVotes       runtime          year  \n",
       "count  9125.000000  9.125000e+03  9.125000e+03  9.125000e+03  9.125000e+03  \n",
       "mean      0.018411  7.697222e-16  3.114708e-18 -1.993413e-16 -5.095662e-15  \n",
       "std       0.134439  1.000055e+00  1.000055e+00  1.000055e+00  1.000055e+00  \n",
       "min       0.000000 -4.951079e+00 -4.954719e-01 -3.682925e+00 -4.650468e+00  \n",
       "25%       0.000000 -5.988353e-01 -4.503885e-01 -4.497720e-01 -3.582321e-01  \n",
       "50%       0.000000  7.818045e-02 -3.532937e-01 -1.300096e-01  2.623321e-01  \n",
       "75%       0.000000  7.551962e-01  0.000000e+00  3.318695e-01  7.277552e-01  \n",
       "max       1.000000  2.786243e+00  1.500774e+01  2.857755e+01  1.244892e+00  \n",
       "\n",
       "[8 rows x 24 columns]"
      ]
     },
     "execution_count": 23,
     "metadata": {},
     "output_type": "execute_result"
    }
   ],
   "source": [
    "movie_df.describe()"
   ]
  },
  {
   "cell_type": "code",
   "execution_count": 24,
   "metadata": {},
   "outputs": [],
   "source": [
    "# _, ax = plt.subplots(figsize=(10,8))\n",
    "\n",
    "# movie_df[movie_features].hist(bins=30, ax=ax)\n",
    "# plt.show()"
   ]
  },
  {
   "cell_type": "code",
   "execution_count": 25,
   "metadata": {},
   "outputs": [],
   "source": [
    "safe_date = datetime.now().strftime('%Y%m%d')\n",
    "user_df.to_csv(f'./datasets/{safe_date}_movieLens100k_users.csv', index=False)\n",
    "movie_df.to_csv(f'./datasets/{safe_date}_movieLens100k_movies.csv', index=False)\n",
    "rating_df.to_csv(f'./datasets/{safe_date}_movieLens100k_ratings.csv', index=False)"
   ]
  },
  {
   "cell_type": "code",
   "execution_count": 26,
   "metadata": {},
   "outputs": [
    {
     "data": {
      "text/html": [
       "<div>\n",
       "<style scoped>\n",
       "    .dataframe tbody tr th:only-of-type {\n",
       "        vertical-align: middle;\n",
       "    }\n",
       "\n",
       "    .dataframe tbody tr th {\n",
       "        vertical-align: top;\n",
       "    }\n",
       "\n",
       "    .dataframe thead th {\n",
       "        text-align: right;\n",
       "    }\n",
       "</style>\n",
       "<table border=\"1\" class=\"dataframe\">\n",
       "  <thead>\n",
       "    <tr style=\"text-align: right;\">\n",
       "      <th></th>\n",
       "      <th>userId</th>\n",
       "      <th>movieId</th>\n",
       "      <th>rating</th>\n",
       "    </tr>\n",
       "  </thead>\n",
       "  <tbody>\n",
       "    <tr>\n",
       "      <th>0</th>\n",
       "      <td>0</td>\n",
       "      <td>1087</td>\n",
       "      <td>2.0</td>\n",
       "    </tr>\n",
       "    <tr>\n",
       "      <th>1</th>\n",
       "      <td>0</td>\n",
       "      <td>1083</td>\n",
       "      <td>3.5</td>\n",
       "    </tr>\n",
       "    <tr>\n",
       "      <th>2</th>\n",
       "      <td>0</td>\n",
       "      <td>1140</td>\n",
       "      <td>1.0</td>\n",
       "    </tr>\n",
       "    <tr>\n",
       "      <th>3</th>\n",
       "      <td>0</td>\n",
       "      <td>1111</td>\n",
       "      <td>2.5</td>\n",
       "    </tr>\n",
       "    <tr>\n",
       "      <th>4</th>\n",
       "      <td>0</td>\n",
       "      <td>1017</td>\n",
       "      <td>2.0</td>\n",
       "    </tr>\n",
       "    <tr>\n",
       "      <th>...</th>\n",
       "      <td>...</td>\n",
       "      <td>...</td>\n",
       "      <td>...</td>\n",
       "    </tr>\n",
       "    <tr>\n",
       "      <th>99999</th>\n",
       "      <td>670</td>\n",
       "      <td>3113</td>\n",
       "      <td>2.0</td>\n",
       "    </tr>\n",
       "    <tr>\n",
       "      <th>100000</th>\n",
       "      <td>670</td>\n",
       "      <td>3199</td>\n",
       "      <td>3.5</td>\n",
       "    </tr>\n",
       "    <tr>\n",
       "      <th>100001</th>\n",
       "      <td>670</td>\n",
       "      <td>3213</td>\n",
       "      <td>4.0</td>\n",
       "    </tr>\n",
       "    <tr>\n",
       "      <th>100002</th>\n",
       "      <td>670</td>\n",
       "      <td>3220</td>\n",
       "      <td>3.5</td>\n",
       "    </tr>\n",
       "    <tr>\n",
       "      <th>100003</th>\n",
       "      <td>670</td>\n",
       "      <td>3223</td>\n",
       "      <td>3.5</td>\n",
       "    </tr>\n",
       "  </tbody>\n",
       "</table>\n",
       "<p>100004 rows × 3 columns</p>\n",
       "</div>"
      ],
      "text/plain": [
       "        userId  movieId  rating\n",
       "0            0     1087     2.0\n",
       "1            0     1083     3.5\n",
       "2            0     1140     1.0\n",
       "3            0     1111     2.5\n",
       "4            0     1017     2.0\n",
       "...        ...      ...     ...\n",
       "99999      670     3113     2.0\n",
       "100000     670     3199     3.5\n",
       "100001     670     3213     4.0\n",
       "100002     670     3220     3.5\n",
       "100003     670     3223     3.5\n",
       "\n",
       "[100004 rows x 3 columns]"
      ]
     },
     "execution_count": 26,
     "metadata": {},
     "output_type": "execute_result"
    }
   ],
   "source": [
    "rating_df"
   ]
  },
  {
   "cell_type": "markdown",
   "metadata": {},
   "source": [
    "### Create Pytorch Geometric (heterogenious) Dataset"
   ]
  },
  {
   "cell_type": "code",
   "execution_count": 27,
   "metadata": {},
   "outputs": [
    {
     "data": {
      "text/plain": [
       "torch.Size([671, 671])"
      ]
     },
     "execution_count": 27,
     "metadata": {},
     "output_type": "execute_result"
    }
   ],
   "source": [
    "x_user = torch.eye(len(user_df['userId'].values))\n",
    "x_user.size()"
   ]
  },
  {
   "cell_type": "code",
   "execution_count": 28,
   "metadata": {},
   "outputs": [
    {
     "data": {
      "text/plain": [
       "torch.Size([9125, 23])"
      ]
     },
     "execution_count": 28,
     "metadata": {},
     "output_type": "execute_result"
    }
   ],
   "source": [
    "x_movie = movie_df.drop(columns=['movieId'], axis=1)\n",
    "x_movie = torch.Tensor(x_movie.values)\n",
    "x_movie.size()"
   ]
  },
  {
   "cell_type": "code",
   "execution_count": 29,
   "metadata": {},
   "outputs": [
    {
     "data": {
      "text/plain": [
       "(torch.Size([2, 100004]),\n",
       " tensor([[   0,    0,    0,  ...,  670,  670,  670],\n",
       "         [1087, 1083, 1140,  ..., 3213, 3220, 3223]]))"
      ]
     },
     "execution_count": 29,
     "metadata": {},
     "output_type": "execute_result"
    }
   ],
   "source": [
    "edge_index = torch.Tensor(rating_df[['userId', 'movieId']].values).swapaxes(1,0).to(torch.long)\n",
    "edge_index.size(), edge_index"
   ]
  },
  {
   "cell_type": "code",
   "execution_count": 30,
   "metadata": {},
   "outputs": [
    {
     "data": {
      "text/plain": [
       "(torch.Size([100004]),\n",
       " tensor([2.0000, 3.5000, 1.0000,  ..., 4.0000, 3.5000, 3.5000]))"
      ]
     },
     "execution_count": 30,
     "metadata": {},
     "output_type": "execute_result"
    }
   ],
   "source": [
    "edge_label = torch.Tensor(rating_df['rating'].values)\n",
    "edge_label.size(), edge_label"
   ]
  },
  {
   "cell_type": "code",
   "execution_count": 31,
   "metadata": {},
   "outputs": [
    {
     "data": {
      "text/plain": [
       "HeteroData(\n",
       "  \u001b[1muser\u001b[0m={ x=[671, 671] },\n",
       "  \u001b[1mmovie\u001b[0m={ x=[9125, 23] },\n",
       "  \u001b[1m(user, rates, movie)\u001b[0m={\n",
       "    edge_index=[2, 100004],\n",
       "    edge_label=[100004]\n",
       "  }\n",
       ")"
      ]
     },
     "execution_count": 31,
     "metadata": {},
     "output_type": "execute_result"
    }
   ],
   "source": [
    "data = HeteroData()\n",
    "data['user'].x = x_user\n",
    "data['movie'].x = x_movie\n",
    "\n",
    "data[('user', 'rates', 'movie')].edge_index = edge_index\n",
    "data[('user', 'rates', 'movie')].edge_label = edge_label\n",
    "\n",
    "data"
   ]
  },
  {
   "cell_type": "code",
   "execution_count": 32,
   "metadata": {},
   "outputs": [
    {
     "data": {
      "text/plain": [
       "HeteroData(\n",
       "  \u001b[1muser\u001b[0m={ x=[671, 671] },\n",
       "  \u001b[1mmovie\u001b[0m={ x=[9125, 23] },\n",
       "  \u001b[1m(user, rates, movie)\u001b[0m={\n",
       "    edge_index=[2, 100004],\n",
       "    edge_label=[100004]\n",
       "  },\n",
       "  \u001b[1m(movie, rev_rates, user)\u001b[0m={ edge_index=[2, 100004] }\n",
       ")"
      ]
     },
     "execution_count": 32,
     "metadata": {},
     "output_type": "execute_result"
    }
   ],
   "source": [
    "data = ToUndirected()(data)\n",
    "# data = AddSelfLoops()(data)\n",
    "# data = NormalizeFeatures()(data)\n",
    "del data[('movie', 'rev_rates', 'user')].edge_label\n",
    "data"
   ]
  },
  {
   "cell_type": "code",
   "execution_count": 33,
   "metadata": {},
   "outputs": [],
   "source": [
    "# data = data.to(device)"
   ]
  },
  {
   "cell_type": "markdown",
   "metadata": {},
   "source": [
    "### Train / Test Split"
   ]
  },
  {
   "cell_type": "code",
   "execution_count": 34,
   "metadata": {},
   "outputs": [],
   "source": [
    "# Perform a link-level split into training, validation, and test edges.\n",
    "train_data, val_data, test_data = RandomLinkSplit(\n",
    "    num_val=0.1,\n",
    "    num_test=0.1,\n",
    "    neg_sampling_ratio=0.0,\n",
    "    edge_types=[('user', 'rates', 'movie')],\n",
    "    rev_edge_types=[('movie', 'rev_rates', 'user')],\n",
    ")(data)"
   ]
  },
  {
   "cell_type": "code",
   "execution_count": 35,
   "metadata": {},
   "outputs": [
    {
     "name": "stdout",
     "output_type": "stream",
     "text": [
      "Train: HeteroData(\n",
      "  \u001b[1muser\u001b[0m={ x=[671, 671] },\n",
      "  \u001b[1mmovie\u001b[0m={ x=[9125, 23] },\n",
      "  \u001b[1m(user, rates, movie)\u001b[0m={\n",
      "    edge_index=[2, 80004],\n",
      "    edge_label=[80004],\n",
      "    edge_label_index=[2, 80004]\n",
      "  },\n",
      "  \u001b[1m(movie, rev_rates, user)\u001b[0m={ edge_index=[2, 80004] }\n",
      ")\n"
     ]
    }
   ],
   "source": [
    "print('Train:', train_data)\n",
    "# print('Val:', val_data)\n",
    "# print('Test:', test_data)"
   ]
  },
  {
   "cell_type": "code",
   "execution_count": 36,
   "metadata": {},
   "outputs": [
    {
     "data": {
      "text/plain": [
       "(torch.Size([2, 80004]),\n",
       " tensor([[  29,  118,  586,  ...,  283,  159,  101],\n",
       "         [ 244, 2021, 1863,  ...,  606, 2608, 1829]]))"
      ]
     },
     "execution_count": 36,
     "metadata": {},
     "output_type": "execute_result"
    }
   ],
   "source": [
    "# Slicing edge label to get the corresponding split (hence this gives train split)\n",
    "train_data['user', 'movie'].edge_label_index.size(), train_data['user', 'movie'].edge_label_index"
   ]
  },
  {
   "cell_type": "code",
   "execution_count": 37,
   "metadata": {},
   "outputs": [
    {
     "data": {
      "text/plain": [
       "(torch.Size([80004]),\n",
       " tensor([4.0000, 2.0000, 3.5000,  ..., 3.0000, 5.0000, 3.0000]))"
      ]
     },
     "execution_count": 37,
     "metadata": {},
     "output_type": "execute_result"
    }
   ],
   "source": [
    "train_data['user', 'movie'].edge_label.size(), train_data['user', 'movie'].edge_label"
   ]
  },
  {
   "cell_type": "code",
   "execution_count": 38,
   "metadata": {},
   "outputs": [
    {
     "data": {
      "text/plain": [
       "{'user': tensor([[1., 0., 0.,  ..., 0., 0., 0.],\n",
       "         [0., 1., 0.,  ..., 0., 0., 0.],\n",
       "         [0., 0., 1.,  ..., 0., 0., 0.],\n",
       "         ...,\n",
       "         [0., 0., 0.,  ..., 1., 0., 0.],\n",
       "         [0., 0., 0.,  ..., 0., 1., 0.],\n",
       "         [0., 0., 0.,  ..., 0., 0., 1.]]),\n",
       " 'movie': tensor([[ 0.0000,  1.0000,  1.0000,  ...,  5.1442, -0.8761,  0.1589],\n",
       "         [ 0.0000,  1.0000,  0.0000,  ...,  1.3946, -0.0590,  0.1589],\n",
       "         [ 0.0000,  0.0000,  0.0000,  ..., -0.3182, -0.1655,  0.1589],\n",
       "         ...,\n",
       "         [ 0.0000,  0.0000,  0.0000,  ...,  0.0000,  0.0000,  1.1932],\n",
       "         [ 0.0000,  0.0000,  0.0000,  ..., -0.4935, -0.6985, -2.8922],\n",
       "         [ 0.0000,  0.0000,  0.0000,  ...,  0.0000, -1.2669,  1.1415]])}"
      ]
     },
     "execution_count": 38,
     "metadata": {},
     "output_type": "execute_result"
    }
   ],
   "source": [
    "# fetaure matrix for all the node types\n",
    "data.x_dict"
   ]
  },
  {
   "cell_type": "markdown",
   "metadata": {},
   "source": [
    "### GNN Model"
   ]
  },
  {
   "cell_type": "code",
   "execution_count": 39,
   "metadata": {},
   "outputs": [],
   "source": [
    "class GNNEncoder(torch.nn.Module):\n",
    "    def __init__(self, hidden_channels, out_channels):\n",
    "        super().__init__()\n",
    "        # these convolutions have been replicated to match the number of edge types\n",
    "        self.conv1 = SAGEConv((-1, -1), hidden_channels)\n",
    "        self.conv2 = SAGEConv((-1, -1), out_channels)\n",
    "\n",
    "    def forward(self, x, edge_index):\n",
    "        x = self.conv1(x, edge_index).relu()\n",
    "        x = self.conv2(x, edge_index)\n",
    "        return x\n",
    "\n",
    "\n",
    "class EdgeDecoder(torch.nn.Module):\n",
    "    def __init__(self, hidden_channels):\n",
    "        super().__init__()\n",
    "        self.lin1 = Linear(2 * hidden_channels, hidden_channels)\n",
    "        self.lin_out = Linear(hidden_channels, 1)\n",
    "        \n",
    "    def forward(self, z_dict, edge_label_index):\n",
    "        row, col = edge_label_index\n",
    "        # concat user and movie embeddings\n",
    "        z = torch.cat([z_dict['user'][row], z_dict['movie'][col]], dim=-1)\n",
    "        # concatenated embeddings passed to linear layer\n",
    "        z = self.lin1(z).relu()\n",
    "        z = self.lin_out(z)\n",
    "        return z.view(-1)\n",
    "\n",
    "\n",
    "class Model(torch.nn.Module):\n",
    "    def __init__(self, hidden_channels):\n",
    "        super().__init__()\n",
    "        self.encoder = GNNEncoder(hidden_channels, hidden_channels)\n",
    "        self.encoder = to_hetero(self.encoder, data.metadata(), aggr='sum')\n",
    "        self.decoder = EdgeDecoder(hidden_channels)\n",
    "\n",
    "    def forward(self, x_dict, edge_index_dict, edge_label_index):\n",
    "        # z_dict contains dictionary of movie and user embeddings returned from GraphSage\n",
    "        z_dict = self.encoder(x_dict, edge_index_dict)\n",
    "        return self.decoder(z_dict, edge_label_index)\n",
    "\n",
    "\n",
    "model = Model(hidden_channels=64).to(device)"
   ]
  },
  {
   "cell_type": "code",
   "execution_count": 40,
   "metadata": {},
   "outputs": [],
   "source": [
    "# Due to lazy initialization, we need to run one model step so the number\n",
    "# of parameters can be inferred:\n",
    "with torch.no_grad():\n",
    "    model.encoder(train_data.x_dict, train_data.edge_index_dict)\n",
    "\n",
    "optimizer = torch.optim.Adam(model.parameters())"
   ]
  },
  {
   "cell_type": "code",
   "execution_count": 41,
   "metadata": {},
   "outputs": [],
   "source": [
    "def train():\n",
    "    model.train()\n",
    "    optimizer.zero_grad()\n",
    "    pred = model(train_data.x_dict, train_data.edge_index_dict,\n",
    "                 train_data['user', 'movie'].edge_label_index)\n",
    "    target = train_data['user', 'movie'].edge_label\n",
    "    # loss = weighted_mse_loss(pred, target, weight)\n",
    "    loss = F.mse_loss(pred, target).sqrt()\n",
    "    loss.backward()\n",
    "    optimizer.step()\n",
    "    return float(loss)\n",
    "\n",
    "\n",
    "@torch.no_grad()\n",
    "def test(data):\n",
    "    model.eval()\n",
    "    pred = model(data.x_dict, data.edge_index_dict,\n",
    "                 data['user', 'movie'].edge_label_index)\n",
    "    pred = pred.clamp(min=0, max=5)\n",
    "    target = data['user', 'movie'].edge_label.float()\n",
    "    rmse = F.mse_loss(pred, target).sqrt()\n",
    "    return float(rmse)"
   ]
  },
  {
   "cell_type": "code",
   "execution_count": 42,
   "metadata": {},
   "outputs": [
    {
     "name": "stdout",
     "output_type": "stream",
     "text": [
      "Epoch: 001\tTrain: 3.6089\tVal: 3.5664\tTest: 3.5434\n",
      "Epoch: 002\tTrain: 3.5573\tVal: 3.5126\tTest: 3.4898\n",
      "Epoch: 003\tTrain: 3.5032\tVal: 3.4541\tTest: 3.4315\n",
      "Epoch: 004\tTrain: 3.4444\tVal: 3.3886\tTest: 3.3663\n",
      "Epoch: 005\tTrain: 3.3786\tVal: 3.3153\tTest: 3.2933\n",
      "Epoch: 006\tTrain: 3.3049\tVal: 3.2331\tTest: 3.2114\n",
      "Epoch: 007\tTrain: 3.2224\tVal: 3.1408\tTest: 3.1195\n",
      "Epoch: 008\tTrain: 3.1297\tVal: 3.0370\tTest: 3.0163\n",
      "Epoch: 009\tTrain: 3.0256\tVal: 2.9201\tTest: 2.8999\n",
      "Epoch: 010\tTrain: 2.9082\tVal: 2.7881\tTest: 2.7685\n",
      "Epoch: 011\tTrain: 2.7757\tVal: 2.6395\tTest: 2.6206\n",
      "Epoch: 012\tTrain: 2.6265\tVal: 2.4729\tTest: 2.4549\n",
      "Epoch: 013\tTrain: 2.4592\tVal: 2.2879\tTest: 2.2708\n",
      "Epoch: 014\tTrain: 2.2734\tVal: 2.0848\tTest: 2.0688\n",
      "Epoch: 015\tTrain: 2.0694\tVal: 1.8663\tTest: 1.8515\n",
      "Epoch: 016\tTrain: 1.8500\tVal: 1.6392\tTest: 1.6261\n",
      "Epoch: 017\tTrain: 1.6226\tVal: 1.4191\tTest: 1.4084\n",
      "Epoch: 018\tTrain: 1.4050\tVal: 1.2351\tTest: 1.2278\n",
      "Epoch: 019\tTrain: 1.2348\tVal: 1.1303\tTest: 1.1281\n",
      "Epoch: 020\tTrain: 1.1713\tVal: 1.1293\tTest: 1.1334\n",
      "Epoch: 021\tTrain: 1.2435\tVal: 1.1870\tTest: 1.1951\n",
      "Epoch: 022\tTrain: 1.3766\tVal: 1.2374\tTest: 1.2480\n",
      "Epoch: 023\tTrain: 1.4720\tVal: 1.2526\tTest: 1.2645\n",
      "Epoch: 024\tTrain: 1.4922\tVal: 1.2324\tTest: 1.2445\n",
      "Epoch: 025\tTrain: 1.4441\tVal: 1.1875\tTest: 1.1990\n",
      "Epoch: 026\tTrain: 1.3521\tVal: 1.1331\tTest: 1.1431\n",
      "Epoch: 027\tTrain: 1.2459\tVal: 1.0878\tTest: 1.0950\n",
      "Epoch: 028\tTrain: 1.1545\tVal: 1.0669\tTest: 1.0713\n",
      "Epoch: 029\tTrain: 1.0995\tVal: 1.0756\tTest: 1.0774\n",
      "Epoch: 030\tTrain: 1.0863\tVal: 1.1042\tTest: 1.1040\n",
      "Epoch: 031\tTrain: 1.1033\tVal: 1.1379\tTest: 1.1362\n",
      "Epoch: 032\tTrain: 1.1312\tVal: 1.1636\tTest: 1.1611\n",
      "Epoch: 033\tTrain: 1.1544\tVal: 1.1742\tTest: 1.1717\n",
      "Epoch: 034\tTrain: 1.1643\tVal: 1.1679\tTest: 1.1658\n",
      "Epoch: 035\tTrain: 1.1581\tVal: 1.1460\tTest: 1.1451\n",
      "Epoch: 036\tTrain: 1.1371\tVal: 1.1129\tTest: 1.1138\n",
      "Epoch: 037\tTrain: 1.1058\tVal: 1.0750\tTest: 1.0783\n",
      "Epoch: 038\tTrain: 1.0706\tVal: 1.0400\tTest: 1.0463\n",
      "Epoch: 039\tTrain: 1.0394\tVal: 1.0154\tTest: 1.0250\n",
      "Epoch: 040\tTrain: 1.0199\tVal: 1.0054\tTest: 1.0185\n",
      "Epoch: 041\tTrain: 1.0158\tVal: 1.0086\tTest: 1.0247\n",
      "Epoch: 042\tTrain: 1.0248\tVal: 1.0181\tTest: 1.0364\n",
      "Epoch: 043\tTrain: 1.0388\tVal: 1.0254\tTest: 1.0452\n",
      "Epoch: 044\tTrain: 1.0485\tVal: 1.0252\tTest: 1.0457\n",
      "Epoch: 045\tTrain: 1.0482\tVal: 1.0170\tTest: 1.0373\n",
      "Epoch: 046\tTrain: 1.0376\tVal: 1.0044\tTest: 1.0240\n",
      "Epoch: 047\tTrain: 1.0213\tVal: 0.9929\tTest: 1.0112\n",
      "Epoch: 048\tTrain: 1.0057\tVal: 0.9867\tTest: 1.0035\n",
      "Epoch: 049\tTrain: 0.9957\tVal: 0.9872\tTest: 1.0024\n",
      "Epoch: 050\tTrain: 0.9929\tVal: 0.9925\tTest: 1.0064\n",
      "Epoch: 051\tTrain: 0.9957\tVal: 0.9990\tTest: 1.0118\n",
      "Epoch: 052\tTrain: 1.0004\tVal: 1.0030\tTest: 1.0153\n",
      "Epoch: 053\tTrain: 1.0034\tVal: 1.0026\tTest: 1.0149\n",
      "Epoch: 054\tTrain: 1.0027\tVal: 0.9977\tTest: 1.0106\n",
      "Epoch: 055\tTrain: 0.9980\tVal: 0.9896\tTest: 1.0035\n",
      "Epoch: 056\tTrain: 0.9908\tVal: 0.9807\tTest: 0.9961\n",
      "Epoch: 057\tTrain: 0.9832\tVal: 0.9735\tTest: 0.9903\n",
      "Epoch: 058\tTrain: 0.9775\tVal: 0.9691\tTest: 0.9874\n",
      "Epoch: 059\tTrain: 0.9748\tVal: 0.9677\tTest: 0.9872\n",
      "Epoch: 060\tTrain: 0.9748\tVal: 0.9678\tTest: 0.9881\n",
      "Epoch: 061\tTrain: 0.9758\tVal: 0.9676\tTest: 0.9884\n",
      "Epoch: 062\tTrain: 0.9760\tVal: 0.9661\tTest: 0.9870\n",
      "Epoch: 063\tTrain: 0.9741\tVal: 0.9633\tTest: 0.9839\n",
      "Epoch: 064\tTrain: 0.9703\tVal: 0.9601\tTest: 0.9801\n",
      "Epoch: 065\tTrain: 0.9656\tVal: 0.9576\tTest: 0.9768\n",
      "Epoch: 066\tTrain: 0.9615\tVal: 0.9566\tTest: 0.9749\n",
      "Epoch: 067\tTrain: 0.9587\tVal: 0.9567\tTest: 0.9743\n",
      "Epoch: 068\tTrain: 0.9574\tVal: 0.9573\tTest: 0.9742\n",
      "Epoch: 069\tTrain: 0.9567\tVal: 0.9573\tTest: 0.9739\n",
      "Epoch: 070\tTrain: 0.9558\tVal: 0.9562\tTest: 0.9727\n",
      "Epoch: 071\tTrain: 0.9542\tVal: 0.9537\tTest: 0.9705\n",
      "Epoch: 072\tTrain: 0.9516\tVal: 0.9505\tTest: 0.9677\n",
      "Epoch: 073\tTrain: 0.9486\tVal: 0.9472\tTest: 0.9651\n",
      "Epoch: 074\tTrain: 0.9457\tVal: 0.9445\tTest: 0.9630\n",
      "Epoch: 075\tTrain: 0.9434\tVal: 0.9425\tTest: 0.9617\n",
      "Epoch: 076\tTrain: 0.9419\tVal: 0.9411\tTest: 0.9607\n",
      "Epoch: 077\tTrain: 0.9408\tVal: 0.9398\tTest: 0.9597\n",
      "Epoch: 078\tTrain: 0.9395\tVal: 0.9384\tTest: 0.9584\n",
      "Epoch: 079\tTrain: 0.9377\tVal: 0.9367\tTest: 0.9566\n",
      "Epoch: 080\tTrain: 0.9354\tVal: 0.9351\tTest: 0.9547\n",
      "Epoch: 081\tTrain: 0.9330\tVal: 0.9339\tTest: 0.9532\n",
      "Epoch: 082\tTrain: 0.9309\tVal: 0.9330\tTest: 0.9520\n",
      "Epoch: 083\tTrain: 0.9291\tVal: 0.9323\tTest: 0.9510\n",
      "Epoch: 084\tTrain: 0.9277\tVal: 0.9314\tTest: 0.9500\n",
      "Epoch: 085\tTrain: 0.9263\tVal: 0.9300\tTest: 0.9487\n",
      "Epoch: 086\tTrain: 0.9246\tVal: 0.9282\tTest: 0.9471\n",
      "Epoch: 087\tTrain: 0.9227\tVal: 0.9261\tTest: 0.9454\n",
      "Epoch: 088\tTrain: 0.9208\tVal: 0.9240\tTest: 0.9438\n",
      "Epoch: 089\tTrain: 0.9190\tVal: 0.9222\tTest: 0.9424\n",
      "Epoch: 090\tTrain: 0.9174\tVal: 0.9205\tTest: 0.9412\n",
      "Epoch: 091\tTrain: 0.9159\tVal: 0.9191\tTest: 0.9400\n",
      "Epoch: 092\tTrain: 0.9145\tVal: 0.9177\tTest: 0.9387\n",
      "Epoch: 093\tTrain: 0.9129\tVal: 0.9164\tTest: 0.9374\n",
      "Epoch: 094\tTrain: 0.9112\tVal: 0.9151\tTest: 0.9361\n",
      "Epoch: 095\tTrain: 0.9095\tVal: 0.9140\tTest: 0.9349\n",
      "Epoch: 096\tTrain: 0.9080\tVal: 0.9130\tTest: 0.9338\n",
      "Epoch: 097\tTrain: 0.9066\tVal: 0.9119\tTest: 0.9326\n",
      "Epoch: 098\tTrain: 0.9053\tVal: 0.9105\tTest: 0.9314\n",
      "Epoch: 099\tTrain: 0.9038\tVal: 0.9089\tTest: 0.9300\n",
      "Epoch: 100\tTrain: 0.9023\tVal: 0.9073\tTest: 0.9286\n",
      "Epoch: 101\tTrain: 0.9009\tVal: 0.9057\tTest: 0.9273\n",
      "Epoch: 102\tTrain: 0.8995\tVal: 0.9043\tTest: 0.9260\n",
      "Epoch: 103\tTrain: 0.8983\tVal: 0.9029\tTest: 0.9248\n",
      "Epoch: 104\tTrain: 0.8970\tVal: 0.9016\tTest: 0.9235\n",
      "Epoch: 105\tTrain: 0.8957\tVal: 0.9004\tTest: 0.9222\n",
      "Epoch: 106\tTrain: 0.8944\tVal: 0.8992\tTest: 0.9211\n",
      "Epoch: 107\tTrain: 0.8931\tVal: 0.8981\tTest: 0.9199\n",
      "Epoch: 108\tTrain: 0.8919\tVal: 0.8970\tTest: 0.9187\n",
      "Epoch: 109\tTrain: 0.8907\tVal: 0.8957\tTest: 0.9175\n",
      "Epoch: 110\tTrain: 0.8895\tVal: 0.8944\tTest: 0.9163\n",
      "Epoch: 111\tTrain: 0.8883\tVal: 0.8930\tTest: 0.9150\n",
      "Epoch: 112\tTrain: 0.8872\tVal: 0.8916\tTest: 0.9138\n",
      "Epoch: 113\tTrain: 0.8861\tVal: 0.8904\tTest: 0.9126\n",
      "Epoch: 114\tTrain: 0.8850\tVal: 0.8893\tTest: 0.9115\n",
      "Epoch: 115\tTrain: 0.8839\tVal: 0.8882\tTest: 0.9104\n",
      "Epoch: 116\tTrain: 0.8828\tVal: 0.8872\tTest: 0.9093\n",
      "Epoch: 117\tTrain: 0.8818\tVal: 0.8862\tTest: 0.9083\n",
      "Epoch: 118\tTrain: 0.8808\tVal: 0.8851\tTest: 0.9072\n",
      "Epoch: 119\tTrain: 0.8798\tVal: 0.8840\tTest: 0.9061\n",
      "Epoch: 120\tTrain: 0.8788\tVal: 0.8828\tTest: 0.9050\n",
      "Epoch: 121\tTrain: 0.8779\tVal: 0.8817\tTest: 0.9040\n",
      "Epoch: 122\tTrain: 0.8770\tVal: 0.8807\tTest: 0.9030\n",
      "Epoch: 123\tTrain: 0.8762\tVal: 0.8798\tTest: 0.9020\n",
      "Epoch: 124\tTrain: 0.8753\tVal: 0.8789\tTest: 0.9011\n",
      "Epoch: 125\tTrain: 0.8745\tVal: 0.8781\tTest: 0.9003\n",
      "Epoch: 126\tTrain: 0.8737\tVal: 0.8772\tTest: 0.8994\n",
      "Epoch: 127\tTrain: 0.8730\tVal: 0.8764\tTest: 0.8985\n",
      "Epoch: 128\tTrain: 0.8723\tVal: 0.8755\tTest: 0.8977\n",
      "Epoch: 129\tTrain: 0.8716\tVal: 0.8748\tTest: 0.8969\n",
      "Epoch: 130\tTrain: 0.8709\tVal: 0.8740\tTest: 0.8961\n",
      "Epoch: 131\tTrain: 0.8703\tVal: 0.8734\tTest: 0.8954\n",
      "Epoch: 132\tTrain: 0.8696\tVal: 0.8727\tTest: 0.8947\n",
      "Epoch: 133\tTrain: 0.8690\tVal: 0.8721\tTest: 0.8940\n",
      "Epoch: 134\tTrain: 0.8685\tVal: 0.8715\tTest: 0.8934\n",
      "Epoch: 135\tTrain: 0.8679\tVal: 0.8709\tTest: 0.8927\n",
      "Epoch: 136\tTrain: 0.8674\tVal: 0.8703\tTest: 0.8921\n",
      "Epoch: 137\tTrain: 0.8669\tVal: 0.8698\tTest: 0.8916\n",
      "Epoch: 138\tTrain: 0.8664\tVal: 0.8693\tTest: 0.8910\n",
      "Epoch: 139\tTrain: 0.8659\tVal: 0.8688\tTest: 0.8905\n",
      "Epoch: 140\tTrain: 0.8655\tVal: 0.8684\tTest: 0.8900\n",
      "Epoch: 141\tTrain: 0.8651\tVal: 0.8679\tTest: 0.8895\n",
      "Epoch: 142\tTrain: 0.8647\tVal: 0.8675\tTest: 0.8891\n",
      "Epoch: 143\tTrain: 0.8643\tVal: 0.8671\tTest: 0.8887\n",
      "Epoch: 144\tTrain: 0.8639\tVal: 0.8667\tTest: 0.8883\n",
      "Epoch: 145\tTrain: 0.8635\tVal: 0.8663\tTest: 0.8879\n",
      "Epoch: 146\tTrain: 0.8632\tVal: 0.8660\tTest: 0.8876\n",
      "Epoch: 147\tTrain: 0.8628\tVal: 0.8657\tTest: 0.8872\n",
      "Epoch: 148\tTrain: 0.8625\tVal: 0.8653\tTest: 0.8869\n",
      "Epoch: 149\tTrain: 0.8622\tVal: 0.8650\tTest: 0.8866\n",
      "Epoch: 150\tTrain: 0.8619\tVal: 0.8647\tTest: 0.8863\n",
      "Epoch: 151\tTrain: 0.8616\tVal: 0.8644\tTest: 0.8860\n",
      "Epoch: 152\tTrain: 0.8614\tVal: 0.8641\tTest: 0.8857\n",
      "Epoch: 153\tTrain: 0.8611\tVal: 0.8639\tTest: 0.8855\n",
      "Epoch: 154\tTrain: 0.8609\tVal: 0.8636\tTest: 0.8852\n",
      "Epoch: 155\tTrain: 0.8606\tVal: 0.8634\tTest: 0.8850\n",
      "Epoch: 156\tTrain: 0.8604\tVal: 0.8632\tTest: 0.8847\n",
      "Epoch: 157\tTrain: 0.8602\tVal: 0.8630\tTest: 0.8845\n",
      "Epoch: 158\tTrain: 0.8600\tVal: 0.8628\tTest: 0.8842\n",
      "Epoch: 159\tTrain: 0.8598\tVal: 0.8626\tTest: 0.8840\n",
      "Epoch: 160\tTrain: 0.8596\tVal: 0.8624\tTest: 0.8838\n",
      "Epoch: 161\tTrain: 0.8594\tVal: 0.8622\tTest: 0.8836\n",
      "Epoch: 162\tTrain: 0.8592\tVal: 0.8620\tTest: 0.8834\n",
      "Epoch: 163\tTrain: 0.8590\tVal: 0.8619\tTest: 0.8832\n",
      "Epoch: 164\tTrain: 0.8588\tVal: 0.8617\tTest: 0.8830\n",
      "Epoch: 165\tTrain: 0.8586\tVal: 0.8615\tTest: 0.8828\n",
      "Epoch: 166\tTrain: 0.8585\tVal: 0.8614\tTest: 0.8826\n",
      "Epoch: 167\tTrain: 0.8583\tVal: 0.8612\tTest: 0.8824\n",
      "Epoch: 168\tTrain: 0.8581\tVal: 0.8610\tTest: 0.8822\n",
      "Epoch: 169\tTrain: 0.8580\tVal: 0.8609\tTest: 0.8821\n",
      "Epoch: 170\tTrain: 0.8578\tVal: 0.8607\tTest: 0.8819\n",
      "Epoch: 171\tTrain: 0.8577\tVal: 0.8605\tTest: 0.8818\n",
      "Epoch: 172\tTrain: 0.8575\tVal: 0.8604\tTest: 0.8816\n",
      "Epoch: 173\tTrain: 0.8574\tVal: 0.8602\tTest: 0.8815\n",
      "Epoch: 174\tTrain: 0.8572\tVal: 0.8601\tTest: 0.8814\n",
      "Epoch: 175\tTrain: 0.8571\tVal: 0.8600\tTest: 0.8812\n",
      "Epoch: 176\tTrain: 0.8570\tVal: 0.8598\tTest: 0.8811\n",
      "Epoch: 177\tTrain: 0.8568\tVal: 0.8597\tTest: 0.8810\n",
      "Epoch: 178\tTrain: 0.8567\tVal: 0.8596\tTest: 0.8808\n",
      "Epoch: 179\tTrain: 0.8566\tVal: 0.8595\tTest: 0.8807\n",
      "Epoch: 180\tTrain: 0.8564\tVal: 0.8594\tTest: 0.8806\n",
      "Epoch: 181\tTrain: 0.8563\tVal: 0.8593\tTest: 0.8805\n",
      "Epoch: 182\tTrain: 0.8562\tVal: 0.8592\tTest: 0.8803\n",
      "Epoch: 183\tTrain: 0.8560\tVal: 0.8591\tTest: 0.8802\n",
      "Epoch: 184\tTrain: 0.8559\tVal: 0.8590\tTest: 0.8801\n",
      "Epoch: 185\tTrain: 0.8558\tVal: 0.8589\tTest: 0.8800\n",
      "Epoch: 186\tTrain: 0.8556\tVal: 0.8588\tTest: 0.8798\n",
      "Epoch: 187\tTrain: 0.8555\tVal: 0.8586\tTest: 0.8797\n",
      "Epoch: 188\tTrain: 0.8554\tVal: 0.8585\tTest: 0.8796\n",
      "Epoch: 189\tTrain: 0.8552\tVal: 0.8584\tTest: 0.8795\n",
      "Epoch: 190\tTrain: 0.8551\tVal: 0.8583\tTest: 0.8794\n",
      "Epoch: 191\tTrain: 0.8550\tVal: 0.8582\tTest: 0.8793\n",
      "Epoch: 192\tTrain: 0.8549\tVal: 0.8581\tTest: 0.8792\n",
      "Epoch: 193\tTrain: 0.8547\tVal: 0.8580\tTest: 0.8791\n",
      "Epoch: 194\tTrain: 0.8546\tVal: 0.8579\tTest: 0.8789\n",
      "Epoch: 195\tTrain: 0.8545\tVal: 0.8578\tTest: 0.8788\n",
      "Epoch: 196\tTrain: 0.8544\tVal: 0.8577\tTest: 0.8787\n",
      "Epoch: 197\tTrain: 0.8542\tVal: 0.8576\tTest: 0.8786\n",
      "Epoch: 198\tTrain: 0.8541\tVal: 0.8575\tTest: 0.8785\n",
      "Epoch: 199\tTrain: 0.8540\tVal: 0.8575\tTest: 0.8784\n",
      "Epoch: 200\tTrain: 0.8539\tVal: 0.8574\tTest: 0.8783\n",
      "Epoch: 201\tTrain: 0.8538\tVal: 0.8573\tTest: 0.8782\n",
      "Epoch: 202\tTrain: 0.8536\tVal: 0.8572\tTest: 0.8781\n",
      "Epoch: 203\tTrain: 0.8535\tVal: 0.8572\tTest: 0.8780\n",
      "Epoch: 204\tTrain: 0.8534\tVal: 0.8571\tTest: 0.8779\n",
      "Epoch: 205\tTrain: 0.8533\tVal: 0.8570\tTest: 0.8778\n",
      "Epoch: 206\tTrain: 0.8532\tVal: 0.8570\tTest: 0.8778\n",
      "Epoch: 207\tTrain: 0.8530\tVal: 0.8569\tTest: 0.8777\n",
      "Epoch: 208\tTrain: 0.8529\tVal: 0.8568\tTest: 0.8776\n",
      "Epoch: 209\tTrain: 0.8528\tVal: 0.8567\tTest: 0.8775\n",
      "Epoch: 210\tTrain: 0.8527\tVal: 0.8567\tTest: 0.8774\n",
      "Epoch: 211\tTrain: 0.8526\tVal: 0.8566\tTest: 0.8773\n",
      "Epoch: 212\tTrain: 0.8525\tVal: 0.8565\tTest: 0.8772\n",
      "Epoch: 213\tTrain: 0.8523\tVal: 0.8565\tTest: 0.8771\n",
      "Epoch: 214\tTrain: 0.8522\tVal: 0.8564\tTest: 0.8771\n",
      "Epoch: 215\tTrain: 0.8521\tVal: 0.8563\tTest: 0.8770\n",
      "Epoch: 216\tTrain: 0.8520\tVal: 0.8563\tTest: 0.8769\n",
      "Epoch: 217\tTrain: 0.8519\tVal: 0.8562\tTest: 0.8768\n",
      "Epoch: 218\tTrain: 0.8518\tVal: 0.8562\tTest: 0.8767\n",
      "Epoch: 219\tTrain: 0.8516\tVal: 0.8561\tTest: 0.8766\n",
      "Epoch: 220\tTrain: 0.8515\tVal: 0.8561\tTest: 0.8766\n",
      "Epoch: 221\tTrain: 0.8514\tVal: 0.8560\tTest: 0.8765\n",
      "Epoch: 222\tTrain: 0.8513\tVal: 0.8559\tTest: 0.8764\n",
      "Epoch: 223\tTrain: 0.8512\tVal: 0.8559\tTest: 0.8764\n",
      "Epoch: 224\tTrain: 0.8511\tVal: 0.8558\tTest: 0.8763\n",
      "Epoch: 225\tTrain: 0.8510\tVal: 0.8558\tTest: 0.8762\n",
      "Epoch: 226\tTrain: 0.8509\tVal: 0.8557\tTest: 0.8762\n",
      "Epoch: 227\tTrain: 0.8507\tVal: 0.8557\tTest: 0.8761\n",
      "Epoch: 228\tTrain: 0.8506\tVal: 0.8556\tTest: 0.8760\n",
      "Epoch: 229\tTrain: 0.8505\tVal: 0.8556\tTest: 0.8760\n",
      "Epoch: 230\tTrain: 0.8504\tVal: 0.8555\tTest: 0.8759\n",
      "Epoch: 231\tTrain: 0.8503\tVal: 0.8555\tTest: 0.8758\n",
      "Epoch: 232\tTrain: 0.8502\tVal: 0.8554\tTest: 0.8758\n",
      "Epoch: 233\tTrain: 0.8500\tVal: 0.8554\tTest: 0.8757\n",
      "Epoch: 234\tTrain: 0.8499\tVal: 0.8553\tTest: 0.8756\n",
      "Epoch: 235\tTrain: 0.8498\tVal: 0.8552\tTest: 0.8756\n",
      "Epoch: 236\tTrain: 0.8497\tVal: 0.8552\tTest: 0.8755\n",
      "Epoch: 237\tTrain: 0.8496\tVal: 0.8551\tTest: 0.8754\n",
      "Epoch: 238\tTrain: 0.8495\tVal: 0.8551\tTest: 0.8753\n",
      "Epoch: 239\tTrain: 0.8493\tVal: 0.8550\tTest: 0.8753\n",
      "Epoch: 240\tTrain: 0.8492\tVal: 0.8549\tTest: 0.8752\n",
      "Epoch: 241\tTrain: 0.8491\tVal: 0.8548\tTest: 0.8751\n",
      "Epoch: 242\tTrain: 0.8490\tVal: 0.8548\tTest: 0.8751\n",
      "Epoch: 243\tTrain: 0.8489\tVal: 0.8547\tTest: 0.8750\n",
      "Epoch: 244\tTrain: 0.8487\tVal: 0.8548\tTest: 0.8750\n",
      "Epoch: 245\tTrain: 0.8486\tVal: 0.8545\tTest: 0.8748\n",
      "Epoch: 246\tTrain: 0.8485\tVal: 0.8546\tTest: 0.8748\n",
      "Epoch: 247\tTrain: 0.8484\tVal: 0.8545\tTest: 0.8747\n",
      "Epoch: 248\tTrain: 0.8482\tVal: 0.8543\tTest: 0.8746\n",
      "Epoch: 249\tTrain: 0.8481\tVal: 0.8544\tTest: 0.8746\n",
      "Epoch: 250\tTrain: 0.8480\tVal: 0.8542\tTest: 0.8744\n",
      "Epoch: 251\tTrain: 0.8478\tVal: 0.8542\tTest: 0.8744\n",
      "Epoch: 252\tTrain: 0.8477\tVal: 0.8542\tTest: 0.8743\n",
      "Epoch: 253\tTrain: 0.8476\tVal: 0.8540\tTest: 0.8742\n",
      "Epoch: 254\tTrain: 0.8474\tVal: 0.8540\tTest: 0.8741\n",
      "Epoch: 255\tTrain: 0.8473\tVal: 0.8539\tTest: 0.8740\n",
      "Epoch: 256\tTrain: 0.8471\tVal: 0.8538\tTest: 0.8739\n",
      "Epoch: 257\tTrain: 0.8470\tVal: 0.8539\tTest: 0.8739\n",
      "Epoch: 258\tTrain: 0.8469\tVal: 0.8536\tTest: 0.8737\n",
      "Epoch: 259\tTrain: 0.8467\tVal: 0.8536\tTest: 0.8737\n",
      "Epoch: 260\tTrain: 0.8465\tVal: 0.8535\tTest: 0.8736\n",
      "Epoch: 261\tTrain: 0.8464\tVal: 0.8534\tTest: 0.8735\n",
      "Epoch: 262\tTrain: 0.8462\tVal: 0.8534\tTest: 0.8734\n",
      "Epoch: 263\tTrain: 0.8461\tVal: 0.8532\tTest: 0.8733\n",
      "Epoch: 264\tTrain: 0.8459\tVal: 0.8533\tTest: 0.8732\n",
      "Epoch: 265\tTrain: 0.8457\tVal: 0.8531\tTest: 0.8731\n",
      "Epoch: 266\tTrain: 0.8455\tVal: 0.8531\tTest: 0.8730\n",
      "Epoch: 267\tTrain: 0.8454\tVal: 0.8530\tTest: 0.8729\n",
      "Epoch: 268\tTrain: 0.8452\tVal: 0.8528\tTest: 0.8728\n",
      "Epoch: 269\tTrain: 0.8450\tVal: 0.8528\tTest: 0.8727\n",
      "Epoch: 270\tTrain: 0.8448\tVal: 0.8526\tTest: 0.8725\n",
      "Epoch: 271\tTrain: 0.8446\tVal: 0.8527\tTest: 0.8725\n",
      "Epoch: 272\tTrain: 0.8444\tVal: 0.8523\tTest: 0.8723\n",
      "Epoch: 273\tTrain: 0.8442\tVal: 0.8525\tTest: 0.8723\n",
      "Epoch: 274\tTrain: 0.8440\tVal: 0.8521\tTest: 0.8720\n",
      "Epoch: 275\tTrain: 0.8438\tVal: 0.8521\tTest: 0.8720\n",
      "Epoch: 276\tTrain: 0.8436\tVal: 0.8520\tTest: 0.8718\n",
      "Epoch: 277\tTrain: 0.8434\tVal: 0.8518\tTest: 0.8717\n",
      "Epoch: 278\tTrain: 0.8431\tVal: 0.8518\tTest: 0.8716\n",
      "Epoch: 279\tTrain: 0.8429\tVal: 0.8515\tTest: 0.8714\n",
      "Epoch: 280\tTrain: 0.8427\tVal: 0.8515\tTest: 0.8714\n",
      "Epoch: 281\tTrain: 0.8424\tVal: 0.8513\tTest: 0.8711\n",
      "Epoch: 282\tTrain: 0.8422\tVal: 0.8512\tTest: 0.8710\n",
      "Epoch: 283\tTrain: 0.8419\tVal: 0.8511\tTest: 0.8709\n",
      "Epoch: 284\tTrain: 0.8417\tVal: 0.8509\tTest: 0.8707\n",
      "Epoch: 285\tTrain: 0.8414\tVal: 0.8508\tTest: 0.8706\n",
      "Epoch: 286\tTrain: 0.8412\tVal: 0.8505\tTest: 0.8703\n",
      "Epoch: 287\tTrain: 0.8409\tVal: 0.8506\tTest: 0.8703\n",
      "Epoch: 288\tTrain: 0.8407\tVal: 0.8502\tTest: 0.8699\n",
      "Epoch: 289\tTrain: 0.8404\tVal: 0.8504\tTest: 0.8700\n",
      "Epoch: 290\tTrain: 0.8402\tVal: 0.8498\tTest: 0.8696\n",
      "Epoch: 291\tTrain: 0.8399\tVal: 0.8499\tTest: 0.8695\n",
      "Epoch: 292\tTrain: 0.8396\tVal: 0.8497\tTest: 0.8693\n",
      "Epoch: 293\tTrain: 0.8393\tVal: 0.8494\tTest: 0.8690\n",
      "Epoch: 294\tTrain: 0.8391\tVal: 0.8495\tTest: 0.8690\n",
      "Epoch: 295\tTrain: 0.8388\tVal: 0.8491\tTest: 0.8687\n",
      "Epoch: 296\tTrain: 0.8385\tVal: 0.8491\tTest: 0.8686\n",
      "Epoch: 297\tTrain: 0.8382\tVal: 0.8489\tTest: 0.8684\n",
      "Epoch: 298\tTrain: 0.8380\tVal: 0.8486\tTest: 0.8681\n",
      "Epoch: 299\tTrain: 0.8377\tVal: 0.8487\tTest: 0.8681\n",
      "Epoch: 300\tTrain: 0.8374\tVal: 0.8483\tTest: 0.8678\n"
     ]
    }
   ],
   "source": [
    "EPOCHS = 300\n",
    "train_losses, val_losses, test_losses = [], [], []\n",
    "for epoch in range(1, EPOCHS+1):\n",
    "    train_loss = train()\n",
    "    # train_rmse = test(train_data)\n",
    "    val_rmse = test(val_data)\n",
    "    test_rmse = test(test_data)\n",
    "    \n",
    "    train_losses.append(train_loss), val_losses.append(val_rmse), test_losses.append(test_rmse)\n",
    "    \n",
    "    print(f'Epoch: {epoch:03d}\\tTrain: {train_loss:.4f}\\t'\n",
    "          f'Val: {val_rmse:.4f}\\tTest: {test_rmse:.4f}')\n",
    "    # break"
   ]
  },
  {
   "cell_type": "code",
   "execution_count": 43,
   "metadata": {},
   "outputs": [
    {
     "data": {
      "image/png": "[encoded data removed]",
      "text/plain": [
       "<Figure size 1400x500 with 2 Axes>"
      ]
     },
     "metadata": {},
     "output_type": "display_data"
    }
   ],
   "source": [
    "SKIP_WARM_UP_STEPS = 60\n",
    "\n",
    "_, (ax0, ax1) = plt.subplots(nrows=1, ncols=2, figsize=(14,5))\n",
    "ax0.plot(train_losses, label='Train')\n",
    "ax0.plot(val_losses, label='Validation')\n",
    "ax0.set_title('Learning curve')\n",
    "ax0.set_xlabel('Epochs')\n",
    "ax0.set_ylabel('Loss')\n",
    "ax0.legend()\n",
    "\n",
    "ax1.plot(range(SKIP_WARM_UP_STEPS, len(train_losses)), train_losses[SKIP_WARM_UP_STEPS:], label='Train')\n",
    "ax1.plot(range(SKIP_WARM_UP_STEPS, len(train_losses)), val_losses[SKIP_WARM_UP_STEPS:], label='Validation')\n",
    "ax1.set_title(f'Learning curve (after {SKIP_WARM_UP_STEPS} warm up steps)')\n",
    "ax1.set_xlabel('Epochs')\n",
    "ax1.set_ylabel('Loss')\n",
    "ax1.legend()\n",
    "plt.show()"
   ]
  },
  {
   "cell_type": "markdown",
   "metadata": {},
   "source": [
    "### Inspect test results"
   ]
  },
  {
   "cell_type": "code",
   "execution_count": 44,
   "metadata": {},
   "outputs": [],
   "source": [
    "model.eval()\n",
    "pred = model(test_data.x_dict, test_data.edge_index_dict,\n",
    "                test_data['user', 'movie'].edge_label_index)\n",
    "pred = pred.clamp(min=0, max=5)\n",
    "target = test_data['user', 'movie'].edge_label.float()\n",
    "rmse = F.mse_loss(pred, target).sqrt()"
   ]
  },
  {
   "cell_type": "code",
   "execution_count": 45,
   "metadata": {},
   "outputs": [
    {
     "data": {
      "text/plain": [
       "(tensor([4.7768, 3.2380, 2.5795, 3.0256, 1.9364, 3.8835, 2.8801, 4.3732, 1.8794,\n",
       "         3.9824, 4.4202, 4.1466, 4.4275, 3.4754, 3.0976, 3.0995, 2.6048, 2.6213,\n",
       "         3.2537, 2.9622], grad_fn=<SliceBackward0>),\n",
       " tensor([5.0000, 4.0000, 3.0000, 2.0000, 1.0000, 4.0000, 3.5000, 5.0000, 2.5000,\n",
       "         4.5000, 5.0000, 5.0000, 4.5000, 3.0000, 3.0000, 2.0000, 4.0000, 2.0000,\n",
       "         4.5000, 3.0000]))"
      ]
     },
     "execution_count": 45,
     "metadata": {},
     "output_type": "execute_result"
    }
   ],
   "source": [
    "pred[:20], target[:20]"
   ]
  },
  {
   "cell_type": "markdown",
   "metadata": {},
   "source": [
    "#### Evaluation\n",
    "\n",
    "Mean squared Error (MSE) can be used as loss function. However, it is not a well suited metric to evaluate the model's recommendations. `Recall@k` fits better for evaluating the recommendations done by the model.  "
   ]
  },
  {
   "cell_type": "code",
   "execution_count": 46,
   "metadata": {},
   "outputs": [
    {
     "name": "stderr",
     "output_type": "stream",
     "text": [
      "100%|██████████| 657/657 [03:34<00:00,  3.06it/s]\n"
     ]
    }
   ],
   "source": [
    "def create_rec_dict_per_user() -> dict:\n",
    "    \"\"\" Return a dictionnairy, with link predictions for each user.\n",
    "    \n",
    "        The dict keys are userId's and values a list of tuples. The\n",
    "        first tuple value is the predicted rating and the second one\n",
    "        the ground truth (rating). \"\"\"\n",
    "\n",
    "    user_rec_dict = defaultdict(list)\n",
    "    test_users_unique = test_data['user', 'movie'].edge_label_index[0].unique()\n",
    "\n",
    "    with torch.no_grad():\n",
    "        for user_id in tqdm(test_users_unique):\n",
    "            user_id = user_id.item()\n",
    "\n",
    "            idxs = (test_data['user', 'movie'].edge_label_index[0] == user_id).nonzero().squeeze()\n",
    "            edge_idxs = test_data['user', 'movie'].edge_label_index[:,idxs]\n",
    "            \n",
    "            true_ratings = test_data['user', 'movie'].edge_label[idxs]\n",
    "            if true_ratings.ndimension() == 0:\n",
    "                true_ratings = test_data['user', 'movie'].edge_label[idxs].unsqueeze(dim=0)\n",
    "\n",
    "            pred_ratings = model(test_data.x_dict, test_data.edge_index_dict, edge_idxs)\n",
    "\n",
    "            ratings = [(pred.item(), gt.item()) for gt, pred in zip(true_ratings, pred_ratings)] \n",
    "            user_rec_dict[user_id] = ratings\n",
    "        \n",
    "        return user_rec_dict\n",
    "\n",
    "\n",
    "def recall_at_k(user_rec_dict:dict, k:int, threshold:float) -> dict:\n",
    "    \"\"\"\" \"\"\"\n",
    "    with torch.no_grad():\n",
    "        # precisions = dict()\n",
    "        recalls = dict()\n",
    "\n",
    "        # k = 20\n",
    "        # threshold = 4.0\n",
    "\n",
    "        for uid, user_ratings in user_rec_dict.items():\n",
    "            \n",
    "            user_ratings.sort(key=lambda x: x[0], reverse=True) \n",
    "             \n",
    "            n_rel = sum([(true_rating >= threshold) for (_, true_rating) in user_ratings])\n",
    "            # n_rec_k = sum([(true_rating >= threshold) for (_, true_rating) in user_ratings[:k]])\n",
    "            # print(f'n_rel: {n_rel}, n_rec_k: {n_rec_k}')\n",
    "\n",
    "            n_rel_and_rec_k = sum([((true_r >= threshold) and (est >= threshold)) for (est, true_r) in user_ratings[:k]])\n",
    "            # print(n_rel_and_rec_k)\n",
    "            \n",
    "            # print(f'uid: {uid}, n_rel: {n_rel}, n_rec_k: {n_rec_k}, n_rel_and_rec_k: {n_rel_and_rec_k}')\n",
    "            \n",
    "            # precisions[uid] = n_rel_and_rec_k / n_rec_k if n_rec_k != 0 else 0\n",
    "            recalls[uid] = n_rel_and_rec_k / n_rel if n_rel != 0 else 0\n",
    "        \n",
    "        return recalls\n",
    "\n",
    "user_rec_dict = create_rec_dict_per_user()"
   ]
  },
  {
   "cell_type": "code",
   "execution_count": 47,
   "metadata": {},
   "outputs": [
    {
     "name": "stdout",
     "output_type": "stream",
     "text": [
      "Recall@20 (Threshold=4.0): 0.354\n",
      "Recall@20 (Threshold=3.5): 0.6656\n"
     ]
    }
   ],
   "source": [
    "k = 20\n",
    "threshold = 4.0\n",
    "recalls = recall_at_k(user_rec_dict, k, threshold)\n",
    "rcl_at_k = sum(recalls.values()) / len(recalls.values())\n",
    "print(f'Recall@{k} (Threshold={threshold}):', round(rcl_at_k, 4))\n",
    "\n",
    "threshold = 3.5\n",
    "recalls = recall_at_k(user_rec_dict, k=k, threshold=threshold)\n",
    "rcl_at_k = sum(recalls.values()) / len(recalls.values())\n",
    "print(f'Recall@{k} (Threshold={threshold}):', round(rcl_at_k, 4))"
   ]
  },
  {
   "cell_type": "code",
   "execution_count": null,
   "metadata": {},
   "outputs": [],
   "source": []
  }
 ],
 "metadata": {
  "kernelspec": {
   "display_name": "Python 3.9.0 ('.new_venv': venv)",
   "language": "python",
   "name": "python3"
  },
  "language_info": {
   "codemirror_mode": {
    "name": "ipython",
    "version": 3
   },
   "file_extension": ".py",
   "mimetype": "text/x-python",
   "name": "python",
   "nbconvert_exporter": "python",
   "pygments_lexer": "ipython3",
   "version": "3.9.0"
  },
  "orig_nbformat": 4,
  "vscode": {
   "interpreter": {
    "hash": "b4b86cfc1452e77d9ce278d6e2f06ea7b3cf78c66895cad39e55a1df0fa1f1cb"
   }
  }
 },
 "nbformat": 4,
 "nbformat_minor": 2
}
