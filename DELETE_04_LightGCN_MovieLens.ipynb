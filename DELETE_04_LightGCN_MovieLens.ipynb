{
 "cells": [
  {
   "cell_type": "markdown",
   "metadata": {},
   "source": [
    "The goal of this notebook is to implement a GNN learner to predict links between users and movies or in other words to recommend movies to a user.\n",
    "\n",
    "- Medium (towards datascience): https://medium.com/stanford-cs224w/lightgcn-with-pytorch-geometric-91bab836471e\n",
    "- Colab: https://colab.research.google.com/drive/1KKugoFyUdydYC0XRyddcROzfQdMwDcnO?usp=sharing#scrollTo=CS7HVr3qLQGx\n",
    "\n",
    "The learning problem boils down to an edge prediction task in which we predict edges between nodes. We set this up as an homogeneous graph, where there is no distinction between user nodes and movie nodes. The edges in our data are modelled as interaction matrix. An edge represents a ratings of a users for a movie. It can be read as (user) -[rated]-> (movie). We need to transform the interaction matrix to an adjency matrix as shown below\n",
    "\n",
    "<img src=\"files/InteractionToAdjecency.png\" width=\"600\" style=\"display=block; margin:auto\"/>\n"
   ]
  },
  {
   "cell_type": "code",
   "execution_count": 1,
   "metadata": {},
   "outputs": [],
   "source": [
    "from matplotlib import pyplot as plt\n",
    "import numpy as np\n",
    "import pandas as pd\n",
    "import random\n",
    "\n",
    "from sklearn.preprocessing import LabelEncoder\n",
    "from sklearn.model_selection import train_test_split\n",
    "\n",
    "from neo4j import GraphDatabase\n",
    "from neo4_connection import USER, PWD, URL\n",
    "\n",
    "import torch\n",
    "from torch import nn, optim, Tensor\n",
    "\n",
    "from torch_sparse import SparseTensor, matmul\n",
    "\n",
    "from torch_geometric.utils import structured_negative_sampling\n",
    "from torch_geometric.data import download_url, extract_zip\n",
    "from torch_geometric.nn.conv.gcn_conv import gcn_norm\n",
    "from torch_geometric.nn.conv import MessagePassing\n",
    "from torch_geometric.typing import Adj"
   ]
  },
  {
   "cell_type": "code",
   "execution_count": 2,
   "metadata": {},
   "outputs": [
    {
     "data": {
      "text/plain": [
       "device(type='cpu')"
      ]
     },
     "execution_count": 2,
     "metadata": {},
     "output_type": "execute_result"
    }
   ],
   "source": [
    "device = torch.device('cuda' if torch.cuda.is_available() else 'cpu')\n",
    "device"
   ]
  },
  {
   "cell_type": "markdown",
   "metadata": {},
   "source": [
    "## Load data"
   ]
  },
  {
   "cell_type": "code",
   "execution_count": 3,
   "metadata": {},
   "outputs": [],
   "source": [
    "driver = GraphDatabase.driver(uri=URL, auth=(USER, PWD))\n",
    "\n",
    "def fetch_data(query):\n",
    "  with driver.session() as session:\n",
    "    result = session.run(query)\n",
    "    return pd.DataFrame([r.values() for r in result], columns=result.keys())"
   ]
  },
  {
   "cell_type": "code",
   "execution_count": 4,
   "metadata": {},
   "outputs": [
    {
     "name": "stdout",
     "output_type": "stream",
     "text": [
      "<class 'pandas.core.frame.DataFrame'>\n",
      "RangeIndex: 100004 entries, 0 to 100003\n",
      "Data columns (total 3 columns):\n",
      " #   Column   Non-Null Count   Dtype  \n",
      "---  ------   --------------   -----  \n",
      " 0   userId   100004 non-null  int64  \n",
      " 1   movieId  100004 non-null  int64  \n",
      " 2   rating   100004 non-null  float64\n",
      "dtypes: float64(1), int64(2)\n",
      "memory usage: 2.3 MB\n"
     ]
    }
   ],
   "source": [
    "query = \"\"\"\n",
    "MATCH (u:User) -[r:RATED]-> (m:Movie)\n",
    "RETURN u.userId AS userId, \n",
    "    m.movieId AS movieId, \n",
    "    r.rating AS rating\n",
    "ORDER BY userId, movieId\n",
    "\"\"\"\n",
    "\n",
    "df = fetch_data(query)\n",
    "df.info()"
   ]
  },
  {
   "cell_type": "code",
   "execution_count": 5,
   "metadata": {},
   "outputs": [],
   "source": [
    "assert len(df) == 100004, 'Query did not return the expected 100004 records!'"
   ]
  },
  {
   "cell_type": "code",
   "execution_count": 6,
   "metadata": {},
   "outputs": [
    {
     "data": {
      "text/html": [
       "<div>\n",
       "<style scoped>\n",
       "    .dataframe tbody tr th:only-of-type {\n",
       "        vertical-align: middle;\n",
       "    }\n",
       "\n",
       "    .dataframe tbody tr th {\n",
       "        vertical-align: top;\n",
       "    }\n",
       "\n",
       "    .dataframe thead th {\n",
       "        text-align: right;\n",
       "    }\n",
       "</style>\n",
       "<table border=\"1\" class=\"dataframe\">\n",
       "  <thead>\n",
       "    <tr style=\"text-align: right;\">\n",
       "      <th></th>\n",
       "      <th>userId</th>\n",
       "      <th>movieId</th>\n",
       "      <th>rating</th>\n",
       "    </tr>\n",
       "  </thead>\n",
       "  <tbody>\n",
       "    <tr>\n",
       "      <th>0</th>\n",
       "      <td>1</td>\n",
       "      <td>31</td>\n",
       "      <td>2.5</td>\n",
       "    </tr>\n",
       "    <tr>\n",
       "      <th>1</th>\n",
       "      <td>1</td>\n",
       "      <td>1029</td>\n",
       "      <td>3.0</td>\n",
       "    </tr>\n",
       "    <tr>\n",
       "      <th>2</th>\n",
       "      <td>1</td>\n",
       "      <td>1061</td>\n",
       "      <td>3.0</td>\n",
       "    </tr>\n",
       "    <tr>\n",
       "      <th>3</th>\n",
       "      <td>1</td>\n",
       "      <td>1129</td>\n",
       "      <td>2.0</td>\n",
       "    </tr>\n",
       "    <tr>\n",
       "      <th>4</th>\n",
       "      <td>1</td>\n",
       "      <td>1172</td>\n",
       "      <td>4.0</td>\n",
       "    </tr>\n",
       "  </tbody>\n",
       "</table>\n",
       "</div>"
      ],
      "text/plain": [
       "   userId  movieId  rating\n",
       "0       1       31     2.5\n",
       "1       1     1029     3.0\n",
       "2       1     1061     3.0\n",
       "3       1     1129     2.0\n",
       "4       1     1172     4.0"
      ]
     },
     "execution_count": 6,
     "metadata": {},
     "output_type": "execute_result"
    }
   ],
   "source": [
    "df.head()"
   ]
  },
  {
   "cell_type": "code",
   "execution_count": 7,
   "metadata": {},
   "outputs": [
    {
     "data": {
      "text/plain": [
       "4.0    28750\n",
       "3.0    20064\n",
       "5.0    15095\n",
       "3.5    10538\n",
       "4.5     7723\n",
       "2.0     7271\n",
       "2.5     4449\n",
       "1.0     3326\n",
       "1.5     1687\n",
       "0.5     1101\n",
       "Name: rating, dtype: int64"
      ]
     },
     "execution_count": 7,
     "metadata": {},
     "output_type": "execute_result"
    }
   ],
   "source": [
    "df['rating'].value_counts()"
   ]
  },
  {
   "cell_type": "code",
   "execution_count": 8,
   "metadata": {},
   "outputs": [
    {
     "name": "stdout",
     "output_type": "stream",
     "text": [
      "# Users: 671\n",
      "# Movies: 9066\n",
      "# Nodes: 9737\n"
     ]
    }
   ],
   "source": [
    "n_users = df['userId'].nunique()\n",
    "n_movies = df['movieId'].nunique()\n",
    "n_nodes = n_users + n_movies\n",
    "\n",
    "print('# Users:', n_users)\n",
    "print('# Movies:', n_movies)\n",
    "print('# Nodes:', n_nodes)"
   ]
  },
  {
   "cell_type": "markdown",
   "metadata": {},
   "source": [
    "## Preprocess Data"
   ]
  },
  {
   "cell_type": "code",
   "execution_count": 9,
   "metadata": {},
   "outputs": [
    {
     "data": {
      "text/html": [
       "<div>\n",
       "<style scoped>\n",
       "    .dataframe tbody tr th:only-of-type {\n",
       "        vertical-align: middle;\n",
       "    }\n",
       "\n",
       "    .dataframe tbody tr th {\n",
       "        vertical-align: top;\n",
       "    }\n",
       "\n",
       "    .dataframe thead th {\n",
       "        text-align: right;\n",
       "    }\n",
       "</style>\n",
       "<table border=\"1\" class=\"dataframe\">\n",
       "  <thead>\n",
       "    <tr style=\"text-align: right;\">\n",
       "      <th></th>\n",
       "      <th>userId</th>\n",
       "      <th>movieId</th>\n",
       "      <th>rating</th>\n",
       "    </tr>\n",
       "  </thead>\n",
       "  <tbody>\n",
       "    <tr>\n",
       "      <th>min</th>\n",
       "      <td>0.0</td>\n",
       "      <td>0.0</td>\n",
       "      <td>0.5</td>\n",
       "    </tr>\n",
       "    <tr>\n",
       "      <th>max</th>\n",
       "      <td>670.0</td>\n",
       "      <td>9065.0</td>\n",
       "      <td>5.0</td>\n",
       "    </tr>\n",
       "  </tbody>\n",
       "</table>\n",
       "</div>"
      ],
      "text/plain": [
       "     userId  movieId  rating\n",
       "min     0.0      0.0     0.5\n",
       "max   670.0   9065.0     5.0"
      ]
     },
     "execution_count": 9,
     "metadata": {},
     "output_type": "execute_result"
    }
   ],
   "source": [
    "user_encoder = LabelEncoder()\n",
    "movie_encoder = LabelEncoder()\n",
    "df['userId'] = user_encoder.fit_transform(df['userId'].values)\n",
    "df['movieId'] = movie_encoder.fit_transform(df['movieId'].values)\n",
    "\n",
    "df.describe().loc[['min', 'max']]"
   ]
  },
  {
   "cell_type": "code",
   "execution_count": 10,
   "metadata": {},
   "outputs": [
    {
     "name": "stdout",
     "output_type": "stream",
     "text": [
      "# Positive samples: 51568\n",
      "# Negative samples: 48436\n"
     ]
    }
   ],
   "source": [
    "POSITIVE_THRESHOLD = 4\n",
    "df_pos_samples = df[df['rating'] >= POSITIVE_THRESHOLD]\n",
    "df_neg_samples = df[df['rating'] < POSITIVE_THRESHOLD]\n",
    "\n",
    "print('# Positive samples:', len(df_pos_samples))\n",
    "print('# Negative samples:', len(df_neg_samples))"
   ]
  },
  {
   "cell_type": "code",
   "execution_count": 11,
   "metadata": {},
   "outputs": [
    {
     "name": "stdout",
     "output_type": "stream",
     "text": [
      "Train: (41254, 3)\n",
      "Val: (5157, 3)\n",
      "Test: (5157, 3)\n"
     ]
    }
   ],
   "source": [
    "df_train, df_val = train_test_split(df_pos_samples, test_size=0.2, random_state=33)\n",
    "df_test, df_val = train_test_split(df_val, test_size=0.5, random_state=33)\n",
    "\n",
    "print('Train:', df_train.shape)\n",
    "print('Val:', df_val.shape)\n",
    "print('Test:', df_test.shape)"
   ]
  },
  {
   "cell_type": "code",
   "execution_count": 12,
   "metadata": {},
   "outputs": [
    {
     "name": "stdout",
     "output_type": "stream",
     "text": [
      "Train edges: torch.Size([2, 41254])\n",
      "Val edges: torch.Size([2, 5157])\n",
      "Test edges: torch.Size([2, 5157])\n"
     ]
    }
   ],
   "source": [
    "train_edge_index = torch.Tensor(df_train[['userId', 'movieId']].values).to(torch.long).swapaxes(1, 0)\n",
    "val_edge_index = torch.Tensor(df_val[['userId', 'movieId']].values).to(torch.long).swapaxes(1, 0)\n",
    "test_edge_index = torch.Tensor(df_test[['userId', 'movieId']].values).to(torch.long).swapaxes(1, 0)\n",
    "\n",
    "print('Train edges:', train_edge_index.size())\n",
    "print('Val edges:', val_edge_index.size())\n",
    "print('Test edges:', test_edge_index.size())"
   ]
  },
  {
   "cell_type": "code",
   "execution_count": 13,
   "metadata": {},
   "outputs": [
    {
     "name": "stdout",
     "output_type": "stream",
     "text": [
      "Train SparseTensor (Adj. Matrix): SparseTensor(row=tensor([  0,   0,   0,  ..., 670, 670, 670]),\n",
      "             col=tensor([ 931, 1515, 1665,  ..., 4412, 4417, 4597]),\n",
      "             size=(9737, 9737), nnz=41254, density=0.04%)\n",
      "Val SparseTensor (Adj. Matrix): SparseTensor(row=tensor([  1,   1,   1,  ..., 670, 670, 670]),\n",
      "             col=tensor([  16,   37,  100,  ..., 3800, 3810, 4546]),\n",
      "             size=(9737, 9737), nnz=5157, density=0.01%)\n",
      "Test SparseTensor (Adj. Matrix): SparseTensor(row=tensor([  1,   1,   1,  ..., 670, 670, 670]),\n",
      "             col=tensor([ 266,  315,  523,  ..., 2147, 2374, 4413]),\n",
      "             size=(9737, 9737), nnz=5157, density=0.01%)\n"
     ]
    }
   ],
   "source": [
    "# convert edge indices into Sparse Tensors: https://pytorch-geometric.readthedocs.io/en/latest/notes/sparse_tensor.html\n",
    "train_sparse_edge_index = SparseTensor(row=train_edge_index[0], col=train_edge_index[1], sparse_sizes=(n_nodes, n_nodes))\n",
    "val_sparse_edge_index = SparseTensor(row=val_edge_index[0], col=val_edge_index[1], sparse_sizes=(n_nodes, n_nodes))\n",
    "test_sparse_edge_index = SparseTensor(row=test_edge_index[0], col=test_edge_index[1], sparse_sizes=(n_nodes, n_nodes))\n",
    "\n",
    "print('Train SparseTensor (Adj. Matrix):', train_sparse_edge_index)\n",
    "print('Val SparseTensor (Adj. Matrix):', val_sparse_edge_index)\n",
    "print('Test SparseTensor (Adj. Matrix):', test_sparse_edge_index)"
   ]
  },
  {
   "cell_type": "markdown",
   "metadata": {},
   "source": [
    "## Negative sampling"
   ]
  },
  {
   "cell_type": "code",
   "execution_count": 14,
   "metadata": {},
   "outputs": [
    {
     "data": {
      "text/plain": [
       "(tensor([529, 547, 251, 640]),\n",
       " tensor([232, 498, 441, 121]),\n",
       " tensor([5517, 2774, 4221, 2701]))"
      ]
     },
     "execution_count": 14,
     "metadata": {},
     "output_type": "execute_result"
    }
   ],
   "source": [
    "# function which random samples a mini-batch of positive and negative samples\n",
    "def sample_mini_batch(batch_size:int, edge_index:Tensor):\n",
    "    \"\"\" Randomly samples indices of a minibatch given an adjacency matrix.\n",
    "\n",
    "    Args:\n",
    "        batch_size (int): minibatch size\n",
    "        edge_index (torch.Tensor): 2 by N list of edges\n",
    "\n",
    "    Returns:\n",
    "        tuple: user indices, positive item indices, negative item indices\n",
    "    \"\"\"\n",
    "    edges = structured_negative_sampling(edge_index)\n",
    "    edges = torch.stack(edges, dim=0)\n",
    "    indices = random.choices(\n",
    "        [i for i in range(edges[0].shape[0])], k=batch_size)\n",
    "    batch = edges[:, indices]\n",
    "    user_indices, pos_item_indices, neg_item_indices = batch[0], batch[1], batch[2]\n",
    "    return user_indices, pos_item_indices, neg_item_indices\n",
    "\n",
    "sample_mini_batch(4, train_edge_index)"
   ]
  },
  {
   "cell_type": "markdown",
   "metadata": {},
   "source": [
    "## Model: Light GCN "
   ]
  },
  {
   "cell_type": "code",
   "execution_count": 15,
   "metadata": {},
   "outputs": [
    {
     "data": {
      "text/plain": [
       "tensor([[ 0.0575, -0.0525,  0.1055, -0.1097, -0.1091,  0.1444, -0.0529,  0.0435,\n",
       "          0.2712, -0.0619, -0.1214, -0.0851, -0.1528,  0.0478, -0.1077, -0.1112,\n",
       "          0.0326, -0.0127,  0.0210,  0.1632, -0.1000,  0.0599,  0.2465, -0.0082,\n",
       "         -0.0936, -0.1190, -0.0160, -0.0679,  0.1039, -0.1608, -0.0124, -0.0162],\n",
       "        [-0.1330,  0.0065,  0.1256,  0.0992, -0.0303, -0.2325, -0.0153, -0.0755,\n",
       "         -0.0401, -0.0437, -0.0390, -0.0073,  0.0287, -0.1618, -0.0100,  0.0227,\n",
       "          0.0029,  0.1275,  0.0953,  0.0420,  0.0176,  0.0060, -0.0549,  0.2384,\n",
       "         -0.0186, -0.0182, -0.0204,  0.0057,  0.0918,  0.0134, -0.1610,  0.0522]],\n",
       "       grad_fn=<IndexBackward0>)"
      ]
     },
     "execution_count": 15,
     "metadata": {},
     "output_type": "execute_result"
    }
   ],
   "source": [
    "# defines LightGCN model\n",
    "class LightGCN(MessagePassing):\n",
    "    \"\"\"LightGCN Model as proposed in https://arxiv.org/abs/2002.02126\n",
    "    \"\"\"\n",
    "\n",
    "    def __init__(self, num_users:int, num_items:int, embedding_dim:int=8, K:int=3, add_self_loops:bool=False):\n",
    "        \"\"\"Initializes LightGCN Model\n",
    "\n",
    "        Args:\n",
    "            num_users (int): Number of users\n",
    "            num_items (int): Number of items\n",
    "            embedding_dim (int, optional): Dimensionality of embeddings. Defaults to 8.\n",
    "            K (int, optional): Number of message passing layers. Defaults to 3.\n",
    "            add_self_loops (bool, optional): Whether to add self loops for message passing. Defaults to False.\n",
    "        \"\"\"\n",
    "        super().__init__()\n",
    "        self.num_users = num_users\n",
    "        self.num_items = num_items\n",
    "        self.embedding_dim = embedding_dim\n",
    "        self.K = K\n",
    "        self.add_self_loops = add_self_loops\n",
    "\n",
    "        self.users_emb = nn.Embedding(\n",
    "            num_embeddings=self.num_users, embedding_dim=self.embedding_dim) # e_u^0\n",
    "        self.items_emb = nn.Embedding(\n",
    "            num_embeddings=self.num_items, embedding_dim=self.embedding_dim) # e_i^0\n",
    "\n",
    "        nn.init.normal_(self.users_emb.weight, std=0.1)\n",
    "        nn.init.normal_(self.items_emb.weight, std=0.1)\n",
    "\n",
    "    def forward(self, edge_index: SparseTensor):\n",
    "        \"\"\"Forward propagation of LightGCN Model.\n",
    "\n",
    "        Args:\n",
    "            edge_index (SparseTensor): adjacency matrix\n",
    "\n",
    "        Returns:\n",
    "            tuple (Tensor): e_u_k, e_u_0, e_i_k, e_i_0\n",
    "        \"\"\"\n",
    "        # compute \\tilde{A}: symmetrically normalized adjacency matrix\n",
    "        edge_index_norm = gcn_norm(\n",
    "            edge_index, add_self_loops=self.add_self_loops)\n",
    "\n",
    "        emb_0 = torch.cat([self.users_emb.weight, self.items_emb.weight]) # E^0\n",
    "        embs = [emb_0]\n",
    "        emb_k = emb_0\n",
    "\n",
    "        # multi-scale diffusion\n",
    "        for i in range(self.K):\n",
    "            emb_k = self.propagate(edge_index_norm, x=emb_k)\n",
    "            embs.append(emb_k)\n",
    "\n",
    "        embs = torch.stack(embs, dim=1)\n",
    "        emb_final = torch.mean(embs, dim=1) # E^K\n",
    "\n",
    "        users_emb_final, items_emb_final = torch.split(\n",
    "            emb_final, [self.num_users, self.num_items]) # splits into e_u^K and e_i^K\n",
    "\n",
    "        # returns e_u^K, e_u^0, e_i^K, e_i^0\n",
    "        return users_emb_final, self.users_emb.weight, items_emb_final, self.items_emb.weight\n",
    "\n",
    "    def message(self, x_j: Tensor) -> Tensor:\n",
    "        return x_j\n",
    "\n",
    "    def message_and_aggregate(self, adj_t: SparseTensor, x: Tensor) -> Tensor:\n",
    "        # computes \\tilde{A} @ x\n",
    "        return matmul(adj_t, x)\n",
    "\n",
    "model = LightGCN(num_users=n_users, num_items=n_movies, embedding_dim=32)\n",
    "model.users_emb.weight[[10, 12]]"
   ]
  },
  {
   "cell_type": "markdown",
   "metadata": {},
   "source": [
    "## Loss function (PBR)"
   ]
  },
  {
   "cell_type": "code",
   "execution_count": 16,
   "metadata": {},
   "outputs": [],
   "source": [
    "def bpr_loss(users_emb_final, users_emb_0, pos_items_emb_final, pos_items_emb_0, neg_items_emb_final, neg_items_emb_0, lambda_val):\n",
    "    \"\"\"Bayesian Personalized Ranking Loss as described in https://arxiv.org/abs/1205.2618\n",
    "\n",
    "    Args:\n",
    "        users_emb_final (torch.Tensor): e_u_k\n",
    "        users_emb_0 (torch.Tensor): e_u_0\n",
    "        pos_items_emb_final (torch.Tensor): positive e_i_k\n",
    "        pos_items_emb_0 (torch.Tensor): positive e_i_0\n",
    "        neg_items_emb_final (torch.Tensor): negative e_i_k\n",
    "        neg_items_emb_0 (torch.Tensor): negative e_i_0\n",
    "        lambda_val (float): lambda value for regularization loss term\n",
    "\n",
    "    Returns:\n",
    "        torch.Tensor: scalar bpr loss value\n",
    "    \"\"\"\n",
    "    reg_loss = lambda_val * (users_emb_0.norm(2).pow(2) +\n",
    "                             pos_items_emb_0.norm(2).pow(2) +\n",
    "                             neg_items_emb_0.norm(2).pow(2)) # L2 loss\n",
    "\n",
    "    pos_scores = torch.mul(users_emb_final, pos_items_emb_final)\n",
    "    pos_scores = torch.sum(pos_scores, dim=-1) # predicted scores of positive samples\n",
    "    neg_scores = torch.mul(users_emb_final, neg_items_emb_final)\n",
    "    neg_scores = torch.sum(neg_scores, dim=-1) # predicted scores of negative samples\n",
    "\n",
    "    loss = -torch.mean(torch.nn.functional.softplus(pos_scores - neg_scores)) + reg_loss\n",
    "\n",
    "    return loss"
   ]
  },
  {
   "cell_type": "markdown",
   "metadata": {},
   "source": [
    "## Evaluation Metrics"
   ]
  },
  {
   "cell_type": "code",
   "execution_count": 17,
   "metadata": {},
   "outputs": [],
   "source": [
    "# helper function to get N_u\n",
    "def get_user_positive_items(edge_index):\n",
    "    \"\"\"Generates dictionary of positive items for each user\n",
    "\n",
    "    Args:\n",
    "        edge_index (torch.Tensor): 2 by N list of edges\n",
    "\n",
    "    Returns:\n",
    "        dict: dictionary of positive items for each user\n",
    "    \"\"\"\n",
    "    user_pos_items = {}\n",
    "    for i in range(edge_index.shape[1]):\n",
    "        user = edge_index[0][i].item()\n",
    "        item = edge_index[1][i].item()\n",
    "        if user not in user_pos_items:\n",
    "            user_pos_items[user] = []\n",
    "        user_pos_items[user].append(item)\n",
    "    return user_pos_items"
   ]
  },
  {
   "cell_type": "code",
   "execution_count": 18,
   "metadata": {},
   "outputs": [],
   "source": [
    "# computes recall@K and precision@K\n",
    "def RecallPrecision_ATk(groundTruth, r, k):\n",
    "    \"\"\"Computers recall @ k and precision @ k\n",
    "\n",
    "    Args:\n",
    "        groundTruth (list): list of lists containing highly rated items of each user\n",
    "        r (list): list of lists indicating whether each top k item recommended to each user\n",
    "            is a top k ground truth item or not\n",
    "        k (int): determines the top k items to compute precision and recall on\n",
    "\n",
    "    Returns:\n",
    "        tuple: recall @ k, precision @ k\n",
    "    \"\"\"\n",
    "    num_correct_pred = torch.sum(r, dim=-1)  # number of correctly predicted items per user\n",
    "    # number of items liked by each user in the test set\n",
    "    user_num_liked = torch.Tensor([len(groundTruth[i])\n",
    "                                  for i in range(len(groundTruth))])\n",
    "    recall = torch.mean(num_correct_pred / user_num_liked)\n",
    "    precision = torch.mean(num_correct_pred) / k\n",
    "    return recall.item(), precision.item()"
   ]
  },
  {
   "cell_type": "code",
   "execution_count": 19,
   "metadata": {},
   "outputs": [],
   "source": [
    "# computes NDCG@K\n",
    "def NDCGatK_r(groundTruth, r, k):\n",
    "    \"\"\"Computes Normalized Discounted Cumulative Gain (NDCG) @ k\n",
    "\n",
    "    Args:\n",
    "        groundTruth (list): list of lists containing highly rated items of each user\n",
    "        r (list): list of lists indicating whether each top k item recommended to each user\n",
    "            is a top k ground truth item or not\n",
    "        k (int): determines the top k items to compute ndcg on\n",
    "\n",
    "    Returns:\n",
    "        float: ndcg @ k\n",
    "    \"\"\"\n",
    "    assert len(r) == len(groundTruth)\n",
    "\n",
    "    test_matrix = torch.zeros((len(r), k))\n",
    "\n",
    "    for i, items in enumerate(groundTruth):\n",
    "        length = min(len(items), k)\n",
    "        test_matrix[i, :length] = 1\n",
    "    max_r = test_matrix\n",
    "    idcg = torch.sum(max_r * 1. / torch.log2(torch.arange(2, k + 2)), axis=1)\n",
    "    dcg = r * (1. / torch.log2(torch.arange(2, k + 2)))\n",
    "    dcg = torch.sum(dcg, axis=1)\n",
    "    idcg[idcg == 0.] = 1.\n",
    "    ndcg = dcg / idcg\n",
    "    ndcg[torch.isnan(ndcg)] = 0.\n",
    "    return torch.mean(ndcg).item()"
   ]
  },
  {
   "cell_type": "code",
   "execution_count": 20,
   "metadata": {},
   "outputs": [],
   "source": [
    "# wrapper function to get evaluation metrics\n",
    "def get_metrics(model, edge_index, exclude_edge_indices, k):\n",
    "    \"\"\"Computes the evaluation metrics: recall, precision, and ndcg @ k\n",
    "\n",
    "    Args:\n",
    "        model (LighGCN): lightgcn model\n",
    "        edge_index (torch.Tensor): 2 by N list of edges for split to evaluate\n",
    "        exclude_edge_indices ([type]): 2 by N list of edges for split to discount from evaluation\n",
    "        k (int): determines the top k items to compute metrics on\n",
    "\n",
    "    Returns:\n",
    "        tuple: recall @ k, precision @ k, ndcg @ k\n",
    "    \"\"\"\n",
    "    user_embedding = model.users_emb.weight\n",
    "    item_embedding = model.items_emb.weight\n",
    "\n",
    "    # get ratings between every user and item - shape is num users x num movies\n",
    "    rating = torch.matmul(user_embedding, item_embedding.T)\n",
    "\n",
    "    for exclude_edge_index in exclude_edge_indices:\n",
    "        # gets all the positive items for each user from the edge index\n",
    "        user_pos_items = get_user_positive_items(exclude_edge_index)\n",
    "        # get coordinates of all edges to exclude\n",
    "        exclude_users = []\n",
    "        exclude_items = []\n",
    "        for user, items in user_pos_items.items():\n",
    "            exclude_users.extend([user] * len(items))\n",
    "            exclude_items.extend(items)\n",
    "\n",
    "        # set ratings of excluded edges to large negative value\n",
    "        rating[exclude_users, exclude_items] = -(1 << 10)\n",
    "\n",
    "    # get the top k recommended items for each user\n",
    "    _, top_K_items = torch.topk(rating, k=k)\n",
    "\n",
    "    # get all unique users in evaluated split\n",
    "    users = edge_index[0].unique()\n",
    "\n",
    "    test_user_pos_items = get_user_positive_items(edge_index)\n",
    "\n",
    "    # convert test user pos items dictionary into a list\n",
    "    test_user_pos_items_list = [\n",
    "        test_user_pos_items[user.item()] for user in users]\n",
    "\n",
    "    # determine the correctness of topk predictions\n",
    "    r = []\n",
    "    for user in users:\n",
    "        ground_truth_items = test_user_pos_items[user.item()]\n",
    "        label = list(map(lambda x: x in ground_truth_items, top_K_items[user]))\n",
    "        r.append(label)\n",
    "    r = torch.Tensor(np.array(r).astype('float'))\n",
    "\n",
    "    recall, precision = RecallPrecision_ATk(test_user_pos_items_list, r, k)\n",
    "    ndcg = NDCGatK_r(test_user_pos_items_list, r, k)\n",
    "\n",
    "    return recall, precision, ndcg"
   ]
  },
  {
   "cell_type": "code",
   "execution_count": 21,
   "metadata": {},
   "outputs": [],
   "source": [
    "# wrapper function to evaluate model\n",
    "def evaluation(model, edge_index, sparse_edge_index, exclude_edge_indices, k, lambda_val):\n",
    "    \"\"\"Evaluates model loss and metrics including recall, precision, ndcg @ k\n",
    "\n",
    "    Args:\n",
    "        model (LighGCN): lightgcn model\n",
    "        edge_index (torch.Tensor): 2 by N list of edges for split to evaluate\n",
    "        sparse_edge_index (sparseTensor): sparse adjacency matrix for split to evaluate\n",
    "        exclude_edge_indices ([type]): 2 by N list of edges for split to discount from evaluation\n",
    "        k (int): determines the top k items to compute metrics on\n",
    "        lambda_val (float): determines lambda for bpr loss\n",
    "\n",
    "    Returns:\n",
    "        tuple: bpr loss, recall @ k, precision @ k, ndcg @ k\n",
    "    \"\"\"\n",
    "    # get embeddings\n",
    "    users_emb_final, users_emb_0, items_emb_final, items_emb_0 = model.forward(\n",
    "        sparse_edge_index)\n",
    "    edges = structured_negative_sampling(\n",
    "        edge_index, contains_neg_self_loops=False)\n",
    "    user_indices, pos_item_indices, neg_item_indices = edges[0], edges[1], edges[2]\n",
    "    users_emb_final, users_emb_0 = users_emb_final[user_indices], users_emb_0[user_indices]\n",
    "    pos_items_emb_final, pos_items_emb_0 = items_emb_final[\n",
    "        pos_item_indices], items_emb_0[pos_item_indices]\n",
    "    neg_items_emb_final, neg_items_emb_0 = items_emb_final[\n",
    "        neg_item_indices], items_emb_0[neg_item_indices]\n",
    "\n",
    "    loss = bpr_loss(users_emb_final, users_emb_0, pos_items_emb_final, pos_items_emb_0,\n",
    "                    neg_items_emb_final, neg_items_emb_0, lambda_val).item()\n",
    "\n",
    "    recall, precision, ndcg = get_metrics(\n",
    "        model, edge_index, exclude_edge_indices, k)\n",
    "\n",
    "    return loss, recall, precision, ndcg"
   ]
  },
  {
   "cell_type": "markdown",
   "metadata": {},
   "source": [
    "## Train"
   ]
  },
  {
   "cell_type": "code",
   "execution_count": 22,
   "metadata": {},
   "outputs": [],
   "source": [
    "# define contants\n",
    "ITERATIONS = 10000\n",
    "BATCH_SIZE = 1024\n",
    "LR = 1e-3\n",
    "ITERS_PER_EVAL = 200\n",
    "ITERS_PER_LR_DECAY = 200\n",
    "K = 20\n",
    "LAMBDA = 1e-6"
   ]
  },
  {
   "cell_type": "code",
   "execution_count": 23,
   "metadata": {},
   "outputs": [
    {
     "name": "stdout",
     "output_type": "stream",
     "text": [
      "Using device cpu.\n"
     ]
    }
   ],
   "source": [
    "# setup\n",
    "device = torch.device('cuda' if torch.cuda.is_available() else 'cpu')\n",
    "print(f\"Using device {device}.\")\n",
    "\n",
    "\n",
    "model = model.to(device)\n",
    "model.train()\n",
    "\n",
    "optimizer = optim.Adam(model.parameters(), lr=LR)\n",
    "scheduler = optim.lr_scheduler.ExponentialLR(optimizer, gamma=0.95)\n",
    "\n",
    "# edge_index = edge_index.to(device)\n",
    "train_edge_index = train_edge_index.to(device)\n",
    "train_sparse_edge_index = train_sparse_edge_index.to(device)\n",
    "\n",
    "val_edge_index = val_edge_index.to(device)\n",
    "val_sparse_edge_index = val_sparse_edge_index.to(device)"
   ]
  },
  {
   "cell_type": "code",
   "execution_count": 24,
   "metadata": {},
   "outputs": [
    {
     "name": "stdout",
     "output_type": "stream",
     "text": [
      "[Iteration 0/10000]\ttrain_loss: -0.69226\tval_loss: -0.68817             \tval_recall@20: 0.00097\tval_precision@20: 0.00058\tval_ndcg@20: 0.001\n",
      "[Iteration 200/10000]\ttrain_loss: -0.69733\tval_loss: -0.69107             \tval_recall@20: 0.0342\tval_precision@20: 0.01159\tval_ndcg@20: 0.02226\n",
      "[Iteration 400/10000]\ttrain_loss: -0.78463\tval_loss: -0.7488             \tval_recall@20: 0.12937\tval_precision@20: 0.03816\tval_ndcg@20: 0.08846\n",
      "[Iteration 600/10000]\ttrain_loss: -1.18044\tval_loss: -1.00708             \tval_recall@20: 0.13289\tval_precision@20: 0.0394\tval_ndcg@20: 0.09224\n",
      "[Iteration 800/10000]\ttrain_loss: -1.97657\tval_loss: -1.56218             \tval_recall@20: 0.13065\tval_precision@20: 0.04015\tval_ndcg@20: 0.09301\n",
      "[Iteration 1000/10000]\ttrain_loss: -2.99483\tval_loss: -2.33591             \tval_recall@20: 0.13255\tval_precision@20: 0.04031\tval_ndcg@20: 0.09317\n",
      "[Iteration 1200/10000]\ttrain_loss: -4.29842\tval_loss: -3.20983             \tval_recall@20: 0.13546\tval_precision@20: 0.04089\tval_ndcg@20: 0.09404\n",
      "[Iteration 1400/10000]\ttrain_loss: -5.32321\tval_loss: -4.19734             \tval_recall@20: 0.12998\tval_precision@20: 0.04056\tval_ndcg@20: 0.09252\n",
      "[Iteration 1600/10000]\ttrain_loss: -6.94537\tval_loss: -5.22429             \tval_recall@20: 0.13509\tval_precision@20: 0.04123\tval_ndcg@20: 0.09418\n",
      "[Iteration 1800/10000]\ttrain_loss: -8.13708\tval_loss: -6.13472             \tval_recall@20: 0.1336\tval_precision@20: 0.04123\tval_ndcg@20: 0.09414\n",
      "[Iteration 2000/10000]\ttrain_loss: -9.30051\tval_loss: -7.08612             \tval_recall@20: 0.13386\tval_precision@20: 0.04123\tval_ndcg@20: 0.09399\n",
      "[Iteration 2200/10000]\ttrain_loss: -10.5585\tval_loss: -8.10424             \tval_recall@20: 0.13214\tval_precision@20: 0.04123\tval_ndcg@20: 0.09339\n",
      "[Iteration 2400/10000]\ttrain_loss: -12.16249\tval_loss: -9.1039             \tval_recall@20: 0.13306\tval_precision@20: 0.04098\tval_ndcg@20: 0.09376\n",
      "[Iteration 2600/10000]\ttrain_loss: -13.26667\tval_loss: -10.00339             \tval_recall@20: 0.13472\tval_precision@20: 0.04156\tval_ndcg@20: 0.09434\n",
      "[Iteration 2800/10000]\ttrain_loss: -14.61961\tval_loss: -10.98324             \tval_recall@20: 0.13523\tval_precision@20: 0.04164\tval_ndcg@20: 0.09426\n",
      "[Iteration 3000/10000]\ttrain_loss: -15.64872\tval_loss: -11.92101             \tval_recall@20: 0.13402\tval_precision@20: 0.04123\tval_ndcg@20: 0.09408\n",
      "[Iteration 3200/10000]\ttrain_loss: -16.94682\tval_loss: -12.73573             \tval_recall@20: 0.13232\tval_precision@20: 0.04098\tval_ndcg@20: 0.09333\n",
      "[Iteration 3400/10000]\ttrain_loss: -18.24275\tval_loss: -13.63505             \tval_recall@20: 0.13509\tval_precision@20: 0.04147\tval_ndcg@20: 0.09445\n",
      "[Iteration 3600/10000]\ttrain_loss: -18.71111\tval_loss: -14.50249             \tval_recall@20: 0.13534\tval_precision@20: 0.04147\tval_ndcg@20: 0.09418\n",
      "[Iteration 3800/10000]\ttrain_loss: -20.42647\tval_loss: -15.25562             \tval_recall@20: 0.13561\tval_precision@20: 0.04164\tval_ndcg@20: 0.0943\n",
      "[Iteration 4000/10000]\ttrain_loss: -21.42345\tval_loss: -16.15448             \tval_recall@20: 0.1345\tval_precision@20: 0.04114\tval_ndcg@20: 0.09378\n",
      "[Iteration 4200/10000]\ttrain_loss: -22.87933\tval_loss: -16.76841             \tval_recall@20: 0.13517\tval_precision@20: 0.04139\tval_ndcg@20: 0.09406\n",
      "[Iteration 4400/10000]\ttrain_loss: -22.18061\tval_loss: -17.43885             \tval_recall@20: 0.13515\tval_precision@20: 0.04139\tval_ndcg@20: 0.09404\n",
      "[Iteration 4600/10000]\ttrain_loss: -23.98806\tval_loss: -18.26057             \tval_recall@20: 0.13522\tval_precision@20: 0.04147\tval_ndcg@20: 0.09412\n",
      "[Iteration 4800/10000]\ttrain_loss: -25.4021\tval_loss: -18.61452             \tval_recall@20: 0.13504\tval_precision@20: 0.04139\tval_ndcg@20: 0.09412\n",
      "[Iteration 5000/10000]\ttrain_loss: -25.21972\tval_loss: -19.39975             \tval_recall@20: 0.13532\tval_precision@20: 0.04156\tval_ndcg@20: 0.09428\n",
      "[Iteration 5200/10000]\ttrain_loss: -26.40986\tval_loss: -19.82497             \tval_recall@20: 0.1352\tval_precision@20: 0.04147\tval_ndcg@20: 0.09421\n",
      "[Iteration 5400/10000]\ttrain_loss: -26.90588\tval_loss: -20.657             \tval_recall@20: 0.1352\tval_precision@20: 0.04147\tval_ndcg@20: 0.09418\n",
      "[Iteration 5600/10000]\ttrain_loss: -28.46353\tval_loss: -21.51498             \tval_recall@20: 0.13491\tval_precision@20: 0.04147\tval_ndcg@20: 0.09406\n",
      "[Iteration 5800/10000]\ttrain_loss: -28.04409\tval_loss: -21.77251             \tval_recall@20: 0.13503\tval_precision@20: 0.04156\tval_ndcg@20: 0.09421\n",
      "[Iteration 6000/10000]\ttrain_loss: -29.8434\tval_loss: -22.2493             \tval_recall@20: 0.13482\tval_precision@20: 0.04139\tval_ndcg@20: 0.09455\n",
      "[Iteration 6200/10000]\ttrain_loss: -30.25984\tval_loss: -22.93558             \tval_recall@20: 0.1347\tval_precision@20: 0.04131\tval_ndcg@20: 0.09393\n",
      "[Iteration 6400/10000]\ttrain_loss: -31.15367\tval_loss: -23.31756             \tval_recall@20: 0.1347\tval_precision@20: 0.04131\tval_ndcg@20: 0.0942\n",
      "[Iteration 6600/10000]\ttrain_loss: -31.46838\tval_loss: -23.67309             \tval_recall@20: 0.13487\tval_precision@20: 0.04139\tval_ndcg@20: 0.09426\n",
      "[Iteration 6800/10000]\ttrain_loss: -31.79922\tval_loss: -24.10133             \tval_recall@20: 0.13492\tval_precision@20: 0.04147\tval_ndcg@20: 0.09425\n",
      "[Iteration 7000/10000]\ttrain_loss: -31.5599\tval_loss: -24.32106             \tval_recall@20: 0.13505\tval_precision@20: 0.04147\tval_ndcg@20: 0.09431\n",
      "[Iteration 7200/10000]\ttrain_loss: -33.51732\tval_loss: -24.61932             \tval_recall@20: 0.13509\tval_precision@20: 0.04156\tval_ndcg@20: 0.09443\n",
      "[Iteration 7400/10000]\ttrain_loss: -33.2685\tval_loss: -25.16928             \tval_recall@20: 0.13507\tval_precision@20: 0.04156\tval_ndcg@20: 0.0944\n",
      "[Iteration 7600/10000]\ttrain_loss: -31.84063\tval_loss: -25.46849             \tval_recall@20: 0.13544\tval_precision@20: 0.04172\tval_ndcg@20: 0.09456\n",
      "[Iteration 7800/10000]\ttrain_loss: -35.52993\tval_loss: -25.78823             \tval_recall@20: 0.13527\tval_precision@20: 0.04164\tval_ndcg@20: 0.09474\n",
      "[Iteration 8000/10000]\ttrain_loss: -35.49745\tval_loss: -26.33277             \tval_recall@20: 0.13509\tval_precision@20: 0.04156\tval_ndcg@20: 0.09431\n",
      "[Iteration 8200/10000]\ttrain_loss: -34.26444\tval_loss: -26.66838             \tval_recall@20: 0.13527\tval_precision@20: 0.04164\tval_ndcg@20: 0.09471\n",
      "[Iteration 8400/10000]\ttrain_loss: -36.75676\tval_loss: -26.96292             \tval_recall@20: 0.13509\tval_precision@20: 0.04156\tval_ndcg@20: 0.09459\n",
      "[Iteration 8600/10000]\ttrain_loss: -34.65047\tval_loss: -27.43501             \tval_recall@20: 0.13527\tval_precision@20: 0.04164\tval_ndcg@20: 0.09456\n",
      "[Iteration 8800/10000]\ttrain_loss: -34.47803\tval_loss: -27.37043             \tval_recall@20: 0.13509\tval_precision@20: 0.04156\tval_ndcg@20: 0.09467\n",
      "[Iteration 9000/10000]\ttrain_loss: -36.31822\tval_loss: -27.61186             \tval_recall@20: 0.13549\tval_precision@20: 0.0418\tval_ndcg@20: 0.09489\n",
      "[Iteration 9200/10000]\ttrain_loss: -36.42367\tval_loss: -27.99161             \tval_recall@20: 0.13544\tval_precision@20: 0.04172\tval_ndcg@20: 0.0949\n",
      "[Iteration 9400/10000]\ttrain_loss: -37.41055\tval_loss: -28.13967             \tval_recall@20: 0.13544\tval_precision@20: 0.04172\tval_ndcg@20: 0.09449\n",
      "[Iteration 9600/10000]\ttrain_loss: -36.52313\tval_loss: -28.48332             \tval_recall@20: 0.13544\tval_precision@20: 0.04172\tval_ndcg@20: 0.09482\n",
      "[Iteration 9800/10000]\ttrain_loss: -39.25669\tval_loss: -28.72896             \tval_recall@20: 0.13544\tval_precision@20: 0.04172\tval_ndcg@20: 0.09448\n"
     ]
    }
   ],
   "source": [
    "# training loop\n",
    "train_losses = []\n",
    "val_losses = []\n",
    "\n",
    "for iter in range(ITERATIONS):\n",
    "    # forward propagation\n",
    "    users_emb_final, users_emb_0, items_emb_final, items_emb_0 = model.forward(train_sparse_edge_index)\n",
    "\n",
    "    # mini batching\n",
    "    user_indices, pos_item_indices, neg_item_indices = sample_mini_batch(BATCH_SIZE, train_edge_index)\n",
    "    user_indices = user_indices.to(device)\n",
    "    pos_item_indices = pos_item_indices.to(device)\n",
    "    neg_item_indices = neg_item_indices.to(device)\n",
    "\n",
    "    users_emb_final, users_emb_0 = users_emb_final[user_indices], users_emb_0[user_indices]\n",
    "    pos_items_emb_final, pos_items_emb_0 = items_emb_final[\n",
    "        pos_item_indices], items_emb_0[pos_item_indices]\n",
    "    neg_items_emb_final, neg_items_emb_0 = items_emb_final[\n",
    "        neg_item_indices], items_emb_0[neg_item_indices]\n",
    "\n",
    "    # loss computation\n",
    "    train_loss = bpr_loss(users_emb_final, users_emb_0, pos_items_emb_final,\n",
    "                          pos_items_emb_0, neg_items_emb_final, neg_items_emb_0, LAMBDA)\n",
    "\n",
    "    optimizer.zero_grad()\n",
    "    train_loss.backward()\n",
    "    optimizer.step()\n",
    "\n",
    "    if iter % ITERS_PER_EVAL == 0:\n",
    "        model.eval()\n",
    "        val_loss, recall, precision, ndcg = evaluation(\n",
    "            model, val_edge_index, val_sparse_edge_index, [train_edge_index], K, LAMBDA)\n",
    "        print(f\"[Iteration {iter}/{ITERATIONS}]\\ttrain_loss: {round(train_loss.item(), 5)}\\tval_loss: {round(val_loss, 5)} \\\n",
    "            \\tval_recall@{K}: {round(recall, 5)}\\tval_precision@{K}: {round(precision, 5)}\\tval_ndcg@{K}: {round(ndcg, 5)}\")\n",
    "        train_losses.append(train_loss.item())\n",
    "        val_losses.append(val_loss)\n",
    "        model.train()\n",
    "\n",
    "    if iter % ITERS_PER_LR_DECAY == 0 and iter != 0:\n",
    "        scheduler.step()"
   ]
  },
  {
   "cell_type": "code",
   "execution_count": 25,
   "metadata": {},
   "outputs": [
    {
     "data": {
      "image/png": "[encoded data removed]",
      "text/plain": [
       "<Figure size 640x480 with 1 Axes>"
      ]
     },
     "metadata": {},
     "output_type": "display_data"
    }
   ],
   "source": [
    "iters = [iter * ITERS_PER_EVAL for iter in range(len(train_losses))]\n",
    "plt.plot(iters, train_losses, label='train')\n",
    "plt.plot(iters, val_losses, label='validation')\n",
    "plt.xlabel('iteration')\n",
    "plt.ylabel('loss')\n",
    "plt.title('training and validation loss curves')\n",
    "plt.legend()\n",
    "plt.show()"
   ]
  },
  {
   "cell_type": "code",
   "execution_count": 26,
   "metadata": {},
   "outputs": [
    {
     "name": "stdout",
     "output_type": "stream",
     "text": [
      "[test_loss: -32.06158, test_recall@20: 0.14853, test_precision@20: 0.04607, test_ndcg@20: 0.11365\n"
     ]
    }
   ],
   "source": [
    "# evaluate on test set\n",
    "model.eval()\n",
    "test_edge_index = test_edge_index.to(device)\n",
    "test_sparse_edge_index = test_sparse_edge_index.to(device)\n",
    "\n",
    "test_loss, test_recall, test_precision, test_ndcg = evaluation(\n",
    "            model, test_edge_index, test_sparse_edge_index, [train_edge_index, val_edge_index], K, LAMBDA)\n",
    "\n",
    "print(f\"[test_loss: {round(test_loss, 5)}, test_recall@{K}: {round(test_recall, 5)}, test_precision@{K}: {round(test_precision, 5)}, test_ndcg@{K}: {round(test_ndcg, 5)}\")"
   ]
  },
  {
   "cell_type": "markdown",
   "metadata": {},
   "source": [
    "## Make New Recommendatios for a Given User"
   ]
  },
  {
   "cell_type": "code",
   "execution_count": 27,
   "metadata": {},
   "outputs": [
    {
     "ename": "AttributeError",
     "evalue": "'DataFrame' object has no attribute 'title'",
     "output_type": "error",
     "traceback": [
      "\u001b[1;31m---------------------------------------------------------------------------\u001b[0m",
      "\u001b[1;31mAttributeError\u001b[0m                            Traceback (most recent call last)",
      "Cell \u001b[1;32mIn [27], line 3\u001b[0m\n\u001b[0;32m      1\u001b[0m model\u001b[39m.\u001b[39meval()\n\u001b[0;32m      2\u001b[0m \u001b[39m# df = pd.read_csv(movie_path)\u001b[39;00m\n\u001b[1;32m----> 3\u001b[0m movieid_title \u001b[39m=\u001b[39m pd\u001b[39m.\u001b[39mSeries(df\u001b[39m.\u001b[39;49mtitle\u001b[39m.\u001b[39mvalues,index\u001b[39m=\u001b[39mdf\u001b[39m.\u001b[39mmovieId)\u001b[39m.\u001b[39mto_dict()\n\u001b[0;32m      4\u001b[0m movieid_genres \u001b[39m=\u001b[39m pd\u001b[39m.\u001b[39mSeries(df\u001b[39m.\u001b[39mgenres\u001b[39m.\u001b[39mvalues,index\u001b[39m=\u001b[39mdf\u001b[39m.\u001b[39mmovieId)\u001b[39m.\u001b[39mto_dict()\n\u001b[0;32m      6\u001b[0m user_pos_items \u001b[39m=\u001b[39m get_user_positive_items(edge_index)\n",
      "File \u001b[1;32mc:\\Users\\roman\\OneDrive - OST\\2022_HS\\VP_1_RecommenderSystem\\.venv\\lib\\site-packages\\pandas\\core\\generic.py:5902\u001b[0m, in \u001b[0;36mNDFrame.__getattr__\u001b[1;34m(self, name)\u001b[0m\n\u001b[0;32m   5895\u001b[0m \u001b[39mif\u001b[39;00m (\n\u001b[0;32m   5896\u001b[0m     name \u001b[39mnot\u001b[39;00m \u001b[39min\u001b[39;00m \u001b[39mself\u001b[39m\u001b[39m.\u001b[39m_internal_names_set\n\u001b[0;32m   5897\u001b[0m     \u001b[39mand\u001b[39;00m name \u001b[39mnot\u001b[39;00m \u001b[39min\u001b[39;00m \u001b[39mself\u001b[39m\u001b[39m.\u001b[39m_metadata\n\u001b[0;32m   5898\u001b[0m     \u001b[39mand\u001b[39;00m name \u001b[39mnot\u001b[39;00m \u001b[39min\u001b[39;00m \u001b[39mself\u001b[39m\u001b[39m.\u001b[39m_accessors\n\u001b[0;32m   5899\u001b[0m     \u001b[39mand\u001b[39;00m \u001b[39mself\u001b[39m\u001b[39m.\u001b[39m_info_axis\u001b[39m.\u001b[39m_can_hold_identifiers_and_holds_name(name)\n\u001b[0;32m   5900\u001b[0m ):\n\u001b[0;32m   5901\u001b[0m     \u001b[39mreturn\u001b[39;00m \u001b[39mself\u001b[39m[name]\n\u001b[1;32m-> 5902\u001b[0m \u001b[39mreturn\u001b[39;00m \u001b[39mobject\u001b[39;49m\u001b[39m.\u001b[39;49m\u001b[39m__getattribute__\u001b[39;49m(\u001b[39mself\u001b[39;49m, name)\n",
      "\u001b[1;31mAttributeError\u001b[0m: 'DataFrame' object has no attribute 'title'"
     ]
    }
   ],
   "source": [
    "model.eval()\n",
    "# df = pd.read_csv(movie_path)\n",
    "movieid_title = pd.Series(df.title.values,index=df.movieId).to_dict()\n",
    "movieid_genres = pd.Series(df.genres.values,index=df.movieId).to_dict()\n",
    "\n",
    "user_pos_items = get_user_positive_items(edge_index)"
   ]
  },
  {
   "cell_type": "code",
   "execution_count": null,
   "metadata": {},
   "outputs": [],
   "source": [
    "def make_predictions(user_id, num_recs):\n",
    "    user = user_mapping[user_id]\n",
    "    e_u = model.users_emb.weight[user]\n",
    "    scores = model.items_emb.weight @ e_u\n",
    "\n",
    "    values, indices = torch.topk(scores, k=len(user_pos_items[user]) + num_recs)\n",
    "\n",
    "    movies = [index.cpu().item() for index in indices if index in user_pos_items[user]][:num_recs]\n",
    "    movie_ids = [list(movie_mapping.keys())[list(movie_mapping.values()).index(movie)] for movie in movies]\n",
    "    titles = [movieid_title[id] for id in movie_ids]\n",
    "    genres = [movieid_genres[id] for id in movie_ids]\n",
    "\n",
    "    print(f\"Here are some movies that user {user_id} rated highly\")\n",
    "    for i in range(num_recs):\n",
    "        print(f\"title: {titles[i]}, genres: {genres[i]} \")\n",
    "\n",
    "    print()\n",
    "\n",
    "    movies = [index.cpu().item() for index in indices if index not in user_pos_items[user]][:num_recs]\n",
    "    movie_ids = [list(movie_mapping.keys())[list(movie_mapping.values()).index(movie)] for movie in movies]\n",
    "    titles = [movieid_title[id] for id in movie_ids]\n",
    "    genres = [movieid_genres[id] for id in movie_ids]\n",
    "\n",
    "    print(f\"Here are some suggested movies for user {user_id}\")\n",
    "    for i in range(num_recs):\n",
    "        print(f\"title: {titles[i]}, genres: {genres[i]} \")"
   ]
  },
  {
   "cell_type": "code",
   "execution_count": null,
   "metadata": {},
   "outputs": [],
   "source": [
    "USER_ID = 1\n",
    "NUM_RECS = 10\n",
    "\n",
    "make_predictions(USER_ID, NUM_RECS)"
   ]
  }
 ],
 "metadata": {
  "kernelspec": {
   "display_name": "Python 3.9.0 ('.venv': venv)",
   "language": "python",
   "name": "python3"
  },
  "language_info": {
   "codemirror_mode": {
    "name": "ipython",
    "version": 3
   },
   "file_extension": ".py",
   "mimetype": "text/x-python",
   "name": "python",
   "nbconvert_exporter": "python",
   "pygments_lexer": "ipython3",
   "version": "3.9.0"
  },
  "orig_nbformat": 4,
  "vscode": {
   "interpreter": {
    "hash": "b3386fb75ff758a604bfbb17392d8340573eadc781334269853111502905a2bf"
   }
  }
 },
 "nbformat": 4,
 "nbformat_minor": 2
}
